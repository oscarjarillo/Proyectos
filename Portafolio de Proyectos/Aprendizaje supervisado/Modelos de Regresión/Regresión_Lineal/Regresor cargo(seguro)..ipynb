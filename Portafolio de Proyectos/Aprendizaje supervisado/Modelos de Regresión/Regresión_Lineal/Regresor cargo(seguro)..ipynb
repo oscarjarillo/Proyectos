{
 "cells": [
  {
   "cell_type": "markdown",
   "id": "23e1643f",
   "metadata": {},
   "source": [
    "## Dependencias"
   ]
  },
  {
   "cell_type": "code",
   "execution_count": 119,
   "id": "b9345ddd",
   "metadata": {
    "ExecuteTime": {
     "end_time": "2023-03-23T05:39:02.861956Z",
     "start_time": "2023-03-23T05:39:02.841552Z"
    }
   },
   "outputs": [
    {
     "data": {
      "text/html": [
       "        <script type=\"text/javascript\">\n",
       "        window.PlotlyConfig = {MathJaxConfig: 'local'};\n",
       "        if (window.MathJax && window.MathJax.Hub && window.MathJax.Hub.Config) {window.MathJax.Hub.Config({SVG: {font: \"STIX-Web\"}});}\n",
       "        if (typeof require !== 'undefined') {\n",
       "        require.undef(\"plotly\");\n",
       "        requirejs.config({\n",
       "            paths: {\n",
       "                'plotly': ['https://cdn.plot.ly/plotly-2.16.1.min']\n",
       "            }\n",
       "        });\n",
       "        require(['plotly'], function(Plotly) {\n",
       "            window._Plotly = Plotly;\n",
       "        });\n",
       "        }\n",
       "        </script>\n",
       "        "
      ]
     },
     "metadata": {},
     "output_type": "display_data"
    }
   ],
   "source": [
    "import numpy as np\n",
    "import pandas as pd\n",
    "\n",
    "import datetime as datetime\n",
    "\n",
    "from sklearn.linear_model import LinearRegression\n",
    "from sklearn.model_selection import train_test_split\n",
    "from sklearn.feature_selection import SelectKBest, f_regression\n",
    "from sklearn.metrics import mean_absolute_error\n",
    "\n",
    "import matplotlib.pyplot as plt\n",
    "import seaborn as sns\n",
    "import cufflinks as cf\n",
    "\n",
    "from varclushi import VarClusHi\n",
    "\n",
    "from functools import reduce\n",
    "cf.go_offline()\n",
    "pd.set_option('display.max_columns', None)"
   ]
  },
  {
   "cell_type": "markdown",
   "id": "886065db",
   "metadata": {},
   "source": [
    "## Lectura de datos"
   ]
  },
  {
   "cell_type": "code",
   "execution_count": 120,
   "id": "7bf68ccb",
   "metadata": {
    "ExecuteTime": {
     "end_time": "2023-03-23T05:39:03.052790Z",
     "start_time": "2023-03-23T05:39:02.871303Z"
    }
   },
   "outputs": [],
   "source": [
    "ruta = '/home/oscarjarillo/Documentos/Análisis Multivariado/Regresión_Lineal/insurance.csv'"
   ]
  },
  {
   "cell_type": "code",
   "execution_count": 121,
   "id": "04f27ff1",
   "metadata": {
    "ExecuteTime": {
     "end_time": "2023-03-23T05:39:03.217269Z",
     "start_time": "2023-03-23T05:39:03.061547Z"
    },
    "scrolled": true
   },
   "outputs": [
    {
     "data": {
      "text/html": [
       "<div>\n",
       "<style scoped>\n",
       "    .dataframe tbody tr th:only-of-type {\n",
       "        vertical-align: middle;\n",
       "    }\n",
       "\n",
       "    .dataframe tbody tr th {\n",
       "        vertical-align: top;\n",
       "    }\n",
       "\n",
       "    .dataframe thead th {\n",
       "        text-align: right;\n",
       "    }\n",
       "</style>\n",
       "<table border=\"1\" class=\"dataframe\">\n",
       "  <thead>\n",
       "    <tr style=\"text-align: right;\">\n",
       "      <th></th>\n",
       "      <th>age</th>\n",
       "      <th>sex</th>\n",
       "      <th>bmi</th>\n",
       "      <th>children</th>\n",
       "      <th>smoker</th>\n",
       "      <th>region</th>\n",
       "      <th>charges</th>\n",
       "    </tr>\n",
       "  </thead>\n",
       "  <tbody>\n",
       "    <tr>\n",
       "      <th>0</th>\n",
       "      <td>19</td>\n",
       "      <td>female</td>\n",
       "      <td>27.900</td>\n",
       "      <td>0</td>\n",
       "      <td>yes</td>\n",
       "      <td>southwest</td>\n",
       "      <td>16884.92400</td>\n",
       "    </tr>\n",
       "    <tr>\n",
       "      <th>1</th>\n",
       "      <td>18</td>\n",
       "      <td>male</td>\n",
       "      <td>33.770</td>\n",
       "      <td>1</td>\n",
       "      <td>no</td>\n",
       "      <td>southeast</td>\n",
       "      <td>1725.55230</td>\n",
       "    </tr>\n",
       "    <tr>\n",
       "      <th>2</th>\n",
       "      <td>28</td>\n",
       "      <td>male</td>\n",
       "      <td>33.000</td>\n",
       "      <td>3</td>\n",
       "      <td>no</td>\n",
       "      <td>southeast</td>\n",
       "      <td>4449.46200</td>\n",
       "    </tr>\n",
       "    <tr>\n",
       "      <th>3</th>\n",
       "      <td>33</td>\n",
       "      <td>male</td>\n",
       "      <td>22.705</td>\n",
       "      <td>0</td>\n",
       "      <td>no</td>\n",
       "      <td>northwest</td>\n",
       "      <td>21984.47061</td>\n",
       "    </tr>\n",
       "    <tr>\n",
       "      <th>4</th>\n",
       "      <td>32</td>\n",
       "      <td>male</td>\n",
       "      <td>28.880</td>\n",
       "      <td>0</td>\n",
       "      <td>no</td>\n",
       "      <td>northwest</td>\n",
       "      <td>3866.85520</td>\n",
       "    </tr>\n",
       "  </tbody>\n",
       "</table>\n",
       "</div>"
      ],
      "text/plain": [
       "   age     sex     bmi  children smoker     region      charges\n",
       "0   19  female  27.900         0    yes  southwest  16884.92400\n",
       "1   18    male  33.770         1     no  southeast   1725.55230\n",
       "2   28    male  33.000         3     no  southeast   4449.46200\n",
       "3   33    male  22.705         0     no  northwest  21984.47061\n",
       "4   32    male  28.880         0     no  northwest   3866.85520"
      ]
     },
     "execution_count": 121,
     "metadata": {},
     "output_type": "execute_result"
    }
   ],
   "source": [
    "df = pd.read_csv(ruta)\n",
    "df.head()"
   ]
  },
  {
   "cell_type": "code",
   "execution_count": 122,
   "id": "333240f9",
   "metadata": {
    "ExecuteTime": {
     "end_time": "2023-03-23T05:39:03.274939Z",
     "start_time": "2023-03-23T05:39:03.225374Z"
    }
   },
   "outputs": [
    {
     "data": {
      "text/plain": [
       "(1338, 7)"
      ]
     },
     "execution_count": 122,
     "metadata": {},
     "output_type": "execute_result"
    }
   ],
   "source": [
    "df.shape"
   ]
  },
  {
   "cell_type": "code",
   "execution_count": 123,
   "id": "90328e49",
   "metadata": {
    "ExecuteTime": {
     "end_time": "2023-03-23T05:39:03.442762Z",
     "start_time": "2023-03-23T05:39:03.288822Z"
    },
    "scrolled": true
   },
   "outputs": [
    {
     "name": "stdout",
     "output_type": "stream",
     "text": [
      "<class 'pandas.core.frame.DataFrame'>\n",
      "RangeIndex: 1338 entries, 0 to 1337\n",
      "Data columns (total 7 columns):\n",
      " #   Column    Non-Null Count  Dtype  \n",
      "---  ------    --------------  -----  \n",
      " 0   age       1338 non-null   int64  \n",
      " 1   sex       1338 non-null   object \n",
      " 2   bmi       1338 non-null   float64\n",
      " 3   children  1338 non-null   int64  \n",
      " 4   smoker    1338 non-null   object \n",
      " 5   region    1338 non-null   object \n",
      " 6   charges   1338 non-null   float64\n",
      "dtypes: float64(2), int64(2), object(3)\n",
      "memory usage: 73.3+ KB\n"
     ]
    }
   ],
   "source": [
    "df.info()"
   ]
  },
  {
   "cell_type": "code",
   "execution_count": 124,
   "id": "4e7a53ed",
   "metadata": {
    "ExecuteTime": {
     "end_time": "2023-03-23T05:39:03.586694Z",
     "start_time": "2023-03-23T05:39:03.450539Z"
    }
   },
   "outputs": [
    {
     "data": {
      "text/html": [
       "<div>\n",
       "<style scoped>\n",
       "    .dataframe tbody tr th:only-of-type {\n",
       "        vertical-align: middle;\n",
       "    }\n",
       "\n",
       "    .dataframe tbody tr th {\n",
       "        vertical-align: top;\n",
       "    }\n",
       "\n",
       "    .dataframe thead th {\n",
       "        text-align: right;\n",
       "    }\n",
       "</style>\n",
       "<table border=\"1\" class=\"dataframe\">\n",
       "  <thead>\n",
       "    <tr style=\"text-align: right;\">\n",
       "      <th></th>\n",
       "      <th>age</th>\n",
       "      <th>sex</th>\n",
       "      <th>bmi</th>\n",
       "      <th>children</th>\n",
       "      <th>smoker</th>\n",
       "      <th>region</th>\n",
       "      <th>charges</th>\n",
       "    </tr>\n",
       "  </thead>\n",
       "  <tbody>\n",
       "    <tr>\n",
       "      <th>0</th>\n",
       "      <td>19</td>\n",
       "      <td>0</td>\n",
       "      <td>27.900</td>\n",
       "      <td>0</td>\n",
       "      <td>yes</td>\n",
       "      <td>southwest</td>\n",
       "      <td>16884.92400</td>\n",
       "    </tr>\n",
       "    <tr>\n",
       "      <th>1</th>\n",
       "      <td>18</td>\n",
       "      <td>1</td>\n",
       "      <td>33.770</td>\n",
       "      <td>1</td>\n",
       "      <td>no</td>\n",
       "      <td>southeast</td>\n",
       "      <td>1725.55230</td>\n",
       "    </tr>\n",
       "    <tr>\n",
       "      <th>2</th>\n",
       "      <td>28</td>\n",
       "      <td>1</td>\n",
       "      <td>33.000</td>\n",
       "      <td>3</td>\n",
       "      <td>no</td>\n",
       "      <td>southeast</td>\n",
       "      <td>4449.46200</td>\n",
       "    </tr>\n",
       "    <tr>\n",
       "      <th>3</th>\n",
       "      <td>33</td>\n",
       "      <td>1</td>\n",
       "      <td>22.705</td>\n",
       "      <td>0</td>\n",
       "      <td>no</td>\n",
       "      <td>northwest</td>\n",
       "      <td>21984.47061</td>\n",
       "    </tr>\n",
       "    <tr>\n",
       "      <th>4</th>\n",
       "      <td>32</td>\n",
       "      <td>1</td>\n",
       "      <td>28.880</td>\n",
       "      <td>0</td>\n",
       "      <td>no</td>\n",
       "      <td>northwest</td>\n",
       "      <td>3866.85520</td>\n",
       "    </tr>\n",
       "  </tbody>\n",
       "</table>\n",
       "</div>"
      ],
      "text/plain": [
       "   age sex     bmi  children smoker     region      charges\n",
       "0   19   0  27.900         0    yes  southwest  16884.92400\n",
       "1   18   1  33.770         1     no  southeast   1725.55230\n",
       "2   28   1  33.000         3     no  southeast   4449.46200\n",
       "3   33   1  22.705         0     no  northwest  21984.47061\n",
       "4   32   1  28.880         0     no  northwest   3866.85520"
      ]
     },
     "execution_count": 124,
     "metadata": {},
     "output_type": "execute_result"
    }
   ],
   "source": [
    "# Hombre = 1\n",
    "# Mujer = 0\n",
    "\n",
    "for v in list(df['sex'].unique()):\n",
    "    if v == 'female':\n",
    "        df.loc[df['sex'] == v, 'sex'] = 0\n",
    "    if v == 'male':\n",
    "        df.loc[df['sex'] == v, 'sex'] = 1\n",
    "        \n",
    "df.head()"
   ]
  },
  {
   "cell_type": "code",
   "execution_count": 125,
   "id": "2f6ff30a",
   "metadata": {
    "ExecuteTime": {
     "end_time": "2023-03-23T05:39:03.674134Z",
     "start_time": "2023-03-23T05:39:03.609433Z"
    }
   },
   "outputs": [],
   "source": [
    "df['sex'] = pd.to_numeric(df['sex'])"
   ]
  },
  {
   "cell_type": "code",
   "execution_count": 126,
   "id": "62efd96a",
   "metadata": {
    "ExecuteTime": {
     "end_time": "2023-03-23T05:39:03.843686Z",
     "start_time": "2023-03-23T05:39:03.695153Z"
    }
   },
   "outputs": [
    {
     "data": {
      "text/html": [
       "<div>\n",
       "<style scoped>\n",
       "    .dataframe tbody tr th:only-of-type {\n",
       "        vertical-align: middle;\n",
       "    }\n",
       "\n",
       "    .dataframe tbody tr th {\n",
       "        vertical-align: top;\n",
       "    }\n",
       "\n",
       "    .dataframe thead th {\n",
       "        text-align: right;\n",
       "    }\n",
       "</style>\n",
       "<table border=\"1\" class=\"dataframe\">\n",
       "  <thead>\n",
       "    <tr style=\"text-align: right;\">\n",
       "      <th></th>\n",
       "      <th>age</th>\n",
       "      <th>sex</th>\n",
       "      <th>bmi</th>\n",
       "      <th>children</th>\n",
       "      <th>smoker</th>\n",
       "      <th>region</th>\n",
       "      <th>charges</th>\n",
       "    </tr>\n",
       "  </thead>\n",
       "  <tbody>\n",
       "    <tr>\n",
       "      <th>0</th>\n",
       "      <td>19</td>\n",
       "      <td>0</td>\n",
       "      <td>27.900</td>\n",
       "      <td>0</td>\n",
       "      <td>1</td>\n",
       "      <td>southwest</td>\n",
       "      <td>16884.92400</td>\n",
       "    </tr>\n",
       "    <tr>\n",
       "      <th>1</th>\n",
       "      <td>18</td>\n",
       "      <td>1</td>\n",
       "      <td>33.770</td>\n",
       "      <td>1</td>\n",
       "      <td>0</td>\n",
       "      <td>southeast</td>\n",
       "      <td>1725.55230</td>\n",
       "    </tr>\n",
       "    <tr>\n",
       "      <th>2</th>\n",
       "      <td>28</td>\n",
       "      <td>1</td>\n",
       "      <td>33.000</td>\n",
       "      <td>3</td>\n",
       "      <td>0</td>\n",
       "      <td>southeast</td>\n",
       "      <td>4449.46200</td>\n",
       "    </tr>\n",
       "    <tr>\n",
       "      <th>3</th>\n",
       "      <td>33</td>\n",
       "      <td>1</td>\n",
       "      <td>22.705</td>\n",
       "      <td>0</td>\n",
       "      <td>0</td>\n",
       "      <td>northwest</td>\n",
       "      <td>21984.47061</td>\n",
       "    </tr>\n",
       "    <tr>\n",
       "      <th>4</th>\n",
       "      <td>32</td>\n",
       "      <td>1</td>\n",
       "      <td>28.880</td>\n",
       "      <td>0</td>\n",
       "      <td>0</td>\n",
       "      <td>northwest</td>\n",
       "      <td>3866.85520</td>\n",
       "    </tr>\n",
       "  </tbody>\n",
       "</table>\n",
       "</div>"
      ],
      "text/plain": [
       "   age  sex     bmi  children  smoker     region      charges\n",
       "0   19    0  27.900         0       1  southwest  16884.92400\n",
       "1   18    1  33.770         1       0  southeast   1725.55230\n",
       "2   28    1  33.000         3       0  southeast   4449.46200\n",
       "3   33    1  22.705         0       0  northwest  21984.47061\n",
       "4   32    1  28.880         0       0  northwest   3866.85520"
      ]
     },
     "execution_count": 126,
     "metadata": {},
     "output_type": "execute_result"
    }
   ],
   "source": [
    "# no = 0\n",
    "# yes = 1\n",
    "\n",
    "for v in list(df['smoker'].unique()):\n",
    "    if v == 'no':\n",
    "        df.loc[df['smoker'] == v, 'smoker'] = 0\n",
    "    if v == 'yes':\n",
    "        df.loc[df['smoker'] == v, 'smoker'] = 1\n",
    "        \n",
    "df['smoker'] = pd.to_numeric(df['smoker'])\n",
    "df.head()"
   ]
  },
  {
   "cell_type": "code",
   "execution_count": 127,
   "id": "598120dc",
   "metadata": {
    "ExecuteTime": {
     "end_time": "2023-03-23T05:39:03.980788Z",
     "start_time": "2023-03-23T05:39:03.850711Z"
    },
    "scrolled": true
   },
   "outputs": [
    {
     "data": {
      "text/html": [
       "<div>\n",
       "<style scoped>\n",
       "    .dataframe tbody tr th:only-of-type {\n",
       "        vertical-align: middle;\n",
       "    }\n",
       "\n",
       "    .dataframe tbody tr th {\n",
       "        vertical-align: top;\n",
       "    }\n",
       "\n",
       "    .dataframe thead th {\n",
       "        text-align: right;\n",
       "    }\n",
       "</style>\n",
       "<table border=\"1\" class=\"dataframe\">\n",
       "  <thead>\n",
       "    <tr style=\"text-align: right;\">\n",
       "      <th></th>\n",
       "      <th>age</th>\n",
       "      <th>sex</th>\n",
       "      <th>bmi</th>\n",
       "      <th>children</th>\n",
       "      <th>smoker</th>\n",
       "      <th>region</th>\n",
       "      <th>charges</th>\n",
       "    </tr>\n",
       "  </thead>\n",
       "  <tbody>\n",
       "    <tr>\n",
       "      <th>0</th>\n",
       "      <td>19</td>\n",
       "      <td>0</td>\n",
       "      <td>27.900</td>\n",
       "      <td>0</td>\n",
       "      <td>1</td>\n",
       "      <td>2</td>\n",
       "      <td>16884.92400</td>\n",
       "    </tr>\n",
       "    <tr>\n",
       "      <th>1</th>\n",
       "      <td>18</td>\n",
       "      <td>1</td>\n",
       "      <td>33.770</td>\n",
       "      <td>1</td>\n",
       "      <td>0</td>\n",
       "      <td>1</td>\n",
       "      <td>1725.55230</td>\n",
       "    </tr>\n",
       "    <tr>\n",
       "      <th>2</th>\n",
       "      <td>28</td>\n",
       "      <td>1</td>\n",
       "      <td>33.000</td>\n",
       "      <td>3</td>\n",
       "      <td>0</td>\n",
       "      <td>1</td>\n",
       "      <td>4449.46200</td>\n",
       "    </tr>\n",
       "    <tr>\n",
       "      <th>3</th>\n",
       "      <td>33</td>\n",
       "      <td>1</td>\n",
       "      <td>22.705</td>\n",
       "      <td>0</td>\n",
       "      <td>0</td>\n",
       "      <td>3</td>\n",
       "      <td>21984.47061</td>\n",
       "    </tr>\n",
       "    <tr>\n",
       "      <th>4</th>\n",
       "      <td>32</td>\n",
       "      <td>1</td>\n",
       "      <td>28.880</td>\n",
       "      <td>0</td>\n",
       "      <td>0</td>\n",
       "      <td>3</td>\n",
       "      <td>3866.85520</td>\n",
       "    </tr>\n",
       "  </tbody>\n",
       "</table>\n",
       "</div>"
      ],
      "text/plain": [
       "   age  sex     bmi  children  smoker  region      charges\n",
       "0   19    0  27.900         0       1       2  16884.92400\n",
       "1   18    1  33.770         1       0       1   1725.55230\n",
       "2   28    1  33.000         3       0       1   4449.46200\n",
       "3   33    1  22.705         0       0       3  21984.47061\n",
       "4   32    1  28.880         0       0       3   3866.85520"
      ]
     },
     "execution_count": 127,
     "metadata": {},
     "output_type": "execute_result"
    }
   ],
   "source": [
    "for v in list(df['region'].unique()):\n",
    "    if v == 'southeast':\n",
    "        df.loc[df['region'] == v, 'region'] = 1\n",
    "    if v == 'southwest':\n",
    "        df.loc[df['region'] == v, 'region'] = 2\n",
    "    if v == 'northwest':\n",
    "        df.loc[df['region'] == v, 'region'] = 3\n",
    "    if v == 'northeast':\n",
    "        df.loc[df['region'] == v, 'region'] = 4\n",
    "        \n",
    "df['region'] = pd.to_numeric(df['region'])\n",
    "df.head() "
   ]
  },
  {
   "cell_type": "code",
   "execution_count": 128,
   "id": "51800f05",
   "metadata": {
    "ExecuteTime": {
     "end_time": "2023-03-23T05:39:04.091455Z",
     "start_time": "2023-03-23T05:39:03.987355Z"
    },
    "scrolled": false
   },
   "outputs": [],
   "source": [
    "df.insert(0,'id',df.index)"
   ]
  },
  {
   "cell_type": "markdown",
   "id": "c5c2dfed",
   "metadata": {
    "ExecuteTime": {
     "end_time": "2023-03-21T21:58:33.429570Z",
     "start_time": "2023-03-21T21:58:33.390026Z"
    }
   },
   "source": [
    "## Definición de variables"
   ]
  },
  {
   "cell_type": "code",
   "execution_count": 129,
   "id": "35273e4a",
   "metadata": {
    "ExecuteTime": {
     "end_time": "2023-03-23T05:39:04.214859Z",
     "start_time": "2023-03-23T05:39:04.109067Z"
    }
   },
   "outputs": [],
   "source": [
    "um = ['id']\n",
    "vart = ['charges']\n",
    "varc = [v for v in df.columns if v not in vart and v not in um]"
   ]
  },
  {
   "cell_type": "code",
   "execution_count": 130,
   "id": "8d190871",
   "metadata": {
    "ExecuteTime": {
     "end_time": "2023-03-23T05:39:04.360512Z",
     "start_time": "2023-03-23T05:39:04.222187Z"
    }
   },
   "outputs": [],
   "source": [
    "X = df.copy()"
   ]
  },
  {
   "cell_type": "markdown",
   "id": "2378aada",
   "metadata": {},
   "source": [
    "## Análisis exploratorio"
   ]
  },
  {
   "cell_type": "markdown",
   "id": "85b09e60",
   "metadata": {},
   "source": [
    "### Valores nulos"
   ]
  },
  {
   "cell_type": "code",
   "execution_count": 131,
   "id": "59e03aa4",
   "metadata": {
    "ExecuteTime": {
     "end_time": "2023-03-23T05:39:04.583277Z",
     "start_time": "2023-03-23T05:39:04.373653Z"
    }
   },
   "outputs": [
    {
     "data": {
      "text/html": [
       "<div>\n",
       "<style scoped>\n",
       "    .dataframe tbody tr th:only-of-type {\n",
       "        vertical-align: middle;\n",
       "    }\n",
       "\n",
       "    .dataframe tbody tr th {\n",
       "        vertical-align: top;\n",
       "    }\n",
       "\n",
       "    .dataframe thead th {\n",
       "        text-align: right;\n",
       "    }\n",
       "</style>\n",
       "<table border=\"1\" class=\"dataframe\">\n",
       "  <thead>\n",
       "    <tr style=\"text-align: right;\">\n",
       "      <th></th>\n",
       "      <th>count</th>\n",
       "    </tr>\n",
       "  </thead>\n",
       "  <tbody>\n",
       "    <tr>\n",
       "      <th>id</th>\n",
       "      <td>0.0</td>\n",
       "    </tr>\n",
       "    <tr>\n",
       "      <th>age</th>\n",
       "      <td>0.0</td>\n",
       "    </tr>\n",
       "    <tr>\n",
       "      <th>sex</th>\n",
       "      <td>0.0</td>\n",
       "    </tr>\n",
       "    <tr>\n",
       "      <th>bmi</th>\n",
       "      <td>0.0</td>\n",
       "    </tr>\n",
       "    <tr>\n",
       "      <th>children</th>\n",
       "      <td>0.0</td>\n",
       "    </tr>\n",
       "    <tr>\n",
       "      <th>smoker</th>\n",
       "      <td>0.0</td>\n",
       "    </tr>\n",
       "    <tr>\n",
       "      <th>region</th>\n",
       "      <td>0.0</td>\n",
       "    </tr>\n",
       "    <tr>\n",
       "      <th>charges</th>\n",
       "      <td>0.0</td>\n",
       "    </tr>\n",
       "  </tbody>\n",
       "</table>\n",
       "</div>"
      ],
      "text/plain": [
       "          count\n",
       "id          0.0\n",
       "age         0.0\n",
       "sex         0.0\n",
       "bmi         0.0\n",
       "children    0.0\n",
       "smoker      0.0\n",
       "region      0.0\n",
       "charges     0.0"
      ]
     },
     "execution_count": 131,
     "metadata": {},
     "output_type": "execute_result"
    }
   ],
   "source": [
    "nulos = 1-X.describe().T[['count']]/len(X)\n",
    "nulos"
   ]
  },
  {
   "cell_type": "markdown",
   "id": "5e08b4b5",
   "metadata": {},
   "source": [
    "### Multicolinealidad"
   ]
  },
  {
   "cell_type": "code",
   "execution_count": 132,
   "id": "e2d641ee",
   "metadata": {
    "ExecuteTime": {
     "end_time": "2023-03-23T05:39:04.642053Z",
     "start_time": "2023-03-23T05:39:04.591015Z"
    }
   },
   "outputs": [
    {
     "data": {
      "text/plain": [
       "\"vc = VarClusHi(df=X[varc], feat_list= varc).varclus().rsquare.sort_values(by = ['Cluster', 'RS_Ratio']).reset_index(drop=True)\\ndisplay(vc)\\nbest = sorted(vc.groupby('Cluster').first()['Variable'])\\nbest \""
      ]
     },
     "execution_count": 132,
     "metadata": {},
     "output_type": "execute_result"
    }
   ],
   "source": [
    "'''vc = VarClusHi(df=X[varc], feat_list= varc).varclus().rsquare.sort_values(by = ['Cluster', 'RS_Ratio']).reset_index(drop=True)\n",
    "display(vc)\n",
    "best = sorted(vc.groupby('Cluster').first()['Variable'])\n",
    "best '''"
   ]
  },
  {
   "cell_type": "markdown",
   "id": "4b7c8493",
   "metadata": {},
   "source": [
    "### Extremos"
   ]
  },
  {
   "cell_type": "code",
   "execution_count": 133,
   "id": "ad474c44",
   "metadata": {
    "ExecuteTime": {
     "end_time": "2023-03-23T05:39:06.995325Z",
     "start_time": "2023-03-23T05:39:04.648056Z"
    }
   },
   "outputs": [
    {
     "data": {
      "text/plain": [
       "array([[<AxesSubplot:title={'center':'age'}>,\n",
       "        <AxesSubplot:title={'center':'sex'}>],\n",
       "       [<AxesSubplot:title={'center':'bmi'}>,\n",
       "        <AxesSubplot:title={'center':'children'}>],\n",
       "       [<AxesSubplot:title={'center':'smoker'}>,\n",
       "        <AxesSubplot:title={'center':'region'}>]], dtype=object)"
      ]
     },
     "execution_count": 133,
     "metadata": {},
     "output_type": "execute_result"
    },
    {
     "data": {
      "image/png": "[encoded data removed]",
      "text/plain": [
       "<Figure size 720x720 with 6 Axes>"
      ]
     },
     "metadata": {
      "needs_background": "light"
     },
     "output_type": "display_data"
    }
   ],
   "source": [
    "X[varc].hist(figsize = (10,10))"
   ]
  },
  {
   "cell_type": "code",
   "execution_count": 134,
   "id": "45449cc4",
   "metadata": {
    "ExecuteTime": {
     "end_time": "2023-03-23T05:39:07.114243Z",
     "start_time": "2023-03-23T05:39:07.002478Z"
    }
   },
   "outputs": [
    {
     "data": {
      "text/plain": [
       "0    0.979073\n",
       "1    0.020927\n",
       "Name: ex_, dtype: float64"
      ]
     },
     "execution_count": 134,
     "metadata": {},
     "output_type": "execute_result"
    }
   ],
   "source": [
    "for v,li,ls in X[varc].describe(percentiles = [0.01,0.99]).T[['1%','99%']].reset_index().values:\n",
    "    X[f'ex_{v}'] = ((X[v]<li)|(X[v]>ls)).astype(int)\n",
    "X['ex_'] = X.filter(like = 'ex_').max(axis=1)\n",
    "X['ex_'].value_counts(1)"
   ]
  },
  {
   "cell_type": "code",
   "execution_count": 135,
   "id": "10db33a1",
   "metadata": {
    "ExecuteTime": {
     "end_time": "2023-03-23T05:39:07.283899Z",
     "start_time": "2023-03-23T05:39:07.121343Z"
    }
   },
   "outputs": [],
   "source": [
    "df[um] = X[um]\n",
    "df[vart] = X[vart]"
   ]
  },
  {
   "cell_type": "code",
   "execution_count": 136,
   "id": "b7f4b46e",
   "metadata": {
    "ExecuteTime": {
     "end_time": "2023-03-23T05:39:07.413206Z",
     "start_time": "2023-03-23T05:39:07.289771Z"
    }
   },
   "outputs": [],
   "source": [
    "X = X.loc[X['ex_'] == 0].drop(X.filter(like='ex_').columns, axis=1).reset_index(drop=True)"
   ]
  },
  {
   "cell_type": "code",
   "execution_count": 137,
   "id": "792dd384",
   "metadata": {
    "ExecuteTime": {
     "end_time": "2023-03-23T05:39:09.757809Z",
     "start_time": "2023-03-23T05:39:07.420513Z"
    }
   },
   "outputs": [
    {
     "data": {
      "text/plain": [
       "array([[<AxesSubplot:title={'center':'age'}>,\n",
       "        <AxesSubplot:title={'center':'sex'}>],\n",
       "       [<AxesSubplot:title={'center':'bmi'}>,\n",
       "        <AxesSubplot:title={'center':'children'}>],\n",
       "       [<AxesSubplot:title={'center':'smoker'}>,\n",
       "        <AxesSubplot:title={'center':'region'}>]], dtype=object)"
      ]
     },
     "execution_count": 137,
     "metadata": {},
     "output_type": "execute_result"
    },
    {
     "data": {
      "image/png": "[encoded data removed]",
      "text/plain": [
       "<Figure size 720x720 with 6 Axes>"
      ]
     },
     "metadata": {
      "needs_background": "light"
     },
     "output_type": "display_data"
    }
   ],
   "source": [
    "X[varc].hist(figsize = (10,10))"
   ]
  },
  {
   "cell_type": "markdown",
   "id": "94d6a8c5",
   "metadata": {},
   "source": [
    "### Selección de variables con mayor poder predictivo"
   ]
  },
  {
   "cell_type": "code",
   "execution_count": 138,
   "id": "af24e4bc",
   "metadata": {
    "ExecuteTime": {
     "end_time": "2023-03-23T05:39:09.776799Z",
     "start_time": "2023-03-23T05:39:09.764516Z"
    }
   },
   "outputs": [
    {
     "data": {
      "text/plain": [
       "'sk = SelectKBest(k = len(best), score_func= f_regression)\\nsk.fit(X[best], X[vart[0]]) '"
      ]
     },
     "execution_count": 138,
     "metadata": {},
     "output_type": "execute_result"
    }
   ],
   "source": [
    "'''sk = SelectKBest(k = len(best), score_func= f_regression)\n",
    "sk.fit(X[best], X[vart[0]]) '''"
   ]
  },
  {
   "cell_type": "code",
   "execution_count": 139,
   "id": "1b24288c",
   "metadata": {
    "ExecuteTime": {
     "end_time": "2023-03-23T05:39:10.049986Z",
     "start_time": "2023-03-23T05:39:09.784258Z"
    },
    "scrolled": true
   },
   "outputs": [
    {
     "data": {
      "text/plain": [
       "\"pd.DataFrame(zip(best,sk.scores_), \\n                 columns = ['var', 'score']).set_index('var').sort_values(by = 'score',\\n                                                                         ascending = False).iplot(kind = 'bar',\\n                                                                                                 color = 'orange')\\n                                                                                                 \""
      ]
     },
     "execution_count": 139,
     "metadata": {},
     "output_type": "execute_result"
    }
   ],
   "source": [
    "'''pd.DataFrame(zip(best,sk.scores_), \n",
    "                 columns = ['var', 'score']).set_index('var').sort_values(by = 'score',\n",
    "                                                                         ascending = False).iplot(kind = 'bar',\n",
    "                                                                                                 color = 'orange')\n",
    "                                                                                                 '''"
   ]
  },
  {
   "cell_type": "code",
   "execution_count": 140,
   "id": "00081efd",
   "metadata": {
    "ExecuteTime": {
     "end_time": "2023-03-23T05:39:10.180854Z",
     "start_time": "2023-03-23T05:39:10.056428Z"
    }
   },
   "outputs": [],
   "source": [
    "# best = [a for a,b in zip(best, sk.get_support()) if b]"
   ]
  },
  {
   "cell_type": "code",
   "execution_count": 141,
   "id": "df57996f",
   "metadata": {
    "ExecuteTime": {
     "end_time": "2023-03-23T05:39:10.365622Z",
     "start_time": "2023-03-23T05:39:10.187795Z"
    }
   },
   "outputs": [],
   "source": [
    "# best"
   ]
  },
  {
   "cell_type": "markdown",
   "id": "64223566",
   "metadata": {},
   "source": [
    "## Partición"
   ]
  },
  {
   "cell_type": "code",
   "execution_count": 142,
   "id": "449965f3",
   "metadata": {
    "ExecuteTime": {
     "end_time": "2023-03-23T05:39:10.505539Z",
     "start_time": "2023-03-23T05:39:10.370856Z"
    }
   },
   "outputs": [],
   "source": [
    "Xt,Xv,yt,yv = train_test_split(X[um+varc], X[um+vart], train_size=0.7)\n",
    "Xt.reset_index(drop=True,inplace=True)\n",
    "Xv.reset_index(drop=True,inplace=True)\n",
    "yt.reset_index(drop=True,inplace=True)\n",
    "yv.reset_index(drop=True,inplace=True)"
   ]
  },
  {
   "cell_type": "markdown",
   "id": "f40c98a5",
   "metadata": {},
   "source": [
    "## Aprendizaje"
   ]
  },
  {
   "cell_type": "code",
   "execution_count": 143,
   "id": "f5b156a2",
   "metadata": {
    "ExecuteTime": {
     "end_time": "2023-03-23T05:39:10.604522Z",
     "start_time": "2023-03-23T05:39:10.512259Z"
    }
   },
   "outputs": [],
   "source": [
    "modelo = LinearRegression(n_jobs=-1)"
   ]
  },
  {
   "cell_type": "code",
   "execution_count": 144,
   "id": "c8c3dea3",
   "metadata": {
    "ExecuteTime": {
     "end_time": "2023-03-23T05:39:10.733058Z",
     "start_time": "2023-03-23T05:39:10.614013Z"
    }
   },
   "outputs": [
    {
     "data": {
      "text/html": [
       "<style>#sk-container-id-3 {color: black;background-color: white;}#sk-container-id-3 pre{padding: 0;}#sk-container-id-3 div.sk-toggleable {background-color: white;}#sk-container-id-3 label.sk-toggleable__label {cursor: pointer;display: block;width: 100%;margin-bottom: 0;padding: 0.3em;box-sizing: border-box;text-align: center;}#sk-container-id-3 label.sk-toggleable__label-arrow:before {content: \"▸\";float: left;margin-right: 0.25em;color: #696969;}#sk-container-id-3 label.sk-toggleable__label-arrow:hover:before {color: black;}#sk-container-id-3 div.sk-estimator:hover label.sk-toggleable__label-arrow:before {color: black;}#sk-container-id-3 div.sk-toggleable__content {max-height: 0;max-width: 0;overflow: hidden;text-align: left;background-color: #f0f8ff;}#sk-container-id-3 div.sk-toggleable__content pre {margin: 0.2em;color: black;border-radius: 0.25em;background-color: #f0f8ff;}#sk-container-id-3 input.sk-toggleable__control:checked~div.sk-toggleable__content {max-height: 200px;max-width: 100%;overflow: auto;}#sk-container-id-3 input.sk-toggleable__control:checked~label.sk-toggleable__label-arrow:before {content: \"▾\";}#sk-container-id-3 div.sk-estimator input.sk-toggleable__control:checked~label.sk-toggleable__label {background-color: #d4ebff;}#sk-container-id-3 div.sk-label input.sk-toggleable__control:checked~label.sk-toggleable__label {background-color: #d4ebff;}#sk-container-id-3 input.sk-hidden--visually {border: 0;clip: rect(1px 1px 1px 1px);clip: rect(1px, 1px, 1px, 1px);height: 1px;margin: -1px;overflow: hidden;padding: 0;position: absolute;width: 1px;}#sk-container-id-3 div.sk-estimator {font-family: monospace;background-color: #f0f8ff;border: 1px dotted black;border-radius: 0.25em;box-sizing: border-box;margin-bottom: 0.5em;}#sk-container-id-3 div.sk-estimator:hover {background-color: #d4ebff;}#sk-container-id-3 div.sk-parallel-item::after {content: \"\";width: 100%;border-bottom: 1px solid gray;flex-grow: 1;}#sk-container-id-3 div.sk-label:hover label.sk-toggleable__label {background-color: #d4ebff;}#sk-container-id-3 div.sk-serial::before {content: \"\";position: absolute;border-left: 1px solid gray;box-sizing: border-box;top: 0;bottom: 0;left: 50%;z-index: 0;}#sk-container-id-3 div.sk-serial {display: flex;flex-direction: column;align-items: center;background-color: white;padding-right: 0.2em;padding-left: 0.2em;position: relative;}#sk-container-id-3 div.sk-item {position: relative;z-index: 1;}#sk-container-id-3 div.sk-parallel {display: flex;align-items: stretch;justify-content: center;background-color: white;position: relative;}#sk-container-id-3 div.sk-item::before, #sk-container-id-3 div.sk-parallel-item::before {content: \"\";position: absolute;border-left: 1px solid gray;box-sizing: border-box;top: 0;bottom: 0;left: 50%;z-index: -1;}#sk-container-id-3 div.sk-parallel-item {display: flex;flex-direction: column;z-index: 1;position: relative;background-color: white;}#sk-container-id-3 div.sk-parallel-item:first-child::after {align-self: flex-end;width: 50%;}#sk-container-id-3 div.sk-parallel-item:last-child::after {align-self: flex-start;width: 50%;}#sk-container-id-3 div.sk-parallel-item:only-child::after {width: 0;}#sk-container-id-3 div.sk-dashed-wrapped {border: 1px dashed gray;margin: 0 0.4em 0.5em 0.4em;box-sizing: border-box;padding-bottom: 0.4em;background-color: white;}#sk-container-id-3 div.sk-label label {font-family: monospace;font-weight: bold;display: inline-block;line-height: 1.2em;}#sk-container-id-3 div.sk-label-container {text-align: center;}#sk-container-id-3 div.sk-container {/* jupyter's `normalize.less` sets `[hidden] { display: none; }` but bootstrap.min.css set `[hidden] { display: none !important; }` so we also need the `!important` here to be able to override the default hidden behavior on the sphinx rendered scikit-learn.org. See: https://github.com/scikit-learn/scikit-learn/issues/21755 */display: inline-block !important;position: relative;}#sk-container-id-3 div.sk-text-repr-fallback {display: none;}</style><div id=\"sk-container-id-3\" class=\"sk-top-container\"><div class=\"sk-text-repr-fallback\"><pre>LinearRegression(n_jobs=-1)</pre><b>In a Jupyter environment, please rerun this cell to show the HTML representation or trust the notebook. <br />On GitHub, the HTML representation is unable to render, please try loading this page with nbviewer.org.</b></div><div class=\"sk-container\" hidden><div class=\"sk-item\"><div class=\"sk-estimator sk-toggleable\"><input class=\"sk-toggleable__control sk-hidden--visually\" id=\"sk-estimator-id-3\" type=\"checkbox\" checked><label for=\"sk-estimator-id-3\" class=\"sk-toggleable__label sk-toggleable__label-arrow\">LinearRegression</label><div class=\"sk-toggleable__content\"><pre>LinearRegression(n_jobs=-1)</pre></div></div></div></div></div>"
      ],
      "text/plain": [
       "LinearRegression(n_jobs=-1)"
      ]
     },
     "execution_count": 144,
     "metadata": {},
     "output_type": "execute_result"
    }
   ],
   "source": [
    "modelo.fit(Xt[varc],yt[vart[0]])"
   ]
  },
  {
   "cell_type": "code",
   "execution_count": 145,
   "id": "2c17acbe",
   "metadata": {
    "ExecuteTime": {
     "end_time": "2023-03-23T05:39:10.842984Z",
     "start_time": "2023-03-23T05:39:10.739684Z"
    }
   },
   "outputs": [
    {
     "data": {
      "text/plain": [
       "(array([  256.9867243 ,   -54.81076523,   365.90122763,   451.12597347,\n",
       "        23895.31913568,   416.11471885]),\n",
       " -14364.277215229793)"
      ]
     },
     "execution_count": 145,
     "metadata": {},
     "output_type": "execute_result"
    }
   ],
   "source": [
    "modelo.coef_, modelo.intercept_"
   ]
  },
  {
   "cell_type": "markdown",
   "id": "3c3004a9",
   "metadata": {},
   "source": [
    "## Validación del modelo"
   ]
  },
  {
   "cell_type": "code",
   "execution_count": 146,
   "id": "b052e3d7",
   "metadata": {
    "ExecuteTime": {
     "end_time": "2023-03-23T05:39:10.971685Z",
     "start_time": "2023-03-23T05:39:10.850903Z"
    }
   },
   "outputs": [],
   "source": [
    "St = Xt.merge(yt,on=um,how='inner')\n",
    "Sv = Xv.merge(yv,on=um,how='inner')"
   ]
  },
  {
   "cell_type": "code",
   "execution_count": 147,
   "id": "d005857b",
   "metadata": {
    "ExecuteTime": {
     "end_time": "2023-03-23T05:39:11.099709Z",
     "start_time": "2023-03-23T05:39:10.988828Z"
    }
   },
   "outputs": [],
   "source": [
    "St['y^'] = modelo.predict(Xt[varc])\n",
    "Sv['y^'] = modelo.predict(Xv[varc])"
   ]
  },
  {
   "cell_type": "code",
   "execution_count": 148,
   "id": "dcf20df0",
   "metadata": {
    "ExecuteTime": {
     "end_time": "2023-03-23T05:39:11.208506Z",
     "start_time": "2023-03-23T05:39:11.112060Z"
    }
   },
   "outputs": [
    {
     "name": "stdout",
     "output_type": "stream",
     "text": [
      "4176.11777464577\n",
      "4145.364918392736\n"
     ]
    }
   ],
   "source": [
    "print(mean_absolute_error(y_pred= St['y^'], y_true = St[vart[0]]))\n",
    "print(mean_absolute_error(y_pred= Sv['y^'], y_true = Sv[vart[0]]))"
   ]
  },
  {
   "cell_type": "code",
   "execution_count": 149,
   "id": "88bfbd7d",
   "metadata": {
    "ExecuteTime": {
     "end_time": "2023-03-23T05:39:12.389314Z",
     "start_time": "2023-03-23T05:39:11.216353Z"
    },
    "scrolled": false
   },
   "outputs": [
    {
     "data": {
      "text/plain": [
       "<AxesSubplot:ylabel='Density'>"
      ]
     },
     "execution_count": 149,
     "metadata": {},
     "output_type": "execute_result"
    },
    {
     "data": {
      "image/png": "[encoded data removed]",
      "text/plain": [
       "<Figure size 432x288 with 1 Axes>"
      ]
     },
     "metadata": {
      "needs_background": "light"
     },
     "output_type": "display_data"
    },
    {
     "data": {
      "image/png": "[encoded data removed]",
      "text/plain": [
       "<Figure size 432x288 with 1 Axes>"
      ]
     },
     "metadata": {
      "needs_background": "light"
     },
     "output_type": "display_data"
    }
   ],
   "source": [
    "plt.figure()\n",
    "sns.kdeplot(data = St[['y^']+vart])\n",
    "plt.figure()\n",
    "sns.kdeplot(data = Sv[['y^']+vart])"
   ]
  },
  {
   "cell_type": "code",
   "execution_count": 150,
   "id": "e9db924e",
   "metadata": {
    "ExecuteTime": {
     "end_time": "2023-03-23T05:39:12.440657Z",
     "start_time": "2023-03-23T05:39:12.396976Z"
    },
    "scrolled": false
   },
   "outputs": [
    {
     "data": {
      "text/html": [
       "<div>\n",
       "<style scoped>\n",
       "    .dataframe tbody tr th:only-of-type {\n",
       "        vertical-align: middle;\n",
       "    }\n",
       "\n",
       "    .dataframe tbody tr th {\n",
       "        vertical-align: top;\n",
       "    }\n",
       "\n",
       "    .dataframe thead th {\n",
       "        text-align: right;\n",
       "    }\n",
       "</style>\n",
       "<table border=\"1\" class=\"dataframe\">\n",
       "  <thead>\n",
       "    <tr style=\"text-align: right;\">\n",
       "      <th></th>\n",
       "      <th>id</th>\n",
       "      <th>age</th>\n",
       "      <th>sex</th>\n",
       "      <th>bmi</th>\n",
       "      <th>children</th>\n",
       "      <th>smoker</th>\n",
       "      <th>region</th>\n",
       "      <th>charges</th>\n",
       "      <th>y^</th>\n",
       "    </tr>\n",
       "  </thead>\n",
       "  <tbody>\n",
       "    <tr>\n",
       "      <th>0</th>\n",
       "      <td>269</td>\n",
       "      <td>49</td>\n",
       "      <td>1</td>\n",
       "      <td>25.84</td>\n",
       "      <td>1</td>\n",
       "      <td>0</td>\n",
       "      <td>4</td>\n",
       "      <td>9282.4806</td>\n",
       "      <td>9743.734081</td>\n",
       "    </tr>\n",
       "    <tr>\n",
       "      <th>1</th>\n",
       "      <td>70</td>\n",
       "      <td>27</td>\n",
       "      <td>0</td>\n",
       "      <td>24.75</td>\n",
       "      <td>0</td>\n",
       "      <td>1</td>\n",
       "      <td>1</td>\n",
       "      <td>16577.7795</td>\n",
       "      <td>25941.853579</td>\n",
       "    </tr>\n",
       "    <tr>\n",
       "      <th>2</th>\n",
       "      <td>120</td>\n",
       "      <td>44</td>\n",
       "      <td>1</td>\n",
       "      <td>37.10</td>\n",
       "      <td>2</td>\n",
       "      <td>0</td>\n",
       "      <td>2</td>\n",
       "      <td>7740.3370</td>\n",
       "      <td>12197.744819</td>\n",
       "    </tr>\n",
       "    <tr>\n",
       "      <th>3</th>\n",
       "      <td>1313</td>\n",
       "      <td>19</td>\n",
       "      <td>0</td>\n",
       "      <td>34.70</td>\n",
       "      <td>2</td>\n",
       "      <td>1</td>\n",
       "      <td>2</td>\n",
       "      <td>36397.5760</td>\n",
       "      <td>28845.043666</td>\n",
       "    </tr>\n",
       "    <tr>\n",
       "      <th>4</th>\n",
       "      <td>682</td>\n",
       "      <td>39</td>\n",
       "      <td>1</td>\n",
       "      <td>35.30</td>\n",
       "      <td>2</td>\n",
       "      <td>1</td>\n",
       "      <td>2</td>\n",
       "      <td>40103.8900</td>\n",
       "      <td>34149.508123</td>\n",
       "    </tr>\n",
       "  </tbody>\n",
       "</table>\n",
       "</div>"
      ],
      "text/plain": [
       "     id  age  sex    bmi  children  smoker  region     charges            y^\n",
       "0   269   49    1  25.84         1       0       4   9282.4806   9743.734081\n",
       "1    70   27    0  24.75         0       1       1  16577.7795  25941.853579\n",
       "2   120   44    1  37.10         2       0       2   7740.3370  12197.744819\n",
       "3  1313   19    0  34.70         2       1       2  36397.5760  28845.043666\n",
       "4   682   39    1  35.30         2       1       2  40103.8900  34149.508123"
      ]
     },
     "execution_count": 150,
     "metadata": {},
     "output_type": "execute_result"
    }
   ],
   "source": [
    "St.head()"
   ]
  },
  {
   "cell_type": "code",
   "execution_count": null,
   "id": "540ac073",
   "metadata": {},
   "outputs": [],
   "source": []
  }
 ],
 "metadata": {
  "kernelspec": {
   "display_name": "tsc",
   "language": "python",
   "name": "tsc"
  },
  "language_info": {
   "codemirror_mode": {
    "name": "ipython",
    "version": 3
   },
   "file_extension": ".py",
   "mimetype": "text/x-python",
   "name": "python",
   "nbconvert_exporter": "python",
   "pygments_lexer": "ipython3",
   "version": "3.10.6"
  },
  "toc": {
   "base_numbering": 1,
   "nav_menu": {},
   "number_sections": true,
   "sideBar": true,
   "skip_h1_title": false,
   "title_cell": "Table of Contents",
   "title_sidebar": "Contents",
   "toc_cell": false,
   "toc_position": {
    "height": "calc(100% - 180px)",
    "left": "10px",
    "top": "150px",
    "width": "165px"
   },
   "toc_section_display": true,
   "toc_window_display": true
  }
 },
 "nbformat": 4,
 "nbformat_minor": 5
}
