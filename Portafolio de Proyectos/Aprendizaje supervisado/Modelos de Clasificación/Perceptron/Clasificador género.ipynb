{
 "cells": [
  {
   "cell_type": "markdown",
   "id": "61ee2cb6",
   "metadata": {},
   "source": [
    "## Dependencias"
   ]
  },
  {
   "cell_type": "code",
   "execution_count": 116,
   "id": "3398e2db",
   "metadata": {
    "ExecuteTime": {
     "end_time": "2023-03-09T00:39:58.858204Z",
     "start_time": "2023-03-09T00:39:58.841101Z"
    }
   },
   "outputs": [],
   "source": [
    "import pandas as pd\n",
    "import numpy as np\n",
    "\n",
    "from datetime import datetime\n",
    "\n",
    "from sklearn.metrics import accuracy_score, confusion_matrix\n",
    "from sklearn.linear_model import Perceptron\n",
    "from sklearn.model_selection import train_test_split, GridSearchCV\n",
    "\n",
    "import seaborn as sns"
   ]
  },
  {
   "cell_type": "markdown",
   "id": "4d115dfd",
   "metadata": {},
   "source": [
    "## Lectura de datos"
   ]
  },
  {
   "cell_type": "code",
   "execution_count": 117,
   "id": "49b9e817",
   "metadata": {
    "ExecuteTime": {
     "end_time": "2023-03-09T00:39:59.013474Z",
     "start_time": "2023-03-09T00:39:58.867355Z"
    }
   },
   "outputs": [],
   "source": [
    "ruta = '/home/oscarjarillo/Documentos/Análisis Multivariado/Perceptron/medidas amv.csv'"
   ]
  },
  {
   "cell_type": "code",
   "execution_count": 118,
   "id": "840432f0",
   "metadata": {
    "ExecuteTime": {
     "end_time": "2023-03-09T00:39:59.310136Z",
     "start_time": "2023-03-09T00:39:59.020363Z"
    }
   },
   "outputs": [
    {
     "data": {
      "text/html": [
       "<div>\n",
       "<style scoped>\n",
       "    .dataframe tbody tr th:only-of-type {\n",
       "        vertical-align: middle;\n",
       "    }\n",
       "\n",
       "    .dataframe tbody tr th {\n",
       "        vertical-align: top;\n",
       "    }\n",
       "\n",
       "    .dataframe thead th {\n",
       "        text-align: right;\n",
       "    }\n",
       "</style>\n",
       "<table border=\"1\" class=\"dataframe\">\n",
       "  <thead>\n",
       "    <tr style=\"text-align: right;\">\n",
       "      <th></th>\n",
       "      <th>Marca temporal</th>\n",
       "      <th>Edad (Años)</th>\n",
       "      <th>Estatura (cm)</th>\n",
       "      <th>Peso (Kg)</th>\n",
       "      <th># de Zapato (23,24,25, 25.5, ..., etc)</th>\n",
       "      <th>Sexo</th>\n",
       "    </tr>\n",
       "  </thead>\n",
       "  <tbody>\n",
       "    <tr>\n",
       "      <th>0</th>\n",
       "      <td>2022/02/15 6:31:48 p. m. GMT-6</td>\n",
       "      <td>21</td>\n",
       "      <td>163.0</td>\n",
       "      <td>65.0</td>\n",
       "      <td>24.5</td>\n",
       "      <td>Mujer</td>\n",
       "    </tr>\n",
       "    <tr>\n",
       "      <th>1</th>\n",
       "      <td>2022/02/15 6:31:51 p. m. GMT-6</td>\n",
       "      <td>21</td>\n",
       "      <td>180.0</td>\n",
       "      <td>70.0</td>\n",
       "      <td>28.0</td>\n",
       "      <td>Hombre</td>\n",
       "    </tr>\n",
       "    <tr>\n",
       "      <th>2</th>\n",
       "      <td>2022/02/15 6:31:55 p. m. GMT-6</td>\n",
       "      <td>22</td>\n",
       "      <td>180.0</td>\n",
       "      <td>80.0</td>\n",
       "      <td>28.5</td>\n",
       "      <td>Hombre</td>\n",
       "    </tr>\n",
       "    <tr>\n",
       "      <th>3</th>\n",
       "      <td>2022/02/15 6:31:55 p. m. GMT-6</td>\n",
       "      <td>21</td>\n",
       "      <td>180.0</td>\n",
       "      <td>83.0</td>\n",
       "      <td>29.0</td>\n",
       "      <td>Hombre</td>\n",
       "    </tr>\n",
       "    <tr>\n",
       "      <th>4</th>\n",
       "      <td>2022/02/15 6:31:56 p. m. GMT-6</td>\n",
       "      <td>23</td>\n",
       "      <td>178.0</td>\n",
       "      <td>67.0</td>\n",
       "      <td>27.5</td>\n",
       "      <td>Hombre</td>\n",
       "    </tr>\n",
       "  </tbody>\n",
       "</table>\n",
       "</div>"
      ],
      "text/plain": [
       "                   Marca temporal  Edad (Años)  Estatura (cm)  Peso (Kg)  \\\n",
       "0  2022/02/15 6:31:48 p. m. GMT-6           21          163.0       65.0   \n",
       "1  2022/02/15 6:31:51 p. m. GMT-6           21          180.0       70.0   \n",
       "2  2022/02/15 6:31:55 p. m. GMT-6           22          180.0       80.0   \n",
       "3  2022/02/15 6:31:55 p. m. GMT-6           21          180.0       83.0   \n",
       "4  2022/02/15 6:31:56 p. m. GMT-6           23          178.0       67.0   \n",
       "\n",
       "   # de Zapato (23,24,25, 25.5, ..., etc)    Sexo  \n",
       "0                                    24.5   Mujer  \n",
       "1                                    28.0  Hombre  \n",
       "2                                    28.5  Hombre  \n",
       "3                                    29.0  Hombre  \n",
       "4                                    27.5  Hombre  "
      ]
     },
     "execution_count": 118,
     "metadata": {},
     "output_type": "execute_result"
    }
   ],
   "source": [
    "df = pd.read_csv(ruta)\n",
    "df.head()"
   ]
  },
  {
   "cell_type": "code",
   "execution_count": 119,
   "id": "c52d0983",
   "metadata": {
    "ExecuteTime": {
     "end_time": "2023-03-09T00:39:59.400512Z",
     "start_time": "2023-03-09T00:39:59.319336Z"
    }
   },
   "outputs": [
    {
     "data": {
      "text/plain": [
       "(63, 6)"
      ]
     },
     "execution_count": 119,
     "metadata": {},
     "output_type": "execute_result"
    }
   ],
   "source": [
    "df.shape"
   ]
  },
  {
   "cell_type": "markdown",
   "id": "b64d1e12",
   "metadata": {},
   "source": [
    "## Análisis Exploratorio"
   ]
  },
  {
   "cell_type": "markdown",
   "id": "8ed716b1",
   "metadata": {},
   "source": [
    "### Renombramiento de columnas para mejor manejo"
   ]
  },
  {
   "cell_type": "code",
   "execution_count": 120,
   "id": "74675a73",
   "metadata": {
    "ExecuteTime": {
     "end_time": "2023-03-09T00:39:59.508249Z",
     "start_time": "2023-03-09T00:39:59.406982Z"
    }
   },
   "outputs": [],
   "source": [
    "df.rename(columns= {'# de Zapato (23,24,25, 25.5, ..., etc)':'# de Zapato'}, inplace= True)"
   ]
  },
  {
   "cell_type": "markdown",
   "id": "3f1b81ef",
   "metadata": {},
   "source": [
    "### Valores nulos"
   ]
  },
  {
   "cell_type": "code",
   "execution_count": 121,
   "id": "6edcf524",
   "metadata": {
    "ExecuteTime": {
     "end_time": "2023-03-09T00:39:59.627322Z",
     "start_time": "2023-03-09T00:39:59.514926Z"
    },
    "scrolled": false
   },
   "outputs": [
    {
     "data": {
      "text/plain": [
       "Marca temporal    0\n",
       "Edad (Años)       0\n",
       "Estatura (cm)     0\n",
       "Peso (Kg)         0\n",
       "# de Zapato       0\n",
       "Sexo              0\n",
       "dtype: int64"
      ]
     },
     "execution_count": 121,
     "metadata": {},
     "output_type": "execute_result"
    }
   ],
   "source": [
    "df.isnull().sum()"
   ]
  },
  {
   "cell_type": "code",
   "execution_count": 122,
   "id": "aaac87eb",
   "metadata": {
    "ExecuteTime": {
     "end_time": "2023-03-09T00:40:00.492405Z",
     "start_time": "2023-03-09T00:39:59.635820Z"
    }
   },
   "outputs": [
    {
     "data": {
      "text/plain": [
       "<AxesSubplot:>"
      ]
     },
     "execution_count": 122,
     "metadata": {},
     "output_type": "execute_result"
    },
    {
     "data": {
      "image/png": "[encoded data removed]",
      "text/plain": [
       "<Figure size 432x288 with 2 Axes>"
      ]
     },
     "metadata": {
      "needs_background": "light"
     },
     "output_type": "display_data"
    }
   ],
   "source": [
    "sns.heatmap(data= df.isnull(), cbar=True)"
   ]
  },
  {
   "cell_type": "markdown",
   "id": "e03a28c6",
   "metadata": {},
   "source": [
    "### Conversión a tipo de dato datetime"
   ]
  },
  {
   "cell_type": "code",
   "execution_count": 123,
   "id": "83f5565f",
   "metadata": {
    "ExecuteTime": {
     "end_time": "2023-03-09T00:40:00.552403Z",
     "start_time": "2023-03-09T00:40:00.499647Z"
    }
   },
   "outputs": [],
   "source": [
    "df['Marca temporal'] = pd.to_datetime(df['Marca temporal'])"
   ]
  },
  {
   "cell_type": "markdown",
   "id": "6002864c",
   "metadata": {},
   "source": [
    "### Agregamos un índice"
   ]
  },
  {
   "cell_type": "code",
   "execution_count": 124,
   "id": "ca999749",
   "metadata": {
    "ExecuteTime": {
     "end_time": "2023-03-09T00:40:00.673247Z",
     "start_time": "2023-03-09T00:40:00.563544Z"
    }
   },
   "outputs": [],
   "source": [
    "df.insert(0, 'id', df.index)"
   ]
  },
  {
   "cell_type": "markdown",
   "id": "ef9407cc",
   "metadata": {},
   "source": [
    "## Definimos variables"
   ]
  },
  {
   "cell_type": "code",
   "execution_count": 125,
   "id": "7b02f292",
   "metadata": {
    "ExecuteTime": {
     "end_time": "2023-03-09T00:40:00.882966Z",
     "start_time": "2023-03-09T00:40:00.684300Z"
    }
   },
   "outputs": [],
   "source": [
    "vt = ['Sexo']\n",
    "var_num = ['Edad (Años)', 'Estatura (cm)', 'Peso (Kg)', '# de Zapato']"
   ]
  },
  {
   "cell_type": "markdown",
   "id": "b564fc57",
   "metadata": {},
   "source": [
    "## Partición"
   ]
  },
  {
   "cell_type": "code",
   "execution_count": 126,
   "id": "a4e3e50b",
   "metadata": {
    "ExecuteTime": {
     "end_time": "2023-03-09T00:40:01.026174Z",
     "start_time": "2023-03-09T00:40:00.888049Z"
    }
   },
   "outputs": [],
   "source": [
    "Xt, Xv, yt, yv = train_test_split(df[var_num], df[vt[0]], train_size= 0.7)\n",
    "Xt.reset_index(drop = True, inplace = True)\n",
    "Xv.reset_index(drop = True, inplace = True)\n",
    "yt.reset_index(drop = True, inplace = True)\n",
    "yv.reset_index(drop = True, inplace = True)"
   ]
  },
  {
   "cell_type": "markdown",
   "id": "a57f1e8a",
   "metadata": {},
   "source": [
    "## Modelo"
   ]
  },
  {
   "cell_type": "markdown",
   "id": "52a886e7",
   "metadata": {},
   "source": [
    "### Hiperparámetros"
   ]
  },
  {
   "cell_type": "code",
   "execution_count": 127,
   "id": "20b6e6e0",
   "metadata": {
    "ExecuteTime": {
     "end_time": "2023-03-09T00:40:01.148708Z",
     "start_time": "2023-03-09T00:40:01.033149Z"
    }
   },
   "outputs": [],
   "source": [
    "hp = dict(max_iter = range(100, 200), \n",
    "         fit_intercept = [True, False])"
   ]
  },
  {
   "cell_type": "code",
   "execution_count": 128,
   "id": "a9491d84",
   "metadata": {
    "ExecuteTime": {
     "end_time": "2023-03-09T00:40:01.315496Z",
     "start_time": "2023-03-09T00:40:01.156468Z"
    }
   },
   "outputs": [],
   "source": [
    "modelo = Perceptron()"
   ]
  },
  {
   "cell_type": "markdown",
   "id": "ba2f62f0",
   "metadata": {},
   "source": [
    "### Hiperparametrización"
   ]
  },
  {
   "cell_type": "code",
   "execution_count": 129,
   "id": "0ddd49b3",
   "metadata": {
    "ExecuteTime": {
     "end_time": "2023-03-09T00:40:01.438667Z",
     "start_time": "2023-03-09T00:40:01.321950Z"
    }
   },
   "outputs": [],
   "source": [
    "grid = GridSearchCV(param_grid= hp,\n",
    "                    cv = 3,\n",
    "                    scoring= 'accuracy',\n",
    "                    n_jobs= -1,\n",
    "                    verbose= True,\n",
    "                    estimator = modelo)"
   ]
  },
  {
   "cell_type": "markdown",
   "id": "993e254a",
   "metadata": {},
   "source": [
    "## Entrenamiento"
   ]
  },
  {
   "cell_type": "code",
   "execution_count": 130,
   "id": "f14a799c",
   "metadata": {
    "ExecuteTime": {
     "end_time": "2023-03-09T00:40:06.569214Z",
     "start_time": "2023-03-09T00:40:01.445082Z"
    },
    "scrolled": true
   },
   "outputs": [
    {
     "name": "stdout",
     "output_type": "stream",
     "text": [
      "Fitting 3 folds for each of 200 candidates, totalling 600 fits\n"
     ]
    },
    {
     "data": {
      "text/html": [
       "<style>#sk-container-id-6 {color: black;background-color: white;}#sk-container-id-6 pre{padding: 0;}#sk-container-id-6 div.sk-toggleable {background-color: white;}#sk-container-id-6 label.sk-toggleable__label {cursor: pointer;display: block;width: 100%;margin-bottom: 0;padding: 0.3em;box-sizing: border-box;text-align: center;}#sk-container-id-6 label.sk-toggleable__label-arrow:before {content: \"▸\";float: left;margin-right: 0.25em;color: #696969;}#sk-container-id-6 label.sk-toggleable__label-arrow:hover:before {color: black;}#sk-container-id-6 div.sk-estimator:hover label.sk-toggleable__label-arrow:before {color: black;}#sk-container-id-6 div.sk-toggleable__content {max-height: 0;max-width: 0;overflow: hidden;text-align: left;background-color: #f0f8ff;}#sk-container-id-6 div.sk-toggleable__content pre {margin: 0.2em;color: black;border-radius: 0.25em;background-color: #f0f8ff;}#sk-container-id-6 input.sk-toggleable__control:checked~div.sk-toggleable__content {max-height: 200px;max-width: 100%;overflow: auto;}#sk-container-id-6 input.sk-toggleable__control:checked~label.sk-toggleable__label-arrow:before {content: \"▾\";}#sk-container-id-6 div.sk-estimator input.sk-toggleable__control:checked~label.sk-toggleable__label {background-color: #d4ebff;}#sk-container-id-6 div.sk-label input.sk-toggleable__control:checked~label.sk-toggleable__label {background-color: #d4ebff;}#sk-container-id-6 input.sk-hidden--visually {border: 0;clip: rect(1px 1px 1px 1px);clip: rect(1px, 1px, 1px, 1px);height: 1px;margin: -1px;overflow: hidden;padding: 0;position: absolute;width: 1px;}#sk-container-id-6 div.sk-estimator {font-family: monospace;background-color: #f0f8ff;border: 1px dotted black;border-radius: 0.25em;box-sizing: border-box;margin-bottom: 0.5em;}#sk-container-id-6 div.sk-estimator:hover {background-color: #d4ebff;}#sk-container-id-6 div.sk-parallel-item::after {content: \"\";width: 100%;border-bottom: 1px solid gray;flex-grow: 1;}#sk-container-id-6 div.sk-label:hover label.sk-toggleable__label {background-color: #d4ebff;}#sk-container-id-6 div.sk-serial::before {content: \"\";position: absolute;border-left: 1px solid gray;box-sizing: border-box;top: 0;bottom: 0;left: 50%;z-index: 0;}#sk-container-id-6 div.sk-serial {display: flex;flex-direction: column;align-items: center;background-color: white;padding-right: 0.2em;padding-left: 0.2em;position: relative;}#sk-container-id-6 div.sk-item {position: relative;z-index: 1;}#sk-container-id-6 div.sk-parallel {display: flex;align-items: stretch;justify-content: center;background-color: white;position: relative;}#sk-container-id-6 div.sk-item::before, #sk-container-id-6 div.sk-parallel-item::before {content: \"\";position: absolute;border-left: 1px solid gray;box-sizing: border-box;top: 0;bottom: 0;left: 50%;z-index: -1;}#sk-container-id-6 div.sk-parallel-item {display: flex;flex-direction: column;z-index: 1;position: relative;background-color: white;}#sk-container-id-6 div.sk-parallel-item:first-child::after {align-self: flex-end;width: 50%;}#sk-container-id-6 div.sk-parallel-item:last-child::after {align-self: flex-start;width: 50%;}#sk-container-id-6 div.sk-parallel-item:only-child::after {width: 0;}#sk-container-id-6 div.sk-dashed-wrapped {border: 1px dashed gray;margin: 0 0.4em 0.5em 0.4em;box-sizing: border-box;padding-bottom: 0.4em;background-color: white;}#sk-container-id-6 div.sk-label label {font-family: monospace;font-weight: bold;display: inline-block;line-height: 1.2em;}#sk-container-id-6 div.sk-label-container {text-align: center;}#sk-container-id-6 div.sk-container {/* jupyter's `normalize.less` sets `[hidden] { display: none; }` but bootstrap.min.css set `[hidden] { display: none !important; }` so we also need the `!important` here to be able to override the default hidden behavior on the sphinx rendered scikit-learn.org. See: https://github.com/scikit-learn/scikit-learn/issues/21755 */display: inline-block !important;position: relative;}#sk-container-id-6 div.sk-text-repr-fallback {display: none;}</style><div id=\"sk-container-id-6\" class=\"sk-top-container\"><div class=\"sk-text-repr-fallback\"><pre>GridSearchCV(cv=3, estimator=Perceptron(), n_jobs=-1,\n",
       "             param_grid={&#x27;fit_intercept&#x27;: [True, False],\n",
       "                         &#x27;max_iter&#x27;: range(100, 200)},\n",
       "             scoring=&#x27;accuracy&#x27;, verbose=True)</pre><b>In a Jupyter environment, please rerun this cell to show the HTML representation or trust the notebook. <br />On GitHub, the HTML representation is unable to render, please try loading this page with nbviewer.org.</b></div><div class=\"sk-container\" hidden><div class=\"sk-item sk-dashed-wrapped\"><div class=\"sk-label-container\"><div class=\"sk-label sk-toggleable\"><input class=\"sk-toggleable__control sk-hidden--visually\" id=\"sk-estimator-id-12\" type=\"checkbox\" ><label for=\"sk-estimator-id-12\" class=\"sk-toggleable__label sk-toggleable__label-arrow\">GridSearchCV</label><div class=\"sk-toggleable__content\"><pre>GridSearchCV(cv=3, estimator=Perceptron(), n_jobs=-1,\n",
       "             param_grid={&#x27;fit_intercept&#x27;: [True, False],\n",
       "                         &#x27;max_iter&#x27;: range(100, 200)},\n",
       "             scoring=&#x27;accuracy&#x27;, verbose=True)</pre></div></div></div><div class=\"sk-parallel\"><div class=\"sk-parallel-item\"><div class=\"sk-item\"><div class=\"sk-label-container\"><div class=\"sk-label sk-toggleable\"><input class=\"sk-toggleable__control sk-hidden--visually\" id=\"sk-estimator-id-13\" type=\"checkbox\" ><label for=\"sk-estimator-id-13\" class=\"sk-toggleable__label sk-toggleable__label-arrow\">estimator: Perceptron</label><div class=\"sk-toggleable__content\"><pre>Perceptron()</pre></div></div></div><div class=\"sk-serial\"><div class=\"sk-item\"><div class=\"sk-estimator sk-toggleable\"><input class=\"sk-toggleable__control sk-hidden--visually\" id=\"sk-estimator-id-14\" type=\"checkbox\" ><label for=\"sk-estimator-id-14\" class=\"sk-toggleable__label sk-toggleable__label-arrow\">Perceptron</label><div class=\"sk-toggleable__content\"><pre>Perceptron()</pre></div></div></div></div></div></div></div></div></div></div>"
      ],
      "text/plain": [
       "GridSearchCV(cv=3, estimator=Perceptron(), n_jobs=-1,\n",
       "             param_grid={'fit_intercept': [True, False],\n",
       "                         'max_iter': range(100, 200)},\n",
       "             scoring='accuracy', verbose=True)"
      ]
     },
     "execution_count": 130,
     "metadata": {},
     "output_type": "execute_result"
    }
   ],
   "source": [
    "grid.fit(Xt, yt)"
   ]
  },
  {
   "cell_type": "markdown",
   "id": "e2ff4189",
   "metadata": {},
   "source": [
    "### Mejores parámetros"
   ]
  },
  {
   "cell_type": "code",
   "execution_count": 131,
   "id": "16bbbeb5",
   "metadata": {
    "ExecuteTime": {
     "end_time": "2023-03-09T00:40:06.589734Z",
     "start_time": "2023-03-09T00:40:06.576388Z"
    }
   },
   "outputs": [
    {
     "data": {
      "text/plain": [
       "{'fit_intercept': True, 'max_iter': 100}"
      ]
     },
     "execution_count": 131,
     "metadata": {},
     "output_type": "execute_result"
    }
   ],
   "source": [
    "grid.best_params_"
   ]
  },
  {
   "cell_type": "code",
   "execution_count": 132,
   "id": "31a9bcb9",
   "metadata": {
    "ExecuteTime": {
     "end_time": "2023-03-09T00:40:06.834881Z",
     "start_time": "2023-03-09T00:40:06.596929Z"
    }
   },
   "outputs": [
    {
     "data": {
      "text/html": [
       "<style>#sk-container-id-7 {color: black;background-color: white;}#sk-container-id-7 pre{padding: 0;}#sk-container-id-7 div.sk-toggleable {background-color: white;}#sk-container-id-7 label.sk-toggleable__label {cursor: pointer;display: block;width: 100%;margin-bottom: 0;padding: 0.3em;box-sizing: border-box;text-align: center;}#sk-container-id-7 label.sk-toggleable__label-arrow:before {content: \"▸\";float: left;margin-right: 0.25em;color: #696969;}#sk-container-id-7 label.sk-toggleable__label-arrow:hover:before {color: black;}#sk-container-id-7 div.sk-estimator:hover label.sk-toggleable__label-arrow:before {color: black;}#sk-container-id-7 div.sk-toggleable__content {max-height: 0;max-width: 0;overflow: hidden;text-align: left;background-color: #f0f8ff;}#sk-container-id-7 div.sk-toggleable__content pre {margin: 0.2em;color: black;border-radius: 0.25em;background-color: #f0f8ff;}#sk-container-id-7 input.sk-toggleable__control:checked~div.sk-toggleable__content {max-height: 200px;max-width: 100%;overflow: auto;}#sk-container-id-7 input.sk-toggleable__control:checked~label.sk-toggleable__label-arrow:before {content: \"▾\";}#sk-container-id-7 div.sk-estimator input.sk-toggleable__control:checked~label.sk-toggleable__label {background-color: #d4ebff;}#sk-container-id-7 div.sk-label input.sk-toggleable__control:checked~label.sk-toggleable__label {background-color: #d4ebff;}#sk-container-id-7 input.sk-hidden--visually {border: 0;clip: rect(1px 1px 1px 1px);clip: rect(1px, 1px, 1px, 1px);height: 1px;margin: -1px;overflow: hidden;padding: 0;position: absolute;width: 1px;}#sk-container-id-7 div.sk-estimator {font-family: monospace;background-color: #f0f8ff;border: 1px dotted black;border-radius: 0.25em;box-sizing: border-box;margin-bottom: 0.5em;}#sk-container-id-7 div.sk-estimator:hover {background-color: #d4ebff;}#sk-container-id-7 div.sk-parallel-item::after {content: \"\";width: 100%;border-bottom: 1px solid gray;flex-grow: 1;}#sk-container-id-7 div.sk-label:hover label.sk-toggleable__label {background-color: #d4ebff;}#sk-container-id-7 div.sk-serial::before {content: \"\";position: absolute;border-left: 1px solid gray;box-sizing: border-box;top: 0;bottom: 0;left: 50%;z-index: 0;}#sk-container-id-7 div.sk-serial {display: flex;flex-direction: column;align-items: center;background-color: white;padding-right: 0.2em;padding-left: 0.2em;position: relative;}#sk-container-id-7 div.sk-item {position: relative;z-index: 1;}#sk-container-id-7 div.sk-parallel {display: flex;align-items: stretch;justify-content: center;background-color: white;position: relative;}#sk-container-id-7 div.sk-item::before, #sk-container-id-7 div.sk-parallel-item::before {content: \"\";position: absolute;border-left: 1px solid gray;box-sizing: border-box;top: 0;bottom: 0;left: 50%;z-index: -1;}#sk-container-id-7 div.sk-parallel-item {display: flex;flex-direction: column;z-index: 1;position: relative;background-color: white;}#sk-container-id-7 div.sk-parallel-item:first-child::after {align-self: flex-end;width: 50%;}#sk-container-id-7 div.sk-parallel-item:last-child::after {align-self: flex-start;width: 50%;}#sk-container-id-7 div.sk-parallel-item:only-child::after {width: 0;}#sk-container-id-7 div.sk-dashed-wrapped {border: 1px dashed gray;margin: 0 0.4em 0.5em 0.4em;box-sizing: border-box;padding-bottom: 0.4em;background-color: white;}#sk-container-id-7 div.sk-label label {font-family: monospace;font-weight: bold;display: inline-block;line-height: 1.2em;}#sk-container-id-7 div.sk-label-container {text-align: center;}#sk-container-id-7 div.sk-container {/* jupyter's `normalize.less` sets `[hidden] { display: none; }` but bootstrap.min.css set `[hidden] { display: none !important; }` so we also need the `!important` here to be able to override the default hidden behavior on the sphinx rendered scikit-learn.org. See: https://github.com/scikit-learn/scikit-learn/issues/21755 */display: inline-block !important;position: relative;}#sk-container-id-7 div.sk-text-repr-fallback {display: none;}</style><div id=\"sk-container-id-7\" class=\"sk-top-container\"><div class=\"sk-text-repr-fallback\"><pre>Perceptron(max_iter=100)</pre><b>In a Jupyter environment, please rerun this cell to show the HTML representation or trust the notebook. <br />On GitHub, the HTML representation is unable to render, please try loading this page with nbviewer.org.</b></div><div class=\"sk-container\" hidden><div class=\"sk-item\"><div class=\"sk-estimator sk-toggleable\"><input class=\"sk-toggleable__control sk-hidden--visually\" id=\"sk-estimator-id-15\" type=\"checkbox\" checked><label for=\"sk-estimator-id-15\" class=\"sk-toggleable__label sk-toggleable__label-arrow\">Perceptron</label><div class=\"sk-toggleable__content\"><pre>Perceptron(max_iter=100)</pre></div></div></div></div></div>"
      ],
      "text/plain": [
       "Perceptron(max_iter=100)"
      ]
     },
     "execution_count": 132,
     "metadata": {},
     "output_type": "execute_result"
    }
   ],
   "source": [
    "modelo = grid.best_estimator_\n",
    "modelo"
   ]
  },
  {
   "cell_type": "markdown",
   "id": "39690e1a",
   "metadata": {},
   "source": [
    "## Validación del modelo"
   ]
  },
  {
   "cell_type": "markdown",
   "id": "223b26e2",
   "metadata": {},
   "source": [
    "### Probabilidad"
   ]
  },
  {
   "cell_type": "code",
   "execution_count": 133,
   "id": "5af13638",
   "metadata": {
    "ExecuteTime": {
     "end_time": "2023-03-09T00:40:06.963311Z",
     "start_time": "2023-03-09T00:40:06.846697Z"
    }
   },
   "outputs": [
    {
     "name": "stdout",
     "output_type": "stream",
     "text": [
      "0.5227272727272727\n",
      "0.6842105263157895\n"
     ]
    }
   ],
   "source": [
    "print(accuracy_score(y_pred= modelo.predict(Xt), y_true = yt))\n",
    "print(accuracy_score(y_pred= modelo.predict(Xv), y_true = yv))"
   ]
  },
  {
   "cell_type": "markdown",
   "id": "a850c365",
   "metadata": {},
   "source": [
    "### Matriz de confusión"
   ]
  },
  {
   "cell_type": "code",
   "execution_count": 134,
   "id": "7932331b",
   "metadata": {
    "ExecuteTime": {
     "end_time": "2023-03-09T00:40:07.090633Z",
     "start_time": "2023-03-09T00:40:06.970436Z"
    }
   },
   "outputs": [
    {
     "name": "stdout",
     "output_type": "stream",
     "text": [
      "[[10 17]\n",
      " [ 4 13]]\n",
      "[[8 4]\n",
      " [2 5]]\n"
     ]
    }
   ],
   "source": [
    "print(confusion_matrix(y_pred= modelo.predict(Xt), y_true = yt))\n",
    "print(confusion_matrix(y_pred= modelo.predict(Xv), y_true = yv))"
   ]
  },
  {
   "cell_type": "markdown",
   "id": "4076129c",
   "metadata": {},
   "source": [
    "## Predicciones"
   ]
  },
  {
   "cell_type": "code",
   "execution_count": 135,
   "id": "75727acf",
   "metadata": {
    "ExecuteTime": {
     "end_time": "2023-03-09T00:42:19.720892Z",
     "start_time": "2023-03-09T00:42:19.665698Z"
    }
   },
   "outputs": [
    {
     "data": {
      "text/html": [
       "<div>\n",
       "<style scoped>\n",
       "    .dataframe tbody tr th:only-of-type {\n",
       "        vertical-align: middle;\n",
       "    }\n",
       "\n",
       "    .dataframe tbody tr th {\n",
       "        vertical-align: top;\n",
       "    }\n",
       "\n",
       "    .dataframe thead th {\n",
       "        text-align: right;\n",
       "    }\n",
       "</style>\n",
       "<table border=\"1\" class=\"dataframe\">\n",
       "  <thead>\n",
       "    <tr style=\"text-align: right;\">\n",
       "      <th></th>\n",
       "      <th>id</th>\n",
       "      <th>Marca temporal</th>\n",
       "      <th>Edad (Años)</th>\n",
       "      <th>Estatura (cm)</th>\n",
       "      <th>Peso (Kg)</th>\n",
       "      <th># de Zapato</th>\n",
       "      <th>Sexo</th>\n",
       "      <th>Pred</th>\n",
       "    </tr>\n",
       "  </thead>\n",
       "  <tbody>\n",
       "    <tr>\n",
       "      <th>0</th>\n",
       "      <td>0</td>\n",
       "      <td>2022-02-15 18:31:48+06:00</td>\n",
       "      <td>21</td>\n",
       "      <td>163.0</td>\n",
       "      <td>65.0</td>\n",
       "      <td>24.5</td>\n",
       "      <td>Mujer</td>\n",
       "      <td>Mujer</td>\n",
       "    </tr>\n",
       "    <tr>\n",
       "      <th>1</th>\n",
       "      <td>1</td>\n",
       "      <td>2022-02-15 18:31:51+06:00</td>\n",
       "      <td>21</td>\n",
       "      <td>180.0</td>\n",
       "      <td>70.0</td>\n",
       "      <td>28.0</td>\n",
       "      <td>Hombre</td>\n",
       "      <td>Mujer</td>\n",
       "    </tr>\n",
       "    <tr>\n",
       "      <th>2</th>\n",
       "      <td>2</td>\n",
       "      <td>2022-02-15 18:31:55+06:00</td>\n",
       "      <td>22</td>\n",
       "      <td>180.0</td>\n",
       "      <td>80.0</td>\n",
       "      <td>28.5</td>\n",
       "      <td>Hombre</td>\n",
       "      <td>Hombre</td>\n",
       "    </tr>\n",
       "    <tr>\n",
       "      <th>3</th>\n",
       "      <td>3</td>\n",
       "      <td>2022-02-15 18:31:55+06:00</td>\n",
       "      <td>21</td>\n",
       "      <td>180.0</td>\n",
       "      <td>83.0</td>\n",
       "      <td>29.0</td>\n",
       "      <td>Hombre</td>\n",
       "      <td>Hombre</td>\n",
       "    </tr>\n",
       "    <tr>\n",
       "      <th>4</th>\n",
       "      <td>4</td>\n",
       "      <td>2022-02-15 18:31:56+06:00</td>\n",
       "      <td>23</td>\n",
       "      <td>178.0</td>\n",
       "      <td>67.0</td>\n",
       "      <td>27.5</td>\n",
       "      <td>Hombre</td>\n",
       "      <td>Mujer</td>\n",
       "    </tr>\n",
       "  </tbody>\n",
       "</table>\n",
       "</div>"
      ],
      "text/plain": [
       "   id            Marca temporal  Edad (Años)  Estatura (cm)  Peso (Kg)  \\\n",
       "0   0 2022-02-15 18:31:48+06:00           21          163.0       65.0   \n",
       "1   1 2022-02-15 18:31:51+06:00           21          180.0       70.0   \n",
       "2   2 2022-02-15 18:31:55+06:00           22          180.0       80.0   \n",
       "3   3 2022-02-15 18:31:55+06:00           21          180.0       83.0   \n",
       "4   4 2022-02-15 18:31:56+06:00           23          178.0       67.0   \n",
       "\n",
       "   # de Zapato    Sexo    Pred  \n",
       "0         24.5   Mujer   Mujer  \n",
       "1         28.0  Hombre   Mujer  \n",
       "2         28.5  Hombre  Hombre  \n",
       "3         29.0  Hombre  Hombre  \n",
       "4         27.5  Hombre   Mujer  "
      ]
     },
     "execution_count": 135,
     "metadata": {},
     "output_type": "execute_result"
    }
   ],
   "source": [
    "df['Pred'] = modelo.predict(df[var_num])\n",
    "df.head()"
   ]
  },
  {
   "cell_type": "code",
   "execution_count": null,
   "id": "a4882dbd",
   "metadata": {},
   "outputs": [],
   "source": []
  }
 ],
 "metadata": {
  "kernelspec": {
   "display_name": "tsc",
   "language": "python",
   "name": "tsc"
  },
  "language_info": {
   "codemirror_mode": {
    "name": "ipython",
    "version": 3
   },
   "file_extension": ".py",
   "mimetype": "text/x-python",
   "name": "python",
   "nbconvert_exporter": "python",
   "pygments_lexer": "ipython3",
   "version": "3.10.6"
  },
  "toc": {
   "base_numbering": 1,
   "nav_menu": {},
   "number_sections": true,
   "sideBar": true,
   "skip_h1_title": false,
   "title_cell": "Table of Contents",
   "title_sidebar": "Contents",
   "toc_cell": false,
   "toc_position": {
    "height": "calc(100% - 180px)",
    "left": "10px",
    "top": "150px",
    "width": "165px"
   },
   "toc_section_display": true,
   "toc_window_display": true
  }
 },
 "nbformat": 4,
 "nbformat_minor": 5
}
