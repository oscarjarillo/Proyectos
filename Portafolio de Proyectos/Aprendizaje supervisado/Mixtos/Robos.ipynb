{
 "cells": [
  {
   "cell_type": "markdown",
   "id": "165e88b2",
   "metadata": {},
   "source": [
    "# $\\mathbf{Proyección~de~robos~para~los~meses~de~Junio,~Julio~y~Agosto}$"
   ]
  },
  {
   "cell_type": "markdown",
   "id": "0b2297c9",
   "metadata": {},
   "source": [
    "# Dependencias"
   ]
  },
  {
   "cell_type": "code",
   "execution_count": 1,
   "id": "0d30a302",
   "metadata": {
    "ExecuteTime": {
     "end_time": "2023-08-11T19:41:39.707559Z",
     "start_time": "2023-08-11T19:41:26.027501Z"
    }
   },
   "outputs": [
    {
     "data": {
      "text/html": [
       "        <script type=\"text/javascript\">\n",
       "        window.PlotlyConfig = {MathJaxConfig: 'local'};\n",
       "        if (window.MathJax && window.MathJax.Hub && window.MathJax.Hub.Config) {window.MathJax.Hub.Config({SVG: {font: \"STIX-Web\"}});}\n",
       "        if (typeof require !== 'undefined') {\n",
       "        require.undef(\"plotly\");\n",
       "        requirejs.config({\n",
       "            paths: {\n",
       "                'plotly': ['https://cdn.plot.ly/plotly-2.16.1.min']\n",
       "            }\n",
       "        });\n",
       "        require(['plotly'], function(Plotly) {\n",
       "            window._Plotly = Plotly;\n",
       "        });\n",
       "        }\n",
       "        </script>\n",
       "        "
      ]
     },
     "metadata": {},
     "output_type": "display_data"
    }
   ],
   "source": [
    "import numpy as np\n",
    "import pandas as pd\n",
    "\n",
    "from sklearn.linear_model import LinearRegression\n",
    "from sklearn.metrics import mean_absolute_error, r2_score\n",
    "from sklearn.feature_selection import VarianceThreshold, SelectKBest, f_regression\n",
    "from sklearn.model_selection import train_test_split, RandomizedSearchCV\n",
    "from sklearn.impute import SimpleImputer\n",
    "from sklearn.preprocessing import StandardScaler\n",
    "from sklearn.neural_network import MLPRegressor\n",
    "\n",
    "from scipy import stats\n",
    "\n",
    "import cufflinks as cf\n",
    "import matplotlib.pyplot as plt\n",
    "import seaborn as sns\n",
    "\n",
    "cf.go_offline()\n",
    "pd.set_option('display.max_columns',None)"
   ]
  },
  {
   "cell_type": "markdown",
   "id": "150e6725",
   "metadata": {},
   "source": [
    "# Lectura de datos"
   ]
  },
  {
   "cell_type": "markdown",
   "id": "6a1ff5c1",
   "metadata": {},
   "source": [
    "Dado que los datos de la página asignada están actualizados hasta el mes de junio de 2023, se utilizara sin\n",
    "considerar este ultimo mes"
   ]
  },
  {
   "cell_type": "code",
   "execution_count": 2,
   "id": "75644590",
   "metadata": {
    "ExecuteTime": {
     "end_time": "2023-08-11T19:42:15.742261Z",
     "start_time": "2023-08-11T19:41:53.761632Z"
    },
    "scrolled": false
   },
   "outputs": [
    {
     "data": {
      "text/html": [
       "<div>\n",
       "<style scoped>\n",
       "    .dataframe tbody tr th:only-of-type {\n",
       "        vertical-align: middle;\n",
       "    }\n",
       "\n",
       "    .dataframe tbody tr th {\n",
       "        vertical-align: top;\n",
       "    }\n",
       "\n",
       "    .dataframe thead th {\n",
       "        text-align: right;\n",
       "    }\n",
       "</style>\n",
       "<table border=\"1\" class=\"dataframe\">\n",
       "  <thead>\n",
       "    <tr style=\"text-align: right;\">\n",
       "      <th></th>\n",
       "      <th>Año</th>\n",
       "      <th>Clave_Ent</th>\n",
       "      <th>Entidad</th>\n",
       "      <th>Cve. Municipio</th>\n",
       "      <th>Municipio</th>\n",
       "      <th>Bien jurídico afectado</th>\n",
       "      <th>Tipo de delito</th>\n",
       "      <th>Subtipo de delito</th>\n",
       "      <th>Modalidad</th>\n",
       "      <th>Enero</th>\n",
       "      <th>Febrero</th>\n",
       "      <th>Marzo</th>\n",
       "      <th>Abril</th>\n",
       "      <th>Mayo</th>\n",
       "      <th>Junio</th>\n",
       "      <th>Julio</th>\n",
       "      <th>Agosto</th>\n",
       "      <th>Septiembre</th>\n",
       "      <th>Octubre</th>\n",
       "      <th>Noviembre</th>\n",
       "      <th>Diciembre</th>\n",
       "    </tr>\n",
       "  </thead>\n",
       "  <tbody>\n",
       "    <tr>\n",
       "      <th>0</th>\n",
       "      <td>2015</td>\n",
       "      <td>1</td>\n",
       "      <td>Aguascalientes</td>\n",
       "      <td>1001</td>\n",
       "      <td>Aguascalientes</td>\n",
       "      <td>El patrimonio</td>\n",
       "      <td>Robo</td>\n",
       "      <td>Robo a casa habitación</td>\n",
       "      <td>Con violencia</td>\n",
       "      <td>4</td>\n",
       "      <td>3</td>\n",
       "      <td>0</td>\n",
       "      <td>7</td>\n",
       "      <td>4</td>\n",
       "      <td>6</td>\n",
       "      <td>4.0</td>\n",
       "      <td>3.0</td>\n",
       "      <td>4.0</td>\n",
       "      <td>1.0</td>\n",
       "      <td>4.0</td>\n",
       "      <td>7.0</td>\n",
       "    </tr>\n",
       "    <tr>\n",
       "      <th>1</th>\n",
       "      <td>2015</td>\n",
       "      <td>1</td>\n",
       "      <td>Aguascalientes</td>\n",
       "      <td>1001</td>\n",
       "      <td>Aguascalientes</td>\n",
       "      <td>El patrimonio</td>\n",
       "      <td>Robo</td>\n",
       "      <td>Robo a casa habitación</td>\n",
       "      <td>Sin violencia</td>\n",
       "      <td>172</td>\n",
       "      <td>151</td>\n",
       "      <td>181</td>\n",
       "      <td>155</td>\n",
       "      <td>170</td>\n",
       "      <td>182</td>\n",
       "      <td>173.0</td>\n",
       "      <td>168.0</td>\n",
       "      <td>158.0</td>\n",
       "      <td>144.0</td>\n",
       "      <td>201.0</td>\n",
       "      <td>171.0</td>\n",
       "    </tr>\n",
       "    <tr>\n",
       "      <th>2</th>\n",
       "      <td>2015</td>\n",
       "      <td>1</td>\n",
       "      <td>Aguascalientes</td>\n",
       "      <td>1001</td>\n",
       "      <td>Aguascalientes</td>\n",
       "      <td>El patrimonio</td>\n",
       "      <td>Robo</td>\n",
       "      <td>Robo de vehículo automotor</td>\n",
       "      <td>Robo de coche de 4 ruedas Con violencia</td>\n",
       "      <td>4</td>\n",
       "      <td>1</td>\n",
       "      <td>4</td>\n",
       "      <td>3</td>\n",
       "      <td>0</td>\n",
       "      <td>1</td>\n",
       "      <td>1.0</td>\n",
       "      <td>5.0</td>\n",
       "      <td>2.0</td>\n",
       "      <td>5.0</td>\n",
       "      <td>6.0</td>\n",
       "      <td>4.0</td>\n",
       "    </tr>\n",
       "    <tr>\n",
       "      <th>3</th>\n",
       "      <td>2015</td>\n",
       "      <td>1</td>\n",
       "      <td>Aguascalientes</td>\n",
       "      <td>1001</td>\n",
       "      <td>Aguascalientes</td>\n",
       "      <td>El patrimonio</td>\n",
       "      <td>Robo</td>\n",
       "      <td>Robo de vehículo automotor</td>\n",
       "      <td>Robo de coche de 4 ruedas Sin violencia</td>\n",
       "      <td>114</td>\n",
       "      <td>106</td>\n",
       "      <td>122</td>\n",
       "      <td>124</td>\n",
       "      <td>138</td>\n",
       "      <td>94</td>\n",
       "      <td>89.0</td>\n",
       "      <td>93.0</td>\n",
       "      <td>126.0</td>\n",
       "      <td>105.0</td>\n",
       "      <td>152.0</td>\n",
       "      <td>171.0</td>\n",
       "    </tr>\n",
       "    <tr>\n",
       "      <th>4</th>\n",
       "      <td>2015</td>\n",
       "      <td>1</td>\n",
       "      <td>Aguascalientes</td>\n",
       "      <td>1001</td>\n",
       "      <td>Aguascalientes</td>\n",
       "      <td>El patrimonio</td>\n",
       "      <td>Robo</td>\n",
       "      <td>Robo de vehículo automotor</td>\n",
       "      <td>Robo de motocicleta Con violencia</td>\n",
       "      <td>1</td>\n",
       "      <td>0</td>\n",
       "      <td>1</td>\n",
       "      <td>0</td>\n",
       "      <td>0</td>\n",
       "      <td>0</td>\n",
       "      <td>0.0</td>\n",
       "      <td>2.0</td>\n",
       "      <td>0.0</td>\n",
       "      <td>0.0</td>\n",
       "      <td>1.0</td>\n",
       "      <td>0.0</td>\n",
       "    </tr>\n",
       "  </tbody>\n",
       "</table>\n",
       "</div>"
      ],
      "text/plain": [
       "    Año  Clave_Ent         Entidad  Cve. Municipio       Municipio  \\\n",
       "0  2015          1  Aguascalientes            1001  Aguascalientes   \n",
       "1  2015          1  Aguascalientes            1001  Aguascalientes   \n",
       "2  2015          1  Aguascalientes            1001  Aguascalientes   \n",
       "3  2015          1  Aguascalientes            1001  Aguascalientes   \n",
       "4  2015          1  Aguascalientes            1001  Aguascalientes   \n",
       "\n",
       "  Bien jurídico afectado Tipo de delito           Subtipo de delito  \\\n",
       "0          El patrimonio           Robo      Robo a casa habitación   \n",
       "1          El patrimonio           Robo      Robo a casa habitación   \n",
       "2          El patrimonio           Robo  Robo de vehículo automotor   \n",
       "3          El patrimonio           Robo  Robo de vehículo automotor   \n",
       "4          El patrimonio           Robo  Robo de vehículo automotor   \n",
       "\n",
       "                                 Modalidad  Enero  Febrero  Marzo  Abril  \\\n",
       "0                            Con violencia      4        3      0      7   \n",
       "1                            Sin violencia    172      151    181    155   \n",
       "2  Robo de coche de 4 ruedas Con violencia      4        1      4      3   \n",
       "3  Robo de coche de 4 ruedas Sin violencia    114      106    122    124   \n",
       "4        Robo de motocicleta Con violencia      1        0      1      0   \n",
       "\n",
       "   Mayo  Junio  Julio  Agosto  Septiembre  Octubre  Noviembre  Diciembre  \n",
       "0     4      6    4.0     3.0         4.0      1.0        4.0        7.0  \n",
       "1   170    182  173.0   168.0       158.0    144.0      201.0      171.0  \n",
       "2     0      1    1.0     5.0         2.0      5.0        6.0        4.0  \n",
       "3   138     94   89.0    93.0       126.0    105.0      152.0      171.0  \n",
       "4     0      0    0.0     2.0         0.0      0.0        1.0        0.0  "
      ]
     },
     "execution_count": 2,
     "metadata": {},
     "output_type": "execute_result"
    }
   ],
   "source": [
    "archivo ='IDM_NM_jun23.csv'\n",
    "df = pd.read_csv(archivo, encoding='latin-1')\n",
    "df = df.loc[df['Bien jurídico afectado']=='El patrimonio'].loc[df['Tipo de delito']=='Robo'].reset_index(drop=True)\n",
    "df.head()"
   ]
  },
  {
   "cell_type": "code",
   "execution_count": 3,
   "id": "efe7c703",
   "metadata": {
    "ExecuteTime": {
     "end_time": "2023-08-11T19:42:15.767186Z",
     "start_time": "2023-08-11T19:42:15.753691Z"
    }
   },
   "outputs": [
    {
     "data": {
      "text/plain": [
       "(762516, 21)"
      ]
     },
     "execution_count": 3,
     "metadata": {},
     "output_type": "execute_result"
    }
   ],
   "source": [
    "df.shape"
   ]
  },
  {
   "cell_type": "code",
   "execution_count": 4,
   "id": "3ddc2bae",
   "metadata": {
    "ExecuteTime": {
     "end_time": "2023-08-11T19:42:17.448632Z",
     "start_time": "2023-08-11T19:42:15.774652Z"
    }
   },
   "outputs": [
    {
     "name": "stdout",
     "output_type": "stream",
     "text": [
      "<class 'pandas.core.frame.DataFrame'>\n",
      "RangeIndex: 762516 entries, 0 to 762515\n",
      "Data columns (total 21 columns):\n",
      " #   Column                  Non-Null Count   Dtype  \n",
      "---  ------                  --------------   -----  \n",
      " 0   Año                     762516 non-null  int64  \n",
      " 1   Clave_Ent               762516 non-null  int64  \n",
      " 2   Entidad                 762516 non-null  object \n",
      " 3   Cve. Municipio          762516 non-null  int64  \n",
      " 4   Municipio               762516 non-null  object \n",
      " 5   Bien jurídico afectado  762516 non-null  object \n",
      " 6   Tipo de delito          762516 non-null  object \n",
      " 7   Subtipo de delito       762516 non-null  object \n",
      " 8   Modalidad               762516 non-null  object \n",
      " 9   Enero                   762516 non-null  int64  \n",
      " 10  Febrero                 762516 non-null  int64  \n",
      " 11  Marzo                   762516 non-null  int64  \n",
      " 12  Abril                   762516 non-null  int64  \n",
      " 13  Mayo                    762516 non-null  int64  \n",
      " 14  Junio                   762516 non-null  int64  \n",
      " 15  Julio                   673128 non-null  float64\n",
      " 16  Agosto                  673128 non-null  float64\n",
      " 17  Septiembre              673128 non-null  float64\n",
      " 18  Octubre                 673128 non-null  float64\n",
      " 19  Noviembre               673128 non-null  float64\n",
      " 20  Diciembre               673128 non-null  float64\n",
      "dtypes: float64(6), int64(9), object(6)\n",
      "memory usage: 122.2+ MB\n"
     ]
    }
   ],
   "source": [
    "df.info()"
   ]
  },
  {
   "cell_type": "markdown",
   "id": "429d4129",
   "metadata": {},
   "source": [
    "# Definición de variables"
   ]
  },
  {
   "cell_type": "code",
   "execution_count": 5,
   "id": "7822ecd8",
   "metadata": {
    "ExecuteTime": {
     "end_time": "2023-08-11T19:42:17.471741Z",
     "start_time": "2023-08-11T19:42:17.456644Z"
    }
   },
   "outputs": [],
   "source": [
    "df.insert(0,'id',df.index+1)"
   ]
  },
  {
   "cell_type": "code",
   "execution_count": 6,
   "id": "7140bb04",
   "metadata": {
    "ExecuteTime": {
     "end_time": "2023-08-11T19:42:17.580674Z",
     "start_time": "2023-08-11T19:42:17.480939Z"
    }
   },
   "outputs": [],
   "source": [
    "um = ['id']\n",
    "vart_1 = ['Junio']\n",
    "vart_2 = ['Julio']\n",
    "vart_3 = ['Agosto']\n",
    "vard = ['Subtipo de delito','Modalidad']\n",
    "varc_1 = ['Año']+['Clave_Ent']+['Cve. Municipio']+list(df.columns[10:][:5])\n",
    "varc_2 = ['Año']+['Clave_Ent']+['Cve. Municipio']+list(df.columns[10:][:6])\n",
    "varc_3 = ['Año']+['Clave_Ent']+['Cve. Municipio']+list(df.columns[10:][:7])"
   ]
  },
  {
   "cell_type": "markdown",
   "id": "c5df73b6",
   "metadata": {},
   "source": [
    "# Análisis exploratorio"
   ]
  },
  {
   "cell_type": "markdown",
   "id": "8fb8aa02",
   "metadata": {},
   "source": [
    "## Variables continuas"
   ]
  },
  {
   "cell_type": "markdown",
   "id": "7508ccea",
   "metadata": {},
   "source": [
    "### Valores nulos"
   ]
  },
  {
   "cell_type": "code",
   "execution_count": 7,
   "id": "ce2bbcdd",
   "metadata": {
    "ExecuteTime": {
     "end_time": "2023-08-11T19:42:18.140644Z",
     "start_time": "2023-08-11T19:42:17.587216Z"
    }
   },
   "outputs": [],
   "source": [
    "X = df[df.columns[:-4]].copy()"
   ]
  },
  {
   "cell_type": "code",
   "execution_count": 8,
   "id": "cfd0cab1",
   "metadata": {
    "ExecuteTime": {
     "end_time": "2023-08-11T19:42:19.027883Z",
     "start_time": "2023-08-11T19:42:18.146215Z"
    },
    "scrolled": true
   },
   "outputs": [
    {
     "data": {
      "text/html": [
       "<div>\n",
       "<style scoped>\n",
       "    .dataframe tbody tr th:only-of-type {\n",
       "        vertical-align: middle;\n",
       "    }\n",
       "\n",
       "    .dataframe tbody tr th {\n",
       "        vertical-align: top;\n",
       "    }\n",
       "\n",
       "    .dataframe thead th {\n",
       "        text-align: right;\n",
       "    }\n",
       "</style>\n",
       "<table border=\"1\" class=\"dataframe\">\n",
       "  <thead>\n",
       "    <tr style=\"text-align: right;\">\n",
       "      <th></th>\n",
       "      <th>count</th>\n",
       "    </tr>\n",
       "  </thead>\n",
       "  <tbody>\n",
       "    <tr>\n",
       "      <th>Año</th>\n",
       "      <td>0.000000</td>\n",
       "    </tr>\n",
       "    <tr>\n",
       "      <th>Clave_Ent</th>\n",
       "      <td>0.000000</td>\n",
       "    </tr>\n",
       "    <tr>\n",
       "      <th>Cve. Municipio</th>\n",
       "      <td>0.000000</td>\n",
       "    </tr>\n",
       "    <tr>\n",
       "      <th>Enero</th>\n",
       "      <td>0.000000</td>\n",
       "    </tr>\n",
       "    <tr>\n",
       "      <th>Febrero</th>\n",
       "      <td>0.000000</td>\n",
       "    </tr>\n",
       "    <tr>\n",
       "      <th>Marzo</th>\n",
       "      <td>0.000000</td>\n",
       "    </tr>\n",
       "    <tr>\n",
       "      <th>Abril</th>\n",
       "      <td>0.000000</td>\n",
       "    </tr>\n",
       "    <tr>\n",
       "      <th>Mayo</th>\n",
       "      <td>0.000000</td>\n",
       "    </tr>\n",
       "    <tr>\n",
       "      <th>Junio</th>\n",
       "      <td>0.000000</td>\n",
       "    </tr>\n",
       "    <tr>\n",
       "      <th>Julio</th>\n",
       "      <td>0.117228</td>\n",
       "    </tr>\n",
       "    <tr>\n",
       "      <th>Agosto</th>\n",
       "      <td>0.117228</td>\n",
       "    </tr>\n",
       "  </tbody>\n",
       "</table>\n",
       "</div>"
      ],
      "text/plain": [
       "                   count\n",
       "Año             0.000000\n",
       "Clave_Ent       0.000000\n",
       "Cve. Municipio  0.000000\n",
       "Enero           0.000000\n",
       "Febrero         0.000000\n",
       "Marzo           0.000000\n",
       "Abril           0.000000\n",
       "Mayo            0.000000\n",
       "Junio           0.000000\n",
       "Julio           0.117228\n",
       "Agosto          0.117228"
      ]
     },
     "execution_count": 8,
     "metadata": {},
     "output_type": "execute_result"
    }
   ],
   "source": [
    "nulos = 1-X[X.columns[1:]].describe().T[['count']]/len(X)\n",
    "nulos"
   ]
  },
  {
   "cell_type": "markdown",
   "id": "67ea4256",
   "metadata": {},
   "source": [
    "### Varianza nula"
   ]
  },
  {
   "cell_type": "code",
   "execution_count": 9,
   "id": "a7dc6773",
   "metadata": {
    "ExecuteTime": {
     "end_time": "2023-08-11T19:42:19.665024Z",
     "start_time": "2023-08-11T19:42:19.035760Z"
    }
   },
   "outputs": [
    {
     "data": {
      "text/html": [
       "<style>#sk-container-id-1 {color: black;background-color: white;}#sk-container-id-1 pre{padding: 0;}#sk-container-id-1 div.sk-toggleable {background-color: white;}#sk-container-id-1 label.sk-toggleable__label {cursor: pointer;display: block;width: 100%;margin-bottom: 0;padding: 0.3em;box-sizing: border-box;text-align: center;}#sk-container-id-1 label.sk-toggleable__label-arrow:before {content: \"▸\";float: left;margin-right: 0.25em;color: #696969;}#sk-container-id-1 label.sk-toggleable__label-arrow:hover:before {color: black;}#sk-container-id-1 div.sk-estimator:hover label.sk-toggleable__label-arrow:before {color: black;}#sk-container-id-1 div.sk-toggleable__content {max-height: 0;max-width: 0;overflow: hidden;text-align: left;background-color: #f0f8ff;}#sk-container-id-1 div.sk-toggleable__content pre {margin: 0.2em;color: black;border-radius: 0.25em;background-color: #f0f8ff;}#sk-container-id-1 input.sk-toggleable__control:checked~div.sk-toggleable__content {max-height: 200px;max-width: 100%;overflow: auto;}#sk-container-id-1 input.sk-toggleable__control:checked~label.sk-toggleable__label-arrow:before {content: \"▾\";}#sk-container-id-1 div.sk-estimator input.sk-toggleable__control:checked~label.sk-toggleable__label {background-color: #d4ebff;}#sk-container-id-1 div.sk-label input.sk-toggleable__control:checked~label.sk-toggleable__label {background-color: #d4ebff;}#sk-container-id-1 input.sk-hidden--visually {border: 0;clip: rect(1px 1px 1px 1px);clip: rect(1px, 1px, 1px, 1px);height: 1px;margin: -1px;overflow: hidden;padding: 0;position: absolute;width: 1px;}#sk-container-id-1 div.sk-estimator {font-family: monospace;background-color: #f0f8ff;border: 1px dotted black;border-radius: 0.25em;box-sizing: border-box;margin-bottom: 0.5em;}#sk-container-id-1 div.sk-estimator:hover {background-color: #d4ebff;}#sk-container-id-1 div.sk-parallel-item::after {content: \"\";width: 100%;border-bottom: 1px solid gray;flex-grow: 1;}#sk-container-id-1 div.sk-label:hover label.sk-toggleable__label {background-color: #d4ebff;}#sk-container-id-1 div.sk-serial::before {content: \"\";position: absolute;border-left: 1px solid gray;box-sizing: border-box;top: 0;bottom: 0;left: 50%;z-index: 0;}#sk-container-id-1 div.sk-serial {display: flex;flex-direction: column;align-items: center;background-color: white;padding-right: 0.2em;padding-left: 0.2em;position: relative;}#sk-container-id-1 div.sk-item {position: relative;z-index: 1;}#sk-container-id-1 div.sk-parallel {display: flex;align-items: stretch;justify-content: center;background-color: white;position: relative;}#sk-container-id-1 div.sk-item::before, #sk-container-id-1 div.sk-parallel-item::before {content: \"\";position: absolute;border-left: 1px solid gray;box-sizing: border-box;top: 0;bottom: 0;left: 50%;z-index: -1;}#sk-container-id-1 div.sk-parallel-item {display: flex;flex-direction: column;z-index: 1;position: relative;background-color: white;}#sk-container-id-1 div.sk-parallel-item:first-child::after {align-self: flex-end;width: 50%;}#sk-container-id-1 div.sk-parallel-item:last-child::after {align-self: flex-start;width: 50%;}#sk-container-id-1 div.sk-parallel-item:only-child::after {width: 0;}#sk-container-id-1 div.sk-dashed-wrapped {border: 1px dashed gray;margin: 0 0.4em 0.5em 0.4em;box-sizing: border-box;padding-bottom: 0.4em;background-color: white;}#sk-container-id-1 div.sk-label label {font-family: monospace;font-weight: bold;display: inline-block;line-height: 1.2em;}#sk-container-id-1 div.sk-label-container {text-align: center;}#sk-container-id-1 div.sk-container {/* jupyter's `normalize.less` sets `[hidden] { display: none; }` but bootstrap.min.css set `[hidden] { display: none !important; }` so we also need the `!important` here to be able to override the default hidden behavior on the sphinx rendered scikit-learn.org. See: https://github.com/scikit-learn/scikit-learn/issues/21755 */display: inline-block !important;position: relative;}#sk-container-id-1 div.sk-text-repr-fallback {display: none;}</style><div id=\"sk-container-id-1\" class=\"sk-top-container\"><div class=\"sk-text-repr-fallback\"><pre>VarianceThreshold()</pre><b>In a Jupyter environment, please rerun this cell to show the HTML representation or trust the notebook. <br />On GitHub, the HTML representation is unable to render, please try loading this page with nbviewer.org.</b></div><div class=\"sk-container\" hidden><div class=\"sk-item\"><div class=\"sk-estimator sk-toggleable\"><input class=\"sk-toggleable__control sk-hidden--visually\" id=\"sk-estimator-id-1\" type=\"checkbox\" checked><label for=\"sk-estimator-id-1\" class=\"sk-toggleable__label sk-toggleable__label-arrow\">VarianceThreshold</label><div class=\"sk-toggleable__content\"><pre>VarianceThreshold()</pre></div></div></div></div></div>"
      ],
      "text/plain": [
       "VarianceThreshold()"
      ]
     },
     "execution_count": 9,
     "metadata": {},
     "output_type": "execute_result"
    }
   ],
   "source": [
    "vt = VarianceThreshold()\n",
    "vt.fit(X.loc[X['Año']<2023][varc_3])"
   ]
  },
  {
   "cell_type": "code",
   "execution_count": 10,
   "id": "10da67a7",
   "metadata": {
    "ExecuteTime": {
     "end_time": "2023-08-11T19:42:19.693101Z",
     "start_time": "2023-08-11T19:42:19.671542Z"
    }
   },
   "outputs": [
    {
     "data": {
      "text/plain": [
       "[]"
      ]
     },
     "execution_count": 10,
     "metadata": {},
     "output_type": "execute_result"
    }
   ],
   "source": [
    "fuera = [a for a,b in zip(varc_3,vt.get_support()) if not b]\n",
    "fuera"
   ]
  },
  {
   "cell_type": "markdown",
   "id": "ae358ab7",
   "metadata": {},
   "source": [
    "## Variables discretas"
   ]
  },
  {
   "cell_type": "markdown",
   "id": "a27167a3",
   "metadata": {},
   "source": [
    "### Valores nulos"
   ]
  },
  {
   "cell_type": "code",
   "execution_count": 11,
   "id": "3f0cb12d",
   "metadata": {
    "ExecuteTime": {
     "end_time": "2023-08-11T19:42:20.379792Z",
     "start_time": "2023-08-11T19:42:19.707558Z"
    }
   },
   "outputs": [
    {
     "data": {
      "text/plain": [
       "Subtipo de delito    0.0\n",
       "Modalidad            0.0\n",
       "dtype: float64"
      ]
     },
     "execution_count": 11,
     "metadata": {},
     "output_type": "execute_result"
    }
   ],
   "source": [
    "nulos = X[vard].isnull().sum()/len(X)\n",
    "nulos"
   ]
  },
  {
   "cell_type": "markdown",
   "id": "96080157",
   "metadata": {},
   "source": [
    "### Conversión a variables numéricas"
   ]
  },
  {
   "cell_type": "code",
   "execution_count": 12,
   "id": "247877a1",
   "metadata": {
    "ExecuteTime": {
     "end_time": "2023-08-11T19:42:24.750824Z",
     "start_time": "2023-08-11T19:42:20.387545Z"
    }
   },
   "outputs": [],
   "source": [
    "for v in vard:\n",
    "    for a,b in zip(list(X[v].unique()),range(1,len(list(X[v].unique()))+1)):\n",
    "        X.loc[X[v] == a, v] = b\n",
    "    X[v] = pd.to_numeric(X[v])"
   ]
  },
  {
   "cell_type": "markdown",
   "id": "c1f5018b",
   "metadata": {},
   "source": [
    "### Varianza nula"
   ]
  },
  {
   "cell_type": "code",
   "execution_count": 13,
   "id": "3a3f3071",
   "metadata": {
    "ExecuteTime": {
     "end_time": "2023-08-11T19:42:25.200916Z",
     "start_time": "2023-08-11T19:42:24.755888Z"
    }
   },
   "outputs": [
    {
     "data": {
      "text/html": [
       "<style>#sk-container-id-2 {color: black;background-color: white;}#sk-container-id-2 pre{padding: 0;}#sk-container-id-2 div.sk-toggleable {background-color: white;}#sk-container-id-2 label.sk-toggleable__label {cursor: pointer;display: block;width: 100%;margin-bottom: 0;padding: 0.3em;box-sizing: border-box;text-align: center;}#sk-container-id-2 label.sk-toggleable__label-arrow:before {content: \"▸\";float: left;margin-right: 0.25em;color: #696969;}#sk-container-id-2 label.sk-toggleable__label-arrow:hover:before {color: black;}#sk-container-id-2 div.sk-estimator:hover label.sk-toggleable__label-arrow:before {color: black;}#sk-container-id-2 div.sk-toggleable__content {max-height: 0;max-width: 0;overflow: hidden;text-align: left;background-color: #f0f8ff;}#sk-container-id-2 div.sk-toggleable__content pre {margin: 0.2em;color: black;border-radius: 0.25em;background-color: #f0f8ff;}#sk-container-id-2 input.sk-toggleable__control:checked~div.sk-toggleable__content {max-height: 200px;max-width: 100%;overflow: auto;}#sk-container-id-2 input.sk-toggleable__control:checked~label.sk-toggleable__label-arrow:before {content: \"▾\";}#sk-container-id-2 div.sk-estimator input.sk-toggleable__control:checked~label.sk-toggleable__label {background-color: #d4ebff;}#sk-container-id-2 div.sk-label input.sk-toggleable__control:checked~label.sk-toggleable__label {background-color: #d4ebff;}#sk-container-id-2 input.sk-hidden--visually {border: 0;clip: rect(1px 1px 1px 1px);clip: rect(1px, 1px, 1px, 1px);height: 1px;margin: -1px;overflow: hidden;padding: 0;position: absolute;width: 1px;}#sk-container-id-2 div.sk-estimator {font-family: monospace;background-color: #f0f8ff;border: 1px dotted black;border-radius: 0.25em;box-sizing: border-box;margin-bottom: 0.5em;}#sk-container-id-2 div.sk-estimator:hover {background-color: #d4ebff;}#sk-container-id-2 div.sk-parallel-item::after {content: \"\";width: 100%;border-bottom: 1px solid gray;flex-grow: 1;}#sk-container-id-2 div.sk-label:hover label.sk-toggleable__label {background-color: #d4ebff;}#sk-container-id-2 div.sk-serial::before {content: \"\";position: absolute;border-left: 1px solid gray;box-sizing: border-box;top: 0;bottom: 0;left: 50%;z-index: 0;}#sk-container-id-2 div.sk-serial {display: flex;flex-direction: column;align-items: center;background-color: white;padding-right: 0.2em;padding-left: 0.2em;position: relative;}#sk-container-id-2 div.sk-item {position: relative;z-index: 1;}#sk-container-id-2 div.sk-parallel {display: flex;align-items: stretch;justify-content: center;background-color: white;position: relative;}#sk-container-id-2 div.sk-item::before, #sk-container-id-2 div.sk-parallel-item::before {content: \"\";position: absolute;border-left: 1px solid gray;box-sizing: border-box;top: 0;bottom: 0;left: 50%;z-index: -1;}#sk-container-id-2 div.sk-parallel-item {display: flex;flex-direction: column;z-index: 1;position: relative;background-color: white;}#sk-container-id-2 div.sk-parallel-item:first-child::after {align-self: flex-end;width: 50%;}#sk-container-id-2 div.sk-parallel-item:last-child::after {align-self: flex-start;width: 50%;}#sk-container-id-2 div.sk-parallel-item:only-child::after {width: 0;}#sk-container-id-2 div.sk-dashed-wrapped {border: 1px dashed gray;margin: 0 0.4em 0.5em 0.4em;box-sizing: border-box;padding-bottom: 0.4em;background-color: white;}#sk-container-id-2 div.sk-label label {font-family: monospace;font-weight: bold;display: inline-block;line-height: 1.2em;}#sk-container-id-2 div.sk-label-container {text-align: center;}#sk-container-id-2 div.sk-container {/* jupyter's `normalize.less` sets `[hidden] { display: none; }` but bootstrap.min.css set `[hidden] { display: none !important; }` so we also need the `!important` here to be able to override the default hidden behavior on the sphinx rendered scikit-learn.org. See: https://github.com/scikit-learn/scikit-learn/issues/21755 */display: inline-block !important;position: relative;}#sk-container-id-2 div.sk-text-repr-fallback {display: none;}</style><div id=\"sk-container-id-2\" class=\"sk-top-container\"><div class=\"sk-text-repr-fallback\"><pre>VarianceThreshold()</pre><b>In a Jupyter environment, please rerun this cell to show the HTML representation or trust the notebook. <br />On GitHub, the HTML representation is unable to render, please try loading this page with nbviewer.org.</b></div><div class=\"sk-container\" hidden><div class=\"sk-item\"><div class=\"sk-estimator sk-toggleable\"><input class=\"sk-toggleable__control sk-hidden--visually\" id=\"sk-estimator-id-2\" type=\"checkbox\" checked><label for=\"sk-estimator-id-2\" class=\"sk-toggleable__label sk-toggleable__label-arrow\">VarianceThreshold</label><div class=\"sk-toggleable__content\"><pre>VarianceThreshold()</pre></div></div></div></div></div>"
      ],
      "text/plain": [
       "VarianceThreshold()"
      ]
     },
     "execution_count": 13,
     "metadata": {},
     "output_type": "execute_result"
    }
   ],
   "source": [
    "vt.fit(X.loc[X['Año']<2023][vard])"
   ]
  },
  {
   "cell_type": "code",
   "execution_count": 14,
   "id": "2e02f372",
   "metadata": {
    "ExecuteTime": {
     "end_time": "2023-08-11T19:42:25.219933Z",
     "start_time": "2023-08-11T19:42:25.207513Z"
    }
   },
   "outputs": [
    {
     "data": {
      "text/plain": [
       "[]"
      ]
     },
     "execution_count": 14,
     "metadata": {},
     "output_type": "execute_result"
    }
   ],
   "source": [
    "fuera = [a for a,b in zip(vard,vt.get_support()) if not b]\n",
    "fuera"
   ]
  },
  {
   "cell_type": "code",
   "execution_count": 15,
   "id": "2c880c79",
   "metadata": {
    "ExecuteTime": {
     "end_time": "2023-08-11T19:42:25.323110Z",
     "start_time": "2023-08-11T19:42:25.226008Z"
    }
   },
   "outputs": [],
   "source": [
    "var_1 = varc_1 + vard\n",
    "var_2 = varc_2 + vard\n",
    "var_3 = varc_3 + vard"
   ]
  },
  {
   "cell_type": "markdown",
   "id": "32b2b211",
   "metadata": {},
   "source": [
    "## Partición general"
   ]
  },
  {
   "cell_type": "code",
   "execution_count": 16,
   "id": "77baf3fe",
   "metadata": {
    "ExecuteTime": {
     "end_time": "2023-08-11T19:42:25.658956Z",
     "start_time": "2023-08-11T19:42:25.330056Z"
    }
   },
   "outputs": [],
   "source": [
    "Xi = X.loc[X['Año']<2023]"
   ]
  },
  {
   "cell_type": "code",
   "execution_count": 17,
   "id": "eabb6a15",
   "metadata": {
    "ExecuteTime": {
     "end_time": "2023-08-11T19:42:25.680209Z",
     "start_time": "2023-08-11T19:42:25.665417Z"
    }
   },
   "outputs": [
    {
     "data": {
      "text/plain": [
       "(673128, 18)"
      ]
     },
     "execution_count": 17,
     "metadata": {},
     "output_type": "execute_result"
    }
   ],
   "source": [
    "Xi.shape"
   ]
  },
  {
   "cell_type": "markdown",
   "id": "f8bac7ea",
   "metadata": {},
   "source": [
    "## Selección de variables con mejor poder predictivo"
   ]
  },
  {
   "cell_type": "markdown",
   "id": "860d75e4",
   "metadata": {},
   "source": [
    "### Para vart_1 (Junio)"
   ]
  },
  {
   "cell_type": "code",
   "execution_count": 18,
   "id": "7f664996",
   "metadata": {
    "ExecuteTime": {
     "end_time": "2023-08-11T19:42:25.992716Z",
     "start_time": "2023-08-11T19:42:25.688102Z"
    }
   },
   "outputs": [
    {
     "data": {
      "text/html": [
       "<style>#sk-container-id-3 {color: black;background-color: white;}#sk-container-id-3 pre{padding: 0;}#sk-container-id-3 div.sk-toggleable {background-color: white;}#sk-container-id-3 label.sk-toggleable__label {cursor: pointer;display: block;width: 100%;margin-bottom: 0;padding: 0.3em;box-sizing: border-box;text-align: center;}#sk-container-id-3 label.sk-toggleable__label-arrow:before {content: \"▸\";float: left;margin-right: 0.25em;color: #696969;}#sk-container-id-3 label.sk-toggleable__label-arrow:hover:before {color: black;}#sk-container-id-3 div.sk-estimator:hover label.sk-toggleable__label-arrow:before {color: black;}#sk-container-id-3 div.sk-toggleable__content {max-height: 0;max-width: 0;overflow: hidden;text-align: left;background-color: #f0f8ff;}#sk-container-id-3 div.sk-toggleable__content pre {margin: 0.2em;color: black;border-radius: 0.25em;background-color: #f0f8ff;}#sk-container-id-3 input.sk-toggleable__control:checked~div.sk-toggleable__content {max-height: 200px;max-width: 100%;overflow: auto;}#sk-container-id-3 input.sk-toggleable__control:checked~label.sk-toggleable__label-arrow:before {content: \"▾\";}#sk-container-id-3 div.sk-estimator input.sk-toggleable__control:checked~label.sk-toggleable__label {background-color: #d4ebff;}#sk-container-id-3 div.sk-label input.sk-toggleable__control:checked~label.sk-toggleable__label {background-color: #d4ebff;}#sk-container-id-3 input.sk-hidden--visually {border: 0;clip: rect(1px 1px 1px 1px);clip: rect(1px, 1px, 1px, 1px);height: 1px;margin: -1px;overflow: hidden;padding: 0;position: absolute;width: 1px;}#sk-container-id-3 div.sk-estimator {font-family: monospace;background-color: #f0f8ff;border: 1px dotted black;border-radius: 0.25em;box-sizing: border-box;margin-bottom: 0.5em;}#sk-container-id-3 div.sk-estimator:hover {background-color: #d4ebff;}#sk-container-id-3 div.sk-parallel-item::after {content: \"\";width: 100%;border-bottom: 1px solid gray;flex-grow: 1;}#sk-container-id-3 div.sk-label:hover label.sk-toggleable__label {background-color: #d4ebff;}#sk-container-id-3 div.sk-serial::before {content: \"\";position: absolute;border-left: 1px solid gray;box-sizing: border-box;top: 0;bottom: 0;left: 50%;z-index: 0;}#sk-container-id-3 div.sk-serial {display: flex;flex-direction: column;align-items: center;background-color: white;padding-right: 0.2em;padding-left: 0.2em;position: relative;}#sk-container-id-3 div.sk-item {position: relative;z-index: 1;}#sk-container-id-3 div.sk-parallel {display: flex;align-items: stretch;justify-content: center;background-color: white;position: relative;}#sk-container-id-3 div.sk-item::before, #sk-container-id-3 div.sk-parallel-item::before {content: \"\";position: absolute;border-left: 1px solid gray;box-sizing: border-box;top: 0;bottom: 0;left: 50%;z-index: -1;}#sk-container-id-3 div.sk-parallel-item {display: flex;flex-direction: column;z-index: 1;position: relative;background-color: white;}#sk-container-id-3 div.sk-parallel-item:first-child::after {align-self: flex-end;width: 50%;}#sk-container-id-3 div.sk-parallel-item:last-child::after {align-self: flex-start;width: 50%;}#sk-container-id-3 div.sk-parallel-item:only-child::after {width: 0;}#sk-container-id-3 div.sk-dashed-wrapped {border: 1px dashed gray;margin: 0 0.4em 0.5em 0.4em;box-sizing: border-box;padding-bottom: 0.4em;background-color: white;}#sk-container-id-3 div.sk-label label {font-family: monospace;font-weight: bold;display: inline-block;line-height: 1.2em;}#sk-container-id-3 div.sk-label-container {text-align: center;}#sk-container-id-3 div.sk-container {/* jupyter's `normalize.less` sets `[hidden] { display: none; }` but bootstrap.min.css set `[hidden] { display: none !important; }` so we also need the `!important` here to be able to override the default hidden behavior on the sphinx rendered scikit-learn.org. See: https://github.com/scikit-learn/scikit-learn/issues/21755 */display: inline-block !important;position: relative;}#sk-container-id-3 div.sk-text-repr-fallback {display: none;}</style><div id=\"sk-container-id-3\" class=\"sk-top-container\"><div class=\"sk-text-repr-fallback\"><pre>SelectKBest(score_func=&lt;function f_regression at 0x7f61c124ed40&gt;)</pre><b>In a Jupyter environment, please rerun this cell to show the HTML representation or trust the notebook. <br />On GitHub, the HTML representation is unable to render, please try loading this page with nbviewer.org.</b></div><div class=\"sk-container\" hidden><div class=\"sk-item\"><div class=\"sk-estimator sk-toggleable\"><input class=\"sk-toggleable__control sk-hidden--visually\" id=\"sk-estimator-id-3\" type=\"checkbox\" checked><label for=\"sk-estimator-id-3\" class=\"sk-toggleable__label sk-toggleable__label-arrow\">SelectKBest</label><div class=\"sk-toggleable__content\"><pre>SelectKBest(score_func=&lt;function f_regression at 0x7f61c124ed40&gt;)</pre></div></div></div></div></div>"
      ],
      "text/plain": [
       "SelectKBest(score_func=<function f_regression at 0x7f61c124ed40>)"
      ]
     },
     "execution_count": 18,
     "metadata": {},
     "output_type": "execute_result"
    }
   ],
   "source": [
    "sk = SelectKBest(k=len(var_1),score_func = f_regression)\n",
    "sk.fit(Xi[var_1],Xi[vart_1[0]])"
   ]
  },
  {
   "cell_type": "code",
   "execution_count": 19,
   "id": "79a7d3d6",
   "metadata": {
    "ExecuteTime": {
     "end_time": "2023-08-11T19:42:29.437167Z",
     "start_time": "2023-08-11T19:42:25.999294Z"
    }
   },
   "outputs": [
    {
     "data": {
      "application/vnd.plotly.v1+json": {
       "config": {
        "linkText": "Export to plot.ly",
        "plotlyServerURL": "https://plot.ly",
        "showLink": true
       },
       "data": [
        {
         "marker": {
          "color": "rgba(255, 153, 51, 0.6)",
          "line": {
           "color": "rgba(255, 153, 51, 1.0)",
           "width": 1
          }
         },
         "name": "score",
         "orientation": "v",
         "text": "",
         "type": "bar",
         "x": [
          "Mayo",
          "Marzo",
          "Abril",
          "Febrero",
          "Enero",
          "Cve. Municipio",
          "Clave_Ent",
          "Modalidad",
          "Año",
          "Subtipo de delito"
         ],
         "y": [
          5606655.178599212,
          5318035.974690274,
          5187945.166480531,
          4767119.715799483,
          4083131.4006926524,
          1563.0774952998022,
          1529.5684811491356,
          779.0858389814559,
          86.97444356114018,
          0.0001607676052074237
         ]
        }
       ],
       "layout": {
        "legend": {
         "bgcolor": "#F5F6F9",
         "font": {
          "color": "#4D5663"
         }
        },
        "paper_bgcolor": "#F5F6F9",
        "plot_bgcolor": "#F5F6F9",
        "template": {
         "data": {
          "bar": [
           {
            "error_x": {
             "color": "#2a3f5f"
            },
            "error_y": {
             "color": "#2a3f5f"
            },
            "marker": {
             "line": {
              "color": "#E5ECF6",
              "width": 0.5
             },
             "pattern": {
              "fillmode": "overlay",
              "size": 10,
              "solidity": 0.2
             }
            },
            "type": "bar"
           }
          ],
          "barpolar": [
           {
            "marker": {
             "line": {
              "color": "#E5ECF6",
              "width": 0.5
             },
             "pattern": {
              "fillmode": "overlay",
              "size": 10,
              "solidity": 0.2
             }
            },
            "type": "barpolar"
           }
          ],
          "carpet": [
           {
            "aaxis": {
             "endlinecolor": "#2a3f5f",
             "gridcolor": "white",
             "linecolor": "white",
             "minorgridcolor": "white",
             "startlinecolor": "#2a3f5f"
            },
            "baxis": {
             "endlinecolor": "#2a3f5f",
             "gridcolor": "white",
             "linecolor": "white",
             "minorgridcolor": "white",
             "startlinecolor": "#2a3f5f"
            },
            "type": "carpet"
           }
          ],
          "choropleth": [
           {
            "colorbar": {
             "outlinewidth": 0,
             "ticks": ""
            },
            "type": "choropleth"
           }
          ],
          "contour": [
           {
            "colorbar": {
             "outlinewidth": 0,
             "ticks": ""
            },
            "colorscale": [
             [
              0,
              "#0d0887"
             ],
             [
              0.1111111111111111,
              "#46039f"
             ],
             [
              0.2222222222222222,
              "#7201a8"
             ],
             [
              0.3333333333333333,
              "#9c179e"
             ],
             [
              0.4444444444444444,
              "#bd3786"
             ],
             [
              0.5555555555555556,
              "#d8576b"
             ],
             [
              0.6666666666666666,
              "#ed7953"
             ],
             [
              0.7777777777777778,
              "#fb9f3a"
             ],
             [
              0.8888888888888888,
              "#fdca26"
             ],
             [
              1,
              "#f0f921"
             ]
            ],
            "type": "contour"
           }
          ],
          "contourcarpet": [
           {
            "colorbar": {
             "outlinewidth": 0,
             "ticks": ""
            },
            "type": "contourcarpet"
           }
          ],
          "heatmap": [
           {
            "colorbar": {
             "outlinewidth": 0,
             "ticks": ""
            },
            "colorscale": [
             [
              0,
              "#0d0887"
             ],
             [
              0.1111111111111111,
              "#46039f"
             ],
             [
              0.2222222222222222,
              "#7201a8"
             ],
             [
              0.3333333333333333,
              "#9c179e"
             ],
             [
              0.4444444444444444,
              "#bd3786"
             ],
             [
              0.5555555555555556,
              "#d8576b"
             ],
             [
              0.6666666666666666,
              "#ed7953"
             ],
             [
              0.7777777777777778,
              "#fb9f3a"
             ],
             [
              0.8888888888888888,
              "#fdca26"
             ],
             [
              1,
              "#f0f921"
             ]
            ],
            "type": "heatmap"
           }
          ],
          "heatmapgl": [
           {
            "colorbar": {
             "outlinewidth": 0,
             "ticks": ""
            },
            "colorscale": [
             [
              0,
              "#0d0887"
             ],
             [
              0.1111111111111111,
              "#46039f"
             ],
             [
              0.2222222222222222,
              "#7201a8"
             ],
             [
              0.3333333333333333,
              "#9c179e"
             ],
             [
              0.4444444444444444,
              "#bd3786"
             ],
             [
              0.5555555555555556,
              "#d8576b"
             ],
             [
              0.6666666666666666,
              "#ed7953"
             ],
             [
              0.7777777777777778,
              "#fb9f3a"
             ],
             [
              0.8888888888888888,
              "#fdca26"
             ],
             [
              1,
              "#f0f921"
             ]
            ],
            "type": "heatmapgl"
           }
          ],
          "histogram": [
           {
            "marker": {
             "pattern": {
              "fillmode": "overlay",
              "size": 10,
              "solidity": 0.2
             }
            },
            "type": "histogram"
           }
          ],
          "histogram2d": [
           {
            "colorbar": {
             "outlinewidth": 0,
             "ticks": ""
            },
            "colorscale": [
             [
              0,
              "#0d0887"
             ],
             [
              0.1111111111111111,
              "#46039f"
             ],
             [
              0.2222222222222222,
              "#7201a8"
             ],
             [
              0.3333333333333333,
              "#9c179e"
             ],
             [
              0.4444444444444444,
              "#bd3786"
             ],
             [
              0.5555555555555556,
              "#d8576b"
             ],
             [
              0.6666666666666666,
              "#ed7953"
             ],
             [
              0.7777777777777778,
              "#fb9f3a"
             ],
             [
              0.8888888888888888,
              "#fdca26"
             ],
             [
              1,
              "#f0f921"
             ]
            ],
            "type": "histogram2d"
           }
          ],
          "histogram2dcontour": [
           {
            "colorbar": {
             "outlinewidth": 0,
             "ticks": ""
            },
            "colorscale": [
             [
              0,
              "#0d0887"
             ],
             [
              0.1111111111111111,
              "#46039f"
             ],
             [
              0.2222222222222222,
              "#7201a8"
             ],
             [
              0.3333333333333333,
              "#9c179e"
             ],
             [
              0.4444444444444444,
              "#bd3786"
             ],
             [
              0.5555555555555556,
              "#d8576b"
             ],
             [
              0.6666666666666666,
              "#ed7953"
             ],
             [
              0.7777777777777778,
              "#fb9f3a"
             ],
             [
              0.8888888888888888,
              "#fdca26"
             ],
             [
              1,
              "#f0f921"
             ]
            ],
            "type": "histogram2dcontour"
           }
          ],
          "mesh3d": [
           {
            "colorbar": {
             "outlinewidth": 0,
             "ticks": ""
            },
            "type": "mesh3d"
           }
          ],
          "parcoords": [
           {
            "line": {
             "colorbar": {
              "outlinewidth": 0,
              "ticks": ""
             }
            },
            "type": "parcoords"
           }
          ],
          "pie": [
           {
            "automargin": true,
            "type": "pie"
           }
          ],
          "scatter": [
           {
            "fillpattern": {
             "fillmode": "overlay",
             "size": 10,
             "solidity": 0.2
            },
            "type": "scatter"
           }
          ],
          "scatter3d": [
           {
            "line": {
             "colorbar": {
              "outlinewidth": 0,
              "ticks": ""
             }
            },
            "marker": {
             "colorbar": {
              "outlinewidth": 0,
              "ticks": ""
             }
            },
            "type": "scatter3d"
           }
          ],
          "scattercarpet": [
           {
            "marker": {
             "colorbar": {
              "outlinewidth": 0,
              "ticks": ""
             }
            },
            "type": "scattercarpet"
           }
          ],
          "scattergeo": [
           {
            "marker": {
             "colorbar": {
              "outlinewidth": 0,
              "ticks": ""
             }
            },
            "type": "scattergeo"
           }
          ],
          "scattergl": [
           {
            "marker": {
             "colorbar": {
              "outlinewidth": 0,
              "ticks": ""
             }
            },
            "type": "scattergl"
           }
          ],
          "scattermapbox": [
           {
            "marker": {
             "colorbar": {
              "outlinewidth": 0,
              "ticks": ""
             }
            },
            "type": "scattermapbox"
           }
          ],
          "scatterpolar": [
           {
            "marker": {
             "colorbar": {
              "outlinewidth": 0,
              "ticks": ""
             }
            },
            "type": "scatterpolar"
           }
          ],
          "scatterpolargl": [
           {
            "marker": {
             "colorbar": {
              "outlinewidth": 0,
              "ticks": ""
             }
            },
            "type": "scatterpolargl"
           }
          ],
          "scatterternary": [
           {
            "marker": {
             "colorbar": {
              "outlinewidth": 0,
              "ticks": ""
             }
            },
            "type": "scatterternary"
           }
          ],
          "surface": [
           {
            "colorbar": {
             "outlinewidth": 0,
             "ticks": ""
            },
            "colorscale": [
             [
              0,
              "#0d0887"
             ],
             [
              0.1111111111111111,
              "#46039f"
             ],
             [
              0.2222222222222222,
              "#7201a8"
             ],
             [
              0.3333333333333333,
              "#9c179e"
             ],
             [
              0.4444444444444444,
              "#bd3786"
             ],
             [
              0.5555555555555556,
              "#d8576b"
             ],
             [
              0.6666666666666666,
              "#ed7953"
             ],
             [
              0.7777777777777778,
              "#fb9f3a"
             ],
             [
              0.8888888888888888,
              "#fdca26"
             ],
             [
              1,
              "#f0f921"
             ]
            ],
            "type": "surface"
           }
          ],
          "table": [
           {
            "cells": {
             "fill": {
              "color": "#EBF0F8"
             },
             "line": {
              "color": "white"
             }
            },
            "header": {
             "fill": {
              "color": "#C8D4E3"
             },
             "line": {
              "color": "white"
             }
            },
            "type": "table"
           }
          ]
         },
         "layout": {
          "annotationdefaults": {
           "arrowcolor": "#2a3f5f",
           "arrowhead": 0,
           "arrowwidth": 1
          },
          "autotypenumbers": "strict",
          "coloraxis": {
           "colorbar": {
            "outlinewidth": 0,
            "ticks": ""
           }
          },
          "colorscale": {
           "diverging": [
            [
             0,
             "#8e0152"
            ],
            [
             0.1,
             "#c51b7d"
            ],
            [
             0.2,
             "#de77ae"
            ],
            [
             0.3,
             "#f1b6da"
            ],
            [
             0.4,
             "#fde0ef"
            ],
            [
             0.5,
             "#f7f7f7"
            ],
            [
             0.6,
             "#e6f5d0"
            ],
            [
             0.7,
             "#b8e186"
            ],
            [
             0.8,
             "#7fbc41"
            ],
            [
             0.9,
             "#4d9221"
            ],
            [
             1,
             "#276419"
            ]
           ],
           "sequential": [
            [
             0,
             "#0d0887"
            ],
            [
             0.1111111111111111,
             "#46039f"
            ],
            [
             0.2222222222222222,
             "#7201a8"
            ],
            [
             0.3333333333333333,
             "#9c179e"
            ],
            [
             0.4444444444444444,
             "#bd3786"
            ],
            [
             0.5555555555555556,
             "#d8576b"
            ],
            [
             0.6666666666666666,
             "#ed7953"
            ],
            [
             0.7777777777777778,
             "#fb9f3a"
            ],
            [
             0.8888888888888888,
             "#fdca26"
            ],
            [
             1,
             "#f0f921"
            ]
           ],
           "sequentialminus": [
            [
             0,
             "#0d0887"
            ],
            [
             0.1111111111111111,
             "#46039f"
            ],
            [
             0.2222222222222222,
             "#7201a8"
            ],
            [
             0.3333333333333333,
             "#9c179e"
            ],
            [
             0.4444444444444444,
             "#bd3786"
            ],
            [
             0.5555555555555556,
             "#d8576b"
            ],
            [
             0.6666666666666666,
             "#ed7953"
            ],
            [
             0.7777777777777778,
             "#fb9f3a"
            ],
            [
             0.8888888888888888,
             "#fdca26"
            ],
            [
             1,
             "#f0f921"
            ]
           ]
          },
          "colorway": [
           "#636efa",
           "#EF553B",
           "#00cc96",
           "#ab63fa",
           "#FFA15A",
           "#19d3f3",
           "#FF6692",
           "#B6E880",
           "#FF97FF",
           "#FECB52"
          ],
          "font": {
           "color": "#2a3f5f"
          },
          "geo": {
           "bgcolor": "white",
           "lakecolor": "white",
           "landcolor": "#E5ECF6",
           "showlakes": true,
           "showland": true,
           "subunitcolor": "white"
          },
          "hoverlabel": {
           "align": "left"
          },
          "hovermode": "closest",
          "mapbox": {
           "style": "light"
          },
          "paper_bgcolor": "white",
          "plot_bgcolor": "#E5ECF6",
          "polar": {
           "angularaxis": {
            "gridcolor": "white",
            "linecolor": "white",
            "ticks": ""
           },
           "bgcolor": "#E5ECF6",
           "radialaxis": {
            "gridcolor": "white",
            "linecolor": "white",
            "ticks": ""
           }
          },
          "scene": {
           "xaxis": {
            "backgroundcolor": "#E5ECF6",
            "gridcolor": "white",
            "gridwidth": 2,
            "linecolor": "white",
            "showbackground": true,
            "ticks": "",
            "zerolinecolor": "white"
           },
           "yaxis": {
            "backgroundcolor": "#E5ECF6",
            "gridcolor": "white",
            "gridwidth": 2,
            "linecolor": "white",
            "showbackground": true,
            "ticks": "",
            "zerolinecolor": "white"
           },
           "zaxis": {
            "backgroundcolor": "#E5ECF6",
            "gridcolor": "white",
            "gridwidth": 2,
            "linecolor": "white",
            "showbackground": true,
            "ticks": "",
            "zerolinecolor": "white"
           }
          },
          "shapedefaults": {
           "line": {
            "color": "#2a3f5f"
           }
          },
          "ternary": {
           "aaxis": {
            "gridcolor": "white",
            "linecolor": "white",
            "ticks": ""
           },
           "baxis": {
            "gridcolor": "white",
            "linecolor": "white",
            "ticks": ""
           },
           "bgcolor": "#E5ECF6",
           "caxis": {
            "gridcolor": "white",
            "linecolor": "white",
            "ticks": ""
           }
          },
          "title": {
           "x": 0.05
          },
          "xaxis": {
           "automargin": true,
           "gridcolor": "white",
           "linecolor": "white",
           "ticks": "",
           "title": {
            "standoff": 15
           },
           "zerolinecolor": "white",
           "zerolinewidth": 2
          },
          "yaxis": {
           "automargin": true,
           "gridcolor": "white",
           "linecolor": "white",
           "ticks": "",
           "title": {
            "standoff": 15
           },
           "zerolinecolor": "white",
           "zerolinewidth": 2
          }
         }
        },
        "title": {
         "font": {
          "color": "#4D5663"
         }
        },
        "xaxis": {
         "gridcolor": "#E1E5ED",
         "showgrid": true,
         "tickfont": {
          "color": "#4D5663"
         },
         "title": {
          "font": {
           "color": "#4D5663"
          },
          "text": ""
         },
         "zerolinecolor": "#E1E5ED"
        },
        "yaxis": {
         "gridcolor": "#E1E5ED",
         "showgrid": true,
         "tickfont": {
          "color": "#4D5663"
         },
         "title": {
          "font": {
           "color": "#4D5663"
          },
          "text": ""
         },
         "zerolinecolor": "#E1E5ED"
        }
       }
      },
      "text/html": [
       "<div>                            <div id=\"5a3795dd-4098-464c-865d-9b472aea815a\" class=\"plotly-graph-div\" style=\"height:525px; width:100%;\"></div>            <script type=\"text/javascript\">                require([\"plotly\"], function(Plotly) {                    window.PLOTLYENV=window.PLOTLYENV || {};\n",
       "                    window.PLOTLYENV.BASE_URL='https://plot.ly';                                    if (document.getElementById(\"5a3795dd-4098-464c-865d-9b472aea815a\")) {                    Plotly.newPlot(                        \"5a3795dd-4098-464c-865d-9b472aea815a\",                        [{\"marker\":{\"color\":\"rgba(255, 153, 51, 0.6)\",\"line\":{\"color\":\"rgba(255, 153, 51, 1.0)\",\"width\":1}},\"name\":\"score\",\"orientation\":\"v\",\"text\":\"\",\"x\":[\"Mayo\",\"Marzo\",\"Abril\",\"Febrero\",\"Enero\",\"Cve. Municipio\",\"Clave_Ent\",\"Modalidad\",\"A\\u00f1o\",\"Subtipo de delito\"],\"y\":[5606655.178599212,5318035.974690274,5187945.166480531,4767119.715799483,4083131.4006926524,1563.0774952998022,1529.5684811491356,779.0858389814559,86.97444356114018,0.0001607676052074237],\"type\":\"bar\"}],                        {\"legend\":{\"bgcolor\":\"#F5F6F9\",\"font\":{\"color\":\"#4D5663\"}},\"paper_bgcolor\":\"#F5F6F9\",\"plot_bgcolor\":\"#F5F6F9\",\"template\":{\"data\":{\"barpolar\":[{\"marker\":{\"line\":{\"color\":\"#E5ECF6\",\"width\":0.5},\"pattern\":{\"fillmode\":\"overlay\",\"size\":10,\"solidity\":0.2}},\"type\":\"barpolar\"}],\"bar\":[{\"error_x\":{\"color\":\"#2a3f5f\"},\"error_y\":{\"color\":\"#2a3f5f\"},\"marker\":{\"line\":{\"color\":\"#E5ECF6\",\"width\":0.5},\"pattern\":{\"fillmode\":\"overlay\",\"size\":10,\"solidity\":0.2}},\"type\":\"bar\"}],\"carpet\":[{\"aaxis\":{\"endlinecolor\":\"#2a3f5f\",\"gridcolor\":\"white\",\"linecolor\":\"white\",\"minorgridcolor\":\"white\",\"startlinecolor\":\"#2a3f5f\"},\"baxis\":{\"endlinecolor\":\"#2a3f5f\",\"gridcolor\":\"white\",\"linecolor\":\"white\",\"minorgridcolor\":\"white\",\"startlinecolor\":\"#2a3f5f\"},\"type\":\"carpet\"}],\"choropleth\":[{\"colorbar\":{\"outlinewidth\":0,\"ticks\":\"\"},\"type\":\"choropleth\"}],\"contourcarpet\":[{\"colorbar\":{\"outlinewidth\":0,\"ticks\":\"\"},\"type\":\"contourcarpet\"}],\"contour\":[{\"colorbar\":{\"outlinewidth\":0,\"ticks\":\"\"},\"colorscale\":[[0.0,\"#0d0887\"],[0.1111111111111111,\"#46039f\"],[0.2222222222222222,\"#7201a8\"],[0.3333333333333333,\"#9c179e\"],[0.4444444444444444,\"#bd3786\"],[0.5555555555555556,\"#d8576b\"],[0.6666666666666666,\"#ed7953\"],[0.7777777777777778,\"#fb9f3a\"],[0.8888888888888888,\"#fdca26\"],[1.0,\"#f0f921\"]],\"type\":\"contour\"}],\"heatmapgl\":[{\"colorbar\":{\"outlinewidth\":0,\"ticks\":\"\"},\"colorscale\":[[0.0,\"#0d0887\"],[0.1111111111111111,\"#46039f\"],[0.2222222222222222,\"#7201a8\"],[0.3333333333333333,\"#9c179e\"],[0.4444444444444444,\"#bd3786\"],[0.5555555555555556,\"#d8576b\"],[0.6666666666666666,\"#ed7953\"],[0.7777777777777778,\"#fb9f3a\"],[0.8888888888888888,\"#fdca26\"],[1.0,\"#f0f921\"]],\"type\":\"heatmapgl\"}],\"heatmap\":[{\"colorbar\":{\"outlinewidth\":0,\"ticks\":\"\"},\"colorscale\":[[0.0,\"#0d0887\"],[0.1111111111111111,\"#46039f\"],[0.2222222222222222,\"#7201a8\"],[0.3333333333333333,\"#9c179e\"],[0.4444444444444444,\"#bd3786\"],[0.5555555555555556,\"#d8576b\"],[0.6666666666666666,\"#ed7953\"],[0.7777777777777778,\"#fb9f3a\"],[0.8888888888888888,\"#fdca26\"],[1.0,\"#f0f921\"]],\"type\":\"heatmap\"}],\"histogram2dcontour\":[{\"colorbar\":{\"outlinewidth\":0,\"ticks\":\"\"},\"colorscale\":[[0.0,\"#0d0887\"],[0.1111111111111111,\"#46039f\"],[0.2222222222222222,\"#7201a8\"],[0.3333333333333333,\"#9c179e\"],[0.4444444444444444,\"#bd3786\"],[0.5555555555555556,\"#d8576b\"],[0.6666666666666666,\"#ed7953\"],[0.7777777777777778,\"#fb9f3a\"],[0.8888888888888888,\"#fdca26\"],[1.0,\"#f0f921\"]],\"type\":\"histogram2dcontour\"}],\"histogram2d\":[{\"colorbar\":{\"outlinewidth\":0,\"ticks\":\"\"},\"colorscale\":[[0.0,\"#0d0887\"],[0.1111111111111111,\"#46039f\"],[0.2222222222222222,\"#7201a8\"],[0.3333333333333333,\"#9c179e\"],[0.4444444444444444,\"#bd3786\"],[0.5555555555555556,\"#d8576b\"],[0.6666666666666666,\"#ed7953\"],[0.7777777777777778,\"#fb9f3a\"],[0.8888888888888888,\"#fdca26\"],[1.0,\"#f0f921\"]],\"type\":\"histogram2d\"}],\"histogram\":[{\"marker\":{\"pattern\":{\"fillmode\":\"overlay\",\"size\":10,\"solidity\":0.2}},\"type\":\"histogram\"}],\"mesh3d\":[{\"colorbar\":{\"outlinewidth\":0,\"ticks\":\"\"},\"type\":\"mesh3d\"}],\"parcoords\":[{\"line\":{\"colorbar\":{\"outlinewidth\":0,\"ticks\":\"\"}},\"type\":\"parcoords\"}],\"pie\":[{\"automargin\":true,\"type\":\"pie\"}],\"scatter3d\":[{\"line\":{\"colorbar\":{\"outlinewidth\":0,\"ticks\":\"\"}},\"marker\":{\"colorbar\":{\"outlinewidth\":0,\"ticks\":\"\"}},\"type\":\"scatter3d\"}],\"scattercarpet\":[{\"marker\":{\"colorbar\":{\"outlinewidth\":0,\"ticks\":\"\"}},\"type\":\"scattercarpet\"}],\"scattergeo\":[{\"marker\":{\"colorbar\":{\"outlinewidth\":0,\"ticks\":\"\"}},\"type\":\"scattergeo\"}],\"scattergl\":[{\"marker\":{\"colorbar\":{\"outlinewidth\":0,\"ticks\":\"\"}},\"type\":\"scattergl\"}],\"scattermapbox\":[{\"marker\":{\"colorbar\":{\"outlinewidth\":0,\"ticks\":\"\"}},\"type\":\"scattermapbox\"}],\"scatterpolargl\":[{\"marker\":{\"colorbar\":{\"outlinewidth\":0,\"ticks\":\"\"}},\"type\":\"scatterpolargl\"}],\"scatterpolar\":[{\"marker\":{\"colorbar\":{\"outlinewidth\":0,\"ticks\":\"\"}},\"type\":\"scatterpolar\"}],\"scatter\":[{\"fillpattern\":{\"fillmode\":\"overlay\",\"size\":10,\"solidity\":0.2},\"type\":\"scatter\"}],\"scatterternary\":[{\"marker\":{\"colorbar\":{\"outlinewidth\":0,\"ticks\":\"\"}},\"type\":\"scatterternary\"}],\"surface\":[{\"colorbar\":{\"outlinewidth\":0,\"ticks\":\"\"},\"colorscale\":[[0.0,\"#0d0887\"],[0.1111111111111111,\"#46039f\"],[0.2222222222222222,\"#7201a8\"],[0.3333333333333333,\"#9c179e\"],[0.4444444444444444,\"#bd3786\"],[0.5555555555555556,\"#d8576b\"],[0.6666666666666666,\"#ed7953\"],[0.7777777777777778,\"#fb9f3a\"],[0.8888888888888888,\"#fdca26\"],[1.0,\"#f0f921\"]],\"type\":\"surface\"}],\"table\":[{\"cells\":{\"fill\":{\"color\":\"#EBF0F8\"},\"line\":{\"color\":\"white\"}},\"header\":{\"fill\":{\"color\":\"#C8D4E3\"},\"line\":{\"color\":\"white\"}},\"type\":\"table\"}]},\"layout\":{\"annotationdefaults\":{\"arrowcolor\":\"#2a3f5f\",\"arrowhead\":0,\"arrowwidth\":1},\"autotypenumbers\":\"strict\",\"coloraxis\":{\"colorbar\":{\"outlinewidth\":0,\"ticks\":\"\"}},\"colorscale\":{\"diverging\":[[0,\"#8e0152\"],[0.1,\"#c51b7d\"],[0.2,\"#de77ae\"],[0.3,\"#f1b6da\"],[0.4,\"#fde0ef\"],[0.5,\"#f7f7f7\"],[0.6,\"#e6f5d0\"],[0.7,\"#b8e186\"],[0.8,\"#7fbc41\"],[0.9,\"#4d9221\"],[1,\"#276419\"]],\"sequential\":[[0.0,\"#0d0887\"],[0.1111111111111111,\"#46039f\"],[0.2222222222222222,\"#7201a8\"],[0.3333333333333333,\"#9c179e\"],[0.4444444444444444,\"#bd3786\"],[0.5555555555555556,\"#d8576b\"],[0.6666666666666666,\"#ed7953\"],[0.7777777777777778,\"#fb9f3a\"],[0.8888888888888888,\"#fdca26\"],[1.0,\"#f0f921\"]],\"sequentialminus\":[[0.0,\"#0d0887\"],[0.1111111111111111,\"#46039f\"],[0.2222222222222222,\"#7201a8\"],[0.3333333333333333,\"#9c179e\"],[0.4444444444444444,\"#bd3786\"],[0.5555555555555556,\"#d8576b\"],[0.6666666666666666,\"#ed7953\"],[0.7777777777777778,\"#fb9f3a\"],[0.8888888888888888,\"#fdca26\"],[1.0,\"#f0f921\"]]},\"colorway\":[\"#636efa\",\"#EF553B\",\"#00cc96\",\"#ab63fa\",\"#FFA15A\",\"#19d3f3\",\"#FF6692\",\"#B6E880\",\"#FF97FF\",\"#FECB52\"],\"font\":{\"color\":\"#2a3f5f\"},\"geo\":{\"bgcolor\":\"white\",\"lakecolor\":\"white\",\"landcolor\":\"#E5ECF6\",\"showlakes\":true,\"showland\":true,\"subunitcolor\":\"white\"},\"hoverlabel\":{\"align\":\"left\"},\"hovermode\":\"closest\",\"mapbox\":{\"style\":\"light\"},\"paper_bgcolor\":\"white\",\"plot_bgcolor\":\"#E5ECF6\",\"polar\":{\"angularaxis\":{\"gridcolor\":\"white\",\"linecolor\":\"white\",\"ticks\":\"\"},\"bgcolor\":\"#E5ECF6\",\"radialaxis\":{\"gridcolor\":\"white\",\"linecolor\":\"white\",\"ticks\":\"\"}},\"scene\":{\"xaxis\":{\"backgroundcolor\":\"#E5ECF6\",\"gridcolor\":\"white\",\"gridwidth\":2,\"linecolor\":\"white\",\"showbackground\":true,\"ticks\":\"\",\"zerolinecolor\":\"white\"},\"yaxis\":{\"backgroundcolor\":\"#E5ECF6\",\"gridcolor\":\"white\",\"gridwidth\":2,\"linecolor\":\"white\",\"showbackground\":true,\"ticks\":\"\",\"zerolinecolor\":\"white\"},\"zaxis\":{\"backgroundcolor\":\"#E5ECF6\",\"gridcolor\":\"white\",\"gridwidth\":2,\"linecolor\":\"white\",\"showbackground\":true,\"ticks\":\"\",\"zerolinecolor\":\"white\"}},\"shapedefaults\":{\"line\":{\"color\":\"#2a3f5f\"}},\"ternary\":{\"aaxis\":{\"gridcolor\":\"white\",\"linecolor\":\"white\",\"ticks\":\"\"},\"baxis\":{\"gridcolor\":\"white\",\"linecolor\":\"white\",\"ticks\":\"\"},\"bgcolor\":\"#E5ECF6\",\"caxis\":{\"gridcolor\":\"white\",\"linecolor\":\"white\",\"ticks\":\"\"}},\"title\":{\"x\":0.05},\"xaxis\":{\"automargin\":true,\"gridcolor\":\"white\",\"linecolor\":\"white\",\"ticks\":\"\",\"title\":{\"standoff\":15},\"zerolinecolor\":\"white\",\"zerolinewidth\":2},\"yaxis\":{\"automargin\":true,\"gridcolor\":\"white\",\"linecolor\":\"white\",\"ticks\":\"\",\"title\":{\"standoff\":15},\"zerolinecolor\":\"white\",\"zerolinewidth\":2}}},\"title\":{\"font\":{\"color\":\"#4D5663\"}},\"xaxis\":{\"gridcolor\":\"#E1E5ED\",\"showgrid\":true,\"tickfont\":{\"color\":\"#4D5663\"},\"title\":{\"font\":{\"color\":\"#4D5663\"},\"text\":\"\"},\"zerolinecolor\":\"#E1E5ED\"},\"yaxis\":{\"gridcolor\":\"#E1E5ED\",\"showgrid\":true,\"tickfont\":{\"color\":\"#4D5663\"},\"title\":{\"font\":{\"color\":\"#4D5663\"},\"text\":\"\"},\"zerolinecolor\":\"#E1E5ED\"}},                        {\"showLink\": true, \"linkText\": \"Export to plot.ly\", \"plotlyServerURL\": \"https://plot.ly\", \"responsive\": true}                    ).then(function(){\n",
       "                            \n",
       "var gd = document.getElementById('5a3795dd-4098-464c-865d-9b472aea815a');\n",
       "var x = new MutationObserver(function (mutations, observer) {{\n",
       "        var display = window.getComputedStyle(gd).display;\n",
       "        if (!display || display === 'none') {{\n",
       "            console.log([gd, 'removed!']);\n",
       "            Plotly.purge(gd);\n",
       "            observer.disconnect();\n",
       "        }}\n",
       "}});\n",
       "\n",
       "// Listen for the removal of the full notebook cells\n",
       "var notebookContainer = gd.closest('#notebook-container');\n",
       "if (notebookContainer) {{\n",
       "    x.observe(notebookContainer, {childList: true});\n",
       "}}\n",
       "\n",
       "// Listen for the clearing of the current output cell\n",
       "var outputEl = gd.closest('.output');\n",
       "if (outputEl) {{\n",
       "    x.observe(outputEl, {childList: true});\n",
       "}}\n",
       "\n",
       "                        })                };                });            </script>        </div>"
      ]
     },
     "metadata": {},
     "output_type": "display_data"
    }
   ],
   "source": [
    "pd.DataFrame(zip(var_1,sk.scores_),columns=['var','score']).set_index('var').sort_values(by='score',\n",
    "                                  ascending=False).iplot(kind='bar',color='orange')"
   ]
  },
  {
   "cell_type": "code",
   "execution_count": 20,
   "id": "77b84215",
   "metadata": {
    "ExecuteTime": {
     "end_time": "2023-08-11T19:42:29.693490Z",
     "start_time": "2023-08-11T19:42:29.446882Z"
    }
   },
   "outputs": [
    {
     "data": {
      "text/html": [
       "<style>#sk-container-id-4 {color: black;background-color: white;}#sk-container-id-4 pre{padding: 0;}#sk-container-id-4 div.sk-toggleable {background-color: white;}#sk-container-id-4 label.sk-toggleable__label {cursor: pointer;display: block;width: 100%;margin-bottom: 0;padding: 0.3em;box-sizing: border-box;text-align: center;}#sk-container-id-4 label.sk-toggleable__label-arrow:before {content: \"▸\";float: left;margin-right: 0.25em;color: #696969;}#sk-container-id-4 label.sk-toggleable__label-arrow:hover:before {color: black;}#sk-container-id-4 div.sk-estimator:hover label.sk-toggleable__label-arrow:before {color: black;}#sk-container-id-4 div.sk-toggleable__content {max-height: 0;max-width: 0;overflow: hidden;text-align: left;background-color: #f0f8ff;}#sk-container-id-4 div.sk-toggleable__content pre {margin: 0.2em;color: black;border-radius: 0.25em;background-color: #f0f8ff;}#sk-container-id-4 input.sk-toggleable__control:checked~div.sk-toggleable__content {max-height: 200px;max-width: 100%;overflow: auto;}#sk-container-id-4 input.sk-toggleable__control:checked~label.sk-toggleable__label-arrow:before {content: \"▾\";}#sk-container-id-4 div.sk-estimator input.sk-toggleable__control:checked~label.sk-toggleable__label {background-color: #d4ebff;}#sk-container-id-4 div.sk-label input.sk-toggleable__control:checked~label.sk-toggleable__label {background-color: #d4ebff;}#sk-container-id-4 input.sk-hidden--visually {border: 0;clip: rect(1px 1px 1px 1px);clip: rect(1px, 1px, 1px, 1px);height: 1px;margin: -1px;overflow: hidden;padding: 0;position: absolute;width: 1px;}#sk-container-id-4 div.sk-estimator {font-family: monospace;background-color: #f0f8ff;border: 1px dotted black;border-radius: 0.25em;box-sizing: border-box;margin-bottom: 0.5em;}#sk-container-id-4 div.sk-estimator:hover {background-color: #d4ebff;}#sk-container-id-4 div.sk-parallel-item::after {content: \"\";width: 100%;border-bottom: 1px solid gray;flex-grow: 1;}#sk-container-id-4 div.sk-label:hover label.sk-toggleable__label {background-color: #d4ebff;}#sk-container-id-4 div.sk-serial::before {content: \"\";position: absolute;border-left: 1px solid gray;box-sizing: border-box;top: 0;bottom: 0;left: 50%;z-index: 0;}#sk-container-id-4 div.sk-serial {display: flex;flex-direction: column;align-items: center;background-color: white;padding-right: 0.2em;padding-left: 0.2em;position: relative;}#sk-container-id-4 div.sk-item {position: relative;z-index: 1;}#sk-container-id-4 div.sk-parallel {display: flex;align-items: stretch;justify-content: center;background-color: white;position: relative;}#sk-container-id-4 div.sk-item::before, #sk-container-id-4 div.sk-parallel-item::before {content: \"\";position: absolute;border-left: 1px solid gray;box-sizing: border-box;top: 0;bottom: 0;left: 50%;z-index: -1;}#sk-container-id-4 div.sk-parallel-item {display: flex;flex-direction: column;z-index: 1;position: relative;background-color: white;}#sk-container-id-4 div.sk-parallel-item:first-child::after {align-self: flex-end;width: 50%;}#sk-container-id-4 div.sk-parallel-item:last-child::after {align-self: flex-start;width: 50%;}#sk-container-id-4 div.sk-parallel-item:only-child::after {width: 0;}#sk-container-id-4 div.sk-dashed-wrapped {border: 1px dashed gray;margin: 0 0.4em 0.5em 0.4em;box-sizing: border-box;padding-bottom: 0.4em;background-color: white;}#sk-container-id-4 div.sk-label label {font-family: monospace;font-weight: bold;display: inline-block;line-height: 1.2em;}#sk-container-id-4 div.sk-label-container {text-align: center;}#sk-container-id-4 div.sk-container {/* jupyter's `normalize.less` sets `[hidden] { display: none; }` but bootstrap.min.css set `[hidden] { display: none !important; }` so we also need the `!important` here to be able to override the default hidden behavior on the sphinx rendered scikit-learn.org. See: https://github.com/scikit-learn/scikit-learn/issues/21755 */display: inline-block !important;position: relative;}#sk-container-id-4 div.sk-text-repr-fallback {display: none;}</style><div id=\"sk-container-id-4\" class=\"sk-top-container\"><div class=\"sk-text-repr-fallback\"><pre>SelectKBest(k=5, score_func=&lt;function f_regression at 0x7f61c124ed40&gt;)</pre><b>In a Jupyter environment, please rerun this cell to show the HTML representation or trust the notebook. <br />On GitHub, the HTML representation is unable to render, please try loading this page with nbviewer.org.</b></div><div class=\"sk-container\" hidden><div class=\"sk-item\"><div class=\"sk-estimator sk-toggleable\"><input class=\"sk-toggleable__control sk-hidden--visually\" id=\"sk-estimator-id-4\" type=\"checkbox\" checked><label for=\"sk-estimator-id-4\" class=\"sk-toggleable__label sk-toggleable__label-arrow\">SelectKBest</label><div class=\"sk-toggleable__content\"><pre>SelectKBest(k=5, score_func=&lt;function f_regression at 0x7f61c124ed40&gt;)</pre></div></div></div></div></div>"
      ],
      "text/plain": [
       "SelectKBest(k=5, score_func=<function f_regression at 0x7f61c124ed40>)"
      ]
     },
     "execution_count": 20,
     "metadata": {},
     "output_type": "execute_result"
    }
   ],
   "source": [
    "sk = SelectKBest(k=5,score_func = f_regression)\n",
    "sk.fit(Xi[var_1],Xi[vart_1[0]])"
   ]
  },
  {
   "cell_type": "code",
   "execution_count": 21,
   "id": "b9c184e8",
   "metadata": {
    "ExecuteTime": {
     "end_time": "2023-08-11T19:42:29.732984Z",
     "start_time": "2023-08-11T19:42:29.702453Z"
    }
   },
   "outputs": [
    {
     "data": {
      "text/plain": [
       "['Enero', 'Febrero', 'Marzo', 'Abril', 'Mayo']"
      ]
     },
     "execution_count": 21,
     "metadata": {},
     "output_type": "execute_result"
    }
   ],
   "source": [
    "best_1 = [a for a,b in zip(var_1,sk.get_support()) if b]\n",
    "best_1"
   ]
  },
  {
   "cell_type": "markdown",
   "id": "92f31ec1",
   "metadata": {},
   "source": [
    "### Para vart_2 (Julio)"
   ]
  },
  {
   "cell_type": "code",
   "execution_count": 22,
   "id": "74574857",
   "metadata": {
    "ExecuteTime": {
     "end_time": "2023-08-11T19:42:30.108895Z",
     "start_time": "2023-08-11T19:42:29.743943Z"
    }
   },
   "outputs": [
    {
     "data": {
      "text/html": [
       "<style>#sk-container-id-5 {color: black;background-color: white;}#sk-container-id-5 pre{padding: 0;}#sk-container-id-5 div.sk-toggleable {background-color: white;}#sk-container-id-5 label.sk-toggleable__label {cursor: pointer;display: block;width: 100%;margin-bottom: 0;padding: 0.3em;box-sizing: border-box;text-align: center;}#sk-container-id-5 label.sk-toggleable__label-arrow:before {content: \"▸\";float: left;margin-right: 0.25em;color: #696969;}#sk-container-id-5 label.sk-toggleable__label-arrow:hover:before {color: black;}#sk-container-id-5 div.sk-estimator:hover label.sk-toggleable__label-arrow:before {color: black;}#sk-container-id-5 div.sk-toggleable__content {max-height: 0;max-width: 0;overflow: hidden;text-align: left;background-color: #f0f8ff;}#sk-container-id-5 div.sk-toggleable__content pre {margin: 0.2em;color: black;border-radius: 0.25em;background-color: #f0f8ff;}#sk-container-id-5 input.sk-toggleable__control:checked~div.sk-toggleable__content {max-height: 200px;max-width: 100%;overflow: auto;}#sk-container-id-5 input.sk-toggleable__control:checked~label.sk-toggleable__label-arrow:before {content: \"▾\";}#sk-container-id-5 div.sk-estimator input.sk-toggleable__control:checked~label.sk-toggleable__label {background-color: #d4ebff;}#sk-container-id-5 div.sk-label input.sk-toggleable__control:checked~label.sk-toggleable__label {background-color: #d4ebff;}#sk-container-id-5 input.sk-hidden--visually {border: 0;clip: rect(1px 1px 1px 1px);clip: rect(1px, 1px, 1px, 1px);height: 1px;margin: -1px;overflow: hidden;padding: 0;position: absolute;width: 1px;}#sk-container-id-5 div.sk-estimator {font-family: monospace;background-color: #f0f8ff;border: 1px dotted black;border-radius: 0.25em;box-sizing: border-box;margin-bottom: 0.5em;}#sk-container-id-5 div.sk-estimator:hover {background-color: #d4ebff;}#sk-container-id-5 div.sk-parallel-item::after {content: \"\";width: 100%;border-bottom: 1px solid gray;flex-grow: 1;}#sk-container-id-5 div.sk-label:hover label.sk-toggleable__label {background-color: #d4ebff;}#sk-container-id-5 div.sk-serial::before {content: \"\";position: absolute;border-left: 1px solid gray;box-sizing: border-box;top: 0;bottom: 0;left: 50%;z-index: 0;}#sk-container-id-5 div.sk-serial {display: flex;flex-direction: column;align-items: center;background-color: white;padding-right: 0.2em;padding-left: 0.2em;position: relative;}#sk-container-id-5 div.sk-item {position: relative;z-index: 1;}#sk-container-id-5 div.sk-parallel {display: flex;align-items: stretch;justify-content: center;background-color: white;position: relative;}#sk-container-id-5 div.sk-item::before, #sk-container-id-5 div.sk-parallel-item::before {content: \"\";position: absolute;border-left: 1px solid gray;box-sizing: border-box;top: 0;bottom: 0;left: 50%;z-index: -1;}#sk-container-id-5 div.sk-parallel-item {display: flex;flex-direction: column;z-index: 1;position: relative;background-color: white;}#sk-container-id-5 div.sk-parallel-item:first-child::after {align-self: flex-end;width: 50%;}#sk-container-id-5 div.sk-parallel-item:last-child::after {align-self: flex-start;width: 50%;}#sk-container-id-5 div.sk-parallel-item:only-child::after {width: 0;}#sk-container-id-5 div.sk-dashed-wrapped {border: 1px dashed gray;margin: 0 0.4em 0.5em 0.4em;box-sizing: border-box;padding-bottom: 0.4em;background-color: white;}#sk-container-id-5 div.sk-label label {font-family: monospace;font-weight: bold;display: inline-block;line-height: 1.2em;}#sk-container-id-5 div.sk-label-container {text-align: center;}#sk-container-id-5 div.sk-container {/* jupyter's `normalize.less` sets `[hidden] { display: none; }` but bootstrap.min.css set `[hidden] { display: none !important; }` so we also need the `!important` here to be able to override the default hidden behavior on the sphinx rendered scikit-learn.org. See: https://github.com/scikit-learn/scikit-learn/issues/21755 */display: inline-block !important;position: relative;}#sk-container-id-5 div.sk-text-repr-fallback {display: none;}</style><div id=\"sk-container-id-5\" class=\"sk-top-container\"><div class=\"sk-text-repr-fallback\"><pre>SelectKBest(k=11, score_func=&lt;function f_regression at 0x7f61c124ed40&gt;)</pre><b>In a Jupyter environment, please rerun this cell to show the HTML representation or trust the notebook. <br />On GitHub, the HTML representation is unable to render, please try loading this page with nbviewer.org.</b></div><div class=\"sk-container\" hidden><div class=\"sk-item\"><div class=\"sk-estimator sk-toggleable\"><input class=\"sk-toggleable__control sk-hidden--visually\" id=\"sk-estimator-id-5\" type=\"checkbox\" checked><label for=\"sk-estimator-id-5\" class=\"sk-toggleable__label sk-toggleable__label-arrow\">SelectKBest</label><div class=\"sk-toggleable__content\"><pre>SelectKBest(k=11, score_func=&lt;function f_regression at 0x7f61c124ed40&gt;)</pre></div></div></div></div></div>"
      ],
      "text/plain": [
       "SelectKBest(k=11, score_func=<function f_regression at 0x7f61c124ed40>)"
      ]
     },
     "execution_count": 22,
     "metadata": {},
     "output_type": "execute_result"
    }
   ],
   "source": [
    "sk = SelectKBest(k=len(var_2),score_func = f_regression)\n",
    "sk.fit(Xi[var_2],Xi[vart_2[0]])"
   ]
  },
  {
   "cell_type": "code",
   "execution_count": 23,
   "id": "8a878d21",
   "metadata": {
    "ExecuteTime": {
     "end_time": "2023-08-11T19:42:30.574241Z",
     "start_time": "2023-08-11T19:42:30.118081Z"
    }
   },
   "outputs": [
    {
     "data": {
      "application/vnd.plotly.v1+json": {
       "config": {
        "linkText": "Export to plot.ly",
        "plotlyServerURL": "https://plot.ly",
        "showLink": true
       },
       "data": [
        {
         "marker": {
          "color": "rgba(255, 153, 51, 0.6)",
          "line": {
           "color": "rgba(255, 153, 51, 1.0)",
           "width": 1
          }
         },
         "name": "score",
         "orientation": "v",
         "text": "",
         "type": "bar",
         "x": [
          "Junio",
          "Marzo",
          "Mayo",
          "Febrero",
          "Abril",
          "Enero",
          "Cve. Municipio",
          "Clave_Ent",
          "Modalidad",
          "Año",
          "Subtipo de delito"
         ],
         "y": [
          8842638.93234958,
          3310832.7875134093,
          3280525.759110165,
          3266622.333396244,
          3144963.2000504537,
          3129252.0067857355,
          1641.7320433807386,
          1606.5032982155317,
          796.1847322728426,
          84.87976720995243,
          0.9718366352713288
         ]
        }
       ],
       "layout": {
        "legend": {
         "bgcolor": "#F5F6F9",
         "font": {
          "color": "#4D5663"
         }
        },
        "paper_bgcolor": "#F5F6F9",
        "plot_bgcolor": "#F5F6F9",
        "template": {
         "data": {
          "bar": [
           {
            "error_x": {
             "color": "#2a3f5f"
            },
            "error_y": {
             "color": "#2a3f5f"
            },
            "marker": {
             "line": {
              "color": "#E5ECF6",
              "width": 0.5
             },
             "pattern": {
              "fillmode": "overlay",
              "size": 10,
              "solidity": 0.2
             }
            },
            "type": "bar"
           }
          ],
          "barpolar": [
           {
            "marker": {
             "line": {
              "color": "#E5ECF6",
              "width": 0.5
             },
             "pattern": {
              "fillmode": "overlay",
              "size": 10,
              "solidity": 0.2
             }
            },
            "type": "barpolar"
           }
          ],
          "carpet": [
           {
            "aaxis": {
             "endlinecolor": "#2a3f5f",
             "gridcolor": "white",
             "linecolor": "white",
             "minorgridcolor": "white",
             "startlinecolor": "#2a3f5f"
            },
            "baxis": {
             "endlinecolor": "#2a3f5f",
             "gridcolor": "white",
             "linecolor": "white",
             "minorgridcolor": "white",
             "startlinecolor": "#2a3f5f"
            },
            "type": "carpet"
           }
          ],
          "choropleth": [
           {
            "colorbar": {
             "outlinewidth": 0,
             "ticks": ""
            },
            "type": "choropleth"
           }
          ],
          "contour": [
           {
            "colorbar": {
             "outlinewidth": 0,
             "ticks": ""
            },
            "colorscale": [
             [
              0,
              "#0d0887"
             ],
             [
              0.1111111111111111,
              "#46039f"
             ],
             [
              0.2222222222222222,
              "#7201a8"
             ],
             [
              0.3333333333333333,
              "#9c179e"
             ],
             [
              0.4444444444444444,
              "#bd3786"
             ],
             [
              0.5555555555555556,
              "#d8576b"
             ],
             [
              0.6666666666666666,
              "#ed7953"
             ],
             [
              0.7777777777777778,
              "#fb9f3a"
             ],
             [
              0.8888888888888888,
              "#fdca26"
             ],
             [
              1,
              "#f0f921"
             ]
            ],
            "type": "contour"
           }
          ],
          "contourcarpet": [
           {
            "colorbar": {
             "outlinewidth": 0,
             "ticks": ""
            },
            "type": "contourcarpet"
           }
          ],
          "heatmap": [
           {
            "colorbar": {
             "outlinewidth": 0,
             "ticks": ""
            },
            "colorscale": [
             [
              0,
              "#0d0887"
             ],
             [
              0.1111111111111111,
              "#46039f"
             ],
             [
              0.2222222222222222,
              "#7201a8"
             ],
             [
              0.3333333333333333,
              "#9c179e"
             ],
             [
              0.4444444444444444,
              "#bd3786"
             ],
             [
              0.5555555555555556,
              "#d8576b"
             ],
             [
              0.6666666666666666,
              "#ed7953"
             ],
             [
              0.7777777777777778,
              "#fb9f3a"
             ],
             [
              0.8888888888888888,
              "#fdca26"
             ],
             [
              1,
              "#f0f921"
             ]
            ],
            "type": "heatmap"
           }
          ],
          "heatmapgl": [
           {
            "colorbar": {
             "outlinewidth": 0,
             "ticks": ""
            },
            "colorscale": [
             [
              0,
              "#0d0887"
             ],
             [
              0.1111111111111111,
              "#46039f"
             ],
             [
              0.2222222222222222,
              "#7201a8"
             ],
             [
              0.3333333333333333,
              "#9c179e"
             ],
             [
              0.4444444444444444,
              "#bd3786"
             ],
             [
              0.5555555555555556,
              "#d8576b"
             ],
             [
              0.6666666666666666,
              "#ed7953"
             ],
             [
              0.7777777777777778,
              "#fb9f3a"
             ],
             [
              0.8888888888888888,
              "#fdca26"
             ],
             [
              1,
              "#f0f921"
             ]
            ],
            "type": "heatmapgl"
           }
          ],
          "histogram": [
           {
            "marker": {
             "pattern": {
              "fillmode": "overlay",
              "size": 10,
              "solidity": 0.2
             }
            },
            "type": "histogram"
           }
          ],
          "histogram2d": [
           {
            "colorbar": {
             "outlinewidth": 0,
             "ticks": ""
            },
            "colorscale": [
             [
              0,
              "#0d0887"
             ],
             [
              0.1111111111111111,
              "#46039f"
             ],
             [
              0.2222222222222222,
              "#7201a8"
             ],
             [
              0.3333333333333333,
              "#9c179e"
             ],
             [
              0.4444444444444444,
              "#bd3786"
             ],
             [
              0.5555555555555556,
              "#d8576b"
             ],
             [
              0.6666666666666666,
              "#ed7953"
             ],
             [
              0.7777777777777778,
              "#fb9f3a"
             ],
             [
              0.8888888888888888,
              "#fdca26"
             ],
             [
              1,
              "#f0f921"
             ]
            ],
            "type": "histogram2d"
           }
          ],
          "histogram2dcontour": [
           {
            "colorbar": {
             "outlinewidth": 0,
             "ticks": ""
            },
            "colorscale": [
             [
              0,
              "#0d0887"
             ],
             [
              0.1111111111111111,
              "#46039f"
             ],
             [
              0.2222222222222222,
              "#7201a8"
             ],
             [
              0.3333333333333333,
              "#9c179e"
             ],
             [
              0.4444444444444444,
              "#bd3786"
             ],
             [
              0.5555555555555556,
              "#d8576b"
             ],
             [
              0.6666666666666666,
              "#ed7953"
             ],
             [
              0.7777777777777778,
              "#fb9f3a"
             ],
             [
              0.8888888888888888,
              "#fdca26"
             ],
             [
              1,
              "#f0f921"
             ]
            ],
            "type": "histogram2dcontour"
           }
          ],
          "mesh3d": [
           {
            "colorbar": {
             "outlinewidth": 0,
             "ticks": ""
            },
            "type": "mesh3d"
           }
          ],
          "parcoords": [
           {
            "line": {
             "colorbar": {
              "outlinewidth": 0,
              "ticks": ""
             }
            },
            "type": "parcoords"
           }
          ],
          "pie": [
           {
            "automargin": true,
            "type": "pie"
           }
          ],
          "scatter": [
           {
            "fillpattern": {
             "fillmode": "overlay",
             "size": 10,
             "solidity": 0.2
            },
            "type": "scatter"
           }
          ],
          "scatter3d": [
           {
            "line": {
             "colorbar": {
              "outlinewidth": 0,
              "ticks": ""
             }
            },
            "marker": {
             "colorbar": {
              "outlinewidth": 0,
              "ticks": ""
             }
            },
            "type": "scatter3d"
           }
          ],
          "scattercarpet": [
           {
            "marker": {
             "colorbar": {
              "outlinewidth": 0,
              "ticks": ""
             }
            },
            "type": "scattercarpet"
           }
          ],
          "scattergeo": [
           {
            "marker": {
             "colorbar": {
              "outlinewidth": 0,
              "ticks": ""
             }
            },
            "type": "scattergeo"
           }
          ],
          "scattergl": [
           {
            "marker": {
             "colorbar": {
              "outlinewidth": 0,
              "ticks": ""
             }
            },
            "type": "scattergl"
           }
          ],
          "scattermapbox": [
           {
            "marker": {
             "colorbar": {
              "outlinewidth": 0,
              "ticks": ""
             }
            },
            "type": "scattermapbox"
           }
          ],
          "scatterpolar": [
           {
            "marker": {
             "colorbar": {
              "outlinewidth": 0,
              "ticks": ""
             }
            },
            "type": "scatterpolar"
           }
          ],
          "scatterpolargl": [
           {
            "marker": {
             "colorbar": {
              "outlinewidth": 0,
              "ticks": ""
             }
            },
            "type": "scatterpolargl"
           }
          ],
          "scatterternary": [
           {
            "marker": {
             "colorbar": {
              "outlinewidth": 0,
              "ticks": ""
             }
            },
            "type": "scatterternary"
           }
          ],
          "surface": [
           {
            "colorbar": {
             "outlinewidth": 0,
             "ticks": ""
            },
            "colorscale": [
             [
              0,
              "#0d0887"
             ],
             [
              0.1111111111111111,
              "#46039f"
             ],
             [
              0.2222222222222222,
              "#7201a8"
             ],
             [
              0.3333333333333333,
              "#9c179e"
             ],
             [
              0.4444444444444444,
              "#bd3786"
             ],
             [
              0.5555555555555556,
              "#d8576b"
             ],
             [
              0.6666666666666666,
              "#ed7953"
             ],
             [
              0.7777777777777778,
              "#fb9f3a"
             ],
             [
              0.8888888888888888,
              "#fdca26"
             ],
             [
              1,
              "#f0f921"
             ]
            ],
            "type": "surface"
           }
          ],
          "table": [
           {
            "cells": {
             "fill": {
              "color": "#EBF0F8"
             },
             "line": {
              "color": "white"
             }
            },
            "header": {
             "fill": {
              "color": "#C8D4E3"
             },
             "line": {
              "color": "white"
             }
            },
            "type": "table"
           }
          ]
         },
         "layout": {
          "annotationdefaults": {
           "arrowcolor": "#2a3f5f",
           "arrowhead": 0,
           "arrowwidth": 1
          },
          "autotypenumbers": "strict",
          "coloraxis": {
           "colorbar": {
            "outlinewidth": 0,
            "ticks": ""
           }
          },
          "colorscale": {
           "diverging": [
            [
             0,
             "#8e0152"
            ],
            [
             0.1,
             "#c51b7d"
            ],
            [
             0.2,
             "#de77ae"
            ],
            [
             0.3,
             "#f1b6da"
            ],
            [
             0.4,
             "#fde0ef"
            ],
            [
             0.5,
             "#f7f7f7"
            ],
            [
             0.6,
             "#e6f5d0"
            ],
            [
             0.7,
             "#b8e186"
            ],
            [
             0.8,
             "#7fbc41"
            ],
            [
             0.9,
             "#4d9221"
            ],
            [
             1,
             "#276419"
            ]
           ],
           "sequential": [
            [
             0,
             "#0d0887"
            ],
            [
             0.1111111111111111,
             "#46039f"
            ],
            [
             0.2222222222222222,
             "#7201a8"
            ],
            [
             0.3333333333333333,
             "#9c179e"
            ],
            [
             0.4444444444444444,
             "#bd3786"
            ],
            [
             0.5555555555555556,
             "#d8576b"
            ],
            [
             0.6666666666666666,
             "#ed7953"
            ],
            [
             0.7777777777777778,
             "#fb9f3a"
            ],
            [
             0.8888888888888888,
             "#fdca26"
            ],
            [
             1,
             "#f0f921"
            ]
           ],
           "sequentialminus": [
            [
             0,
             "#0d0887"
            ],
            [
             0.1111111111111111,
             "#46039f"
            ],
            [
             0.2222222222222222,
             "#7201a8"
            ],
            [
             0.3333333333333333,
             "#9c179e"
            ],
            [
             0.4444444444444444,
             "#bd3786"
            ],
            [
             0.5555555555555556,
             "#d8576b"
            ],
            [
             0.6666666666666666,
             "#ed7953"
            ],
            [
             0.7777777777777778,
             "#fb9f3a"
            ],
            [
             0.8888888888888888,
             "#fdca26"
            ],
            [
             1,
             "#f0f921"
            ]
           ]
          },
          "colorway": [
           "#636efa",
           "#EF553B",
           "#00cc96",
           "#ab63fa",
           "#FFA15A",
           "#19d3f3",
           "#FF6692",
           "#B6E880",
           "#FF97FF",
           "#FECB52"
          ],
          "font": {
           "color": "#2a3f5f"
          },
          "geo": {
           "bgcolor": "white",
           "lakecolor": "white",
           "landcolor": "#E5ECF6",
           "showlakes": true,
           "showland": true,
           "subunitcolor": "white"
          },
          "hoverlabel": {
           "align": "left"
          },
          "hovermode": "closest",
          "mapbox": {
           "style": "light"
          },
          "paper_bgcolor": "white",
          "plot_bgcolor": "#E5ECF6",
          "polar": {
           "angularaxis": {
            "gridcolor": "white",
            "linecolor": "white",
            "ticks": ""
           },
           "bgcolor": "#E5ECF6",
           "radialaxis": {
            "gridcolor": "white",
            "linecolor": "white",
            "ticks": ""
           }
          },
          "scene": {
           "xaxis": {
            "backgroundcolor": "#E5ECF6",
            "gridcolor": "white",
            "gridwidth": 2,
            "linecolor": "white",
            "showbackground": true,
            "ticks": "",
            "zerolinecolor": "white"
           },
           "yaxis": {
            "backgroundcolor": "#E5ECF6",
            "gridcolor": "white",
            "gridwidth": 2,
            "linecolor": "white",
            "showbackground": true,
            "ticks": "",
            "zerolinecolor": "white"
           },
           "zaxis": {
            "backgroundcolor": "#E5ECF6",
            "gridcolor": "white",
            "gridwidth": 2,
            "linecolor": "white",
            "showbackground": true,
            "ticks": "",
            "zerolinecolor": "white"
           }
          },
          "shapedefaults": {
           "line": {
            "color": "#2a3f5f"
           }
          },
          "ternary": {
           "aaxis": {
            "gridcolor": "white",
            "linecolor": "white",
            "ticks": ""
           },
           "baxis": {
            "gridcolor": "white",
            "linecolor": "white",
            "ticks": ""
           },
           "bgcolor": "#E5ECF6",
           "caxis": {
            "gridcolor": "white",
            "linecolor": "white",
            "ticks": ""
           }
          },
          "title": {
           "x": 0.05
          },
          "xaxis": {
           "automargin": true,
           "gridcolor": "white",
           "linecolor": "white",
           "ticks": "",
           "title": {
            "standoff": 15
           },
           "zerolinecolor": "white",
           "zerolinewidth": 2
          },
          "yaxis": {
           "automargin": true,
           "gridcolor": "white",
           "linecolor": "white",
           "ticks": "",
           "title": {
            "standoff": 15
           },
           "zerolinecolor": "white",
           "zerolinewidth": 2
          }
         }
        },
        "title": {
         "font": {
          "color": "#4D5663"
         }
        },
        "xaxis": {
         "gridcolor": "#E1E5ED",
         "showgrid": true,
         "tickfont": {
          "color": "#4D5663"
         },
         "title": {
          "font": {
           "color": "#4D5663"
          },
          "text": ""
         },
         "zerolinecolor": "#E1E5ED"
        },
        "yaxis": {
         "gridcolor": "#E1E5ED",
         "showgrid": true,
         "tickfont": {
          "color": "#4D5663"
         },
         "title": {
          "font": {
           "color": "#4D5663"
          },
          "text": ""
         },
         "zerolinecolor": "#E1E5ED"
        }
       }
      },
      "text/html": [
       "<div>                            <div id=\"ecb151ff-d628-4863-b4b5-0bab40fc1d0f\" class=\"plotly-graph-div\" style=\"height:525px; width:100%;\"></div>            <script type=\"text/javascript\">                require([\"plotly\"], function(Plotly) {                    window.PLOTLYENV=window.PLOTLYENV || {};\n",
       "                    window.PLOTLYENV.BASE_URL='https://plot.ly';                                    if (document.getElementById(\"ecb151ff-d628-4863-b4b5-0bab40fc1d0f\")) {                    Plotly.newPlot(                        \"ecb151ff-d628-4863-b4b5-0bab40fc1d0f\",                        [{\"marker\":{\"color\":\"rgba(255, 153, 51, 0.6)\",\"line\":{\"color\":\"rgba(255, 153, 51, 1.0)\",\"width\":1}},\"name\":\"score\",\"orientation\":\"v\",\"text\":\"\",\"x\":[\"Junio\",\"Marzo\",\"Mayo\",\"Febrero\",\"Abril\",\"Enero\",\"Cve. Municipio\",\"Clave_Ent\",\"Modalidad\",\"A\\u00f1o\",\"Subtipo de delito\"],\"y\":[8842638.93234958,3310832.7875134093,3280525.759110165,3266622.333396244,3144963.2000504537,3129252.0067857355,1641.7320433807386,1606.5032982155317,796.1847322728426,84.87976720995243,0.9718366352713288],\"type\":\"bar\"}],                        {\"legend\":{\"bgcolor\":\"#F5F6F9\",\"font\":{\"color\":\"#4D5663\"}},\"paper_bgcolor\":\"#F5F6F9\",\"plot_bgcolor\":\"#F5F6F9\",\"template\":{\"data\":{\"barpolar\":[{\"marker\":{\"line\":{\"color\":\"#E5ECF6\",\"width\":0.5},\"pattern\":{\"fillmode\":\"overlay\",\"size\":10,\"solidity\":0.2}},\"type\":\"barpolar\"}],\"bar\":[{\"error_x\":{\"color\":\"#2a3f5f\"},\"error_y\":{\"color\":\"#2a3f5f\"},\"marker\":{\"line\":{\"color\":\"#E5ECF6\",\"width\":0.5},\"pattern\":{\"fillmode\":\"overlay\",\"size\":10,\"solidity\":0.2}},\"type\":\"bar\"}],\"carpet\":[{\"aaxis\":{\"endlinecolor\":\"#2a3f5f\",\"gridcolor\":\"white\",\"linecolor\":\"white\",\"minorgridcolor\":\"white\",\"startlinecolor\":\"#2a3f5f\"},\"baxis\":{\"endlinecolor\":\"#2a3f5f\",\"gridcolor\":\"white\",\"linecolor\":\"white\",\"minorgridcolor\":\"white\",\"startlinecolor\":\"#2a3f5f\"},\"type\":\"carpet\"}],\"choropleth\":[{\"colorbar\":{\"outlinewidth\":0,\"ticks\":\"\"},\"type\":\"choropleth\"}],\"contourcarpet\":[{\"colorbar\":{\"outlinewidth\":0,\"ticks\":\"\"},\"type\":\"contourcarpet\"}],\"contour\":[{\"colorbar\":{\"outlinewidth\":0,\"ticks\":\"\"},\"colorscale\":[[0.0,\"#0d0887\"],[0.1111111111111111,\"#46039f\"],[0.2222222222222222,\"#7201a8\"],[0.3333333333333333,\"#9c179e\"],[0.4444444444444444,\"#bd3786\"],[0.5555555555555556,\"#d8576b\"],[0.6666666666666666,\"#ed7953\"],[0.7777777777777778,\"#fb9f3a\"],[0.8888888888888888,\"#fdca26\"],[1.0,\"#f0f921\"]],\"type\":\"contour\"}],\"heatmapgl\":[{\"colorbar\":{\"outlinewidth\":0,\"ticks\":\"\"},\"colorscale\":[[0.0,\"#0d0887\"],[0.1111111111111111,\"#46039f\"],[0.2222222222222222,\"#7201a8\"],[0.3333333333333333,\"#9c179e\"],[0.4444444444444444,\"#bd3786\"],[0.5555555555555556,\"#d8576b\"],[0.6666666666666666,\"#ed7953\"],[0.7777777777777778,\"#fb9f3a\"],[0.8888888888888888,\"#fdca26\"],[1.0,\"#f0f921\"]],\"type\":\"heatmapgl\"}],\"heatmap\":[{\"colorbar\":{\"outlinewidth\":0,\"ticks\":\"\"},\"colorscale\":[[0.0,\"#0d0887\"],[0.1111111111111111,\"#46039f\"],[0.2222222222222222,\"#7201a8\"],[0.3333333333333333,\"#9c179e\"],[0.4444444444444444,\"#bd3786\"],[0.5555555555555556,\"#d8576b\"],[0.6666666666666666,\"#ed7953\"],[0.7777777777777778,\"#fb9f3a\"],[0.8888888888888888,\"#fdca26\"],[1.0,\"#f0f921\"]],\"type\":\"heatmap\"}],\"histogram2dcontour\":[{\"colorbar\":{\"outlinewidth\":0,\"ticks\":\"\"},\"colorscale\":[[0.0,\"#0d0887\"],[0.1111111111111111,\"#46039f\"],[0.2222222222222222,\"#7201a8\"],[0.3333333333333333,\"#9c179e\"],[0.4444444444444444,\"#bd3786\"],[0.5555555555555556,\"#d8576b\"],[0.6666666666666666,\"#ed7953\"],[0.7777777777777778,\"#fb9f3a\"],[0.8888888888888888,\"#fdca26\"],[1.0,\"#f0f921\"]],\"type\":\"histogram2dcontour\"}],\"histogram2d\":[{\"colorbar\":{\"outlinewidth\":0,\"ticks\":\"\"},\"colorscale\":[[0.0,\"#0d0887\"],[0.1111111111111111,\"#46039f\"],[0.2222222222222222,\"#7201a8\"],[0.3333333333333333,\"#9c179e\"],[0.4444444444444444,\"#bd3786\"],[0.5555555555555556,\"#d8576b\"],[0.6666666666666666,\"#ed7953\"],[0.7777777777777778,\"#fb9f3a\"],[0.8888888888888888,\"#fdca26\"],[1.0,\"#f0f921\"]],\"type\":\"histogram2d\"}],\"histogram\":[{\"marker\":{\"pattern\":{\"fillmode\":\"overlay\",\"size\":10,\"solidity\":0.2}},\"type\":\"histogram\"}],\"mesh3d\":[{\"colorbar\":{\"outlinewidth\":0,\"ticks\":\"\"},\"type\":\"mesh3d\"}],\"parcoords\":[{\"line\":{\"colorbar\":{\"outlinewidth\":0,\"ticks\":\"\"}},\"type\":\"parcoords\"}],\"pie\":[{\"automargin\":true,\"type\":\"pie\"}],\"scatter3d\":[{\"line\":{\"colorbar\":{\"outlinewidth\":0,\"ticks\":\"\"}},\"marker\":{\"colorbar\":{\"outlinewidth\":0,\"ticks\":\"\"}},\"type\":\"scatter3d\"}],\"scattercarpet\":[{\"marker\":{\"colorbar\":{\"outlinewidth\":0,\"ticks\":\"\"}},\"type\":\"scattercarpet\"}],\"scattergeo\":[{\"marker\":{\"colorbar\":{\"outlinewidth\":0,\"ticks\":\"\"}},\"type\":\"scattergeo\"}],\"scattergl\":[{\"marker\":{\"colorbar\":{\"outlinewidth\":0,\"ticks\":\"\"}},\"type\":\"scattergl\"}],\"scattermapbox\":[{\"marker\":{\"colorbar\":{\"outlinewidth\":0,\"ticks\":\"\"}},\"type\":\"scattermapbox\"}],\"scatterpolargl\":[{\"marker\":{\"colorbar\":{\"outlinewidth\":0,\"ticks\":\"\"}},\"type\":\"scatterpolargl\"}],\"scatterpolar\":[{\"marker\":{\"colorbar\":{\"outlinewidth\":0,\"ticks\":\"\"}},\"type\":\"scatterpolar\"}],\"scatter\":[{\"fillpattern\":{\"fillmode\":\"overlay\",\"size\":10,\"solidity\":0.2},\"type\":\"scatter\"}],\"scatterternary\":[{\"marker\":{\"colorbar\":{\"outlinewidth\":0,\"ticks\":\"\"}},\"type\":\"scatterternary\"}],\"surface\":[{\"colorbar\":{\"outlinewidth\":0,\"ticks\":\"\"},\"colorscale\":[[0.0,\"#0d0887\"],[0.1111111111111111,\"#46039f\"],[0.2222222222222222,\"#7201a8\"],[0.3333333333333333,\"#9c179e\"],[0.4444444444444444,\"#bd3786\"],[0.5555555555555556,\"#d8576b\"],[0.6666666666666666,\"#ed7953\"],[0.7777777777777778,\"#fb9f3a\"],[0.8888888888888888,\"#fdca26\"],[1.0,\"#f0f921\"]],\"type\":\"surface\"}],\"table\":[{\"cells\":{\"fill\":{\"color\":\"#EBF0F8\"},\"line\":{\"color\":\"white\"}},\"header\":{\"fill\":{\"color\":\"#C8D4E3\"},\"line\":{\"color\":\"white\"}},\"type\":\"table\"}]},\"layout\":{\"annotationdefaults\":{\"arrowcolor\":\"#2a3f5f\",\"arrowhead\":0,\"arrowwidth\":1},\"autotypenumbers\":\"strict\",\"coloraxis\":{\"colorbar\":{\"outlinewidth\":0,\"ticks\":\"\"}},\"colorscale\":{\"diverging\":[[0,\"#8e0152\"],[0.1,\"#c51b7d\"],[0.2,\"#de77ae\"],[0.3,\"#f1b6da\"],[0.4,\"#fde0ef\"],[0.5,\"#f7f7f7\"],[0.6,\"#e6f5d0\"],[0.7,\"#b8e186\"],[0.8,\"#7fbc41\"],[0.9,\"#4d9221\"],[1,\"#276419\"]],\"sequential\":[[0.0,\"#0d0887\"],[0.1111111111111111,\"#46039f\"],[0.2222222222222222,\"#7201a8\"],[0.3333333333333333,\"#9c179e\"],[0.4444444444444444,\"#bd3786\"],[0.5555555555555556,\"#d8576b\"],[0.6666666666666666,\"#ed7953\"],[0.7777777777777778,\"#fb9f3a\"],[0.8888888888888888,\"#fdca26\"],[1.0,\"#f0f921\"]],\"sequentialminus\":[[0.0,\"#0d0887\"],[0.1111111111111111,\"#46039f\"],[0.2222222222222222,\"#7201a8\"],[0.3333333333333333,\"#9c179e\"],[0.4444444444444444,\"#bd3786\"],[0.5555555555555556,\"#d8576b\"],[0.6666666666666666,\"#ed7953\"],[0.7777777777777778,\"#fb9f3a\"],[0.8888888888888888,\"#fdca26\"],[1.0,\"#f0f921\"]]},\"colorway\":[\"#636efa\",\"#EF553B\",\"#00cc96\",\"#ab63fa\",\"#FFA15A\",\"#19d3f3\",\"#FF6692\",\"#B6E880\",\"#FF97FF\",\"#FECB52\"],\"font\":{\"color\":\"#2a3f5f\"},\"geo\":{\"bgcolor\":\"white\",\"lakecolor\":\"white\",\"landcolor\":\"#E5ECF6\",\"showlakes\":true,\"showland\":true,\"subunitcolor\":\"white\"},\"hoverlabel\":{\"align\":\"left\"},\"hovermode\":\"closest\",\"mapbox\":{\"style\":\"light\"},\"paper_bgcolor\":\"white\",\"plot_bgcolor\":\"#E5ECF6\",\"polar\":{\"angularaxis\":{\"gridcolor\":\"white\",\"linecolor\":\"white\",\"ticks\":\"\"},\"bgcolor\":\"#E5ECF6\",\"radialaxis\":{\"gridcolor\":\"white\",\"linecolor\":\"white\",\"ticks\":\"\"}},\"scene\":{\"xaxis\":{\"backgroundcolor\":\"#E5ECF6\",\"gridcolor\":\"white\",\"gridwidth\":2,\"linecolor\":\"white\",\"showbackground\":true,\"ticks\":\"\",\"zerolinecolor\":\"white\"},\"yaxis\":{\"backgroundcolor\":\"#E5ECF6\",\"gridcolor\":\"white\",\"gridwidth\":2,\"linecolor\":\"white\",\"showbackground\":true,\"ticks\":\"\",\"zerolinecolor\":\"white\"},\"zaxis\":{\"backgroundcolor\":\"#E5ECF6\",\"gridcolor\":\"white\",\"gridwidth\":2,\"linecolor\":\"white\",\"showbackground\":true,\"ticks\":\"\",\"zerolinecolor\":\"white\"}},\"shapedefaults\":{\"line\":{\"color\":\"#2a3f5f\"}},\"ternary\":{\"aaxis\":{\"gridcolor\":\"white\",\"linecolor\":\"white\",\"ticks\":\"\"},\"baxis\":{\"gridcolor\":\"white\",\"linecolor\":\"white\",\"ticks\":\"\"},\"bgcolor\":\"#E5ECF6\",\"caxis\":{\"gridcolor\":\"white\",\"linecolor\":\"white\",\"ticks\":\"\"}},\"title\":{\"x\":0.05},\"xaxis\":{\"automargin\":true,\"gridcolor\":\"white\",\"linecolor\":\"white\",\"ticks\":\"\",\"title\":{\"standoff\":15},\"zerolinecolor\":\"white\",\"zerolinewidth\":2},\"yaxis\":{\"automargin\":true,\"gridcolor\":\"white\",\"linecolor\":\"white\",\"ticks\":\"\",\"title\":{\"standoff\":15},\"zerolinecolor\":\"white\",\"zerolinewidth\":2}}},\"title\":{\"font\":{\"color\":\"#4D5663\"}},\"xaxis\":{\"gridcolor\":\"#E1E5ED\",\"showgrid\":true,\"tickfont\":{\"color\":\"#4D5663\"},\"title\":{\"font\":{\"color\":\"#4D5663\"},\"text\":\"\"},\"zerolinecolor\":\"#E1E5ED\"},\"yaxis\":{\"gridcolor\":\"#E1E5ED\",\"showgrid\":true,\"tickfont\":{\"color\":\"#4D5663\"},\"title\":{\"font\":{\"color\":\"#4D5663\"},\"text\":\"\"},\"zerolinecolor\":\"#E1E5ED\"}},                        {\"showLink\": true, \"linkText\": \"Export to plot.ly\", \"plotlyServerURL\": \"https://plot.ly\", \"responsive\": true}                    ).then(function(){\n",
       "                            \n",
       "var gd = document.getElementById('ecb151ff-d628-4863-b4b5-0bab40fc1d0f');\n",
       "var x = new MutationObserver(function (mutations, observer) {{\n",
       "        var display = window.getComputedStyle(gd).display;\n",
       "        if (!display || display === 'none') {{\n",
       "            console.log([gd, 'removed!']);\n",
       "            Plotly.purge(gd);\n",
       "            observer.disconnect();\n",
       "        }}\n",
       "}});\n",
       "\n",
       "// Listen for the removal of the full notebook cells\n",
       "var notebookContainer = gd.closest('#notebook-container');\n",
       "if (notebookContainer) {{\n",
       "    x.observe(notebookContainer, {childList: true});\n",
       "}}\n",
       "\n",
       "// Listen for the clearing of the current output cell\n",
       "var outputEl = gd.closest('.output');\n",
       "if (outputEl) {{\n",
       "    x.observe(outputEl, {childList: true});\n",
       "}}\n",
       "\n",
       "                        })                };                });            </script>        </div>"
      ]
     },
     "metadata": {},
     "output_type": "display_data"
    }
   ],
   "source": [
    "pd.DataFrame(zip(var_2,sk.scores_),columns=['var','score']).set_index('var').sort_values(by='score',\n",
    "                                  ascending=False).iplot(kind='bar',color='orange')"
   ]
  },
  {
   "cell_type": "code",
   "execution_count": 24,
   "id": "98e16d47",
   "metadata": {
    "ExecuteTime": {
     "end_time": "2023-08-11T19:42:30.885490Z",
     "start_time": "2023-08-11T19:42:30.589321Z"
    }
   },
   "outputs": [
    {
     "data": {
      "text/html": [
       "<style>#sk-container-id-6 {color: black;background-color: white;}#sk-container-id-6 pre{padding: 0;}#sk-container-id-6 div.sk-toggleable {background-color: white;}#sk-container-id-6 label.sk-toggleable__label {cursor: pointer;display: block;width: 100%;margin-bottom: 0;padding: 0.3em;box-sizing: border-box;text-align: center;}#sk-container-id-6 label.sk-toggleable__label-arrow:before {content: \"▸\";float: left;margin-right: 0.25em;color: #696969;}#sk-container-id-6 label.sk-toggleable__label-arrow:hover:before {color: black;}#sk-container-id-6 div.sk-estimator:hover label.sk-toggleable__label-arrow:before {color: black;}#sk-container-id-6 div.sk-toggleable__content {max-height: 0;max-width: 0;overflow: hidden;text-align: left;background-color: #f0f8ff;}#sk-container-id-6 div.sk-toggleable__content pre {margin: 0.2em;color: black;border-radius: 0.25em;background-color: #f0f8ff;}#sk-container-id-6 input.sk-toggleable__control:checked~div.sk-toggleable__content {max-height: 200px;max-width: 100%;overflow: auto;}#sk-container-id-6 input.sk-toggleable__control:checked~label.sk-toggleable__label-arrow:before {content: \"▾\";}#sk-container-id-6 div.sk-estimator input.sk-toggleable__control:checked~label.sk-toggleable__label {background-color: #d4ebff;}#sk-container-id-6 div.sk-label input.sk-toggleable__control:checked~label.sk-toggleable__label {background-color: #d4ebff;}#sk-container-id-6 input.sk-hidden--visually {border: 0;clip: rect(1px 1px 1px 1px);clip: rect(1px, 1px, 1px, 1px);height: 1px;margin: -1px;overflow: hidden;padding: 0;position: absolute;width: 1px;}#sk-container-id-6 div.sk-estimator {font-family: monospace;background-color: #f0f8ff;border: 1px dotted black;border-radius: 0.25em;box-sizing: border-box;margin-bottom: 0.5em;}#sk-container-id-6 div.sk-estimator:hover {background-color: #d4ebff;}#sk-container-id-6 div.sk-parallel-item::after {content: \"\";width: 100%;border-bottom: 1px solid gray;flex-grow: 1;}#sk-container-id-6 div.sk-label:hover label.sk-toggleable__label {background-color: #d4ebff;}#sk-container-id-6 div.sk-serial::before {content: \"\";position: absolute;border-left: 1px solid gray;box-sizing: border-box;top: 0;bottom: 0;left: 50%;z-index: 0;}#sk-container-id-6 div.sk-serial {display: flex;flex-direction: column;align-items: center;background-color: white;padding-right: 0.2em;padding-left: 0.2em;position: relative;}#sk-container-id-6 div.sk-item {position: relative;z-index: 1;}#sk-container-id-6 div.sk-parallel {display: flex;align-items: stretch;justify-content: center;background-color: white;position: relative;}#sk-container-id-6 div.sk-item::before, #sk-container-id-6 div.sk-parallel-item::before {content: \"\";position: absolute;border-left: 1px solid gray;box-sizing: border-box;top: 0;bottom: 0;left: 50%;z-index: -1;}#sk-container-id-6 div.sk-parallel-item {display: flex;flex-direction: column;z-index: 1;position: relative;background-color: white;}#sk-container-id-6 div.sk-parallel-item:first-child::after {align-self: flex-end;width: 50%;}#sk-container-id-6 div.sk-parallel-item:last-child::after {align-self: flex-start;width: 50%;}#sk-container-id-6 div.sk-parallel-item:only-child::after {width: 0;}#sk-container-id-6 div.sk-dashed-wrapped {border: 1px dashed gray;margin: 0 0.4em 0.5em 0.4em;box-sizing: border-box;padding-bottom: 0.4em;background-color: white;}#sk-container-id-6 div.sk-label label {font-family: monospace;font-weight: bold;display: inline-block;line-height: 1.2em;}#sk-container-id-6 div.sk-label-container {text-align: center;}#sk-container-id-6 div.sk-container {/* jupyter's `normalize.less` sets `[hidden] { display: none; }` but bootstrap.min.css set `[hidden] { display: none !important; }` so we also need the `!important` here to be able to override the default hidden behavior on the sphinx rendered scikit-learn.org. See: https://github.com/scikit-learn/scikit-learn/issues/21755 */display: inline-block !important;position: relative;}#sk-container-id-6 div.sk-text-repr-fallback {display: none;}</style><div id=\"sk-container-id-6\" class=\"sk-top-container\"><div class=\"sk-text-repr-fallback\"><pre>SelectKBest(k=6, score_func=&lt;function f_regression at 0x7f61c124ed40&gt;)</pre><b>In a Jupyter environment, please rerun this cell to show the HTML representation or trust the notebook. <br />On GitHub, the HTML representation is unable to render, please try loading this page with nbviewer.org.</b></div><div class=\"sk-container\" hidden><div class=\"sk-item\"><div class=\"sk-estimator sk-toggleable\"><input class=\"sk-toggleable__control sk-hidden--visually\" id=\"sk-estimator-id-6\" type=\"checkbox\" checked><label for=\"sk-estimator-id-6\" class=\"sk-toggleable__label sk-toggleable__label-arrow\">SelectKBest</label><div class=\"sk-toggleable__content\"><pre>SelectKBest(k=6, score_func=&lt;function f_regression at 0x7f61c124ed40&gt;)</pre></div></div></div></div></div>"
      ],
      "text/plain": [
       "SelectKBest(k=6, score_func=<function f_regression at 0x7f61c124ed40>)"
      ]
     },
     "execution_count": 24,
     "metadata": {},
     "output_type": "execute_result"
    }
   ],
   "source": [
    "sk = SelectKBest(k=6,score_func = f_regression)\n",
    "sk.fit(Xi[var_2],Xi[vart_2[0]])"
   ]
  },
  {
   "cell_type": "code",
   "execution_count": 25,
   "id": "c8714b50",
   "metadata": {
    "ExecuteTime": {
     "end_time": "2023-08-11T19:42:30.905347Z",
     "start_time": "2023-08-11T19:42:30.892590Z"
    }
   },
   "outputs": [
    {
     "data": {
      "text/plain": [
       "['Enero', 'Febrero', 'Marzo', 'Abril', 'Mayo', 'Junio']"
      ]
     },
     "execution_count": 25,
     "metadata": {},
     "output_type": "execute_result"
    }
   ],
   "source": [
    "best_2 = [a for a,b in zip(var_2,sk.get_support()) if b]\n",
    "best_2"
   ]
  },
  {
   "cell_type": "markdown",
   "id": "61d70d44",
   "metadata": {},
   "source": [
    "### Para vart_3 (Agosto)"
   ]
  },
  {
   "cell_type": "code",
   "execution_count": 26,
   "id": "0c2a1b63",
   "metadata": {
    "ExecuteTime": {
     "end_time": "2023-08-11T19:42:31.294302Z",
     "start_time": "2023-08-11T19:42:30.915899Z"
    }
   },
   "outputs": [
    {
     "data": {
      "text/html": [
       "<style>#sk-container-id-7 {color: black;background-color: white;}#sk-container-id-7 pre{padding: 0;}#sk-container-id-7 div.sk-toggleable {background-color: white;}#sk-container-id-7 label.sk-toggleable__label {cursor: pointer;display: block;width: 100%;margin-bottom: 0;padding: 0.3em;box-sizing: border-box;text-align: center;}#sk-container-id-7 label.sk-toggleable__label-arrow:before {content: \"▸\";float: left;margin-right: 0.25em;color: #696969;}#sk-container-id-7 label.sk-toggleable__label-arrow:hover:before {color: black;}#sk-container-id-7 div.sk-estimator:hover label.sk-toggleable__label-arrow:before {color: black;}#sk-container-id-7 div.sk-toggleable__content {max-height: 0;max-width: 0;overflow: hidden;text-align: left;background-color: #f0f8ff;}#sk-container-id-7 div.sk-toggleable__content pre {margin: 0.2em;color: black;border-radius: 0.25em;background-color: #f0f8ff;}#sk-container-id-7 input.sk-toggleable__control:checked~div.sk-toggleable__content {max-height: 200px;max-width: 100%;overflow: auto;}#sk-container-id-7 input.sk-toggleable__control:checked~label.sk-toggleable__label-arrow:before {content: \"▾\";}#sk-container-id-7 div.sk-estimator input.sk-toggleable__control:checked~label.sk-toggleable__label {background-color: #d4ebff;}#sk-container-id-7 div.sk-label input.sk-toggleable__control:checked~label.sk-toggleable__label {background-color: #d4ebff;}#sk-container-id-7 input.sk-hidden--visually {border: 0;clip: rect(1px 1px 1px 1px);clip: rect(1px, 1px, 1px, 1px);height: 1px;margin: -1px;overflow: hidden;padding: 0;position: absolute;width: 1px;}#sk-container-id-7 div.sk-estimator {font-family: monospace;background-color: #f0f8ff;border: 1px dotted black;border-radius: 0.25em;box-sizing: border-box;margin-bottom: 0.5em;}#sk-container-id-7 div.sk-estimator:hover {background-color: #d4ebff;}#sk-container-id-7 div.sk-parallel-item::after {content: \"\";width: 100%;border-bottom: 1px solid gray;flex-grow: 1;}#sk-container-id-7 div.sk-label:hover label.sk-toggleable__label {background-color: #d4ebff;}#sk-container-id-7 div.sk-serial::before {content: \"\";position: absolute;border-left: 1px solid gray;box-sizing: border-box;top: 0;bottom: 0;left: 50%;z-index: 0;}#sk-container-id-7 div.sk-serial {display: flex;flex-direction: column;align-items: center;background-color: white;padding-right: 0.2em;padding-left: 0.2em;position: relative;}#sk-container-id-7 div.sk-item {position: relative;z-index: 1;}#sk-container-id-7 div.sk-parallel {display: flex;align-items: stretch;justify-content: center;background-color: white;position: relative;}#sk-container-id-7 div.sk-item::before, #sk-container-id-7 div.sk-parallel-item::before {content: \"\";position: absolute;border-left: 1px solid gray;box-sizing: border-box;top: 0;bottom: 0;left: 50%;z-index: -1;}#sk-container-id-7 div.sk-parallel-item {display: flex;flex-direction: column;z-index: 1;position: relative;background-color: white;}#sk-container-id-7 div.sk-parallel-item:first-child::after {align-self: flex-end;width: 50%;}#sk-container-id-7 div.sk-parallel-item:last-child::after {align-self: flex-start;width: 50%;}#sk-container-id-7 div.sk-parallel-item:only-child::after {width: 0;}#sk-container-id-7 div.sk-dashed-wrapped {border: 1px dashed gray;margin: 0 0.4em 0.5em 0.4em;box-sizing: border-box;padding-bottom: 0.4em;background-color: white;}#sk-container-id-7 div.sk-label label {font-family: monospace;font-weight: bold;display: inline-block;line-height: 1.2em;}#sk-container-id-7 div.sk-label-container {text-align: center;}#sk-container-id-7 div.sk-container {/* jupyter's `normalize.less` sets `[hidden] { display: none; }` but bootstrap.min.css set `[hidden] { display: none !important; }` so we also need the `!important` here to be able to override the default hidden behavior on the sphinx rendered scikit-learn.org. See: https://github.com/scikit-learn/scikit-learn/issues/21755 */display: inline-block !important;position: relative;}#sk-container-id-7 div.sk-text-repr-fallback {display: none;}</style><div id=\"sk-container-id-7\" class=\"sk-top-container\"><div class=\"sk-text-repr-fallback\"><pre>SelectKBest(k=12, score_func=&lt;function f_regression at 0x7f61c124ed40&gt;)</pre><b>In a Jupyter environment, please rerun this cell to show the HTML representation or trust the notebook. <br />On GitHub, the HTML representation is unable to render, please try loading this page with nbviewer.org.</b></div><div class=\"sk-container\" hidden><div class=\"sk-item\"><div class=\"sk-estimator sk-toggleable\"><input class=\"sk-toggleable__control sk-hidden--visually\" id=\"sk-estimator-id-7\" type=\"checkbox\" checked><label for=\"sk-estimator-id-7\" class=\"sk-toggleable__label sk-toggleable__label-arrow\">SelectKBest</label><div class=\"sk-toggleable__content\"><pre>SelectKBest(k=12, score_func=&lt;function f_regression at 0x7f61c124ed40&gt;)</pre></div></div></div></div></div>"
      ],
      "text/plain": [
       "SelectKBest(k=12, score_func=<function f_regression at 0x7f61c124ed40>)"
      ]
     },
     "execution_count": 26,
     "metadata": {},
     "output_type": "execute_result"
    }
   ],
   "source": [
    "sk = SelectKBest(k=len(var_3),score_func = f_regression)\n",
    "sk.fit(Xi[var_3],Xi[vart_3[0]])"
   ]
  },
  {
   "cell_type": "code",
   "execution_count": 27,
   "id": "2710c41c",
   "metadata": {
    "ExecuteTime": {
     "end_time": "2023-08-11T19:42:31.656207Z",
     "start_time": "2023-08-11T19:42:31.300752Z"
    }
   },
   "outputs": [
    {
     "data": {
      "application/vnd.plotly.v1+json": {
       "config": {
        "linkText": "Export to plot.ly",
        "plotlyServerURL": "https://plot.ly",
        "showLink": true
       },
       "data": [
        {
         "marker": {
          "color": "rgba(255, 153, 51, 0.6)",
          "line": {
           "color": "rgba(255, 153, 51, 1.0)",
           "width": 1
          }
         },
         "name": "score",
         "orientation": "v",
         "text": "",
         "type": "bar",
         "x": [
          "Julio",
          "Junio",
          "Mayo",
          "Enero",
          "Febrero",
          "Marzo",
          "Abril",
          "Cve. Municipio",
          "Clave_Ent",
          "Modalidad",
          "Año",
          "Subtipo de delito"
         ],
         "y": [
          8767350.866588224,
          5363049.989650984,
          3437607.778564516,
          3088224.532144378,
          3082737.87501007,
          3063796.369448126,
          2945274.0135147455,
          1668.827129901893,
          1633.2251806956717,
          803.9622115457832,
          90.90258681691243,
          1.9328374131904826
         ]
        }
       ],
       "layout": {
        "legend": {
         "bgcolor": "#F5F6F9",
         "font": {
          "color": "#4D5663"
         }
        },
        "paper_bgcolor": "#F5F6F9",
        "plot_bgcolor": "#F5F6F9",
        "template": {
         "data": {
          "bar": [
           {
            "error_x": {
             "color": "#2a3f5f"
            },
            "error_y": {
             "color": "#2a3f5f"
            },
            "marker": {
             "line": {
              "color": "#E5ECF6",
              "width": 0.5
             },
             "pattern": {
              "fillmode": "overlay",
              "size": 10,
              "solidity": 0.2
             }
            },
            "type": "bar"
           }
          ],
          "barpolar": [
           {
            "marker": {
             "line": {
              "color": "#E5ECF6",
              "width": 0.5
             },
             "pattern": {
              "fillmode": "overlay",
              "size": 10,
              "solidity": 0.2
             }
            },
            "type": "barpolar"
           }
          ],
          "carpet": [
           {
            "aaxis": {
             "endlinecolor": "#2a3f5f",
             "gridcolor": "white",
             "linecolor": "white",
             "minorgridcolor": "white",
             "startlinecolor": "#2a3f5f"
            },
            "baxis": {
             "endlinecolor": "#2a3f5f",
             "gridcolor": "white",
             "linecolor": "white",
             "minorgridcolor": "white",
             "startlinecolor": "#2a3f5f"
            },
            "type": "carpet"
           }
          ],
          "choropleth": [
           {
            "colorbar": {
             "outlinewidth": 0,
             "ticks": ""
            },
            "type": "choropleth"
           }
          ],
          "contour": [
           {
            "colorbar": {
             "outlinewidth": 0,
             "ticks": ""
            },
            "colorscale": [
             [
              0,
              "#0d0887"
             ],
             [
              0.1111111111111111,
              "#46039f"
             ],
             [
              0.2222222222222222,
              "#7201a8"
             ],
             [
              0.3333333333333333,
              "#9c179e"
             ],
             [
              0.4444444444444444,
              "#bd3786"
             ],
             [
              0.5555555555555556,
              "#d8576b"
             ],
             [
              0.6666666666666666,
              "#ed7953"
             ],
             [
              0.7777777777777778,
              "#fb9f3a"
             ],
             [
              0.8888888888888888,
              "#fdca26"
             ],
             [
              1,
              "#f0f921"
             ]
            ],
            "type": "contour"
           }
          ],
          "contourcarpet": [
           {
            "colorbar": {
             "outlinewidth": 0,
             "ticks": ""
            },
            "type": "contourcarpet"
           }
          ],
          "heatmap": [
           {
            "colorbar": {
             "outlinewidth": 0,
             "ticks": ""
            },
            "colorscale": [
             [
              0,
              "#0d0887"
             ],
             [
              0.1111111111111111,
              "#46039f"
             ],
             [
              0.2222222222222222,
              "#7201a8"
             ],
             [
              0.3333333333333333,
              "#9c179e"
             ],
             [
              0.4444444444444444,
              "#bd3786"
             ],
             [
              0.5555555555555556,
              "#d8576b"
             ],
             [
              0.6666666666666666,
              "#ed7953"
             ],
             [
              0.7777777777777778,
              "#fb9f3a"
             ],
             [
              0.8888888888888888,
              "#fdca26"
             ],
             [
              1,
              "#f0f921"
             ]
            ],
            "type": "heatmap"
           }
          ],
          "heatmapgl": [
           {
            "colorbar": {
             "outlinewidth": 0,
             "ticks": ""
            },
            "colorscale": [
             [
              0,
              "#0d0887"
             ],
             [
              0.1111111111111111,
              "#46039f"
             ],
             [
              0.2222222222222222,
              "#7201a8"
             ],
             [
              0.3333333333333333,
              "#9c179e"
             ],
             [
              0.4444444444444444,
              "#bd3786"
             ],
             [
              0.5555555555555556,
              "#d8576b"
             ],
             [
              0.6666666666666666,
              "#ed7953"
             ],
             [
              0.7777777777777778,
              "#fb9f3a"
             ],
             [
              0.8888888888888888,
              "#fdca26"
             ],
             [
              1,
              "#f0f921"
             ]
            ],
            "type": "heatmapgl"
           }
          ],
          "histogram": [
           {
            "marker": {
             "pattern": {
              "fillmode": "overlay",
              "size": 10,
              "solidity": 0.2
             }
            },
            "type": "histogram"
           }
          ],
          "histogram2d": [
           {
            "colorbar": {
             "outlinewidth": 0,
             "ticks": ""
            },
            "colorscale": [
             [
              0,
              "#0d0887"
             ],
             [
              0.1111111111111111,
              "#46039f"
             ],
             [
              0.2222222222222222,
              "#7201a8"
             ],
             [
              0.3333333333333333,
              "#9c179e"
             ],
             [
              0.4444444444444444,
              "#bd3786"
             ],
             [
              0.5555555555555556,
              "#d8576b"
             ],
             [
              0.6666666666666666,
              "#ed7953"
             ],
             [
              0.7777777777777778,
              "#fb9f3a"
             ],
             [
              0.8888888888888888,
              "#fdca26"
             ],
             [
              1,
              "#f0f921"
             ]
            ],
            "type": "histogram2d"
           }
          ],
          "histogram2dcontour": [
           {
            "colorbar": {
             "outlinewidth": 0,
             "ticks": ""
            },
            "colorscale": [
             [
              0,
              "#0d0887"
             ],
             [
              0.1111111111111111,
              "#46039f"
             ],
             [
              0.2222222222222222,
              "#7201a8"
             ],
             [
              0.3333333333333333,
              "#9c179e"
             ],
             [
              0.4444444444444444,
              "#bd3786"
             ],
             [
              0.5555555555555556,
              "#d8576b"
             ],
             [
              0.6666666666666666,
              "#ed7953"
             ],
             [
              0.7777777777777778,
              "#fb9f3a"
             ],
             [
              0.8888888888888888,
              "#fdca26"
             ],
             [
              1,
              "#f0f921"
             ]
            ],
            "type": "histogram2dcontour"
           }
          ],
          "mesh3d": [
           {
            "colorbar": {
             "outlinewidth": 0,
             "ticks": ""
            },
            "type": "mesh3d"
           }
          ],
          "parcoords": [
           {
            "line": {
             "colorbar": {
              "outlinewidth": 0,
              "ticks": ""
             }
            },
            "type": "parcoords"
           }
          ],
          "pie": [
           {
            "automargin": true,
            "type": "pie"
           }
          ],
          "scatter": [
           {
            "fillpattern": {
             "fillmode": "overlay",
             "size": 10,
             "solidity": 0.2
            },
            "type": "scatter"
           }
          ],
          "scatter3d": [
           {
            "line": {
             "colorbar": {
              "outlinewidth": 0,
              "ticks": ""
             }
            },
            "marker": {
             "colorbar": {
              "outlinewidth": 0,
              "ticks": ""
             }
            },
            "type": "scatter3d"
           }
          ],
          "scattercarpet": [
           {
            "marker": {
             "colorbar": {
              "outlinewidth": 0,
              "ticks": ""
             }
            },
            "type": "scattercarpet"
           }
          ],
          "scattergeo": [
           {
            "marker": {
             "colorbar": {
              "outlinewidth": 0,
              "ticks": ""
             }
            },
            "type": "scattergeo"
           }
          ],
          "scattergl": [
           {
            "marker": {
             "colorbar": {
              "outlinewidth": 0,
              "ticks": ""
             }
            },
            "type": "scattergl"
           }
          ],
          "scattermapbox": [
           {
            "marker": {
             "colorbar": {
              "outlinewidth": 0,
              "ticks": ""
             }
            },
            "type": "scattermapbox"
           }
          ],
          "scatterpolar": [
           {
            "marker": {
             "colorbar": {
              "outlinewidth": 0,
              "ticks": ""
             }
            },
            "type": "scatterpolar"
           }
          ],
          "scatterpolargl": [
           {
            "marker": {
             "colorbar": {
              "outlinewidth": 0,
              "ticks": ""
             }
            },
            "type": "scatterpolargl"
           }
          ],
          "scatterternary": [
           {
            "marker": {
             "colorbar": {
              "outlinewidth": 0,
              "ticks": ""
             }
            },
            "type": "scatterternary"
           }
          ],
          "surface": [
           {
            "colorbar": {
             "outlinewidth": 0,
             "ticks": ""
            },
            "colorscale": [
             [
              0,
              "#0d0887"
             ],
             [
              0.1111111111111111,
              "#46039f"
             ],
             [
              0.2222222222222222,
              "#7201a8"
             ],
             [
              0.3333333333333333,
              "#9c179e"
             ],
             [
              0.4444444444444444,
              "#bd3786"
             ],
             [
              0.5555555555555556,
              "#d8576b"
             ],
             [
              0.6666666666666666,
              "#ed7953"
             ],
             [
              0.7777777777777778,
              "#fb9f3a"
             ],
             [
              0.8888888888888888,
              "#fdca26"
             ],
             [
              1,
              "#f0f921"
             ]
            ],
            "type": "surface"
           }
          ],
          "table": [
           {
            "cells": {
             "fill": {
              "color": "#EBF0F8"
             },
             "line": {
              "color": "white"
             }
            },
            "header": {
             "fill": {
              "color": "#C8D4E3"
             },
             "line": {
              "color": "white"
             }
            },
            "type": "table"
           }
          ]
         },
         "layout": {
          "annotationdefaults": {
           "arrowcolor": "#2a3f5f",
           "arrowhead": 0,
           "arrowwidth": 1
          },
          "autotypenumbers": "strict",
          "coloraxis": {
           "colorbar": {
            "outlinewidth": 0,
            "ticks": ""
           }
          },
          "colorscale": {
           "diverging": [
            [
             0,
             "#8e0152"
            ],
            [
             0.1,
             "#c51b7d"
            ],
            [
             0.2,
             "#de77ae"
            ],
            [
             0.3,
             "#f1b6da"
            ],
            [
             0.4,
             "#fde0ef"
            ],
            [
             0.5,
             "#f7f7f7"
            ],
            [
             0.6,
             "#e6f5d0"
            ],
            [
             0.7,
             "#b8e186"
            ],
            [
             0.8,
             "#7fbc41"
            ],
            [
             0.9,
             "#4d9221"
            ],
            [
             1,
             "#276419"
            ]
           ],
           "sequential": [
            [
             0,
             "#0d0887"
            ],
            [
             0.1111111111111111,
             "#46039f"
            ],
            [
             0.2222222222222222,
             "#7201a8"
            ],
            [
             0.3333333333333333,
             "#9c179e"
            ],
            [
             0.4444444444444444,
             "#bd3786"
            ],
            [
             0.5555555555555556,
             "#d8576b"
            ],
            [
             0.6666666666666666,
             "#ed7953"
            ],
            [
             0.7777777777777778,
             "#fb9f3a"
            ],
            [
             0.8888888888888888,
             "#fdca26"
            ],
            [
             1,
             "#f0f921"
            ]
           ],
           "sequentialminus": [
            [
             0,
             "#0d0887"
            ],
            [
             0.1111111111111111,
             "#46039f"
            ],
            [
             0.2222222222222222,
             "#7201a8"
            ],
            [
             0.3333333333333333,
             "#9c179e"
            ],
            [
             0.4444444444444444,
             "#bd3786"
            ],
            [
             0.5555555555555556,
             "#d8576b"
            ],
            [
             0.6666666666666666,
             "#ed7953"
            ],
            [
             0.7777777777777778,
             "#fb9f3a"
            ],
            [
             0.8888888888888888,
             "#fdca26"
            ],
            [
             1,
             "#f0f921"
            ]
           ]
          },
          "colorway": [
           "#636efa",
           "#EF553B",
           "#00cc96",
           "#ab63fa",
           "#FFA15A",
           "#19d3f3",
           "#FF6692",
           "#B6E880",
           "#FF97FF",
           "#FECB52"
          ],
          "font": {
           "color": "#2a3f5f"
          },
          "geo": {
           "bgcolor": "white",
           "lakecolor": "white",
           "landcolor": "#E5ECF6",
           "showlakes": true,
           "showland": true,
           "subunitcolor": "white"
          },
          "hoverlabel": {
           "align": "left"
          },
          "hovermode": "closest",
          "mapbox": {
           "style": "light"
          },
          "paper_bgcolor": "white",
          "plot_bgcolor": "#E5ECF6",
          "polar": {
           "angularaxis": {
            "gridcolor": "white",
            "linecolor": "white",
            "ticks": ""
           },
           "bgcolor": "#E5ECF6",
           "radialaxis": {
            "gridcolor": "white",
            "linecolor": "white",
            "ticks": ""
           }
          },
          "scene": {
           "xaxis": {
            "backgroundcolor": "#E5ECF6",
            "gridcolor": "white",
            "gridwidth": 2,
            "linecolor": "white",
            "showbackground": true,
            "ticks": "",
            "zerolinecolor": "white"
           },
           "yaxis": {
            "backgroundcolor": "#E5ECF6",
            "gridcolor": "white",
            "gridwidth": 2,
            "linecolor": "white",
            "showbackground": true,
            "ticks": "",
            "zerolinecolor": "white"
           },
           "zaxis": {
            "backgroundcolor": "#E5ECF6",
            "gridcolor": "white",
            "gridwidth": 2,
            "linecolor": "white",
            "showbackground": true,
            "ticks": "",
            "zerolinecolor": "white"
           }
          },
          "shapedefaults": {
           "line": {
            "color": "#2a3f5f"
           }
          },
          "ternary": {
           "aaxis": {
            "gridcolor": "white",
            "linecolor": "white",
            "ticks": ""
           },
           "baxis": {
            "gridcolor": "white",
            "linecolor": "white",
            "ticks": ""
           },
           "bgcolor": "#E5ECF6",
           "caxis": {
            "gridcolor": "white",
            "linecolor": "white",
            "ticks": ""
           }
          },
          "title": {
           "x": 0.05
          },
          "xaxis": {
           "automargin": true,
           "gridcolor": "white",
           "linecolor": "white",
           "ticks": "",
           "title": {
            "standoff": 15
           },
           "zerolinecolor": "white",
           "zerolinewidth": 2
          },
          "yaxis": {
           "automargin": true,
           "gridcolor": "white",
           "linecolor": "white",
           "ticks": "",
           "title": {
            "standoff": 15
           },
           "zerolinecolor": "white",
           "zerolinewidth": 2
          }
         }
        },
        "title": {
         "font": {
          "color": "#4D5663"
         }
        },
        "xaxis": {
         "gridcolor": "#E1E5ED",
         "showgrid": true,
         "tickfont": {
          "color": "#4D5663"
         },
         "title": {
          "font": {
           "color": "#4D5663"
          },
          "text": ""
         },
         "zerolinecolor": "#E1E5ED"
        },
        "yaxis": {
         "gridcolor": "#E1E5ED",
         "showgrid": true,
         "tickfont": {
          "color": "#4D5663"
         },
         "title": {
          "font": {
           "color": "#4D5663"
          },
          "text": ""
         },
         "zerolinecolor": "#E1E5ED"
        }
       }
      },
      "text/html": [
       "<div>                            <div id=\"391fa724-d7cf-4985-a844-36566f356049\" class=\"plotly-graph-div\" style=\"height:525px; width:100%;\"></div>            <script type=\"text/javascript\">                require([\"plotly\"], function(Plotly) {                    window.PLOTLYENV=window.PLOTLYENV || {};\n",
       "                    window.PLOTLYENV.BASE_URL='https://plot.ly';                                    if (document.getElementById(\"391fa724-d7cf-4985-a844-36566f356049\")) {                    Plotly.newPlot(                        \"391fa724-d7cf-4985-a844-36566f356049\",                        [{\"marker\":{\"color\":\"rgba(255, 153, 51, 0.6)\",\"line\":{\"color\":\"rgba(255, 153, 51, 1.0)\",\"width\":1}},\"name\":\"score\",\"orientation\":\"v\",\"text\":\"\",\"x\":[\"Julio\",\"Junio\",\"Mayo\",\"Enero\",\"Febrero\",\"Marzo\",\"Abril\",\"Cve. Municipio\",\"Clave_Ent\",\"Modalidad\",\"A\\u00f1o\",\"Subtipo de delito\"],\"y\":[8767350.866588224,5363049.989650984,3437607.778564516,3088224.532144378,3082737.87501007,3063796.369448126,2945274.0135147455,1668.827129901893,1633.2251806956717,803.9622115457832,90.90258681691243,1.9328374131904826],\"type\":\"bar\"}],                        {\"legend\":{\"bgcolor\":\"#F5F6F9\",\"font\":{\"color\":\"#4D5663\"}},\"paper_bgcolor\":\"#F5F6F9\",\"plot_bgcolor\":\"#F5F6F9\",\"template\":{\"data\":{\"barpolar\":[{\"marker\":{\"line\":{\"color\":\"#E5ECF6\",\"width\":0.5},\"pattern\":{\"fillmode\":\"overlay\",\"size\":10,\"solidity\":0.2}},\"type\":\"barpolar\"}],\"bar\":[{\"error_x\":{\"color\":\"#2a3f5f\"},\"error_y\":{\"color\":\"#2a3f5f\"},\"marker\":{\"line\":{\"color\":\"#E5ECF6\",\"width\":0.5},\"pattern\":{\"fillmode\":\"overlay\",\"size\":10,\"solidity\":0.2}},\"type\":\"bar\"}],\"carpet\":[{\"aaxis\":{\"endlinecolor\":\"#2a3f5f\",\"gridcolor\":\"white\",\"linecolor\":\"white\",\"minorgridcolor\":\"white\",\"startlinecolor\":\"#2a3f5f\"},\"baxis\":{\"endlinecolor\":\"#2a3f5f\",\"gridcolor\":\"white\",\"linecolor\":\"white\",\"minorgridcolor\":\"white\",\"startlinecolor\":\"#2a3f5f\"},\"type\":\"carpet\"}],\"choropleth\":[{\"colorbar\":{\"outlinewidth\":0,\"ticks\":\"\"},\"type\":\"choropleth\"}],\"contourcarpet\":[{\"colorbar\":{\"outlinewidth\":0,\"ticks\":\"\"},\"type\":\"contourcarpet\"}],\"contour\":[{\"colorbar\":{\"outlinewidth\":0,\"ticks\":\"\"},\"colorscale\":[[0.0,\"#0d0887\"],[0.1111111111111111,\"#46039f\"],[0.2222222222222222,\"#7201a8\"],[0.3333333333333333,\"#9c179e\"],[0.4444444444444444,\"#bd3786\"],[0.5555555555555556,\"#d8576b\"],[0.6666666666666666,\"#ed7953\"],[0.7777777777777778,\"#fb9f3a\"],[0.8888888888888888,\"#fdca26\"],[1.0,\"#f0f921\"]],\"type\":\"contour\"}],\"heatmapgl\":[{\"colorbar\":{\"outlinewidth\":0,\"ticks\":\"\"},\"colorscale\":[[0.0,\"#0d0887\"],[0.1111111111111111,\"#46039f\"],[0.2222222222222222,\"#7201a8\"],[0.3333333333333333,\"#9c179e\"],[0.4444444444444444,\"#bd3786\"],[0.5555555555555556,\"#d8576b\"],[0.6666666666666666,\"#ed7953\"],[0.7777777777777778,\"#fb9f3a\"],[0.8888888888888888,\"#fdca26\"],[1.0,\"#f0f921\"]],\"type\":\"heatmapgl\"}],\"heatmap\":[{\"colorbar\":{\"outlinewidth\":0,\"ticks\":\"\"},\"colorscale\":[[0.0,\"#0d0887\"],[0.1111111111111111,\"#46039f\"],[0.2222222222222222,\"#7201a8\"],[0.3333333333333333,\"#9c179e\"],[0.4444444444444444,\"#bd3786\"],[0.5555555555555556,\"#d8576b\"],[0.6666666666666666,\"#ed7953\"],[0.7777777777777778,\"#fb9f3a\"],[0.8888888888888888,\"#fdca26\"],[1.0,\"#f0f921\"]],\"type\":\"heatmap\"}],\"histogram2dcontour\":[{\"colorbar\":{\"outlinewidth\":0,\"ticks\":\"\"},\"colorscale\":[[0.0,\"#0d0887\"],[0.1111111111111111,\"#46039f\"],[0.2222222222222222,\"#7201a8\"],[0.3333333333333333,\"#9c179e\"],[0.4444444444444444,\"#bd3786\"],[0.5555555555555556,\"#d8576b\"],[0.6666666666666666,\"#ed7953\"],[0.7777777777777778,\"#fb9f3a\"],[0.8888888888888888,\"#fdca26\"],[1.0,\"#f0f921\"]],\"type\":\"histogram2dcontour\"}],\"histogram2d\":[{\"colorbar\":{\"outlinewidth\":0,\"ticks\":\"\"},\"colorscale\":[[0.0,\"#0d0887\"],[0.1111111111111111,\"#46039f\"],[0.2222222222222222,\"#7201a8\"],[0.3333333333333333,\"#9c179e\"],[0.4444444444444444,\"#bd3786\"],[0.5555555555555556,\"#d8576b\"],[0.6666666666666666,\"#ed7953\"],[0.7777777777777778,\"#fb9f3a\"],[0.8888888888888888,\"#fdca26\"],[1.0,\"#f0f921\"]],\"type\":\"histogram2d\"}],\"histogram\":[{\"marker\":{\"pattern\":{\"fillmode\":\"overlay\",\"size\":10,\"solidity\":0.2}},\"type\":\"histogram\"}],\"mesh3d\":[{\"colorbar\":{\"outlinewidth\":0,\"ticks\":\"\"},\"type\":\"mesh3d\"}],\"parcoords\":[{\"line\":{\"colorbar\":{\"outlinewidth\":0,\"ticks\":\"\"}},\"type\":\"parcoords\"}],\"pie\":[{\"automargin\":true,\"type\":\"pie\"}],\"scatter3d\":[{\"line\":{\"colorbar\":{\"outlinewidth\":0,\"ticks\":\"\"}},\"marker\":{\"colorbar\":{\"outlinewidth\":0,\"ticks\":\"\"}},\"type\":\"scatter3d\"}],\"scattercarpet\":[{\"marker\":{\"colorbar\":{\"outlinewidth\":0,\"ticks\":\"\"}},\"type\":\"scattercarpet\"}],\"scattergeo\":[{\"marker\":{\"colorbar\":{\"outlinewidth\":0,\"ticks\":\"\"}},\"type\":\"scattergeo\"}],\"scattergl\":[{\"marker\":{\"colorbar\":{\"outlinewidth\":0,\"ticks\":\"\"}},\"type\":\"scattergl\"}],\"scattermapbox\":[{\"marker\":{\"colorbar\":{\"outlinewidth\":0,\"ticks\":\"\"}},\"type\":\"scattermapbox\"}],\"scatterpolargl\":[{\"marker\":{\"colorbar\":{\"outlinewidth\":0,\"ticks\":\"\"}},\"type\":\"scatterpolargl\"}],\"scatterpolar\":[{\"marker\":{\"colorbar\":{\"outlinewidth\":0,\"ticks\":\"\"}},\"type\":\"scatterpolar\"}],\"scatter\":[{\"fillpattern\":{\"fillmode\":\"overlay\",\"size\":10,\"solidity\":0.2},\"type\":\"scatter\"}],\"scatterternary\":[{\"marker\":{\"colorbar\":{\"outlinewidth\":0,\"ticks\":\"\"}},\"type\":\"scatterternary\"}],\"surface\":[{\"colorbar\":{\"outlinewidth\":0,\"ticks\":\"\"},\"colorscale\":[[0.0,\"#0d0887\"],[0.1111111111111111,\"#46039f\"],[0.2222222222222222,\"#7201a8\"],[0.3333333333333333,\"#9c179e\"],[0.4444444444444444,\"#bd3786\"],[0.5555555555555556,\"#d8576b\"],[0.6666666666666666,\"#ed7953\"],[0.7777777777777778,\"#fb9f3a\"],[0.8888888888888888,\"#fdca26\"],[1.0,\"#f0f921\"]],\"type\":\"surface\"}],\"table\":[{\"cells\":{\"fill\":{\"color\":\"#EBF0F8\"},\"line\":{\"color\":\"white\"}},\"header\":{\"fill\":{\"color\":\"#C8D4E3\"},\"line\":{\"color\":\"white\"}},\"type\":\"table\"}]},\"layout\":{\"annotationdefaults\":{\"arrowcolor\":\"#2a3f5f\",\"arrowhead\":0,\"arrowwidth\":1},\"autotypenumbers\":\"strict\",\"coloraxis\":{\"colorbar\":{\"outlinewidth\":0,\"ticks\":\"\"}},\"colorscale\":{\"diverging\":[[0,\"#8e0152\"],[0.1,\"#c51b7d\"],[0.2,\"#de77ae\"],[0.3,\"#f1b6da\"],[0.4,\"#fde0ef\"],[0.5,\"#f7f7f7\"],[0.6,\"#e6f5d0\"],[0.7,\"#b8e186\"],[0.8,\"#7fbc41\"],[0.9,\"#4d9221\"],[1,\"#276419\"]],\"sequential\":[[0.0,\"#0d0887\"],[0.1111111111111111,\"#46039f\"],[0.2222222222222222,\"#7201a8\"],[0.3333333333333333,\"#9c179e\"],[0.4444444444444444,\"#bd3786\"],[0.5555555555555556,\"#d8576b\"],[0.6666666666666666,\"#ed7953\"],[0.7777777777777778,\"#fb9f3a\"],[0.8888888888888888,\"#fdca26\"],[1.0,\"#f0f921\"]],\"sequentialminus\":[[0.0,\"#0d0887\"],[0.1111111111111111,\"#46039f\"],[0.2222222222222222,\"#7201a8\"],[0.3333333333333333,\"#9c179e\"],[0.4444444444444444,\"#bd3786\"],[0.5555555555555556,\"#d8576b\"],[0.6666666666666666,\"#ed7953\"],[0.7777777777777778,\"#fb9f3a\"],[0.8888888888888888,\"#fdca26\"],[1.0,\"#f0f921\"]]},\"colorway\":[\"#636efa\",\"#EF553B\",\"#00cc96\",\"#ab63fa\",\"#FFA15A\",\"#19d3f3\",\"#FF6692\",\"#B6E880\",\"#FF97FF\",\"#FECB52\"],\"font\":{\"color\":\"#2a3f5f\"},\"geo\":{\"bgcolor\":\"white\",\"lakecolor\":\"white\",\"landcolor\":\"#E5ECF6\",\"showlakes\":true,\"showland\":true,\"subunitcolor\":\"white\"},\"hoverlabel\":{\"align\":\"left\"},\"hovermode\":\"closest\",\"mapbox\":{\"style\":\"light\"},\"paper_bgcolor\":\"white\",\"plot_bgcolor\":\"#E5ECF6\",\"polar\":{\"angularaxis\":{\"gridcolor\":\"white\",\"linecolor\":\"white\",\"ticks\":\"\"},\"bgcolor\":\"#E5ECF6\",\"radialaxis\":{\"gridcolor\":\"white\",\"linecolor\":\"white\",\"ticks\":\"\"}},\"scene\":{\"xaxis\":{\"backgroundcolor\":\"#E5ECF6\",\"gridcolor\":\"white\",\"gridwidth\":2,\"linecolor\":\"white\",\"showbackground\":true,\"ticks\":\"\",\"zerolinecolor\":\"white\"},\"yaxis\":{\"backgroundcolor\":\"#E5ECF6\",\"gridcolor\":\"white\",\"gridwidth\":2,\"linecolor\":\"white\",\"showbackground\":true,\"ticks\":\"\",\"zerolinecolor\":\"white\"},\"zaxis\":{\"backgroundcolor\":\"#E5ECF6\",\"gridcolor\":\"white\",\"gridwidth\":2,\"linecolor\":\"white\",\"showbackground\":true,\"ticks\":\"\",\"zerolinecolor\":\"white\"}},\"shapedefaults\":{\"line\":{\"color\":\"#2a3f5f\"}},\"ternary\":{\"aaxis\":{\"gridcolor\":\"white\",\"linecolor\":\"white\",\"ticks\":\"\"},\"baxis\":{\"gridcolor\":\"white\",\"linecolor\":\"white\",\"ticks\":\"\"},\"bgcolor\":\"#E5ECF6\",\"caxis\":{\"gridcolor\":\"white\",\"linecolor\":\"white\",\"ticks\":\"\"}},\"title\":{\"x\":0.05},\"xaxis\":{\"automargin\":true,\"gridcolor\":\"white\",\"linecolor\":\"white\",\"ticks\":\"\",\"title\":{\"standoff\":15},\"zerolinecolor\":\"white\",\"zerolinewidth\":2},\"yaxis\":{\"automargin\":true,\"gridcolor\":\"white\",\"linecolor\":\"white\",\"ticks\":\"\",\"title\":{\"standoff\":15},\"zerolinecolor\":\"white\",\"zerolinewidth\":2}}},\"title\":{\"font\":{\"color\":\"#4D5663\"}},\"xaxis\":{\"gridcolor\":\"#E1E5ED\",\"showgrid\":true,\"tickfont\":{\"color\":\"#4D5663\"},\"title\":{\"font\":{\"color\":\"#4D5663\"},\"text\":\"\"},\"zerolinecolor\":\"#E1E5ED\"},\"yaxis\":{\"gridcolor\":\"#E1E5ED\",\"showgrid\":true,\"tickfont\":{\"color\":\"#4D5663\"},\"title\":{\"font\":{\"color\":\"#4D5663\"},\"text\":\"\"},\"zerolinecolor\":\"#E1E5ED\"}},                        {\"showLink\": true, \"linkText\": \"Export to plot.ly\", \"plotlyServerURL\": \"https://plot.ly\", \"responsive\": true}                    ).then(function(){\n",
       "                            \n",
       "var gd = document.getElementById('391fa724-d7cf-4985-a844-36566f356049');\n",
       "var x = new MutationObserver(function (mutations, observer) {{\n",
       "        var display = window.getComputedStyle(gd).display;\n",
       "        if (!display || display === 'none') {{\n",
       "            console.log([gd, 'removed!']);\n",
       "            Plotly.purge(gd);\n",
       "            observer.disconnect();\n",
       "        }}\n",
       "}});\n",
       "\n",
       "// Listen for the removal of the full notebook cells\n",
       "var notebookContainer = gd.closest('#notebook-container');\n",
       "if (notebookContainer) {{\n",
       "    x.observe(notebookContainer, {childList: true});\n",
       "}}\n",
       "\n",
       "// Listen for the clearing of the current output cell\n",
       "var outputEl = gd.closest('.output');\n",
       "if (outputEl) {{\n",
       "    x.observe(outputEl, {childList: true});\n",
       "}}\n",
       "\n",
       "                        })                };                });            </script>        </div>"
      ]
     },
     "metadata": {},
     "output_type": "display_data"
    }
   ],
   "source": [
    "pd.DataFrame(zip(var_3,sk.scores_),columns=['var','score']).set_index('var').sort_values(by='score',\n",
    "                                  ascending=False).iplot(kind='bar',color='orange')"
   ]
  },
  {
   "cell_type": "code",
   "execution_count": 28,
   "id": "f452208d",
   "metadata": {
    "ExecuteTime": {
     "end_time": "2023-08-11T19:42:31.970250Z",
     "start_time": "2023-08-11T19:42:31.662293Z"
    }
   },
   "outputs": [
    {
     "data": {
      "text/html": [
       "<style>#sk-container-id-8 {color: black;background-color: white;}#sk-container-id-8 pre{padding: 0;}#sk-container-id-8 div.sk-toggleable {background-color: white;}#sk-container-id-8 label.sk-toggleable__label {cursor: pointer;display: block;width: 100%;margin-bottom: 0;padding: 0.3em;box-sizing: border-box;text-align: center;}#sk-container-id-8 label.sk-toggleable__label-arrow:before {content: \"▸\";float: left;margin-right: 0.25em;color: #696969;}#sk-container-id-8 label.sk-toggleable__label-arrow:hover:before {color: black;}#sk-container-id-8 div.sk-estimator:hover label.sk-toggleable__label-arrow:before {color: black;}#sk-container-id-8 div.sk-toggleable__content {max-height: 0;max-width: 0;overflow: hidden;text-align: left;background-color: #f0f8ff;}#sk-container-id-8 div.sk-toggleable__content pre {margin: 0.2em;color: black;border-radius: 0.25em;background-color: #f0f8ff;}#sk-container-id-8 input.sk-toggleable__control:checked~div.sk-toggleable__content {max-height: 200px;max-width: 100%;overflow: auto;}#sk-container-id-8 input.sk-toggleable__control:checked~label.sk-toggleable__label-arrow:before {content: \"▾\";}#sk-container-id-8 div.sk-estimator input.sk-toggleable__control:checked~label.sk-toggleable__label {background-color: #d4ebff;}#sk-container-id-8 div.sk-label input.sk-toggleable__control:checked~label.sk-toggleable__label {background-color: #d4ebff;}#sk-container-id-8 input.sk-hidden--visually {border: 0;clip: rect(1px 1px 1px 1px);clip: rect(1px, 1px, 1px, 1px);height: 1px;margin: -1px;overflow: hidden;padding: 0;position: absolute;width: 1px;}#sk-container-id-8 div.sk-estimator {font-family: monospace;background-color: #f0f8ff;border: 1px dotted black;border-radius: 0.25em;box-sizing: border-box;margin-bottom: 0.5em;}#sk-container-id-8 div.sk-estimator:hover {background-color: #d4ebff;}#sk-container-id-8 div.sk-parallel-item::after {content: \"\";width: 100%;border-bottom: 1px solid gray;flex-grow: 1;}#sk-container-id-8 div.sk-label:hover label.sk-toggleable__label {background-color: #d4ebff;}#sk-container-id-8 div.sk-serial::before {content: \"\";position: absolute;border-left: 1px solid gray;box-sizing: border-box;top: 0;bottom: 0;left: 50%;z-index: 0;}#sk-container-id-8 div.sk-serial {display: flex;flex-direction: column;align-items: center;background-color: white;padding-right: 0.2em;padding-left: 0.2em;position: relative;}#sk-container-id-8 div.sk-item {position: relative;z-index: 1;}#sk-container-id-8 div.sk-parallel {display: flex;align-items: stretch;justify-content: center;background-color: white;position: relative;}#sk-container-id-8 div.sk-item::before, #sk-container-id-8 div.sk-parallel-item::before {content: \"\";position: absolute;border-left: 1px solid gray;box-sizing: border-box;top: 0;bottom: 0;left: 50%;z-index: -1;}#sk-container-id-8 div.sk-parallel-item {display: flex;flex-direction: column;z-index: 1;position: relative;background-color: white;}#sk-container-id-8 div.sk-parallel-item:first-child::after {align-self: flex-end;width: 50%;}#sk-container-id-8 div.sk-parallel-item:last-child::after {align-self: flex-start;width: 50%;}#sk-container-id-8 div.sk-parallel-item:only-child::after {width: 0;}#sk-container-id-8 div.sk-dashed-wrapped {border: 1px dashed gray;margin: 0 0.4em 0.5em 0.4em;box-sizing: border-box;padding-bottom: 0.4em;background-color: white;}#sk-container-id-8 div.sk-label label {font-family: monospace;font-weight: bold;display: inline-block;line-height: 1.2em;}#sk-container-id-8 div.sk-label-container {text-align: center;}#sk-container-id-8 div.sk-container {/* jupyter's `normalize.less` sets `[hidden] { display: none; }` but bootstrap.min.css set `[hidden] { display: none !important; }` so we also need the `!important` here to be able to override the default hidden behavior on the sphinx rendered scikit-learn.org. See: https://github.com/scikit-learn/scikit-learn/issues/21755 */display: inline-block !important;position: relative;}#sk-container-id-8 div.sk-text-repr-fallback {display: none;}</style><div id=\"sk-container-id-8\" class=\"sk-top-container\"><div class=\"sk-text-repr-fallback\"><pre>SelectKBest(k=7, score_func=&lt;function f_regression at 0x7f61c124ed40&gt;)</pre><b>In a Jupyter environment, please rerun this cell to show the HTML representation or trust the notebook. <br />On GitHub, the HTML representation is unable to render, please try loading this page with nbviewer.org.</b></div><div class=\"sk-container\" hidden><div class=\"sk-item\"><div class=\"sk-estimator sk-toggleable\"><input class=\"sk-toggleable__control sk-hidden--visually\" id=\"sk-estimator-id-8\" type=\"checkbox\" checked><label for=\"sk-estimator-id-8\" class=\"sk-toggleable__label sk-toggleable__label-arrow\">SelectKBest</label><div class=\"sk-toggleable__content\"><pre>SelectKBest(k=7, score_func=&lt;function f_regression at 0x7f61c124ed40&gt;)</pre></div></div></div></div></div>"
      ],
      "text/plain": [
       "SelectKBest(k=7, score_func=<function f_regression at 0x7f61c124ed40>)"
      ]
     },
     "execution_count": 28,
     "metadata": {},
     "output_type": "execute_result"
    }
   ],
   "source": [
    "sk = SelectKBest(k=7,score_func = f_regression)\n",
    "sk.fit(Xi[var_3],Xi[vart_3[0]])"
   ]
  },
  {
   "cell_type": "code",
   "execution_count": 29,
   "id": "1c4d1b4d",
   "metadata": {
    "ExecuteTime": {
     "end_time": "2023-08-11T19:42:32.027307Z",
     "start_time": "2023-08-11T19:42:32.001954Z"
    }
   },
   "outputs": [
    {
     "data": {
      "text/plain": [
       "['Enero', 'Febrero', 'Marzo', 'Abril', 'Mayo', 'Junio', 'Julio']"
      ]
     },
     "execution_count": 29,
     "metadata": {},
     "output_type": "execute_result"
    }
   ],
   "source": [
    "best_3 = [a for a,b in zip(var_3,sk.get_support()) if b]\n",
    "best_3"
   ]
  },
  {
   "cell_type": "markdown",
   "id": "178c4fd8",
   "metadata": {},
   "source": [
    "## Valores extremos"
   ]
  },
  {
   "cell_type": "markdown",
   "id": "567dc164",
   "metadata": {},
   "source": [
    "### Para vart_1 (Junio)"
   ]
  },
  {
   "cell_type": "code",
   "execution_count": 30,
   "id": "dafe26ed",
   "metadata": {
    "ExecuteTime": {
     "end_time": "2023-08-11T19:42:32.212669Z",
     "start_time": "2023-08-11T19:42:32.041895Z"
    }
   },
   "outputs": [],
   "source": [
    "X_1 = Xi[um+best_1+vart_1].copy()"
   ]
  },
  {
   "cell_type": "code",
   "execution_count": 31,
   "id": "d4d2e448",
   "metadata": {
    "ExecuteTime": {
     "end_time": "2023-08-11T19:42:35.500281Z",
     "start_time": "2023-08-11T19:42:32.219661Z"
    }
   },
   "outputs": [
    {
     "data": {
      "text/plain": [
       "array([[<AxesSubplot:title={'center':'Enero'}>,\n",
       "        <AxesSubplot:title={'center':'Febrero'}>],\n",
       "       [<AxesSubplot:title={'center':'Marzo'}>,\n",
       "        <AxesSubplot:title={'center':'Abril'}>],\n",
       "       [<AxesSubplot:title={'center':'Mayo'}>, <AxesSubplot:>]],\n",
       "      dtype=object)"
      ]
     },
     "execution_count": 31,
     "metadata": {},
     "output_type": "execute_result"
    },
    {
     "data": {
      "image/png": "[encoded data removed]",
      "text/plain": [
       "<Figure size 720x720 with 6 Axes>"
      ]
     },
     "metadata": {
      "needs_background": "light"
     },
     "output_type": "display_data"
    }
   ],
   "source": [
    "X_1[best_1].hist(figsize=(10,10),color='purple')"
   ]
  },
  {
   "cell_type": "code",
   "execution_count": 32,
   "id": "9256aab7",
   "metadata": {
    "ExecuteTime": {
     "end_time": "2023-08-11T19:42:36.136655Z",
     "start_time": "2023-08-11T19:42:35.511454Z"
    },
    "scrolled": true
   },
   "outputs": [
    {
     "data": {
      "text/plain": [
       "0    0.98645\n",
       "1    0.01355\n",
       "Name: ex_, dtype: float64"
      ]
     },
     "execution_count": 32,
     "metadata": {},
     "output_type": "execute_result"
    }
   ],
   "source": [
    "for v,li,ls in X_1[best_1].describe(percentiles=[0.01,0.99]).T[['1%','99%']].reset_index().values:\n",
    "    X_1[f'ex_{v}'] = ((X_1[v]<li)|(X_1[v]>ls)).astype(int)\n",
    "X_1['ex_'] = X_1.filter(like='ex_').max(axis=1)\n",
    "X_1['ex_'].value_counts(1)"
   ]
  },
  {
   "cell_type": "code",
   "execution_count": 33,
   "id": "7f718d9b",
   "metadata": {
    "ExecuteTime": {
     "end_time": "2023-08-11T19:42:36.903334Z",
     "start_time": "2023-08-11T19:42:36.142677Z"
    }
   },
   "outputs": [],
   "source": [
    "for v,li,ls in X_1[best_1].describe(percentiles=[0.01,0.99]).T[['1%','99%']].reset_index().values:\n",
    "    X_1.loc[X_1[v]<li,v] = np.nan\n",
    "    X_1.loc[X_1[v]>ls,v] = np.nan"
   ]
  },
  {
   "cell_type": "code",
   "execution_count": 34,
   "id": "0f2d07ef",
   "metadata": {
    "ExecuteTime": {
     "end_time": "2023-08-11T19:42:37.783015Z",
     "start_time": "2023-08-11T19:42:36.908958Z"
    }
   },
   "outputs": [
    {
     "data": {
      "text/html": [
       "<style>#sk-container-id-9 {color: black;background-color: white;}#sk-container-id-9 pre{padding: 0;}#sk-container-id-9 div.sk-toggleable {background-color: white;}#sk-container-id-9 label.sk-toggleable__label {cursor: pointer;display: block;width: 100%;margin-bottom: 0;padding: 0.3em;box-sizing: border-box;text-align: center;}#sk-container-id-9 label.sk-toggleable__label-arrow:before {content: \"▸\";float: left;margin-right: 0.25em;color: #696969;}#sk-container-id-9 label.sk-toggleable__label-arrow:hover:before {color: black;}#sk-container-id-9 div.sk-estimator:hover label.sk-toggleable__label-arrow:before {color: black;}#sk-container-id-9 div.sk-toggleable__content {max-height: 0;max-width: 0;overflow: hidden;text-align: left;background-color: #f0f8ff;}#sk-container-id-9 div.sk-toggleable__content pre {margin: 0.2em;color: black;border-radius: 0.25em;background-color: #f0f8ff;}#sk-container-id-9 input.sk-toggleable__control:checked~div.sk-toggleable__content {max-height: 200px;max-width: 100%;overflow: auto;}#sk-container-id-9 input.sk-toggleable__control:checked~label.sk-toggleable__label-arrow:before {content: \"▾\";}#sk-container-id-9 div.sk-estimator input.sk-toggleable__control:checked~label.sk-toggleable__label {background-color: #d4ebff;}#sk-container-id-9 div.sk-label input.sk-toggleable__control:checked~label.sk-toggleable__label {background-color: #d4ebff;}#sk-container-id-9 input.sk-hidden--visually {border: 0;clip: rect(1px 1px 1px 1px);clip: rect(1px, 1px, 1px, 1px);height: 1px;margin: -1px;overflow: hidden;padding: 0;position: absolute;width: 1px;}#sk-container-id-9 div.sk-estimator {font-family: monospace;background-color: #f0f8ff;border: 1px dotted black;border-radius: 0.25em;box-sizing: border-box;margin-bottom: 0.5em;}#sk-container-id-9 div.sk-estimator:hover {background-color: #d4ebff;}#sk-container-id-9 div.sk-parallel-item::after {content: \"\";width: 100%;border-bottom: 1px solid gray;flex-grow: 1;}#sk-container-id-9 div.sk-label:hover label.sk-toggleable__label {background-color: #d4ebff;}#sk-container-id-9 div.sk-serial::before {content: \"\";position: absolute;border-left: 1px solid gray;box-sizing: border-box;top: 0;bottom: 0;left: 50%;z-index: 0;}#sk-container-id-9 div.sk-serial {display: flex;flex-direction: column;align-items: center;background-color: white;padding-right: 0.2em;padding-left: 0.2em;position: relative;}#sk-container-id-9 div.sk-item {position: relative;z-index: 1;}#sk-container-id-9 div.sk-parallel {display: flex;align-items: stretch;justify-content: center;background-color: white;position: relative;}#sk-container-id-9 div.sk-item::before, #sk-container-id-9 div.sk-parallel-item::before {content: \"\";position: absolute;border-left: 1px solid gray;box-sizing: border-box;top: 0;bottom: 0;left: 50%;z-index: -1;}#sk-container-id-9 div.sk-parallel-item {display: flex;flex-direction: column;z-index: 1;position: relative;background-color: white;}#sk-container-id-9 div.sk-parallel-item:first-child::after {align-self: flex-end;width: 50%;}#sk-container-id-9 div.sk-parallel-item:last-child::after {align-self: flex-start;width: 50%;}#sk-container-id-9 div.sk-parallel-item:only-child::after {width: 0;}#sk-container-id-9 div.sk-dashed-wrapped {border: 1px dashed gray;margin: 0 0.4em 0.5em 0.4em;box-sizing: border-box;padding-bottom: 0.4em;background-color: white;}#sk-container-id-9 div.sk-label label {font-family: monospace;font-weight: bold;display: inline-block;line-height: 1.2em;}#sk-container-id-9 div.sk-label-container {text-align: center;}#sk-container-id-9 div.sk-container {/* jupyter's `normalize.less` sets `[hidden] { display: none; }` but bootstrap.min.css set `[hidden] { display: none !important; }` so we also need the `!important` here to be able to override the default hidden behavior on the sphinx rendered scikit-learn.org. See: https://github.com/scikit-learn/scikit-learn/issues/21755 */display: inline-block !important;position: relative;}#sk-container-id-9 div.sk-text-repr-fallback {display: none;}</style><div id=\"sk-container-id-9\" class=\"sk-top-container\"><div class=\"sk-text-repr-fallback\"><pre>SimpleImputer(strategy=&#x27;median&#x27;)</pre><b>In a Jupyter environment, please rerun this cell to show the HTML representation or trust the notebook. <br />On GitHub, the HTML representation is unable to render, please try loading this page with nbviewer.org.</b></div><div class=\"sk-container\" hidden><div class=\"sk-item\"><div class=\"sk-estimator sk-toggleable\"><input class=\"sk-toggleable__control sk-hidden--visually\" id=\"sk-estimator-id-9\" type=\"checkbox\" checked><label for=\"sk-estimator-id-9\" class=\"sk-toggleable__label sk-toggleable__label-arrow\">SimpleImputer</label><div class=\"sk-toggleable__content\"><pre>SimpleImputer(strategy=&#x27;median&#x27;)</pre></div></div></div></div></div>"
      ],
      "text/plain": [
       "SimpleImputer(strategy='median')"
      ]
     },
     "execution_count": 34,
     "metadata": {},
     "output_type": "execute_result"
    }
   ],
   "source": [
    "sm = SimpleImputer(strategy='median')\n",
    "sm.fit(X_1[best_1])"
   ]
  },
  {
   "cell_type": "code",
   "execution_count": 35,
   "id": "3e8f1f80",
   "metadata": {
    "ExecuteTime": {
     "end_time": "2023-08-11T19:42:37.914278Z",
     "start_time": "2023-08-11T19:42:37.789909Z"
    }
   },
   "outputs": [],
   "source": [
    "S_1 = pd.DataFrame(sm.transform(X_1[best_1]),columns=best_1)\n",
    "S_1[um+vart_1] = X_1[um+vart_1].values"
   ]
  },
  {
   "cell_type": "code",
   "execution_count": 36,
   "id": "03961f30",
   "metadata": {
    "ExecuteTime": {
     "end_time": "2023-08-11T19:42:40.634783Z",
     "start_time": "2023-08-11T19:42:37.920617Z"
    }
   },
   "outputs": [
    {
     "data": {
      "text/html": [
       "<div>\n",
       "<style scoped>\n",
       "    .dataframe tbody tr th:only-of-type {\n",
       "        vertical-align: middle;\n",
       "    }\n",
       "\n",
       "    .dataframe tbody tr th {\n",
       "        vertical-align: top;\n",
       "    }\n",
       "\n",
       "    .dataframe thead th {\n",
       "        text-align: right;\n",
       "    }\n",
       "</style>\n",
       "<table border=\"1\" class=\"dataframe\">\n",
       "  <thead>\n",
       "    <tr style=\"text-align: right;\">\n",
       "      <th></th>\n",
       "      <th>ks</th>\n",
       "    </tr>\n",
       "    <tr>\n",
       "      <th>var</th>\n",
       "      <th></th>\n",
       "    </tr>\n",
       "  </thead>\n",
       "  <tbody>\n",
       "    <tr>\n",
       "      <th>Marzo</th>\n",
       "      <td>0.000649</td>\n",
       "    </tr>\n",
       "    <tr>\n",
       "      <th>Febrero</th>\n",
       "      <td>0.000635</td>\n",
       "    </tr>\n",
       "    <tr>\n",
       "      <th>Enero</th>\n",
       "      <td>0.000630</td>\n",
       "    </tr>\n",
       "    <tr>\n",
       "      <th>Abril</th>\n",
       "      <td>0.000629</td>\n",
       "    </tr>\n",
       "    <tr>\n",
       "      <th>Mayo</th>\n",
       "      <td>0.000614</td>\n",
       "    </tr>\n",
       "  </tbody>\n",
       "</table>\n",
       "</div>"
      ],
      "text/plain": [
       "               ks\n",
       "var              \n",
       "Marzo    0.000649\n",
       "Febrero  0.000635\n",
       "Enero    0.000630\n",
       "Abril    0.000629\n",
       "Mayo     0.000614"
      ]
     },
     "execution_count": 36,
     "metadata": {},
     "output_type": "execute_result"
    }
   ],
   "source": [
    "ks = pd.DataFrame(map(lambda v: (v,stats.ks_2samp(S_1[v],X_1[v].dropna()).statistic),best_1),\n",
    "                  columns=['var','ks']).set_index('var').sort_values(by='ks',ascending=False)\n",
    "ks"
   ]
  },
  {
   "cell_type": "code",
   "execution_count": 37,
   "id": "e348a9dc",
   "metadata": {
    "ExecuteTime": {
     "end_time": "2023-08-11T19:42:40.656067Z",
     "start_time": "2023-08-11T19:42:40.642194Z"
    }
   },
   "outputs": [
    {
     "data": {
      "text/plain": [
       "[]"
      ]
     },
     "execution_count": 37,
     "metadata": {},
     "output_type": "execute_result"
    }
   ],
   "source": [
    "fuera = [v for v in ks.index if ks['ks'][v]>0.05]\n",
    "fuera"
   ]
  },
  {
   "cell_type": "code",
   "execution_count": 38,
   "id": "883d7eb4",
   "metadata": {
    "ExecuteTime": {
     "end_time": "2023-08-11T19:42:43.045367Z",
     "start_time": "2023-08-11T19:42:40.662069Z"
    }
   },
   "outputs": [
    {
     "data": {
      "text/plain": [
       "array([[<AxesSubplot:title={'center':'Enero'}>,\n",
       "        <AxesSubplot:title={'center':'Febrero'}>],\n",
       "       [<AxesSubplot:title={'center':'Marzo'}>,\n",
       "        <AxesSubplot:title={'center':'Abril'}>],\n",
       "       [<AxesSubplot:title={'center':'Mayo'}>, <AxesSubplot:>]],\n",
       "      dtype=object)"
      ]
     },
     "execution_count": 38,
     "metadata": {},
     "output_type": "execute_result"
    },
    {
     "data": {
      "image/png": "[encoded data removed]",
      "text/plain": [
       "<Figure size 720x720 with 6 Axes>"
      ]
     },
     "metadata": {
      "needs_background": "light"
     },
     "output_type": "display_data"
    }
   ],
   "source": [
    "S_1[best_1].hist(figsize=(10,10),color='purple')"
   ]
  },
  {
   "cell_type": "markdown",
   "id": "bba9b620",
   "metadata": {},
   "source": [
    "### Para vart_2 (Julio)"
   ]
  },
  {
   "cell_type": "code",
   "execution_count": 39,
   "id": "74bede29",
   "metadata": {
    "ExecuteTime": {
     "end_time": "2023-08-11T19:42:43.168324Z",
     "start_time": "2023-08-11T19:42:43.051280Z"
    }
   },
   "outputs": [],
   "source": [
    "X_2 = Xi[um+best_2+vart_2].copy()"
   ]
  },
  {
   "cell_type": "code",
   "execution_count": 40,
   "id": "f7269788",
   "metadata": {
    "ExecuteTime": {
     "end_time": "2023-08-11T19:42:45.794709Z",
     "start_time": "2023-08-11T19:42:43.174459Z"
    }
   },
   "outputs": [
    {
     "data": {
      "text/plain": [
       "array([[<AxesSubplot:title={'center':'Enero'}>,\n",
       "        <AxesSubplot:title={'center':'Febrero'}>],\n",
       "       [<AxesSubplot:title={'center':'Marzo'}>,\n",
       "        <AxesSubplot:title={'center':'Abril'}>],\n",
       "       [<AxesSubplot:title={'center':'Mayo'}>,\n",
       "        <AxesSubplot:title={'center':'Junio'}>]], dtype=object)"
      ]
     },
     "execution_count": 40,
     "metadata": {},
     "output_type": "execute_result"
    },
    {
     "data": {
      "image/png": "[encoded data removed]",
      "text/plain": [
       "<Figure size 720x720 with 6 Axes>"
      ]
     },
     "metadata": {
      "needs_background": "light"
     },
     "output_type": "display_data"
    }
   ],
   "source": [
    "X_2[best_2].hist(figsize=(10,10),color='purple')"
   ]
  },
  {
   "cell_type": "code",
   "execution_count": 41,
   "id": "32b20f94",
   "metadata": {
    "ExecuteTime": {
     "end_time": "2023-08-11T19:42:46.543941Z",
     "start_time": "2023-08-11T19:42:45.801534Z"
    },
    "scrolled": true
   },
   "outputs": [
    {
     "data": {
      "text/plain": [
       "0    0.98596\n",
       "1    0.01404\n",
       "Name: ex_, dtype: float64"
      ]
     },
     "execution_count": 41,
     "metadata": {},
     "output_type": "execute_result"
    }
   ],
   "source": [
    "for v,li,ls in X_2[best_2].describe(percentiles=[0.01,0.99]).T[['1%','99%']].reset_index().values:\n",
    "    X_2[f'ex_{v}'] = ((X_2[v]<li)|(X_2[v]>ls)).astype(int)\n",
    "X_2['ex_'] = X_2.filter(like='ex_').max(axis=1)\n",
    "X_2['ex_'].value_counts(1)"
   ]
  },
  {
   "cell_type": "code",
   "execution_count": 42,
   "id": "20878abb",
   "metadata": {
    "ExecuteTime": {
     "end_time": "2023-08-11T19:42:47.568948Z",
     "start_time": "2023-08-11T19:42:46.550071Z"
    }
   },
   "outputs": [],
   "source": [
    "for v,li,ls in X_2[best_2].describe(percentiles=[0.01,0.99]).T[['1%','99%']].reset_index().values:\n",
    "    X_2.loc[X_2[v]<li,v] = np.nan\n",
    "    X_2.loc[X_2[v]>ls,v] = np.nan"
   ]
  },
  {
   "cell_type": "code",
   "execution_count": 43,
   "id": "0b442d82",
   "metadata": {
    "ExecuteTime": {
     "end_time": "2023-08-11T19:42:48.727511Z",
     "start_time": "2023-08-11T19:42:47.573941Z"
    }
   },
   "outputs": [
    {
     "data": {
      "text/html": [
       "<style>#sk-container-id-10 {color: black;background-color: white;}#sk-container-id-10 pre{padding: 0;}#sk-container-id-10 div.sk-toggleable {background-color: white;}#sk-container-id-10 label.sk-toggleable__label {cursor: pointer;display: block;width: 100%;margin-bottom: 0;padding: 0.3em;box-sizing: border-box;text-align: center;}#sk-container-id-10 label.sk-toggleable__label-arrow:before {content: \"▸\";float: left;margin-right: 0.25em;color: #696969;}#sk-container-id-10 label.sk-toggleable__label-arrow:hover:before {color: black;}#sk-container-id-10 div.sk-estimator:hover label.sk-toggleable__label-arrow:before {color: black;}#sk-container-id-10 div.sk-toggleable__content {max-height: 0;max-width: 0;overflow: hidden;text-align: left;background-color: #f0f8ff;}#sk-container-id-10 div.sk-toggleable__content pre {margin: 0.2em;color: black;border-radius: 0.25em;background-color: #f0f8ff;}#sk-container-id-10 input.sk-toggleable__control:checked~div.sk-toggleable__content {max-height: 200px;max-width: 100%;overflow: auto;}#sk-container-id-10 input.sk-toggleable__control:checked~label.sk-toggleable__label-arrow:before {content: \"▾\";}#sk-container-id-10 div.sk-estimator input.sk-toggleable__control:checked~label.sk-toggleable__label {background-color: #d4ebff;}#sk-container-id-10 div.sk-label input.sk-toggleable__control:checked~label.sk-toggleable__label {background-color: #d4ebff;}#sk-container-id-10 input.sk-hidden--visually {border: 0;clip: rect(1px 1px 1px 1px);clip: rect(1px, 1px, 1px, 1px);height: 1px;margin: -1px;overflow: hidden;padding: 0;position: absolute;width: 1px;}#sk-container-id-10 div.sk-estimator {font-family: monospace;background-color: #f0f8ff;border: 1px dotted black;border-radius: 0.25em;box-sizing: border-box;margin-bottom: 0.5em;}#sk-container-id-10 div.sk-estimator:hover {background-color: #d4ebff;}#sk-container-id-10 div.sk-parallel-item::after {content: \"\";width: 100%;border-bottom: 1px solid gray;flex-grow: 1;}#sk-container-id-10 div.sk-label:hover label.sk-toggleable__label {background-color: #d4ebff;}#sk-container-id-10 div.sk-serial::before {content: \"\";position: absolute;border-left: 1px solid gray;box-sizing: border-box;top: 0;bottom: 0;left: 50%;z-index: 0;}#sk-container-id-10 div.sk-serial {display: flex;flex-direction: column;align-items: center;background-color: white;padding-right: 0.2em;padding-left: 0.2em;position: relative;}#sk-container-id-10 div.sk-item {position: relative;z-index: 1;}#sk-container-id-10 div.sk-parallel {display: flex;align-items: stretch;justify-content: center;background-color: white;position: relative;}#sk-container-id-10 div.sk-item::before, #sk-container-id-10 div.sk-parallel-item::before {content: \"\";position: absolute;border-left: 1px solid gray;box-sizing: border-box;top: 0;bottom: 0;left: 50%;z-index: -1;}#sk-container-id-10 div.sk-parallel-item {display: flex;flex-direction: column;z-index: 1;position: relative;background-color: white;}#sk-container-id-10 div.sk-parallel-item:first-child::after {align-self: flex-end;width: 50%;}#sk-container-id-10 div.sk-parallel-item:last-child::after {align-self: flex-start;width: 50%;}#sk-container-id-10 div.sk-parallel-item:only-child::after {width: 0;}#sk-container-id-10 div.sk-dashed-wrapped {border: 1px dashed gray;margin: 0 0.4em 0.5em 0.4em;box-sizing: border-box;padding-bottom: 0.4em;background-color: white;}#sk-container-id-10 div.sk-label label {font-family: monospace;font-weight: bold;display: inline-block;line-height: 1.2em;}#sk-container-id-10 div.sk-label-container {text-align: center;}#sk-container-id-10 div.sk-container {/* jupyter's `normalize.less` sets `[hidden] { display: none; }` but bootstrap.min.css set `[hidden] { display: none !important; }` so we also need the `!important` here to be able to override the default hidden behavior on the sphinx rendered scikit-learn.org. See: https://github.com/scikit-learn/scikit-learn/issues/21755 */display: inline-block !important;position: relative;}#sk-container-id-10 div.sk-text-repr-fallback {display: none;}</style><div id=\"sk-container-id-10\" class=\"sk-top-container\"><div class=\"sk-text-repr-fallback\"><pre>SimpleImputer(strategy=&#x27;median&#x27;)</pre><b>In a Jupyter environment, please rerun this cell to show the HTML representation or trust the notebook. <br />On GitHub, the HTML representation is unable to render, please try loading this page with nbviewer.org.</b></div><div class=\"sk-container\" hidden><div class=\"sk-item\"><div class=\"sk-estimator sk-toggleable\"><input class=\"sk-toggleable__control sk-hidden--visually\" id=\"sk-estimator-id-10\" type=\"checkbox\" checked><label for=\"sk-estimator-id-10\" class=\"sk-toggleable__label sk-toggleable__label-arrow\">SimpleImputer</label><div class=\"sk-toggleable__content\"><pre>SimpleImputer(strategy=&#x27;median&#x27;)</pre></div></div></div></div></div>"
      ],
      "text/plain": [
       "SimpleImputer(strategy='median')"
      ]
     },
     "execution_count": 43,
     "metadata": {},
     "output_type": "execute_result"
    }
   ],
   "source": [
    "sm.fit(X_2[best_2])"
   ]
  },
  {
   "cell_type": "code",
   "execution_count": 44,
   "id": "d71cca93",
   "metadata": {
    "ExecuteTime": {
     "end_time": "2023-08-11T19:42:48.933895Z",
     "start_time": "2023-08-11T19:42:48.733865Z"
    }
   },
   "outputs": [],
   "source": [
    "S_2 = pd.DataFrame(sm.transform(X_2[best_2]),columns=best_2)\n",
    "S_2[um+vart_2] = X_2[um+vart_2].values"
   ]
  },
  {
   "cell_type": "code",
   "execution_count": 45,
   "id": "22707307",
   "metadata": {
    "ExecuteTime": {
     "end_time": "2023-08-11T19:42:52.329765Z",
     "start_time": "2023-08-11T19:42:48.940972Z"
    }
   },
   "outputs": [
    {
     "data": {
      "text/html": [
       "<div>\n",
       "<style scoped>\n",
       "    .dataframe tbody tr th:only-of-type {\n",
       "        vertical-align: middle;\n",
       "    }\n",
       "\n",
       "    .dataframe tbody tr th {\n",
       "        vertical-align: top;\n",
       "    }\n",
       "\n",
       "    .dataframe thead th {\n",
       "        text-align: right;\n",
       "    }\n",
       "</style>\n",
       "<table border=\"1\" class=\"dataframe\">\n",
       "  <thead>\n",
       "    <tr style=\"text-align: right;\">\n",
       "      <th></th>\n",
       "      <th>ks</th>\n",
       "    </tr>\n",
       "    <tr>\n",
       "      <th>var</th>\n",
       "      <th></th>\n",
       "    </tr>\n",
       "  </thead>\n",
       "  <tbody>\n",
       "    <tr>\n",
       "      <th>Marzo</th>\n",
       "      <td>0.000649</td>\n",
       "    </tr>\n",
       "    <tr>\n",
       "      <th>Febrero</th>\n",
       "      <td>0.000635</td>\n",
       "    </tr>\n",
       "    <tr>\n",
       "      <th>Enero</th>\n",
       "      <td>0.000630</td>\n",
       "    </tr>\n",
       "    <tr>\n",
       "      <th>Abril</th>\n",
       "      <td>0.000629</td>\n",
       "    </tr>\n",
       "    <tr>\n",
       "      <th>Junio</th>\n",
       "      <td>0.000619</td>\n",
       "    </tr>\n",
       "    <tr>\n",
       "      <th>Mayo</th>\n",
       "      <td>0.000614</td>\n",
       "    </tr>\n",
       "  </tbody>\n",
       "</table>\n",
       "</div>"
      ],
      "text/plain": [
       "               ks\n",
       "var              \n",
       "Marzo    0.000649\n",
       "Febrero  0.000635\n",
       "Enero    0.000630\n",
       "Abril    0.000629\n",
       "Junio    0.000619\n",
       "Mayo     0.000614"
      ]
     },
     "execution_count": 45,
     "metadata": {},
     "output_type": "execute_result"
    }
   ],
   "source": [
    "ks = pd.DataFrame(map(lambda v: (v,stats.ks_2samp(S_2[v],X_2[v].dropna()).statistic),best_2),\n",
    "                  columns=['var','ks']).set_index('var').sort_values(by='ks',ascending=False)\n",
    "ks"
   ]
  },
  {
   "cell_type": "code",
   "execution_count": 46,
   "id": "0e949156",
   "metadata": {
    "ExecuteTime": {
     "end_time": "2023-08-11T19:42:52.354224Z",
     "start_time": "2023-08-11T19:42:52.338932Z"
    }
   },
   "outputs": [
    {
     "data": {
      "text/plain": [
       "[]"
      ]
     },
     "execution_count": 46,
     "metadata": {},
     "output_type": "execute_result"
    }
   ],
   "source": [
    "fuera = [v for v in ks.index if ks['ks'][v]>0.05]\n",
    "fuera"
   ]
  },
  {
   "cell_type": "code",
   "execution_count": 47,
   "id": "69490787",
   "metadata": {
    "ExecuteTime": {
     "end_time": "2023-08-11T19:42:55.171084Z",
     "start_time": "2023-08-11T19:42:52.363331Z"
    }
   },
   "outputs": [
    {
     "data": {
      "text/plain": [
       "array([[<AxesSubplot:title={'center':'Enero'}>,\n",
       "        <AxesSubplot:title={'center':'Febrero'}>],\n",
       "       [<AxesSubplot:title={'center':'Marzo'}>,\n",
       "        <AxesSubplot:title={'center':'Abril'}>],\n",
       "       [<AxesSubplot:title={'center':'Mayo'}>,\n",
       "        <AxesSubplot:title={'center':'Junio'}>]], dtype=object)"
      ]
     },
     "execution_count": 47,
     "metadata": {},
     "output_type": "execute_result"
    },
    {
     "data": {
      "image/png": "[encoded data removed]",
      "text/plain": [
       "<Figure size 720x720 with 6 Axes>"
      ]
     },
     "metadata": {
      "needs_background": "light"
     },
     "output_type": "display_data"
    }
   ],
   "source": [
    "S_2[best_2].hist(figsize=(10,10),color='purple')"
   ]
  },
  {
   "cell_type": "markdown",
   "id": "ca107a8b",
   "metadata": {},
   "source": [
    "### Para vart_3 (Agosto)"
   ]
  },
  {
   "cell_type": "code",
   "execution_count": 48,
   "id": "1a473c6b",
   "metadata": {
    "ExecuteTime": {
     "end_time": "2023-08-11T19:42:55.307457Z",
     "start_time": "2023-08-11T19:42:55.178147Z"
    }
   },
   "outputs": [],
   "source": [
    "X_3 = Xi[um+best_3+vart_3].copy()"
   ]
  },
  {
   "cell_type": "code",
   "execution_count": 49,
   "id": "f44933f7",
   "metadata": {
    "ExecuteTime": {
     "end_time": "2023-08-11T19:42:58.017582Z",
     "start_time": "2023-08-11T19:42:55.313899Z"
    }
   },
   "outputs": [
    {
     "data": {
      "text/plain": [
       "array([[<AxesSubplot:title={'center':'Enero'}>,\n",
       "        <AxesSubplot:title={'center':'Febrero'}>,\n",
       "        <AxesSubplot:title={'center':'Marzo'}>],\n",
       "       [<AxesSubplot:title={'center':'Abril'}>,\n",
       "        <AxesSubplot:title={'center':'Mayo'}>,\n",
       "        <AxesSubplot:title={'center':'Junio'}>],\n",
       "       [<AxesSubplot:title={'center':'Julio'}>, <AxesSubplot:>,\n",
       "        <AxesSubplot:>]], dtype=object)"
      ]
     },
     "execution_count": 49,
     "metadata": {},
     "output_type": "execute_result"
    },
    {
     "data": {
      "image/png": "[encoded data removed]",
      "text/plain": [
       "<Figure size 720x720 with 9 Axes>"
      ]
     },
     "metadata": {
      "needs_background": "light"
     },
     "output_type": "display_data"
    }
   ],
   "source": [
    "X_3[best_3].hist(figsize=(10,10),color='purple')"
   ]
  },
  {
   "cell_type": "code",
   "execution_count": 50,
   "id": "933629b6",
   "metadata": {
    "ExecuteTime": {
     "end_time": "2023-08-11T19:42:58.845196Z",
     "start_time": "2023-08-11T19:42:58.024683Z"
    },
    "scrolled": true
   },
   "outputs": [
    {
     "data": {
      "text/plain": [
       "0    0.985475\n",
       "1    0.014525\n",
       "Name: ex_, dtype: float64"
      ]
     },
     "execution_count": 50,
     "metadata": {},
     "output_type": "execute_result"
    }
   ],
   "source": [
    "for v,li,ls in X_3[best_3].describe(percentiles=[0.01,0.99]).T[['1%','99%']].reset_index().values:\n",
    "    X_3[f'ex_{v}'] = ((X_3[v]<li)|(X_3[v]>ls)).astype(int)\n",
    "X_3['ex_'] = X_3.filter(like='ex_').max(axis=1)\n",
    "X_3['ex_'].value_counts(1)"
   ]
  },
  {
   "cell_type": "code",
   "execution_count": 51,
   "id": "64098f8f",
   "metadata": {
    "ExecuteTime": {
     "end_time": "2023-08-11T19:42:59.973879Z",
     "start_time": "2023-08-11T19:42:58.854877Z"
    }
   },
   "outputs": [],
   "source": [
    "for v,li,ls in X_3[best_3].describe(percentiles=[0.01,0.99]).T[['1%','99%']].reset_index().values:\n",
    "    X_3.loc[X_3[v]<li,v] = np.nan\n",
    "    X_3.loc[X_3[v]>ls,v] = np.nan"
   ]
  },
  {
   "cell_type": "code",
   "execution_count": 52,
   "id": "b24fd919",
   "metadata": {
    "ExecuteTime": {
     "end_time": "2023-08-11T19:43:01.386568Z",
     "start_time": "2023-08-11T19:42:59.978797Z"
    }
   },
   "outputs": [
    {
     "data": {
      "text/html": [
       "<style>#sk-container-id-11 {color: black;background-color: white;}#sk-container-id-11 pre{padding: 0;}#sk-container-id-11 div.sk-toggleable {background-color: white;}#sk-container-id-11 label.sk-toggleable__label {cursor: pointer;display: block;width: 100%;margin-bottom: 0;padding: 0.3em;box-sizing: border-box;text-align: center;}#sk-container-id-11 label.sk-toggleable__label-arrow:before {content: \"▸\";float: left;margin-right: 0.25em;color: #696969;}#sk-container-id-11 label.sk-toggleable__label-arrow:hover:before {color: black;}#sk-container-id-11 div.sk-estimator:hover label.sk-toggleable__label-arrow:before {color: black;}#sk-container-id-11 div.sk-toggleable__content {max-height: 0;max-width: 0;overflow: hidden;text-align: left;background-color: #f0f8ff;}#sk-container-id-11 div.sk-toggleable__content pre {margin: 0.2em;color: black;border-radius: 0.25em;background-color: #f0f8ff;}#sk-container-id-11 input.sk-toggleable__control:checked~div.sk-toggleable__content {max-height: 200px;max-width: 100%;overflow: auto;}#sk-container-id-11 input.sk-toggleable__control:checked~label.sk-toggleable__label-arrow:before {content: \"▾\";}#sk-container-id-11 div.sk-estimator input.sk-toggleable__control:checked~label.sk-toggleable__label {background-color: #d4ebff;}#sk-container-id-11 div.sk-label input.sk-toggleable__control:checked~label.sk-toggleable__label {background-color: #d4ebff;}#sk-container-id-11 input.sk-hidden--visually {border: 0;clip: rect(1px 1px 1px 1px);clip: rect(1px, 1px, 1px, 1px);height: 1px;margin: -1px;overflow: hidden;padding: 0;position: absolute;width: 1px;}#sk-container-id-11 div.sk-estimator {font-family: monospace;background-color: #f0f8ff;border: 1px dotted black;border-radius: 0.25em;box-sizing: border-box;margin-bottom: 0.5em;}#sk-container-id-11 div.sk-estimator:hover {background-color: #d4ebff;}#sk-container-id-11 div.sk-parallel-item::after {content: \"\";width: 100%;border-bottom: 1px solid gray;flex-grow: 1;}#sk-container-id-11 div.sk-label:hover label.sk-toggleable__label {background-color: #d4ebff;}#sk-container-id-11 div.sk-serial::before {content: \"\";position: absolute;border-left: 1px solid gray;box-sizing: border-box;top: 0;bottom: 0;left: 50%;z-index: 0;}#sk-container-id-11 div.sk-serial {display: flex;flex-direction: column;align-items: center;background-color: white;padding-right: 0.2em;padding-left: 0.2em;position: relative;}#sk-container-id-11 div.sk-item {position: relative;z-index: 1;}#sk-container-id-11 div.sk-parallel {display: flex;align-items: stretch;justify-content: center;background-color: white;position: relative;}#sk-container-id-11 div.sk-item::before, #sk-container-id-11 div.sk-parallel-item::before {content: \"\";position: absolute;border-left: 1px solid gray;box-sizing: border-box;top: 0;bottom: 0;left: 50%;z-index: -1;}#sk-container-id-11 div.sk-parallel-item {display: flex;flex-direction: column;z-index: 1;position: relative;background-color: white;}#sk-container-id-11 div.sk-parallel-item:first-child::after {align-self: flex-end;width: 50%;}#sk-container-id-11 div.sk-parallel-item:last-child::after {align-self: flex-start;width: 50%;}#sk-container-id-11 div.sk-parallel-item:only-child::after {width: 0;}#sk-container-id-11 div.sk-dashed-wrapped {border: 1px dashed gray;margin: 0 0.4em 0.5em 0.4em;box-sizing: border-box;padding-bottom: 0.4em;background-color: white;}#sk-container-id-11 div.sk-label label {font-family: monospace;font-weight: bold;display: inline-block;line-height: 1.2em;}#sk-container-id-11 div.sk-label-container {text-align: center;}#sk-container-id-11 div.sk-container {/* jupyter's `normalize.less` sets `[hidden] { display: none; }` but bootstrap.min.css set `[hidden] { display: none !important; }` so we also need the `!important` here to be able to override the default hidden behavior on the sphinx rendered scikit-learn.org. See: https://github.com/scikit-learn/scikit-learn/issues/21755 */display: inline-block !important;position: relative;}#sk-container-id-11 div.sk-text-repr-fallback {display: none;}</style><div id=\"sk-container-id-11\" class=\"sk-top-container\"><div class=\"sk-text-repr-fallback\"><pre>SimpleImputer(strategy=&#x27;median&#x27;)</pre><b>In a Jupyter environment, please rerun this cell to show the HTML representation or trust the notebook. <br />On GitHub, the HTML representation is unable to render, please try loading this page with nbviewer.org.</b></div><div class=\"sk-container\" hidden><div class=\"sk-item\"><div class=\"sk-estimator sk-toggleable\"><input class=\"sk-toggleable__control sk-hidden--visually\" id=\"sk-estimator-id-11\" type=\"checkbox\" checked><label for=\"sk-estimator-id-11\" class=\"sk-toggleable__label sk-toggleable__label-arrow\">SimpleImputer</label><div class=\"sk-toggleable__content\"><pre>SimpleImputer(strategy=&#x27;median&#x27;)</pre></div></div></div></div></div>"
      ],
      "text/plain": [
       "SimpleImputer(strategy='median')"
      ]
     },
     "execution_count": 52,
     "metadata": {},
     "output_type": "execute_result"
    }
   ],
   "source": [
    "sm.fit(X_3[best_3])"
   ]
  },
  {
   "cell_type": "code",
   "execution_count": 53,
   "id": "af8a3a90",
   "metadata": {
    "ExecuteTime": {
     "end_time": "2023-08-11T19:43:01.616806Z",
     "start_time": "2023-08-11T19:43:01.392264Z"
    }
   },
   "outputs": [],
   "source": [
    "S_3 = pd.DataFrame(sm.transform(X_3[best_3]),columns=best_3)\n",
    "S_3[um+vart_3] = X_3[um+vart_3].values"
   ]
  },
  {
   "cell_type": "code",
   "execution_count": 54,
   "id": "1899ded7",
   "metadata": {
    "ExecuteTime": {
     "end_time": "2023-08-11T19:43:05.396817Z",
     "start_time": "2023-08-11T19:43:01.622979Z"
    }
   },
   "outputs": [
    {
     "data": {
      "text/html": [
       "<div>\n",
       "<style scoped>\n",
       "    .dataframe tbody tr th:only-of-type {\n",
       "        vertical-align: middle;\n",
       "    }\n",
       "\n",
       "    .dataframe tbody tr th {\n",
       "        vertical-align: top;\n",
       "    }\n",
       "\n",
       "    .dataframe thead th {\n",
       "        text-align: right;\n",
       "    }\n",
       "</style>\n",
       "<table border=\"1\" class=\"dataframe\">\n",
       "  <thead>\n",
       "    <tr style=\"text-align: right;\">\n",
       "      <th></th>\n",
       "      <th>ks</th>\n",
       "    </tr>\n",
       "    <tr>\n",
       "      <th>var</th>\n",
       "      <th></th>\n",
       "    </tr>\n",
       "  </thead>\n",
       "  <tbody>\n",
       "    <tr>\n",
       "      <th>Marzo</th>\n",
       "      <td>0.000649</td>\n",
       "    </tr>\n",
       "    <tr>\n",
       "      <th>Febrero</th>\n",
       "      <td>0.000635</td>\n",
       "    </tr>\n",
       "    <tr>\n",
       "      <th>Enero</th>\n",
       "      <td>0.000630</td>\n",
       "    </tr>\n",
       "    <tr>\n",
       "      <th>Abril</th>\n",
       "      <td>0.000629</td>\n",
       "    </tr>\n",
       "    <tr>\n",
       "      <th>Julio</th>\n",
       "      <td>0.000628</td>\n",
       "    </tr>\n",
       "    <tr>\n",
       "      <th>Junio</th>\n",
       "      <td>0.000619</td>\n",
       "    </tr>\n",
       "    <tr>\n",
       "      <th>Mayo</th>\n",
       "      <td>0.000614</td>\n",
       "    </tr>\n",
       "  </tbody>\n",
       "</table>\n",
       "</div>"
      ],
      "text/plain": [
       "               ks\n",
       "var              \n",
       "Marzo    0.000649\n",
       "Febrero  0.000635\n",
       "Enero    0.000630\n",
       "Abril    0.000629\n",
       "Julio    0.000628\n",
       "Junio    0.000619\n",
       "Mayo     0.000614"
      ]
     },
     "execution_count": 54,
     "metadata": {},
     "output_type": "execute_result"
    }
   ],
   "source": [
    "ks = pd.DataFrame(map(lambda v: (v,stats.ks_2samp(S_3[v],X_3[v].dropna()).statistic),best_3),\n",
    "                  columns=['var','ks']).set_index('var').sort_values(by='ks',ascending=False)\n",
    "ks"
   ]
  },
  {
   "cell_type": "code",
   "execution_count": 55,
   "id": "4560a451",
   "metadata": {
    "ExecuteTime": {
     "end_time": "2023-08-11T19:43:05.417293Z",
     "start_time": "2023-08-11T19:43:05.402105Z"
    }
   },
   "outputs": [
    {
     "data": {
      "text/plain": [
       "[]"
      ]
     },
     "execution_count": 55,
     "metadata": {},
     "output_type": "execute_result"
    }
   ],
   "source": [
    "fuera = [v for v in ks.index if ks['ks'][v]>0.05]\n",
    "fuera"
   ]
  },
  {
   "cell_type": "code",
   "execution_count": 56,
   "id": "3577baef",
   "metadata": {
    "ExecuteTime": {
     "end_time": "2023-08-11T19:43:08.860692Z",
     "start_time": "2023-08-11T19:43:05.423652Z"
    }
   },
   "outputs": [
    {
     "data": {
      "text/plain": [
       "array([[<AxesSubplot:title={'center':'Enero'}>,\n",
       "        <AxesSubplot:title={'center':'Febrero'}>,\n",
       "        <AxesSubplot:title={'center':'Marzo'}>],\n",
       "       [<AxesSubplot:title={'center':'Abril'}>,\n",
       "        <AxesSubplot:title={'center':'Mayo'}>,\n",
       "        <AxesSubplot:title={'center':'Junio'}>],\n",
       "       [<AxesSubplot:title={'center':'Julio'}>, <AxesSubplot:>,\n",
       "        <AxesSubplot:>]], dtype=object)"
      ]
     },
     "execution_count": 56,
     "metadata": {},
     "output_type": "execute_result"
    },
    {
     "data": {
      "image/png": "[encoded data removed]",
      "text/plain": [
       "<Figure size 720x720 with 9 Axes>"
      ]
     },
     "metadata": {
      "needs_background": "light"
     },
     "output_type": "display_data"
    }
   ],
   "source": [
    "S_3[best_3].hist(figsize=(10,10),color='purple')"
   ]
  },
  {
   "cell_type": "markdown",
   "id": "01eade27",
   "metadata": {},
   "source": [
    "# Estandarización de variables"
   ]
  },
  {
   "cell_type": "markdown",
   "id": "7de3e713",
   "metadata": {},
   "source": [
    "## Para vart_1"
   ]
  },
  {
   "cell_type": "code",
   "execution_count": 57,
   "id": "1a281daa",
   "metadata": {
    "ExecuteTime": {
     "end_time": "2023-08-11T19:43:08.986727Z",
     "start_time": "2023-08-11T19:43:08.869134Z"
    }
   },
   "outputs": [
    {
     "data": {
      "text/html": [
       "<style>#sk-container-id-12 {color: black;background-color: white;}#sk-container-id-12 pre{padding: 0;}#sk-container-id-12 div.sk-toggleable {background-color: white;}#sk-container-id-12 label.sk-toggleable__label {cursor: pointer;display: block;width: 100%;margin-bottom: 0;padding: 0.3em;box-sizing: border-box;text-align: center;}#sk-container-id-12 label.sk-toggleable__label-arrow:before {content: \"▸\";float: left;margin-right: 0.25em;color: #696969;}#sk-container-id-12 label.sk-toggleable__label-arrow:hover:before {color: black;}#sk-container-id-12 div.sk-estimator:hover label.sk-toggleable__label-arrow:before {color: black;}#sk-container-id-12 div.sk-toggleable__content {max-height: 0;max-width: 0;overflow: hidden;text-align: left;background-color: #f0f8ff;}#sk-container-id-12 div.sk-toggleable__content pre {margin: 0.2em;color: black;border-radius: 0.25em;background-color: #f0f8ff;}#sk-container-id-12 input.sk-toggleable__control:checked~div.sk-toggleable__content {max-height: 200px;max-width: 100%;overflow: auto;}#sk-container-id-12 input.sk-toggleable__control:checked~label.sk-toggleable__label-arrow:before {content: \"▾\";}#sk-container-id-12 div.sk-estimator input.sk-toggleable__control:checked~label.sk-toggleable__label {background-color: #d4ebff;}#sk-container-id-12 div.sk-label input.sk-toggleable__control:checked~label.sk-toggleable__label {background-color: #d4ebff;}#sk-container-id-12 input.sk-hidden--visually {border: 0;clip: rect(1px 1px 1px 1px);clip: rect(1px, 1px, 1px, 1px);height: 1px;margin: -1px;overflow: hidden;padding: 0;position: absolute;width: 1px;}#sk-container-id-12 div.sk-estimator {font-family: monospace;background-color: #f0f8ff;border: 1px dotted black;border-radius: 0.25em;box-sizing: border-box;margin-bottom: 0.5em;}#sk-container-id-12 div.sk-estimator:hover {background-color: #d4ebff;}#sk-container-id-12 div.sk-parallel-item::after {content: \"\";width: 100%;border-bottom: 1px solid gray;flex-grow: 1;}#sk-container-id-12 div.sk-label:hover label.sk-toggleable__label {background-color: #d4ebff;}#sk-container-id-12 div.sk-serial::before {content: \"\";position: absolute;border-left: 1px solid gray;box-sizing: border-box;top: 0;bottom: 0;left: 50%;z-index: 0;}#sk-container-id-12 div.sk-serial {display: flex;flex-direction: column;align-items: center;background-color: white;padding-right: 0.2em;padding-left: 0.2em;position: relative;}#sk-container-id-12 div.sk-item {position: relative;z-index: 1;}#sk-container-id-12 div.sk-parallel {display: flex;align-items: stretch;justify-content: center;background-color: white;position: relative;}#sk-container-id-12 div.sk-item::before, #sk-container-id-12 div.sk-parallel-item::before {content: \"\";position: absolute;border-left: 1px solid gray;box-sizing: border-box;top: 0;bottom: 0;left: 50%;z-index: -1;}#sk-container-id-12 div.sk-parallel-item {display: flex;flex-direction: column;z-index: 1;position: relative;background-color: white;}#sk-container-id-12 div.sk-parallel-item:first-child::after {align-self: flex-end;width: 50%;}#sk-container-id-12 div.sk-parallel-item:last-child::after {align-self: flex-start;width: 50%;}#sk-container-id-12 div.sk-parallel-item:only-child::after {width: 0;}#sk-container-id-12 div.sk-dashed-wrapped {border: 1px dashed gray;margin: 0 0.4em 0.5em 0.4em;box-sizing: border-box;padding-bottom: 0.4em;background-color: white;}#sk-container-id-12 div.sk-label label {font-family: monospace;font-weight: bold;display: inline-block;line-height: 1.2em;}#sk-container-id-12 div.sk-label-container {text-align: center;}#sk-container-id-12 div.sk-container {/* jupyter's `normalize.less` sets `[hidden] { display: none; }` but bootstrap.min.css set `[hidden] { display: none !important; }` so we also need the `!important` here to be able to override the default hidden behavior on the sphinx rendered scikit-learn.org. See: https://github.com/scikit-learn/scikit-learn/issues/21755 */display: inline-block !important;position: relative;}#sk-container-id-12 div.sk-text-repr-fallback {display: none;}</style><div id=\"sk-container-id-12\" class=\"sk-top-container\"><div class=\"sk-text-repr-fallback\"><pre>StandardScaler()</pre><b>In a Jupyter environment, please rerun this cell to show the HTML representation or trust the notebook. <br />On GitHub, the HTML representation is unable to render, please try loading this page with nbviewer.org.</b></div><div class=\"sk-container\" hidden><div class=\"sk-item\"><div class=\"sk-estimator sk-toggleable\"><input class=\"sk-toggleable__control sk-hidden--visually\" id=\"sk-estimator-id-12\" type=\"checkbox\" checked><label for=\"sk-estimator-id-12\" class=\"sk-toggleable__label sk-toggleable__label-arrow\">StandardScaler</label><div class=\"sk-toggleable__content\"><pre>StandardScaler()</pre></div></div></div></div></div>"
      ],
      "text/plain": [
       "StandardScaler()"
      ]
     },
     "execution_count": 57,
     "metadata": {},
     "output_type": "execute_result"
    }
   ],
   "source": [
    "sc = StandardScaler()\n",
    "sc.fit(S_1[best_1])"
   ]
  },
  {
   "cell_type": "code",
   "execution_count": 58,
   "id": "a4a25535",
   "metadata": {
    "ExecuteTime": {
     "end_time": "2023-08-11T19:43:09.098459Z",
     "start_time": "2023-08-11T19:43:08.993271Z"
    }
   },
   "outputs": [],
   "source": [
    "Sc_1 = pd.DataFrame(sc.transform(S_1[best_1]),columns=best_1)\n",
    "Sc_1[um+vart_1] = S_1[um+vart_1].values"
   ]
  },
  {
   "cell_type": "markdown",
   "id": "07ad5890",
   "metadata": {},
   "source": [
    "## Para vart_2"
   ]
  },
  {
   "cell_type": "code",
   "execution_count": 59,
   "id": "fd9811e8",
   "metadata": {
    "ExecuteTime": {
     "end_time": "2023-08-11T19:43:09.321659Z",
     "start_time": "2023-08-11T19:43:09.105282Z"
    }
   },
   "outputs": [
    {
     "data": {
      "text/html": [
       "<style>#sk-container-id-13 {color: black;background-color: white;}#sk-container-id-13 pre{padding: 0;}#sk-container-id-13 div.sk-toggleable {background-color: white;}#sk-container-id-13 label.sk-toggleable__label {cursor: pointer;display: block;width: 100%;margin-bottom: 0;padding: 0.3em;box-sizing: border-box;text-align: center;}#sk-container-id-13 label.sk-toggleable__label-arrow:before {content: \"▸\";float: left;margin-right: 0.25em;color: #696969;}#sk-container-id-13 label.sk-toggleable__label-arrow:hover:before {color: black;}#sk-container-id-13 div.sk-estimator:hover label.sk-toggleable__label-arrow:before {color: black;}#sk-container-id-13 div.sk-toggleable__content {max-height: 0;max-width: 0;overflow: hidden;text-align: left;background-color: #f0f8ff;}#sk-container-id-13 div.sk-toggleable__content pre {margin: 0.2em;color: black;border-radius: 0.25em;background-color: #f0f8ff;}#sk-container-id-13 input.sk-toggleable__control:checked~div.sk-toggleable__content {max-height: 200px;max-width: 100%;overflow: auto;}#sk-container-id-13 input.sk-toggleable__control:checked~label.sk-toggleable__label-arrow:before {content: \"▾\";}#sk-container-id-13 div.sk-estimator input.sk-toggleable__control:checked~label.sk-toggleable__label {background-color: #d4ebff;}#sk-container-id-13 div.sk-label input.sk-toggleable__control:checked~label.sk-toggleable__label {background-color: #d4ebff;}#sk-container-id-13 input.sk-hidden--visually {border: 0;clip: rect(1px 1px 1px 1px);clip: rect(1px, 1px, 1px, 1px);height: 1px;margin: -1px;overflow: hidden;padding: 0;position: absolute;width: 1px;}#sk-container-id-13 div.sk-estimator {font-family: monospace;background-color: #f0f8ff;border: 1px dotted black;border-radius: 0.25em;box-sizing: border-box;margin-bottom: 0.5em;}#sk-container-id-13 div.sk-estimator:hover {background-color: #d4ebff;}#sk-container-id-13 div.sk-parallel-item::after {content: \"\";width: 100%;border-bottom: 1px solid gray;flex-grow: 1;}#sk-container-id-13 div.sk-label:hover label.sk-toggleable__label {background-color: #d4ebff;}#sk-container-id-13 div.sk-serial::before {content: \"\";position: absolute;border-left: 1px solid gray;box-sizing: border-box;top: 0;bottom: 0;left: 50%;z-index: 0;}#sk-container-id-13 div.sk-serial {display: flex;flex-direction: column;align-items: center;background-color: white;padding-right: 0.2em;padding-left: 0.2em;position: relative;}#sk-container-id-13 div.sk-item {position: relative;z-index: 1;}#sk-container-id-13 div.sk-parallel {display: flex;align-items: stretch;justify-content: center;background-color: white;position: relative;}#sk-container-id-13 div.sk-item::before, #sk-container-id-13 div.sk-parallel-item::before {content: \"\";position: absolute;border-left: 1px solid gray;box-sizing: border-box;top: 0;bottom: 0;left: 50%;z-index: -1;}#sk-container-id-13 div.sk-parallel-item {display: flex;flex-direction: column;z-index: 1;position: relative;background-color: white;}#sk-container-id-13 div.sk-parallel-item:first-child::after {align-self: flex-end;width: 50%;}#sk-container-id-13 div.sk-parallel-item:last-child::after {align-self: flex-start;width: 50%;}#sk-container-id-13 div.sk-parallel-item:only-child::after {width: 0;}#sk-container-id-13 div.sk-dashed-wrapped {border: 1px dashed gray;margin: 0 0.4em 0.5em 0.4em;box-sizing: border-box;padding-bottom: 0.4em;background-color: white;}#sk-container-id-13 div.sk-label label {font-family: monospace;font-weight: bold;display: inline-block;line-height: 1.2em;}#sk-container-id-13 div.sk-label-container {text-align: center;}#sk-container-id-13 div.sk-container {/* jupyter's `normalize.less` sets `[hidden] { display: none; }` but bootstrap.min.css set `[hidden] { display: none !important; }` so we also need the `!important` here to be able to override the default hidden behavior on the sphinx rendered scikit-learn.org. See: https://github.com/scikit-learn/scikit-learn/issues/21755 */display: inline-block !important;position: relative;}#sk-container-id-13 div.sk-text-repr-fallback {display: none;}</style><div id=\"sk-container-id-13\" class=\"sk-top-container\"><div class=\"sk-text-repr-fallback\"><pre>StandardScaler()</pre><b>In a Jupyter environment, please rerun this cell to show the HTML representation or trust the notebook. <br />On GitHub, the HTML representation is unable to render, please try loading this page with nbviewer.org.</b></div><div class=\"sk-container\" hidden><div class=\"sk-item\"><div class=\"sk-estimator sk-toggleable\"><input class=\"sk-toggleable__control sk-hidden--visually\" id=\"sk-estimator-id-13\" type=\"checkbox\" checked><label for=\"sk-estimator-id-13\" class=\"sk-toggleable__label sk-toggleable__label-arrow\">StandardScaler</label><div class=\"sk-toggleable__content\"><pre>StandardScaler()</pre></div></div></div></div></div>"
      ],
      "text/plain": [
       "StandardScaler()"
      ]
     },
     "execution_count": 59,
     "metadata": {},
     "output_type": "execute_result"
    }
   ],
   "source": [
    "sc = StandardScaler()\n",
    "sc.fit(S_2[best_2])"
   ]
  },
  {
   "cell_type": "code",
   "execution_count": 60,
   "id": "0c2910ba",
   "metadata": {
    "ExecuteTime": {
     "end_time": "2023-08-11T19:43:09.505761Z",
     "start_time": "2023-08-11T19:43:09.327477Z"
    }
   },
   "outputs": [],
   "source": [
    "Sc_2 = pd.DataFrame(sc.transform(S_2[best_2]),columns=best_2)\n",
    "Sc_2[um+vart_2] = S_2[um+vart_2].values"
   ]
  },
  {
   "cell_type": "markdown",
   "id": "56d4c2f2",
   "metadata": {},
   "source": [
    "## Para vart_3"
   ]
  },
  {
   "cell_type": "code",
   "execution_count": 61,
   "id": "70c76bd2",
   "metadata": {
    "ExecuteTime": {
     "end_time": "2023-08-11T19:43:09.721347Z",
     "start_time": "2023-08-11T19:43:09.512208Z"
    }
   },
   "outputs": [
    {
     "data": {
      "text/html": [
       "<style>#sk-container-id-14 {color: black;background-color: white;}#sk-container-id-14 pre{padding: 0;}#sk-container-id-14 div.sk-toggleable {background-color: white;}#sk-container-id-14 label.sk-toggleable__label {cursor: pointer;display: block;width: 100%;margin-bottom: 0;padding: 0.3em;box-sizing: border-box;text-align: center;}#sk-container-id-14 label.sk-toggleable__label-arrow:before {content: \"▸\";float: left;margin-right: 0.25em;color: #696969;}#sk-container-id-14 label.sk-toggleable__label-arrow:hover:before {color: black;}#sk-container-id-14 div.sk-estimator:hover label.sk-toggleable__label-arrow:before {color: black;}#sk-container-id-14 div.sk-toggleable__content {max-height: 0;max-width: 0;overflow: hidden;text-align: left;background-color: #f0f8ff;}#sk-container-id-14 div.sk-toggleable__content pre {margin: 0.2em;color: black;border-radius: 0.25em;background-color: #f0f8ff;}#sk-container-id-14 input.sk-toggleable__control:checked~div.sk-toggleable__content {max-height: 200px;max-width: 100%;overflow: auto;}#sk-container-id-14 input.sk-toggleable__control:checked~label.sk-toggleable__label-arrow:before {content: \"▾\";}#sk-container-id-14 div.sk-estimator input.sk-toggleable__control:checked~label.sk-toggleable__label {background-color: #d4ebff;}#sk-container-id-14 div.sk-label input.sk-toggleable__control:checked~label.sk-toggleable__label {background-color: #d4ebff;}#sk-container-id-14 input.sk-hidden--visually {border: 0;clip: rect(1px 1px 1px 1px);clip: rect(1px, 1px, 1px, 1px);height: 1px;margin: -1px;overflow: hidden;padding: 0;position: absolute;width: 1px;}#sk-container-id-14 div.sk-estimator {font-family: monospace;background-color: #f0f8ff;border: 1px dotted black;border-radius: 0.25em;box-sizing: border-box;margin-bottom: 0.5em;}#sk-container-id-14 div.sk-estimator:hover {background-color: #d4ebff;}#sk-container-id-14 div.sk-parallel-item::after {content: \"\";width: 100%;border-bottom: 1px solid gray;flex-grow: 1;}#sk-container-id-14 div.sk-label:hover label.sk-toggleable__label {background-color: #d4ebff;}#sk-container-id-14 div.sk-serial::before {content: \"\";position: absolute;border-left: 1px solid gray;box-sizing: border-box;top: 0;bottom: 0;left: 50%;z-index: 0;}#sk-container-id-14 div.sk-serial {display: flex;flex-direction: column;align-items: center;background-color: white;padding-right: 0.2em;padding-left: 0.2em;position: relative;}#sk-container-id-14 div.sk-item {position: relative;z-index: 1;}#sk-container-id-14 div.sk-parallel {display: flex;align-items: stretch;justify-content: center;background-color: white;position: relative;}#sk-container-id-14 div.sk-item::before, #sk-container-id-14 div.sk-parallel-item::before {content: \"\";position: absolute;border-left: 1px solid gray;box-sizing: border-box;top: 0;bottom: 0;left: 50%;z-index: -1;}#sk-container-id-14 div.sk-parallel-item {display: flex;flex-direction: column;z-index: 1;position: relative;background-color: white;}#sk-container-id-14 div.sk-parallel-item:first-child::after {align-self: flex-end;width: 50%;}#sk-container-id-14 div.sk-parallel-item:last-child::after {align-self: flex-start;width: 50%;}#sk-container-id-14 div.sk-parallel-item:only-child::after {width: 0;}#sk-container-id-14 div.sk-dashed-wrapped {border: 1px dashed gray;margin: 0 0.4em 0.5em 0.4em;box-sizing: border-box;padding-bottom: 0.4em;background-color: white;}#sk-container-id-14 div.sk-label label {font-family: monospace;font-weight: bold;display: inline-block;line-height: 1.2em;}#sk-container-id-14 div.sk-label-container {text-align: center;}#sk-container-id-14 div.sk-container {/* jupyter's `normalize.less` sets `[hidden] { display: none; }` but bootstrap.min.css set `[hidden] { display: none !important; }` so we also need the `!important` here to be able to override the default hidden behavior on the sphinx rendered scikit-learn.org. See: https://github.com/scikit-learn/scikit-learn/issues/21755 */display: inline-block !important;position: relative;}#sk-container-id-14 div.sk-text-repr-fallback {display: none;}</style><div id=\"sk-container-id-14\" class=\"sk-top-container\"><div class=\"sk-text-repr-fallback\"><pre>StandardScaler()</pre><b>In a Jupyter environment, please rerun this cell to show the HTML representation or trust the notebook. <br />On GitHub, the HTML representation is unable to render, please try loading this page with nbviewer.org.</b></div><div class=\"sk-container\" hidden><div class=\"sk-item\"><div class=\"sk-estimator sk-toggleable\"><input class=\"sk-toggleable__control sk-hidden--visually\" id=\"sk-estimator-id-14\" type=\"checkbox\" checked><label for=\"sk-estimator-id-14\" class=\"sk-toggleable__label sk-toggleable__label-arrow\">StandardScaler</label><div class=\"sk-toggleable__content\"><pre>StandardScaler()</pre></div></div></div></div></div>"
      ],
      "text/plain": [
       "StandardScaler()"
      ]
     },
     "execution_count": 61,
     "metadata": {},
     "output_type": "execute_result"
    }
   ],
   "source": [
    "sc = StandardScaler()\n",
    "sc.fit(S_3[best_3])"
   ]
  },
  {
   "cell_type": "code",
   "execution_count": 62,
   "id": "37d46683",
   "metadata": {
    "ExecuteTime": {
     "end_time": "2023-08-11T19:43:09.914981Z",
     "start_time": "2023-08-11T19:43:09.727903Z"
    }
   },
   "outputs": [],
   "source": [
    "Sc_3 = pd.DataFrame(sc.transform(S_3[best_3]),columns=best_3)\n",
    "Sc_3[um+vart_3] = S_3[um+vart_3].values"
   ]
  },
  {
   "cell_type": "markdown",
   "id": "3a325a74",
   "metadata": {},
   "source": [
    "# Partición de entrenamiento"
   ]
  },
  {
   "cell_type": "markdown",
   "id": "a01627db",
   "metadata": {},
   "source": [
    "## vart_1"
   ]
  },
  {
   "cell_type": "code",
   "execution_count": 63,
   "id": "0781aeb6",
   "metadata": {
    "ExecuteTime": {
     "end_time": "2023-08-11T19:43:10.286757Z",
     "start_time": "2023-08-11T19:43:09.921779Z"
    }
   },
   "outputs": [],
   "source": [
    "Xt_1,Xv_1 = train_test_split(Sc_1,train_size=0.7)\n",
    "Xt_1.reset_index(drop=True,inplace=True)\n",
    "Xv_1.reset_index(drop=True,inplace=True)"
   ]
  },
  {
   "cell_type": "markdown",
   "id": "1f94a551",
   "metadata": {},
   "source": [
    "## vart_2"
   ]
  },
  {
   "cell_type": "code",
   "execution_count": 64,
   "id": "b02a787a",
   "metadata": {
    "ExecuteTime": {
     "end_time": "2023-08-11T19:43:10.846247Z",
     "start_time": "2023-08-11T19:43:10.292640Z"
    }
   },
   "outputs": [],
   "source": [
    "Xt_2,Xv_2 = train_test_split(Sc_2,train_size=0.7)\n",
    "Xt_2.reset_index(drop=True,inplace=True)\n",
    "Xv_2.reset_index(drop=True,inplace=True)"
   ]
  },
  {
   "cell_type": "markdown",
   "id": "7f2660ce",
   "metadata": {},
   "source": [
    "## vart_3"
   ]
  },
  {
   "cell_type": "code",
   "execution_count": 65,
   "id": "2f5d6ee3",
   "metadata": {
    "ExecuteTime": {
     "end_time": "2023-08-11T19:43:11.462615Z",
     "start_time": "2023-08-11T19:43:10.870422Z"
    }
   },
   "outputs": [],
   "source": [
    "Xt_3,Xv_3 = train_test_split(Sc_3,train_size=0.7)\n",
    "Xt_3.reset_index(drop=True,inplace=True)\n",
    "Xv_3.reset_index(drop=True,inplace=True)"
   ]
  },
  {
   "cell_type": "markdown",
   "id": "77ba5fbc",
   "metadata": {},
   "source": [
    "# Aprendizaje"
   ]
  },
  {
   "cell_type": "markdown",
   "id": "f3f47f45",
   "metadata": {},
   "source": [
    "## vart_1"
   ]
  },
  {
   "cell_type": "code",
   "execution_count": 88,
   "id": "563aa481",
   "metadata": {
    "ExecuteTime": {
     "end_time": "2023-08-11T20:40:30.993360Z",
     "start_time": "2023-08-11T20:40:30.973902Z"
    }
   },
   "outputs": [],
   "source": [
    "modelo_1 = MLPRegressor()\n",
    "\n",
    "hp = dict(hidden_layer_sizes=[(a,b,c) for a in range(2,3) for b in range(2,4) for c in range(2,3)],\n",
    "         activation = ['identity','logistic','tanh','relu'],\n",
    "         solver=['sgd'],\n",
    "         alpha = np.arange(0.0001,0.001,0.0001),\n",
    "         learning_rate=['constant','invscaling','adaptive'],\n",
    "         max_iter = [100])\n",
    "\n",
    "grid = RandomizedSearchCV(param_distributions=hp,\n",
    "                         n_iter=1,\n",
    "                         cv = 2,\n",
    "                         n_jobs=-1,\n",
    "                         verbose=True,\n",
    "                         estimator = modelo_1)"
   ]
  },
  {
   "cell_type": "code",
   "execution_count": 89,
   "id": "5bf0deca",
   "metadata": {
    "ExecuteTime": {
     "end_time": "2023-08-11T20:49:37.106479Z",
     "start_time": "2023-08-11T20:40:31.674808Z"
    },
    "scrolled": false
   },
   "outputs": [
    {
     "name": "stdout",
     "output_type": "stream",
     "text": [
      "Fitting 2 folds for each of 1 candidates, totalling 2 fits\n"
     ]
    },
    {
     "name": "stderr",
     "output_type": "stream",
     "text": [
      "/home/oscarjarillo/.local/lib/python3.10/site-packages/sklearn/neural_network/_multilayer_perceptron.py:702: ConvergenceWarning: Stochastic Optimizer: Maximum iterations (100) reached and the optimization hasn't converged yet.\n",
      "  warnings.warn(\n",
      "/home/oscarjarillo/.local/lib/python3.10/site-packages/sklearn/neural_network/_multilayer_perceptron.py:702: ConvergenceWarning: Stochastic Optimizer: Maximum iterations (100) reached and the optimization hasn't converged yet.\n",
      "  warnings.warn(\n",
      "/home/oscarjarillo/.local/lib/python3.10/site-packages/sklearn/neural_network/_multilayer_perceptron.py:702: ConvergenceWarning:\n",
      "\n",
      "Stochastic Optimizer: Maximum iterations (100) reached and the optimization hasn't converged yet.\n",
      "\n"
     ]
    },
    {
     "data": {
      "text/html": [
       "<style>#sk-container-id-15 {color: black;background-color: white;}#sk-container-id-15 pre{padding: 0;}#sk-container-id-15 div.sk-toggleable {background-color: white;}#sk-container-id-15 label.sk-toggleable__label {cursor: pointer;display: block;width: 100%;margin-bottom: 0;padding: 0.3em;box-sizing: border-box;text-align: center;}#sk-container-id-15 label.sk-toggleable__label-arrow:before {content: \"▸\";float: left;margin-right: 0.25em;color: #696969;}#sk-container-id-15 label.sk-toggleable__label-arrow:hover:before {color: black;}#sk-container-id-15 div.sk-estimator:hover label.sk-toggleable__label-arrow:before {color: black;}#sk-container-id-15 div.sk-toggleable__content {max-height: 0;max-width: 0;overflow: hidden;text-align: left;background-color: #f0f8ff;}#sk-container-id-15 div.sk-toggleable__content pre {margin: 0.2em;color: black;border-radius: 0.25em;background-color: #f0f8ff;}#sk-container-id-15 input.sk-toggleable__control:checked~div.sk-toggleable__content {max-height: 200px;max-width: 100%;overflow: auto;}#sk-container-id-15 input.sk-toggleable__control:checked~label.sk-toggleable__label-arrow:before {content: \"▾\";}#sk-container-id-15 div.sk-estimator input.sk-toggleable__control:checked~label.sk-toggleable__label {background-color: #d4ebff;}#sk-container-id-15 div.sk-label input.sk-toggleable__control:checked~label.sk-toggleable__label {background-color: #d4ebff;}#sk-container-id-15 input.sk-hidden--visually {border: 0;clip: rect(1px 1px 1px 1px);clip: rect(1px, 1px, 1px, 1px);height: 1px;margin: -1px;overflow: hidden;padding: 0;position: absolute;width: 1px;}#sk-container-id-15 div.sk-estimator {font-family: monospace;background-color: #f0f8ff;border: 1px dotted black;border-radius: 0.25em;box-sizing: border-box;margin-bottom: 0.5em;}#sk-container-id-15 div.sk-estimator:hover {background-color: #d4ebff;}#sk-container-id-15 div.sk-parallel-item::after {content: \"\";width: 100%;border-bottom: 1px solid gray;flex-grow: 1;}#sk-container-id-15 div.sk-label:hover label.sk-toggleable__label {background-color: #d4ebff;}#sk-container-id-15 div.sk-serial::before {content: \"\";position: absolute;border-left: 1px solid gray;box-sizing: border-box;top: 0;bottom: 0;left: 50%;z-index: 0;}#sk-container-id-15 div.sk-serial {display: flex;flex-direction: column;align-items: center;background-color: white;padding-right: 0.2em;padding-left: 0.2em;position: relative;}#sk-container-id-15 div.sk-item {position: relative;z-index: 1;}#sk-container-id-15 div.sk-parallel {display: flex;align-items: stretch;justify-content: center;background-color: white;position: relative;}#sk-container-id-15 div.sk-item::before, #sk-container-id-15 div.sk-parallel-item::before {content: \"\";position: absolute;border-left: 1px solid gray;box-sizing: border-box;top: 0;bottom: 0;left: 50%;z-index: -1;}#sk-container-id-15 div.sk-parallel-item {display: flex;flex-direction: column;z-index: 1;position: relative;background-color: white;}#sk-container-id-15 div.sk-parallel-item:first-child::after {align-self: flex-end;width: 50%;}#sk-container-id-15 div.sk-parallel-item:last-child::after {align-self: flex-start;width: 50%;}#sk-container-id-15 div.sk-parallel-item:only-child::after {width: 0;}#sk-container-id-15 div.sk-dashed-wrapped {border: 1px dashed gray;margin: 0 0.4em 0.5em 0.4em;box-sizing: border-box;padding-bottom: 0.4em;background-color: white;}#sk-container-id-15 div.sk-label label {font-family: monospace;font-weight: bold;display: inline-block;line-height: 1.2em;}#sk-container-id-15 div.sk-label-container {text-align: center;}#sk-container-id-15 div.sk-container {/* jupyter's `normalize.less` sets `[hidden] { display: none; }` but bootstrap.min.css set `[hidden] { display: none !important; }` so we also need the `!important` here to be able to override the default hidden behavior on the sphinx rendered scikit-learn.org. See: https://github.com/scikit-learn/scikit-learn/issues/21755 */display: inline-block !important;position: relative;}#sk-container-id-15 div.sk-text-repr-fallback {display: none;}</style><div id=\"sk-container-id-15\" class=\"sk-top-container\"><div class=\"sk-text-repr-fallback\"><pre>RandomizedSearchCV(cv=2, estimator=MLPRegressor(), n_iter=1, n_jobs=-1,\n",
       "                   param_distributions={&#x27;activation&#x27;: [&#x27;identity&#x27;, &#x27;logistic&#x27;,\n",
       "                                                       &#x27;tanh&#x27;, &#x27;relu&#x27;],\n",
       "                                        &#x27;alpha&#x27;: array([0.0001, 0.0002, 0.0003, 0.0004, 0.0005, 0.0006, 0.0007, 0.0008,\n",
       "       0.0009]),\n",
       "                                        &#x27;hidden_layer_sizes&#x27;: [(2, 2, 2),\n",
       "                                                               (2, 3, 2)],\n",
       "                                        &#x27;learning_rate&#x27;: [&#x27;constant&#x27;,\n",
       "                                                          &#x27;invscaling&#x27;,\n",
       "                                                          &#x27;adaptive&#x27;],\n",
       "                                        &#x27;max_iter&#x27;: [100], &#x27;solver&#x27;: [&#x27;sgd&#x27;]},\n",
       "                   verbose=True)</pre><b>In a Jupyter environment, please rerun this cell to show the HTML representation or trust the notebook. <br />On GitHub, the HTML representation is unable to render, please try loading this page with nbviewer.org.</b></div><div class=\"sk-container\" hidden><div class=\"sk-item sk-dashed-wrapped\"><div class=\"sk-label-container\"><div class=\"sk-label sk-toggleable\"><input class=\"sk-toggleable__control sk-hidden--visually\" id=\"sk-estimator-id-15\" type=\"checkbox\" ><label for=\"sk-estimator-id-15\" class=\"sk-toggleable__label sk-toggleable__label-arrow\">RandomizedSearchCV</label><div class=\"sk-toggleable__content\"><pre>RandomizedSearchCV(cv=2, estimator=MLPRegressor(), n_iter=1, n_jobs=-1,\n",
       "                   param_distributions={&#x27;activation&#x27;: [&#x27;identity&#x27;, &#x27;logistic&#x27;,\n",
       "                                                       &#x27;tanh&#x27;, &#x27;relu&#x27;],\n",
       "                                        &#x27;alpha&#x27;: array([0.0001, 0.0002, 0.0003, 0.0004, 0.0005, 0.0006, 0.0007, 0.0008,\n",
       "       0.0009]),\n",
       "                                        &#x27;hidden_layer_sizes&#x27;: [(2, 2, 2),\n",
       "                                                               (2, 3, 2)],\n",
       "                                        &#x27;learning_rate&#x27;: [&#x27;constant&#x27;,\n",
       "                                                          &#x27;invscaling&#x27;,\n",
       "                                                          &#x27;adaptive&#x27;],\n",
       "                                        &#x27;max_iter&#x27;: [100], &#x27;solver&#x27;: [&#x27;sgd&#x27;]},\n",
       "                   verbose=True)</pre></div></div></div><div class=\"sk-parallel\"><div class=\"sk-parallel-item\"><div class=\"sk-item\"><div class=\"sk-label-container\"><div class=\"sk-label sk-toggleable\"><input class=\"sk-toggleable__control sk-hidden--visually\" id=\"sk-estimator-id-16\" type=\"checkbox\" ><label for=\"sk-estimator-id-16\" class=\"sk-toggleable__label sk-toggleable__label-arrow\">estimator: MLPRegressor</label><div class=\"sk-toggleable__content\"><pre>MLPRegressor()</pre></div></div></div><div class=\"sk-serial\"><div class=\"sk-item\"><div class=\"sk-estimator sk-toggleable\"><input class=\"sk-toggleable__control sk-hidden--visually\" id=\"sk-estimator-id-17\" type=\"checkbox\" ><label for=\"sk-estimator-id-17\" class=\"sk-toggleable__label sk-toggleable__label-arrow\">MLPRegressor</label><div class=\"sk-toggleable__content\"><pre>MLPRegressor()</pre></div></div></div></div></div></div></div></div></div></div>"
      ],
      "text/plain": [
       "RandomizedSearchCV(cv=2, estimator=MLPRegressor(), n_iter=1, n_jobs=-1,\n",
       "                   param_distributions={'activation': ['identity', 'logistic',\n",
       "                                                       'tanh', 'relu'],\n",
       "                                        'alpha': array([0.0001, 0.0002, 0.0003, 0.0004, 0.0005, 0.0006, 0.0007, 0.0008,\n",
       "       0.0009]),\n",
       "                                        'hidden_layer_sizes': [(2, 2, 2),\n",
       "                                                               (2, 3, 2)],\n",
       "                                        'learning_rate': ['constant',\n",
       "                                                          'invscaling',\n",
       "                                                          'adaptive'],\n",
       "                                        'max_iter': [100], 'solver': ['sgd']},\n",
       "                   verbose=True)"
      ]
     },
     "execution_count": 89,
     "metadata": {},
     "output_type": "execute_result"
    }
   ],
   "source": [
    "grid.fit(Xt_1[best_1],Xt_1[vart_1[0]])"
   ]
  },
  {
   "cell_type": "code",
   "execution_count": 90,
   "id": "af4986a9",
   "metadata": {
    "ExecuteTime": {
     "end_time": "2023-08-11T20:49:57.716402Z",
     "start_time": "2023-08-11T20:49:57.702769Z"
    }
   },
   "outputs": [
    {
     "data": {
      "text/plain": [
       "{'solver': 'sgd',\n",
       " 'max_iter': 100,\n",
       " 'learning_rate': 'adaptive',\n",
       " 'hidden_layer_sizes': (2, 2, 2),\n",
       " 'alpha': 0.0001,\n",
       " 'activation': 'logistic'}"
      ]
     },
     "execution_count": 90,
     "metadata": {},
     "output_type": "execute_result"
    }
   ],
   "source": [
    "grid.best_params_"
   ]
  },
  {
   "cell_type": "code",
   "execution_count": 92,
   "id": "9717dcb1",
   "metadata": {
    "ExecuteTime": {
     "end_time": "2023-08-11T20:51:04.360333Z",
     "start_time": "2023-08-11T20:51:04.322784Z"
    }
   },
   "outputs": [
    {
     "data": {
      "text/html": [
       "<style>#sk-container-id-16 {color: black;background-color: white;}#sk-container-id-16 pre{padding: 0;}#sk-container-id-16 div.sk-toggleable {background-color: white;}#sk-container-id-16 label.sk-toggleable__label {cursor: pointer;display: block;width: 100%;margin-bottom: 0;padding: 0.3em;box-sizing: border-box;text-align: center;}#sk-container-id-16 label.sk-toggleable__label-arrow:before {content: \"▸\";float: left;margin-right: 0.25em;color: #696969;}#sk-container-id-16 label.sk-toggleable__label-arrow:hover:before {color: black;}#sk-container-id-16 div.sk-estimator:hover label.sk-toggleable__label-arrow:before {color: black;}#sk-container-id-16 div.sk-toggleable__content {max-height: 0;max-width: 0;overflow: hidden;text-align: left;background-color: #f0f8ff;}#sk-container-id-16 div.sk-toggleable__content pre {margin: 0.2em;color: black;border-radius: 0.25em;background-color: #f0f8ff;}#sk-container-id-16 input.sk-toggleable__control:checked~div.sk-toggleable__content {max-height: 200px;max-width: 100%;overflow: auto;}#sk-container-id-16 input.sk-toggleable__control:checked~label.sk-toggleable__label-arrow:before {content: \"▾\";}#sk-container-id-16 div.sk-estimator input.sk-toggleable__control:checked~label.sk-toggleable__label {background-color: #d4ebff;}#sk-container-id-16 div.sk-label input.sk-toggleable__control:checked~label.sk-toggleable__label {background-color: #d4ebff;}#sk-container-id-16 input.sk-hidden--visually {border: 0;clip: rect(1px 1px 1px 1px);clip: rect(1px, 1px, 1px, 1px);height: 1px;margin: -1px;overflow: hidden;padding: 0;position: absolute;width: 1px;}#sk-container-id-16 div.sk-estimator {font-family: monospace;background-color: #f0f8ff;border: 1px dotted black;border-radius: 0.25em;box-sizing: border-box;margin-bottom: 0.5em;}#sk-container-id-16 div.sk-estimator:hover {background-color: #d4ebff;}#sk-container-id-16 div.sk-parallel-item::after {content: \"\";width: 100%;border-bottom: 1px solid gray;flex-grow: 1;}#sk-container-id-16 div.sk-label:hover label.sk-toggleable__label {background-color: #d4ebff;}#sk-container-id-16 div.sk-serial::before {content: \"\";position: absolute;border-left: 1px solid gray;box-sizing: border-box;top: 0;bottom: 0;left: 50%;z-index: 0;}#sk-container-id-16 div.sk-serial {display: flex;flex-direction: column;align-items: center;background-color: white;padding-right: 0.2em;padding-left: 0.2em;position: relative;}#sk-container-id-16 div.sk-item {position: relative;z-index: 1;}#sk-container-id-16 div.sk-parallel {display: flex;align-items: stretch;justify-content: center;background-color: white;position: relative;}#sk-container-id-16 div.sk-item::before, #sk-container-id-16 div.sk-parallel-item::before {content: \"\";position: absolute;border-left: 1px solid gray;box-sizing: border-box;top: 0;bottom: 0;left: 50%;z-index: -1;}#sk-container-id-16 div.sk-parallel-item {display: flex;flex-direction: column;z-index: 1;position: relative;background-color: white;}#sk-container-id-16 div.sk-parallel-item:first-child::after {align-self: flex-end;width: 50%;}#sk-container-id-16 div.sk-parallel-item:last-child::after {align-self: flex-start;width: 50%;}#sk-container-id-16 div.sk-parallel-item:only-child::after {width: 0;}#sk-container-id-16 div.sk-dashed-wrapped {border: 1px dashed gray;margin: 0 0.4em 0.5em 0.4em;box-sizing: border-box;padding-bottom: 0.4em;background-color: white;}#sk-container-id-16 div.sk-label label {font-family: monospace;font-weight: bold;display: inline-block;line-height: 1.2em;}#sk-container-id-16 div.sk-label-container {text-align: center;}#sk-container-id-16 div.sk-container {/* jupyter's `normalize.less` sets `[hidden] { display: none; }` but bootstrap.min.css set `[hidden] { display: none !important; }` so we also need the `!important` here to be able to override the default hidden behavior on the sphinx rendered scikit-learn.org. See: https://github.com/scikit-learn/scikit-learn/issues/21755 */display: inline-block !important;position: relative;}#sk-container-id-16 div.sk-text-repr-fallback {display: none;}</style><div id=\"sk-container-id-16\" class=\"sk-top-container\"><div class=\"sk-text-repr-fallback\"><pre>MLPRegressor(activation=&#x27;logistic&#x27;, hidden_layer_sizes=(2, 2, 2),\n",
       "             learning_rate=&#x27;adaptive&#x27;, max_iter=100, solver=&#x27;sgd&#x27;)</pre><b>In a Jupyter environment, please rerun this cell to show the HTML representation or trust the notebook. <br />On GitHub, the HTML representation is unable to render, please try loading this page with nbviewer.org.</b></div><div class=\"sk-container\" hidden><div class=\"sk-item\"><div class=\"sk-estimator sk-toggleable\"><input class=\"sk-toggleable__control sk-hidden--visually\" id=\"sk-estimator-id-18\" type=\"checkbox\" checked><label for=\"sk-estimator-id-18\" class=\"sk-toggleable__label sk-toggleable__label-arrow\">MLPRegressor</label><div class=\"sk-toggleable__content\"><pre>MLPRegressor(activation=&#x27;logistic&#x27;, hidden_layer_sizes=(2, 2, 2),\n",
       "             learning_rate=&#x27;adaptive&#x27;, max_iter=100, solver=&#x27;sgd&#x27;)</pre></div></div></div></div></div>"
      ],
      "text/plain": [
       "MLPRegressor(activation='logistic', hidden_layer_sizes=(2, 2, 2),\n",
       "             learning_rate='adaptive', max_iter=100, solver='sgd')"
      ]
     },
     "execution_count": 92,
     "metadata": {},
     "output_type": "execute_result"
    }
   ],
   "source": [
    "modelo_1 = grid.best_estimator_\n",
    "modelo_1"
   ]
  },
  {
   "cell_type": "code",
   "execution_count": 93,
   "id": "348dbfe7",
   "metadata": {
    "ExecuteTime": {
     "end_time": "2023-08-11T20:57:36.228185Z",
     "start_time": "2023-08-11T20:51:35.885302Z"
    }
   },
   "outputs": [
    {
     "name": "stderr",
     "output_type": "stream",
     "text": [
      "/home/oscarjarillo/.local/lib/python3.10/site-packages/sklearn/neural_network/_multilayer_perceptron.py:702: ConvergenceWarning:\n",
      "\n",
      "Stochastic Optimizer: Maximum iterations (100) reached and the optimization hasn't converged yet.\n",
      "\n"
     ]
    },
    {
     "data": {
      "text/html": [
       "<style>#sk-container-id-17 {color: black;background-color: white;}#sk-container-id-17 pre{padding: 0;}#sk-container-id-17 div.sk-toggleable {background-color: white;}#sk-container-id-17 label.sk-toggleable__label {cursor: pointer;display: block;width: 100%;margin-bottom: 0;padding: 0.3em;box-sizing: border-box;text-align: center;}#sk-container-id-17 label.sk-toggleable__label-arrow:before {content: \"▸\";float: left;margin-right: 0.25em;color: #696969;}#sk-container-id-17 label.sk-toggleable__label-arrow:hover:before {color: black;}#sk-container-id-17 div.sk-estimator:hover label.sk-toggleable__label-arrow:before {color: black;}#sk-container-id-17 div.sk-toggleable__content {max-height: 0;max-width: 0;overflow: hidden;text-align: left;background-color: #f0f8ff;}#sk-container-id-17 div.sk-toggleable__content pre {margin: 0.2em;color: black;border-radius: 0.25em;background-color: #f0f8ff;}#sk-container-id-17 input.sk-toggleable__control:checked~div.sk-toggleable__content {max-height: 200px;max-width: 100%;overflow: auto;}#sk-container-id-17 input.sk-toggleable__control:checked~label.sk-toggleable__label-arrow:before {content: \"▾\";}#sk-container-id-17 div.sk-estimator input.sk-toggleable__control:checked~label.sk-toggleable__label {background-color: #d4ebff;}#sk-container-id-17 div.sk-label input.sk-toggleable__control:checked~label.sk-toggleable__label {background-color: #d4ebff;}#sk-container-id-17 input.sk-hidden--visually {border: 0;clip: rect(1px 1px 1px 1px);clip: rect(1px, 1px, 1px, 1px);height: 1px;margin: -1px;overflow: hidden;padding: 0;position: absolute;width: 1px;}#sk-container-id-17 div.sk-estimator {font-family: monospace;background-color: #f0f8ff;border: 1px dotted black;border-radius: 0.25em;box-sizing: border-box;margin-bottom: 0.5em;}#sk-container-id-17 div.sk-estimator:hover {background-color: #d4ebff;}#sk-container-id-17 div.sk-parallel-item::after {content: \"\";width: 100%;border-bottom: 1px solid gray;flex-grow: 1;}#sk-container-id-17 div.sk-label:hover label.sk-toggleable__label {background-color: #d4ebff;}#sk-container-id-17 div.sk-serial::before {content: \"\";position: absolute;border-left: 1px solid gray;box-sizing: border-box;top: 0;bottom: 0;left: 50%;z-index: 0;}#sk-container-id-17 div.sk-serial {display: flex;flex-direction: column;align-items: center;background-color: white;padding-right: 0.2em;padding-left: 0.2em;position: relative;}#sk-container-id-17 div.sk-item {position: relative;z-index: 1;}#sk-container-id-17 div.sk-parallel {display: flex;align-items: stretch;justify-content: center;background-color: white;position: relative;}#sk-container-id-17 div.sk-item::before, #sk-container-id-17 div.sk-parallel-item::before {content: \"\";position: absolute;border-left: 1px solid gray;box-sizing: border-box;top: 0;bottom: 0;left: 50%;z-index: -1;}#sk-container-id-17 div.sk-parallel-item {display: flex;flex-direction: column;z-index: 1;position: relative;background-color: white;}#sk-container-id-17 div.sk-parallel-item:first-child::after {align-self: flex-end;width: 50%;}#sk-container-id-17 div.sk-parallel-item:last-child::after {align-self: flex-start;width: 50%;}#sk-container-id-17 div.sk-parallel-item:only-child::after {width: 0;}#sk-container-id-17 div.sk-dashed-wrapped {border: 1px dashed gray;margin: 0 0.4em 0.5em 0.4em;box-sizing: border-box;padding-bottom: 0.4em;background-color: white;}#sk-container-id-17 div.sk-label label {font-family: monospace;font-weight: bold;display: inline-block;line-height: 1.2em;}#sk-container-id-17 div.sk-label-container {text-align: center;}#sk-container-id-17 div.sk-container {/* jupyter's `normalize.less` sets `[hidden] { display: none; }` but bootstrap.min.css set `[hidden] { display: none !important; }` so we also need the `!important` here to be able to override the default hidden behavior on the sphinx rendered scikit-learn.org. See: https://github.com/scikit-learn/scikit-learn/issues/21755 */display: inline-block !important;position: relative;}#sk-container-id-17 div.sk-text-repr-fallback {display: none;}</style><div id=\"sk-container-id-17\" class=\"sk-top-container\"><div class=\"sk-text-repr-fallback\"><pre>MLPRegressor(activation=&#x27;logistic&#x27;, hidden_layer_sizes=(2, 2, 2),\n",
       "             learning_rate=&#x27;adaptive&#x27;, max_iter=100, solver=&#x27;sgd&#x27;)</pre><b>In a Jupyter environment, please rerun this cell to show the HTML representation or trust the notebook. <br />On GitHub, the HTML representation is unable to render, please try loading this page with nbviewer.org.</b></div><div class=\"sk-container\" hidden><div class=\"sk-item\"><div class=\"sk-estimator sk-toggleable\"><input class=\"sk-toggleable__control sk-hidden--visually\" id=\"sk-estimator-id-19\" type=\"checkbox\" checked><label for=\"sk-estimator-id-19\" class=\"sk-toggleable__label sk-toggleable__label-arrow\">MLPRegressor</label><div class=\"sk-toggleable__content\"><pre>MLPRegressor(activation=&#x27;logistic&#x27;, hidden_layer_sizes=(2, 2, 2),\n",
       "             learning_rate=&#x27;adaptive&#x27;, max_iter=100, solver=&#x27;sgd&#x27;)</pre></div></div></div></div></div>"
      ],
      "text/plain": [
       "MLPRegressor(activation='logistic', hidden_layer_sizes=(2, 2, 2),\n",
       "             learning_rate='adaptive', max_iter=100, solver='sgd')"
      ]
     },
     "execution_count": 93,
     "metadata": {},
     "output_type": "execute_result"
    }
   ],
   "source": [
    "modelo_1.fit(Xt_1[best_1],Xt_1[vart_1[0]])"
   ]
  },
  {
   "cell_type": "markdown",
   "id": "79931673",
   "metadata": {},
   "source": [
    "### Validación del modelo"
   ]
  },
  {
   "cell_type": "code",
   "execution_count": 98,
   "id": "70606eec",
   "metadata": {
    "ExecuteTime": {
     "end_time": "2023-08-11T20:58:11.041755Z",
     "start_time": "2023-08-11T20:58:10.510012Z"
    }
   },
   "outputs": [],
   "source": [
    "Xt_1['y^'] = modelo_1.predict(Xt_1[best_1]).astype(int)\n",
    "Xv_1['y^'] = modelo_1.predict(Xv_1[best_1]).astype(int)"
   ]
  },
  {
   "cell_type": "code",
   "execution_count": 99,
   "id": "7b5353ad",
   "metadata": {
    "ExecuteTime": {
     "end_time": "2023-08-11T20:58:11.546295Z",
     "start_time": "2023-08-11T20:58:11.521196Z"
    }
   },
   "outputs": [
    {
     "name": "stdout",
     "output_type": "stream",
     "text": [
      "0.6063745121384413\n",
      "0.6150421661987036\n"
     ]
    }
   ],
   "source": [
    "print(mean_absolute_error(y_pred=Xt_1['y^'],y_true=Xt_1[vart_1[0]]))\n",
    "print(mean_absolute_error(y_pred=Xv_1['y^'],y_true=Xv_1[vart_1[0]]))"
   ]
  },
  {
   "cell_type": "code",
   "execution_count": 100,
   "id": "a1b0654c",
   "metadata": {
    "ExecuteTime": {
     "end_time": "2023-08-11T20:58:12.765966Z",
     "start_time": "2023-08-11T20:58:12.721053Z"
    },
    "scrolled": false
   },
   "outputs": [
    {
     "name": "stdout",
     "output_type": "stream",
     "text": [
      "0.012056067444931262\n",
      "0.012703874905100165\n"
     ]
    }
   ],
   "source": [
    "print(r2_score(y_pred=Xt_1['y^'],y_true=Xt_1[vart_1[0]]))\n",
    "print(r2_score(y_pred=Xv_1['y^'],y_true=Xv_1[vart_1[0]]))"
   ]
  },
  {
   "cell_type": "code",
   "execution_count": 101,
   "id": "fbd47249",
   "metadata": {
    "ExecuteTime": {
     "end_time": "2023-08-11T20:58:13.898153Z",
     "start_time": "2023-08-11T20:58:13.852242Z"
    },
    "scrolled": false
   },
   "outputs": [
    {
     "name": "stdout",
     "output_type": "stream",
     "text": [
      "Mal =  15235\n",
      "Bien =  186704\n"
     ]
    }
   ],
   "source": [
    "print('Mal = ',Xv_1.loc[Xv_1[vart_1[0]]!=Xv_1['y^']].shape[0])\n",
    "print('Bien = ',Xv_1.loc[Xv_1[vart_1[0]]==Xv_1['y^']].shape[0])"
   ]
  },
  {
   "cell_type": "code",
   "execution_count": 106,
   "id": "c6da9c35",
   "metadata": {
    "ExecuteTime": {
     "end_time": "2023-08-11T21:00:33.323456Z",
     "start_time": "2023-08-11T21:00:33.225284Z"
    }
   },
   "outputs": [
    {
     "data": {
      "text/html": [
       "<div>\n",
       "<style scoped>\n",
       "    .dataframe tbody tr th:only-of-type {\n",
       "        vertical-align: middle;\n",
       "    }\n",
       "\n",
       "    .dataframe tbody tr th {\n",
       "        vertical-align: top;\n",
       "    }\n",
       "\n",
       "    .dataframe thead th {\n",
       "        text-align: right;\n",
       "    }\n",
       "</style>\n",
       "<table border=\"1\" class=\"dataframe\">\n",
       "  <thead>\n",
       "    <tr style=\"text-align: right;\">\n",
       "      <th></th>\n",
       "      <th>Enero</th>\n",
       "      <th>Febrero</th>\n",
       "      <th>Marzo</th>\n",
       "      <th>Abril</th>\n",
       "      <th>Mayo</th>\n",
       "      <th>id</th>\n",
       "      <th>Junio</th>\n",
       "      <th>y^</th>\n",
       "    </tr>\n",
       "  </thead>\n",
       "  <tbody>\n",
       "    <tr>\n",
       "      <th>0</th>\n",
       "      <td>-0.184528</td>\n",
       "      <td>-0.186109</td>\n",
       "      <td>-0.186671</td>\n",
       "      <td>-0.184992</td>\n",
       "      <td>-0.184144</td>\n",
       "      <td>76078</td>\n",
       "      <td>0</td>\n",
       "      <td>0</td>\n",
       "    </tr>\n",
       "    <tr>\n",
       "      <th>1</th>\n",
       "      <td>-0.184528</td>\n",
       "      <td>-0.186109</td>\n",
       "      <td>-0.186671</td>\n",
       "      <td>-0.184992</td>\n",
       "      <td>-0.184144</td>\n",
       "      <td>170864</td>\n",
       "      <td>0</td>\n",
       "      <td>0</td>\n",
       "    </tr>\n",
       "    <tr>\n",
       "      <th>2</th>\n",
       "      <td>-0.184528</td>\n",
       "      <td>-0.186109</td>\n",
       "      <td>-0.186671</td>\n",
       "      <td>-0.184992</td>\n",
       "      <td>-0.184144</td>\n",
       "      <td>21886</td>\n",
       "      <td>0</td>\n",
       "      <td>0</td>\n",
       "    </tr>\n",
       "    <tr>\n",
       "      <th>3</th>\n",
       "      <td>-0.184528</td>\n",
       "      <td>-0.186109</td>\n",
       "      <td>-0.186671</td>\n",
       "      <td>-0.184992</td>\n",
       "      <td>-0.184144</td>\n",
       "      <td>255349</td>\n",
       "      <td>0</td>\n",
       "      <td>0</td>\n",
       "    </tr>\n",
       "    <tr>\n",
       "      <th>4</th>\n",
       "      <td>0.849108</td>\n",
       "      <td>-0.186109</td>\n",
       "      <td>-0.186671</td>\n",
       "      <td>0.920121</td>\n",
       "      <td>1.884164</td>\n",
       "      <td>622946</td>\n",
       "      <td>2</td>\n",
       "      <td>0</td>\n",
       "    </tr>\n",
       "    <tr>\n",
       "      <th>5</th>\n",
       "      <td>-0.184528</td>\n",
       "      <td>-0.186109</td>\n",
       "      <td>-0.186671</td>\n",
       "      <td>-0.184992</td>\n",
       "      <td>-0.184144</td>\n",
       "      <td>355876</td>\n",
       "      <td>0</td>\n",
       "      <td>0</td>\n",
       "    </tr>\n",
       "    <tr>\n",
       "      <th>6</th>\n",
       "      <td>-0.184528</td>\n",
       "      <td>-0.186109</td>\n",
       "      <td>-0.186671</td>\n",
       "      <td>-0.184992</td>\n",
       "      <td>-0.184144</td>\n",
       "      <td>562057</td>\n",
       "      <td>0</td>\n",
       "      <td>0</td>\n",
       "    </tr>\n",
       "    <tr>\n",
       "      <th>7</th>\n",
       "      <td>-0.184528</td>\n",
       "      <td>-0.186109</td>\n",
       "      <td>-0.186671</td>\n",
       "      <td>-0.184992</td>\n",
       "      <td>-0.184144</td>\n",
       "      <td>289577</td>\n",
       "      <td>0</td>\n",
       "      <td>0</td>\n",
       "    </tr>\n",
       "    <tr>\n",
       "      <th>8</th>\n",
       "      <td>-0.184528</td>\n",
       "      <td>-0.186109</td>\n",
       "      <td>-0.186671</td>\n",
       "      <td>-0.184992</td>\n",
       "      <td>-0.184144</td>\n",
       "      <td>173502</td>\n",
       "      <td>1</td>\n",
       "      <td>0</td>\n",
       "    </tr>\n",
       "    <tr>\n",
       "      <th>9</th>\n",
       "      <td>-0.184528</td>\n",
       "      <td>-0.186109</td>\n",
       "      <td>-0.186671</td>\n",
       "      <td>-0.184992</td>\n",
       "      <td>-0.184144</td>\n",
       "      <td>641501</td>\n",
       "      <td>0</td>\n",
       "      <td>0</td>\n",
       "    </tr>\n",
       "    <tr>\n",
       "      <th>10</th>\n",
       "      <td>-0.184528</td>\n",
       "      <td>-0.186109</td>\n",
       "      <td>-0.186671</td>\n",
       "      <td>-0.184992</td>\n",
       "      <td>-0.184144</td>\n",
       "      <td>237263</td>\n",
       "      <td>0</td>\n",
       "      <td>0</td>\n",
       "    </tr>\n",
       "    <tr>\n",
       "      <th>11</th>\n",
       "      <td>-0.184528</td>\n",
       "      <td>-0.186109</td>\n",
       "      <td>-0.186671</td>\n",
       "      <td>-0.184992</td>\n",
       "      <td>-0.184144</td>\n",
       "      <td>35177</td>\n",
       "      <td>0</td>\n",
       "      <td>0</td>\n",
       "    </tr>\n",
       "    <tr>\n",
       "      <th>12</th>\n",
       "      <td>-0.184528</td>\n",
       "      <td>-0.186109</td>\n",
       "      <td>-0.186671</td>\n",
       "      <td>-0.184992</td>\n",
       "      <td>-0.184144</td>\n",
       "      <td>656011</td>\n",
       "      <td>0</td>\n",
       "      <td>0</td>\n",
       "    </tr>\n",
       "    <tr>\n",
       "      <th>13</th>\n",
       "      <td>-0.184528</td>\n",
       "      <td>-0.186109</td>\n",
       "      <td>-0.186671</td>\n",
       "      <td>-0.184992</td>\n",
       "      <td>-0.184144</td>\n",
       "      <td>35024</td>\n",
       "      <td>0</td>\n",
       "      <td>0</td>\n",
       "    </tr>\n",
       "    <tr>\n",
       "      <th>14</th>\n",
       "      <td>-0.184528</td>\n",
       "      <td>-0.186109</td>\n",
       "      <td>-0.186671</td>\n",
       "      <td>-0.184992</td>\n",
       "      <td>-0.184144</td>\n",
       "      <td>423604</td>\n",
       "      <td>0</td>\n",
       "      <td>0</td>\n",
       "    </tr>\n",
       "    <tr>\n",
       "      <th>15</th>\n",
       "      <td>-0.184528</td>\n",
       "      <td>-0.186109</td>\n",
       "      <td>-0.186671</td>\n",
       "      <td>-0.184992</td>\n",
       "      <td>-0.184144</td>\n",
       "      <td>469771</td>\n",
       "      <td>0</td>\n",
       "      <td>0</td>\n",
       "    </tr>\n",
       "    <tr>\n",
       "      <th>16</th>\n",
       "      <td>-0.184528</td>\n",
       "      <td>-0.186109</td>\n",
       "      <td>-0.186671</td>\n",
       "      <td>-0.184992</td>\n",
       "      <td>-0.184144</td>\n",
       "      <td>501526</td>\n",
       "      <td>0</td>\n",
       "      <td>0</td>\n",
       "    </tr>\n",
       "    <tr>\n",
       "      <th>17</th>\n",
       "      <td>-0.184528</td>\n",
       "      <td>2.018278</td>\n",
       "      <td>-0.186671</td>\n",
       "      <td>-0.184992</td>\n",
       "      <td>0.850010</td>\n",
       "      <td>164270</td>\n",
       "      <td>0</td>\n",
       "      <td>0</td>\n",
       "    </tr>\n",
       "    <tr>\n",
       "      <th>18</th>\n",
       "      <td>-0.184528</td>\n",
       "      <td>-0.186109</td>\n",
       "      <td>-0.186671</td>\n",
       "      <td>-0.184992</td>\n",
       "      <td>-0.184144</td>\n",
       "      <td>171455</td>\n",
       "      <td>0</td>\n",
       "      <td>0</td>\n",
       "    </tr>\n",
       "    <tr>\n",
       "      <th>19</th>\n",
       "      <td>-0.184528</td>\n",
       "      <td>-0.186109</td>\n",
       "      <td>-0.186671</td>\n",
       "      <td>-0.184992</td>\n",
       "      <td>-0.184144</td>\n",
       "      <td>423094</td>\n",
       "      <td>1</td>\n",
       "      <td>0</td>\n",
       "    </tr>\n",
       "    <tr>\n",
       "      <th>20</th>\n",
       "      <td>-0.184528</td>\n",
       "      <td>-0.186109</td>\n",
       "      <td>-0.186671</td>\n",
       "      <td>-0.184992</td>\n",
       "      <td>-0.184144</td>\n",
       "      <td>544800</td>\n",
       "      <td>0</td>\n",
       "      <td>0</td>\n",
       "    </tr>\n",
       "    <tr>\n",
       "      <th>21</th>\n",
       "      <td>-0.184528</td>\n",
       "      <td>-0.186109</td>\n",
       "      <td>-0.186671</td>\n",
       "      <td>-0.184992</td>\n",
       "      <td>-0.184144</td>\n",
       "      <td>132338</td>\n",
       "      <td>9</td>\n",
       "      <td>0</td>\n",
       "    </tr>\n",
       "    <tr>\n",
       "      <th>22</th>\n",
       "      <td>-0.184528</td>\n",
       "      <td>-0.186109</td>\n",
       "      <td>-0.186671</td>\n",
       "      <td>-0.184992</td>\n",
       "      <td>-0.184144</td>\n",
       "      <td>313451</td>\n",
       "      <td>0</td>\n",
       "      <td>0</td>\n",
       "    </tr>\n",
       "    <tr>\n",
       "      <th>23</th>\n",
       "      <td>-0.184528</td>\n",
       "      <td>-0.186109</td>\n",
       "      <td>-0.186671</td>\n",
       "      <td>-0.184992</td>\n",
       "      <td>-0.184144</td>\n",
       "      <td>442215</td>\n",
       "      <td>0</td>\n",
       "      <td>0</td>\n",
       "    </tr>\n",
       "    <tr>\n",
       "      <th>24</th>\n",
       "      <td>-0.184528</td>\n",
       "      <td>-0.186109</td>\n",
       "      <td>-0.186671</td>\n",
       "      <td>-0.184992</td>\n",
       "      <td>-0.184144</td>\n",
       "      <td>240096</td>\n",
       "      <td>0</td>\n",
       "      <td>0</td>\n",
       "    </tr>\n",
       "    <tr>\n",
       "      <th>25</th>\n",
       "      <td>-0.184528</td>\n",
       "      <td>-0.186109</td>\n",
       "      <td>-0.186671</td>\n",
       "      <td>-0.184992</td>\n",
       "      <td>-0.184144</td>\n",
       "      <td>565846</td>\n",
       "      <td>0</td>\n",
       "      <td>0</td>\n",
       "    </tr>\n",
       "    <tr>\n",
       "      <th>26</th>\n",
       "      <td>-0.184528</td>\n",
       "      <td>-0.186109</td>\n",
       "      <td>-0.186671</td>\n",
       "      <td>-0.184992</td>\n",
       "      <td>-0.184144</td>\n",
       "      <td>462252</td>\n",
       "      <td>0</td>\n",
       "      <td>0</td>\n",
       "    </tr>\n",
       "    <tr>\n",
       "      <th>27</th>\n",
       "      <td>-0.184528</td>\n",
       "      <td>-0.186109</td>\n",
       "      <td>-0.186671</td>\n",
       "      <td>-0.184992</td>\n",
       "      <td>-0.184144</td>\n",
       "      <td>316530</td>\n",
       "      <td>0</td>\n",
       "      <td>0</td>\n",
       "    </tr>\n",
       "    <tr>\n",
       "      <th>28</th>\n",
       "      <td>-0.184528</td>\n",
       "      <td>-0.186109</td>\n",
       "      <td>-0.186671</td>\n",
       "      <td>-0.184992</td>\n",
       "      <td>-0.184144</td>\n",
       "      <td>146006</td>\n",
       "      <td>0</td>\n",
       "      <td>0</td>\n",
       "    </tr>\n",
       "    <tr>\n",
       "      <th>29</th>\n",
       "      <td>-0.184528</td>\n",
       "      <td>-0.186109</td>\n",
       "      <td>-0.186671</td>\n",
       "      <td>-0.184992</td>\n",
       "      <td>-0.184144</td>\n",
       "      <td>126938</td>\n",
       "      <td>0</td>\n",
       "      <td>0</td>\n",
       "    </tr>\n",
       "    <tr>\n",
       "      <th>30</th>\n",
       "      <td>-0.184528</td>\n",
       "      <td>-0.186109</td>\n",
       "      <td>-0.186671</td>\n",
       "      <td>-0.184992</td>\n",
       "      <td>-0.184144</td>\n",
       "      <td>391153</td>\n",
       "      <td>0</td>\n",
       "      <td>0</td>\n",
       "    </tr>\n",
       "    <tr>\n",
       "      <th>31</th>\n",
       "      <td>-0.184528</td>\n",
       "      <td>-0.186109</td>\n",
       "      <td>-0.186671</td>\n",
       "      <td>-0.184992</td>\n",
       "      <td>-0.184144</td>\n",
       "      <td>266238</td>\n",
       "      <td>0</td>\n",
       "      <td>0</td>\n",
       "    </tr>\n",
       "    <tr>\n",
       "      <th>32</th>\n",
       "      <td>-0.184528</td>\n",
       "      <td>-0.186109</td>\n",
       "      <td>-0.186671</td>\n",
       "      <td>-0.184992</td>\n",
       "      <td>-0.184144</td>\n",
       "      <td>651318</td>\n",
       "      <td>0</td>\n",
       "      <td>0</td>\n",
       "    </tr>\n",
       "    <tr>\n",
       "      <th>33</th>\n",
       "      <td>-0.184528</td>\n",
       "      <td>-0.186109</td>\n",
       "      <td>-0.186671</td>\n",
       "      <td>-0.184992</td>\n",
       "      <td>-0.184144</td>\n",
       "      <td>603545</td>\n",
       "      <td>0</td>\n",
       "      <td>0</td>\n",
       "    </tr>\n",
       "    <tr>\n",
       "      <th>34</th>\n",
       "      <td>0.849108</td>\n",
       "      <td>2.018278</td>\n",
       "      <td>0.834544</td>\n",
       "      <td>3.130346</td>\n",
       "      <td>2.918318</td>\n",
       "      <td>520499</td>\n",
       "      <td>1</td>\n",
       "      <td>1</td>\n",
       "    </tr>\n",
       "    <tr>\n",
       "      <th>35</th>\n",
       "      <td>-0.184528</td>\n",
       "      <td>-0.186109</td>\n",
       "      <td>-0.186671</td>\n",
       "      <td>-0.184992</td>\n",
       "      <td>-0.184144</td>\n",
       "      <td>211019</td>\n",
       "      <td>0</td>\n",
       "      <td>0</td>\n",
       "    </tr>\n",
       "    <tr>\n",
       "      <th>36</th>\n",
       "      <td>-0.184528</td>\n",
       "      <td>-0.186109</td>\n",
       "      <td>-0.186671</td>\n",
       "      <td>-0.184992</td>\n",
       "      <td>-0.184144</td>\n",
       "      <td>121549</td>\n",
       "      <td>54</td>\n",
       "      <td>0</td>\n",
       "    </tr>\n",
       "    <tr>\n",
       "      <th>37</th>\n",
       "      <td>-0.184528</td>\n",
       "      <td>-0.186109</td>\n",
       "      <td>-0.186671</td>\n",
       "      <td>-0.184992</td>\n",
       "      <td>-0.184144</td>\n",
       "      <td>208609</td>\n",
       "      <td>0</td>\n",
       "      <td>0</td>\n",
       "    </tr>\n",
       "    <tr>\n",
       "      <th>38</th>\n",
       "      <td>-0.184528</td>\n",
       "      <td>-0.186109</td>\n",
       "      <td>-0.186671</td>\n",
       "      <td>-0.184992</td>\n",
       "      <td>-0.184144</td>\n",
       "      <td>136389</td>\n",
       "      <td>0</td>\n",
       "      <td>0</td>\n",
       "    </tr>\n",
       "    <tr>\n",
       "      <th>39</th>\n",
       "      <td>-0.184528</td>\n",
       "      <td>-0.186109</td>\n",
       "      <td>-0.186671</td>\n",
       "      <td>-0.184992</td>\n",
       "      <td>-0.184144</td>\n",
       "      <td>41699</td>\n",
       "      <td>0</td>\n",
       "      <td>0</td>\n",
       "    </tr>\n",
       "    <tr>\n",
       "      <th>40</th>\n",
       "      <td>-0.184528</td>\n",
       "      <td>-0.186109</td>\n",
       "      <td>-0.186671</td>\n",
       "      <td>-0.184992</td>\n",
       "      <td>-0.184144</td>\n",
       "      <td>593951</td>\n",
       "      <td>0</td>\n",
       "      <td>0</td>\n",
       "    </tr>\n",
       "    <tr>\n",
       "      <th>41</th>\n",
       "      <td>-0.184528</td>\n",
       "      <td>-0.186109</td>\n",
       "      <td>-0.186671</td>\n",
       "      <td>-0.184992</td>\n",
       "      <td>-0.184144</td>\n",
       "      <td>230355</td>\n",
       "      <td>0</td>\n",
       "      <td>0</td>\n",
       "    </tr>\n",
       "    <tr>\n",
       "      <th>42</th>\n",
       "      <td>-0.184528</td>\n",
       "      <td>-0.186109</td>\n",
       "      <td>-0.186671</td>\n",
       "      <td>-0.184992</td>\n",
       "      <td>-0.184144</td>\n",
       "      <td>533997</td>\n",
       "      <td>0</td>\n",
       "      <td>0</td>\n",
       "    </tr>\n",
       "    <tr>\n",
       "      <th>43</th>\n",
       "      <td>-0.184528</td>\n",
       "      <td>-0.186109</td>\n",
       "      <td>-0.186671</td>\n",
       "      <td>-0.184992</td>\n",
       "      <td>-0.184144</td>\n",
       "      <td>481495</td>\n",
       "      <td>0</td>\n",
       "      <td>0</td>\n",
       "    </tr>\n",
       "    <tr>\n",
       "      <th>44</th>\n",
       "      <td>-0.184528</td>\n",
       "      <td>-0.186109</td>\n",
       "      <td>-0.186671</td>\n",
       "      <td>-0.184992</td>\n",
       "      <td>-0.184144</td>\n",
       "      <td>239563</td>\n",
       "      <td>0</td>\n",
       "      <td>0</td>\n",
       "    </tr>\n",
       "    <tr>\n",
       "      <th>45</th>\n",
       "      <td>-0.184528</td>\n",
       "      <td>-0.186109</td>\n",
       "      <td>-0.186671</td>\n",
       "      <td>-0.184992</td>\n",
       "      <td>-0.184144</td>\n",
       "      <td>447548</td>\n",
       "      <td>0</td>\n",
       "      <td>0</td>\n",
       "    </tr>\n",
       "    <tr>\n",
       "      <th>46</th>\n",
       "      <td>-0.184528</td>\n",
       "      <td>-0.186109</td>\n",
       "      <td>-0.186671</td>\n",
       "      <td>-0.184992</td>\n",
       "      <td>0.850010</td>\n",
       "      <td>256791</td>\n",
       "      <td>0</td>\n",
       "      <td>0</td>\n",
       "    </tr>\n",
       "    <tr>\n",
       "      <th>47</th>\n",
       "      <td>-0.184528</td>\n",
       "      <td>-0.186109</td>\n",
       "      <td>-0.186671</td>\n",
       "      <td>-0.184992</td>\n",
       "      <td>-0.184144</td>\n",
       "      <td>663967</td>\n",
       "      <td>0</td>\n",
       "      <td>0</td>\n",
       "    </tr>\n",
       "    <tr>\n",
       "      <th>48</th>\n",
       "      <td>-0.184528</td>\n",
       "      <td>-0.186109</td>\n",
       "      <td>-0.186671</td>\n",
       "      <td>-0.184992</td>\n",
       "      <td>-0.184144</td>\n",
       "      <td>466859</td>\n",
       "      <td>0</td>\n",
       "      <td>0</td>\n",
       "    </tr>\n",
       "    <tr>\n",
       "      <th>49</th>\n",
       "      <td>-0.184528</td>\n",
       "      <td>-0.186109</td>\n",
       "      <td>-0.186671</td>\n",
       "      <td>-0.184992</td>\n",
       "      <td>-0.184144</td>\n",
       "      <td>513346</td>\n",
       "      <td>0</td>\n",
       "      <td>0</td>\n",
       "    </tr>\n",
       "  </tbody>\n",
       "</table>\n",
       "</div>"
      ],
      "text/plain": [
       "       Enero   Febrero     Marzo     Abril      Mayo      id  Junio  y^\n",
       "0  -0.184528 -0.186109 -0.186671 -0.184992 -0.184144   76078      0   0\n",
       "1  -0.184528 -0.186109 -0.186671 -0.184992 -0.184144  170864      0   0\n",
       "2  -0.184528 -0.186109 -0.186671 -0.184992 -0.184144   21886      0   0\n",
       "3  -0.184528 -0.186109 -0.186671 -0.184992 -0.184144  255349      0   0\n",
       "4   0.849108 -0.186109 -0.186671  0.920121  1.884164  622946      2   0\n",
       "5  -0.184528 -0.186109 -0.186671 -0.184992 -0.184144  355876      0   0\n",
       "6  -0.184528 -0.186109 -0.186671 -0.184992 -0.184144  562057      0   0\n",
       "7  -0.184528 -0.186109 -0.186671 -0.184992 -0.184144  289577      0   0\n",
       "8  -0.184528 -0.186109 -0.186671 -0.184992 -0.184144  173502      1   0\n",
       "9  -0.184528 -0.186109 -0.186671 -0.184992 -0.184144  641501      0   0\n",
       "10 -0.184528 -0.186109 -0.186671 -0.184992 -0.184144  237263      0   0\n",
       "11 -0.184528 -0.186109 -0.186671 -0.184992 -0.184144   35177      0   0\n",
       "12 -0.184528 -0.186109 -0.186671 -0.184992 -0.184144  656011      0   0\n",
       "13 -0.184528 -0.186109 -0.186671 -0.184992 -0.184144   35024      0   0\n",
       "14 -0.184528 -0.186109 -0.186671 -0.184992 -0.184144  423604      0   0\n",
       "15 -0.184528 -0.186109 -0.186671 -0.184992 -0.184144  469771      0   0\n",
       "16 -0.184528 -0.186109 -0.186671 -0.184992 -0.184144  501526      0   0\n",
       "17 -0.184528  2.018278 -0.186671 -0.184992  0.850010  164270      0   0\n",
       "18 -0.184528 -0.186109 -0.186671 -0.184992 -0.184144  171455      0   0\n",
       "19 -0.184528 -0.186109 -0.186671 -0.184992 -0.184144  423094      1   0\n",
       "20 -0.184528 -0.186109 -0.186671 -0.184992 -0.184144  544800      0   0\n",
       "21 -0.184528 -0.186109 -0.186671 -0.184992 -0.184144  132338      9   0\n",
       "22 -0.184528 -0.186109 -0.186671 -0.184992 -0.184144  313451      0   0\n",
       "23 -0.184528 -0.186109 -0.186671 -0.184992 -0.184144  442215      0   0\n",
       "24 -0.184528 -0.186109 -0.186671 -0.184992 -0.184144  240096      0   0\n",
       "25 -0.184528 -0.186109 -0.186671 -0.184992 -0.184144  565846      0   0\n",
       "26 -0.184528 -0.186109 -0.186671 -0.184992 -0.184144  462252      0   0\n",
       "27 -0.184528 -0.186109 -0.186671 -0.184992 -0.184144  316530      0   0\n",
       "28 -0.184528 -0.186109 -0.186671 -0.184992 -0.184144  146006      0   0\n",
       "29 -0.184528 -0.186109 -0.186671 -0.184992 -0.184144  126938      0   0\n",
       "30 -0.184528 -0.186109 -0.186671 -0.184992 -0.184144  391153      0   0\n",
       "31 -0.184528 -0.186109 -0.186671 -0.184992 -0.184144  266238      0   0\n",
       "32 -0.184528 -0.186109 -0.186671 -0.184992 -0.184144  651318      0   0\n",
       "33 -0.184528 -0.186109 -0.186671 -0.184992 -0.184144  603545      0   0\n",
       "34  0.849108  2.018278  0.834544  3.130346  2.918318  520499      1   1\n",
       "35 -0.184528 -0.186109 -0.186671 -0.184992 -0.184144  211019      0   0\n",
       "36 -0.184528 -0.186109 -0.186671 -0.184992 -0.184144  121549     54   0\n",
       "37 -0.184528 -0.186109 -0.186671 -0.184992 -0.184144  208609      0   0\n",
       "38 -0.184528 -0.186109 -0.186671 -0.184992 -0.184144  136389      0   0\n",
       "39 -0.184528 -0.186109 -0.186671 -0.184992 -0.184144   41699      0   0\n",
       "40 -0.184528 -0.186109 -0.186671 -0.184992 -0.184144  593951      0   0\n",
       "41 -0.184528 -0.186109 -0.186671 -0.184992 -0.184144  230355      0   0\n",
       "42 -0.184528 -0.186109 -0.186671 -0.184992 -0.184144  533997      0   0\n",
       "43 -0.184528 -0.186109 -0.186671 -0.184992 -0.184144  481495      0   0\n",
       "44 -0.184528 -0.186109 -0.186671 -0.184992 -0.184144  239563      0   0\n",
       "45 -0.184528 -0.186109 -0.186671 -0.184992 -0.184144  447548      0   0\n",
       "46 -0.184528 -0.186109 -0.186671 -0.184992  0.850010  256791      0   0\n",
       "47 -0.184528 -0.186109 -0.186671 -0.184992 -0.184144  663967      0   0\n",
       "48 -0.184528 -0.186109 -0.186671 -0.184992 -0.184144  466859      0   0\n",
       "49 -0.184528 -0.186109 -0.186671 -0.184992 -0.184144  513346      0   0"
      ]
     },
     "execution_count": 106,
     "metadata": {},
     "output_type": "execute_result"
    }
   ],
   "source": [
    "Xt_1.head(50)"
   ]
  },
  {
   "cell_type": "markdown",
   "id": "bd064ce6",
   "metadata": {},
   "source": [
    "## vart_2"
   ]
  },
  {
   "cell_type": "code",
   "execution_count": 73,
   "id": "33c3062f",
   "metadata": {
    "ExecuteTime": {
     "end_time": "2023-08-03T23:47:58.077417Z",
     "start_time": "2023-08-03T23:47:57.460829Z"
    }
   },
   "outputs": [
    {
     "data": {
      "text/html": [
       "<style>#sk-container-id-16 {color: black;background-color: white;}#sk-container-id-16 pre{padding: 0;}#sk-container-id-16 div.sk-toggleable {background-color: white;}#sk-container-id-16 label.sk-toggleable__label {cursor: pointer;display: block;width: 100%;margin-bottom: 0;padding: 0.3em;box-sizing: border-box;text-align: center;}#sk-container-id-16 label.sk-toggleable__label-arrow:before {content: \"▸\";float: left;margin-right: 0.25em;color: #696969;}#sk-container-id-16 label.sk-toggleable__label-arrow:hover:before {color: black;}#sk-container-id-16 div.sk-estimator:hover label.sk-toggleable__label-arrow:before {color: black;}#sk-container-id-16 div.sk-toggleable__content {max-height: 0;max-width: 0;overflow: hidden;text-align: left;background-color: #f0f8ff;}#sk-container-id-16 div.sk-toggleable__content pre {margin: 0.2em;color: black;border-radius: 0.25em;background-color: #f0f8ff;}#sk-container-id-16 input.sk-toggleable__control:checked~div.sk-toggleable__content {max-height: 200px;max-width: 100%;overflow: auto;}#sk-container-id-16 input.sk-toggleable__control:checked~label.sk-toggleable__label-arrow:before {content: \"▾\";}#sk-container-id-16 div.sk-estimator input.sk-toggleable__control:checked~label.sk-toggleable__label {background-color: #d4ebff;}#sk-container-id-16 div.sk-label input.sk-toggleable__control:checked~label.sk-toggleable__label {background-color: #d4ebff;}#sk-container-id-16 input.sk-hidden--visually {border: 0;clip: rect(1px 1px 1px 1px);clip: rect(1px, 1px, 1px, 1px);height: 1px;margin: -1px;overflow: hidden;padding: 0;position: absolute;width: 1px;}#sk-container-id-16 div.sk-estimator {font-family: monospace;background-color: #f0f8ff;border: 1px dotted black;border-radius: 0.25em;box-sizing: border-box;margin-bottom: 0.5em;}#sk-container-id-16 div.sk-estimator:hover {background-color: #d4ebff;}#sk-container-id-16 div.sk-parallel-item::after {content: \"\";width: 100%;border-bottom: 1px solid gray;flex-grow: 1;}#sk-container-id-16 div.sk-label:hover label.sk-toggleable__label {background-color: #d4ebff;}#sk-container-id-16 div.sk-serial::before {content: \"\";position: absolute;border-left: 1px solid gray;box-sizing: border-box;top: 0;bottom: 0;left: 50%;z-index: 0;}#sk-container-id-16 div.sk-serial {display: flex;flex-direction: column;align-items: center;background-color: white;padding-right: 0.2em;padding-left: 0.2em;position: relative;}#sk-container-id-16 div.sk-item {position: relative;z-index: 1;}#sk-container-id-16 div.sk-parallel {display: flex;align-items: stretch;justify-content: center;background-color: white;position: relative;}#sk-container-id-16 div.sk-item::before, #sk-container-id-16 div.sk-parallel-item::before {content: \"\";position: absolute;border-left: 1px solid gray;box-sizing: border-box;top: 0;bottom: 0;left: 50%;z-index: -1;}#sk-container-id-16 div.sk-parallel-item {display: flex;flex-direction: column;z-index: 1;position: relative;background-color: white;}#sk-container-id-16 div.sk-parallel-item:first-child::after {align-self: flex-end;width: 50%;}#sk-container-id-16 div.sk-parallel-item:last-child::after {align-self: flex-start;width: 50%;}#sk-container-id-16 div.sk-parallel-item:only-child::after {width: 0;}#sk-container-id-16 div.sk-dashed-wrapped {border: 1px dashed gray;margin: 0 0.4em 0.5em 0.4em;box-sizing: border-box;padding-bottom: 0.4em;background-color: white;}#sk-container-id-16 div.sk-label label {font-family: monospace;font-weight: bold;display: inline-block;line-height: 1.2em;}#sk-container-id-16 div.sk-label-container {text-align: center;}#sk-container-id-16 div.sk-container {/* jupyter's `normalize.less` sets `[hidden] { display: none; }` but bootstrap.min.css set `[hidden] { display: none !important; }` so we also need the `!important` here to be able to override the default hidden behavior on the sphinx rendered scikit-learn.org. See: https://github.com/scikit-learn/scikit-learn/issues/21755 */display: inline-block !important;position: relative;}#sk-container-id-16 div.sk-text-repr-fallback {display: none;}</style><div id=\"sk-container-id-16\" class=\"sk-top-container\"><div class=\"sk-text-repr-fallback\"><pre>LinearRegression(n_jobs=-1)</pre><b>In a Jupyter environment, please rerun this cell to show the HTML representation or trust the notebook. <br />On GitHub, the HTML representation is unable to render, please try loading this page with nbviewer.org.</b></div><div class=\"sk-container\" hidden><div class=\"sk-item\"><div class=\"sk-estimator sk-toggleable\"><input class=\"sk-toggleable__control sk-hidden--visually\" id=\"sk-estimator-id-16\" type=\"checkbox\" checked><label for=\"sk-estimator-id-16\" class=\"sk-toggleable__label sk-toggleable__label-arrow\">LinearRegression</label><div class=\"sk-toggleable__content\"><pre>LinearRegression(n_jobs=-1)</pre></div></div></div></div></div>"
      ],
      "text/plain": [
       "LinearRegression(n_jobs=-1)"
      ]
     },
     "execution_count": 73,
     "metadata": {},
     "output_type": "execute_result"
    }
   ],
   "source": [
    "modelo_2 = LinearRegression(n_jobs=-1)\n",
    "modelo_2.fit(Xt_2[best_2],Xt_2[vart_2[0]])"
   ]
  },
  {
   "cell_type": "code",
   "execution_count": 74,
   "id": "c144a395",
   "metadata": {
    "ExecuteTime": {
     "end_time": "2023-08-03T23:47:58.105450Z",
     "start_time": "2023-08-03T23:47:58.085564Z"
    }
   },
   "outputs": [
    {
     "data": {
      "text/plain": [
       "array([0.22113209, 0.13470847, 0.16576671, 0.13910395, 0.29150445,\n",
       "       0.22798319])"
      ]
     },
     "execution_count": 74,
     "metadata": {},
     "output_type": "execute_result"
    }
   ],
   "source": [
    "modelo_2.coef_"
   ]
  },
  {
   "cell_type": "code",
   "execution_count": 75,
   "id": "a7558b05",
   "metadata": {
    "ExecuteTime": {
     "end_time": "2023-08-03T23:47:58.214174Z",
     "start_time": "2023-08-03T23:47:58.114586Z"
    }
   },
   "outputs": [
    {
     "data": {
      "text/plain": [
       "0.6952295318168477"
      ]
     },
     "execution_count": 75,
     "metadata": {},
     "output_type": "execute_result"
    }
   ],
   "source": [
    "modelo_2.intercept_"
   ]
  },
  {
   "cell_type": "markdown",
   "id": "81cd0779",
   "metadata": {},
   "source": [
    "### Validación del modelo"
   ]
  },
  {
   "cell_type": "code",
   "execution_count": 76,
   "id": "dedeadc3",
   "metadata": {
    "ExecuteTime": {
     "end_time": "2023-08-03T23:47:58.429763Z",
     "start_time": "2023-08-03T23:47:58.220624Z"
    }
   },
   "outputs": [],
   "source": [
    "Xt_2['y^'] = modelo_2.predict(Xt_2[best_2]).astype(int)\n",
    "Xv_2['y^'] = modelo_2.predict(Xv_2[best_2]).astype(int)"
   ]
  },
  {
   "cell_type": "code",
   "execution_count": 77,
   "id": "b0149cd4",
   "metadata": {
    "ExecuteTime": {
     "end_time": "2023-08-03T23:47:58.528077Z",
     "start_time": "2023-08-03T23:47:58.449494Z"
    }
   },
   "outputs": [
    {
     "name": "stdout",
     "output_type": "stream",
     "text": [
      "0.6325253772902169\n",
      "0.6131207939031094\n"
     ]
    }
   ],
   "source": [
    "print(mean_absolute_error(y_pred=Xt_2['y^'],y_true=Xt_2[vart_2[0]]))\n",
    "print(mean_absolute_error(y_pred=Xv_2['y^'],y_true=Xv_2[vart_2[0]]))"
   ]
  },
  {
   "cell_type": "code",
   "execution_count": 78,
   "id": "19fb3cc9",
   "metadata": {
    "ExecuteTime": {
     "end_time": "2023-08-03T23:47:58.615301Z",
     "start_time": "2023-08-03T23:47:58.550696Z"
    },
    "scrolled": false
   },
   "outputs": [
    {
     "name": "stdout",
     "output_type": "stream",
     "text": [
      "0.010575018986694329\n",
      "0.011805247191404522\n"
     ]
    }
   ],
   "source": [
    "print(r2_score(y_pred=Xt_2['y^'],y_true=Xt_2[vart_2[0]]))\n",
    "print(r2_score(y_pred=Xv_2['y^'],y_true=Xv_2[vart_2[0]]))"
   ]
  },
  {
   "cell_type": "code",
   "execution_count": 79,
   "id": "5f5ffa82",
   "metadata": {
    "ExecuteTime": {
     "end_time": "2023-08-03T23:47:58.726359Z",
     "start_time": "2023-08-03T23:47:58.623705Z"
    }
   },
   "outputs": [
    {
     "name": "stdout",
     "output_type": "stream",
     "text": [
      "Mal =  17673\n",
      "Bien =  184266\n"
     ]
    }
   ],
   "source": [
    "print('Mal = ',Xv_2.loc[Xv_2[vart_2[0]]!=Xv_2['y^']].shape[0])\n",
    "print('Bien = ',Xv_2.loc[Xv_2[vart_2[0]]==Xv_2['y^']].shape[0])"
   ]
  },
  {
   "cell_type": "markdown",
   "id": "293bece5",
   "metadata": {},
   "source": [
    "## vart_3"
   ]
  },
  {
   "cell_type": "code",
   "execution_count": 80,
   "id": "e457172a",
   "metadata": {
    "ExecuteTime": {
     "end_time": "2023-08-03T23:47:59.482172Z",
     "start_time": "2023-08-03T23:47:58.733710Z"
    }
   },
   "outputs": [
    {
     "data": {
      "text/html": [
       "<style>#sk-container-id-17 {color: black;background-color: white;}#sk-container-id-17 pre{padding: 0;}#sk-container-id-17 div.sk-toggleable {background-color: white;}#sk-container-id-17 label.sk-toggleable__label {cursor: pointer;display: block;width: 100%;margin-bottom: 0;padding: 0.3em;box-sizing: border-box;text-align: center;}#sk-container-id-17 label.sk-toggleable__label-arrow:before {content: \"▸\";float: left;margin-right: 0.25em;color: #696969;}#sk-container-id-17 label.sk-toggleable__label-arrow:hover:before {color: black;}#sk-container-id-17 div.sk-estimator:hover label.sk-toggleable__label-arrow:before {color: black;}#sk-container-id-17 div.sk-toggleable__content {max-height: 0;max-width: 0;overflow: hidden;text-align: left;background-color: #f0f8ff;}#sk-container-id-17 div.sk-toggleable__content pre {margin: 0.2em;color: black;border-radius: 0.25em;background-color: #f0f8ff;}#sk-container-id-17 input.sk-toggleable__control:checked~div.sk-toggleable__content {max-height: 200px;max-width: 100%;overflow: auto;}#sk-container-id-17 input.sk-toggleable__control:checked~label.sk-toggleable__label-arrow:before {content: \"▾\";}#sk-container-id-17 div.sk-estimator input.sk-toggleable__control:checked~label.sk-toggleable__label {background-color: #d4ebff;}#sk-container-id-17 div.sk-label input.sk-toggleable__control:checked~label.sk-toggleable__label {background-color: #d4ebff;}#sk-container-id-17 input.sk-hidden--visually {border: 0;clip: rect(1px 1px 1px 1px);clip: rect(1px, 1px, 1px, 1px);height: 1px;margin: -1px;overflow: hidden;padding: 0;position: absolute;width: 1px;}#sk-container-id-17 div.sk-estimator {font-family: monospace;background-color: #f0f8ff;border: 1px dotted black;border-radius: 0.25em;box-sizing: border-box;margin-bottom: 0.5em;}#sk-container-id-17 div.sk-estimator:hover {background-color: #d4ebff;}#sk-container-id-17 div.sk-parallel-item::after {content: \"\";width: 100%;border-bottom: 1px solid gray;flex-grow: 1;}#sk-container-id-17 div.sk-label:hover label.sk-toggleable__label {background-color: #d4ebff;}#sk-container-id-17 div.sk-serial::before {content: \"\";position: absolute;border-left: 1px solid gray;box-sizing: border-box;top: 0;bottom: 0;left: 50%;z-index: 0;}#sk-container-id-17 div.sk-serial {display: flex;flex-direction: column;align-items: center;background-color: white;padding-right: 0.2em;padding-left: 0.2em;position: relative;}#sk-container-id-17 div.sk-item {position: relative;z-index: 1;}#sk-container-id-17 div.sk-parallel {display: flex;align-items: stretch;justify-content: center;background-color: white;position: relative;}#sk-container-id-17 div.sk-item::before, #sk-container-id-17 div.sk-parallel-item::before {content: \"\";position: absolute;border-left: 1px solid gray;box-sizing: border-box;top: 0;bottom: 0;left: 50%;z-index: -1;}#sk-container-id-17 div.sk-parallel-item {display: flex;flex-direction: column;z-index: 1;position: relative;background-color: white;}#sk-container-id-17 div.sk-parallel-item:first-child::after {align-self: flex-end;width: 50%;}#sk-container-id-17 div.sk-parallel-item:last-child::after {align-self: flex-start;width: 50%;}#sk-container-id-17 div.sk-parallel-item:only-child::after {width: 0;}#sk-container-id-17 div.sk-dashed-wrapped {border: 1px dashed gray;margin: 0 0.4em 0.5em 0.4em;box-sizing: border-box;padding-bottom: 0.4em;background-color: white;}#sk-container-id-17 div.sk-label label {font-family: monospace;font-weight: bold;display: inline-block;line-height: 1.2em;}#sk-container-id-17 div.sk-label-container {text-align: center;}#sk-container-id-17 div.sk-container {/* jupyter's `normalize.less` sets `[hidden] { display: none; }` but bootstrap.min.css set `[hidden] { display: none !important; }` so we also need the `!important` here to be able to override the default hidden behavior on the sphinx rendered scikit-learn.org. See: https://github.com/scikit-learn/scikit-learn/issues/21755 */display: inline-block !important;position: relative;}#sk-container-id-17 div.sk-text-repr-fallback {display: none;}</style><div id=\"sk-container-id-17\" class=\"sk-top-container\"><div class=\"sk-text-repr-fallback\"><pre>LinearRegression(n_jobs=-1)</pre><b>In a Jupyter environment, please rerun this cell to show the HTML representation or trust the notebook. <br />On GitHub, the HTML representation is unable to render, please try loading this page with nbviewer.org.</b></div><div class=\"sk-container\" hidden><div class=\"sk-item\"><div class=\"sk-estimator sk-toggleable\"><input class=\"sk-toggleable__control sk-hidden--visually\" id=\"sk-estimator-id-17\" type=\"checkbox\" checked><label for=\"sk-estimator-id-17\" class=\"sk-toggleable__label sk-toggleable__label-arrow\">LinearRegression</label><div class=\"sk-toggleable__content\"><pre>LinearRegression(n_jobs=-1)</pre></div></div></div></div></div>"
      ],
      "text/plain": [
       "LinearRegression(n_jobs=-1)"
      ]
     },
     "execution_count": 80,
     "metadata": {},
     "output_type": "execute_result"
    }
   ],
   "source": [
    "modelo_3 = LinearRegression(n_jobs=-1)\n",
    "modelo_3.fit(Xt_3[best_3],Xt_3[vart_3[0]])"
   ]
  },
  {
   "cell_type": "code",
   "execution_count": 81,
   "id": "0f92d50a",
   "metadata": {
    "ExecuteTime": {
     "end_time": "2023-08-03T23:47:59.504704Z",
     "start_time": "2023-08-03T23:47:59.489178Z"
    }
   },
   "outputs": [
    {
     "data": {
      "text/plain": [
       "array([0.24540026, 0.10498836, 0.18281295, 0.11243772, 0.24081299,\n",
       "       0.20628506, 0.16142751])"
      ]
     },
     "execution_count": 81,
     "metadata": {},
     "output_type": "execute_result"
    }
   ],
   "source": [
    "modelo_3.coef_"
   ]
  },
  {
   "cell_type": "code",
   "execution_count": 82,
   "id": "e926b73e",
   "metadata": {
    "ExecuteTime": {
     "end_time": "2023-08-03T23:47:59.603140Z",
     "start_time": "2023-08-03T23:47:59.548406Z"
    }
   },
   "outputs": [
    {
     "data": {
      "text/plain": [
       "0.7047183544722004"
      ]
     },
     "execution_count": 82,
     "metadata": {},
     "output_type": "execute_result"
    }
   ],
   "source": [
    "modelo_3.intercept_"
   ]
  },
  {
   "cell_type": "markdown",
   "id": "05830b52",
   "metadata": {},
   "source": [
    "### Validación del modelo"
   ]
  },
  {
   "cell_type": "code",
   "execution_count": 83,
   "id": "ca8443f0",
   "metadata": {
    "ExecuteTime": {
     "end_time": "2023-08-03T23:47:59.811876Z",
     "start_time": "2023-08-03T23:47:59.610430Z"
    }
   },
   "outputs": [],
   "source": [
    "Xt_3['y^'] = modelo_3.predict(Xt_3[best_3]).astype(int)\n",
    "Xv_3['y^'] = modelo_3.predict(Xv_3[best_3]).astype(int)"
   ]
  },
  {
   "cell_type": "code",
   "execution_count": 84,
   "id": "ef1b0e10",
   "metadata": {
    "ExecuteTime": {
     "end_time": "2023-08-03T23:47:59.898909Z",
     "start_time": "2023-08-03T23:47:59.819152Z"
    }
   },
   "outputs": [
    {
     "name": "stdout",
     "output_type": "stream",
     "text": [
      "0.6393442970867317\n",
      "0.642491049277257\n"
     ]
    }
   ],
   "source": [
    "print(mean_absolute_error(y_pred=Xt_3['y^'],y_true=Xt_3[vart_3[0]]))\n",
    "print(mean_absolute_error(y_pred=Xv_3['y^'],y_true=Xv_3[vart_3[0]]))"
   ]
  },
  {
   "cell_type": "code",
   "execution_count": 85,
   "id": "bb354e1b",
   "metadata": {
    "ExecuteTime": {
     "end_time": "2023-08-03T23:48:00.020503Z",
     "start_time": "2023-08-03T23:47:59.905404Z"
    },
    "scrolled": false
   },
   "outputs": [
    {
     "name": "stdout",
     "output_type": "stream",
     "text": [
      "0.011803760891901494\n",
      "0.011979045043722047\n"
     ]
    }
   ],
   "source": [
    "print(r2_score(y_pred=Xt_3['y^'],y_true=Xt_3[vart_3[0]]))\n",
    "print(r2_score(y_pred=Xv_3['y^'],y_true=Xv_3[vart_3[0]]))"
   ]
  },
  {
   "cell_type": "code",
   "execution_count": 86,
   "id": "6218e209",
   "metadata": {
    "ExecuteTime": {
     "end_time": "2023-08-03T23:48:00.192777Z",
     "start_time": "2023-08-03T23:48:00.028147Z"
    }
   },
   "outputs": [
    {
     "name": "stdout",
     "output_type": "stream",
     "text": [
      "Mal =  17767\n",
      "Bien =  184172\n"
     ]
    }
   ],
   "source": [
    "print('Mal = ',Xv_3.loc[Xv_3[vart_3[0]]!=Xv_3['y^']].shape[0])\n",
    "print('Bien = ',Xv_3.loc[Xv_3[vart_3[0]]==Xv_3['y^']].shape[0])"
   ]
  },
  {
   "cell_type": "markdown",
   "id": "803e7cfc",
   "metadata": {},
   "source": [
    "# Proyecciones"
   ]
  },
  {
   "cell_type": "code",
   "execution_count": 87,
   "id": "4df29b85",
   "metadata": {
    "ExecuteTime": {
     "end_time": "2023-08-03T23:48:00.249746Z",
     "start_time": "2023-08-03T23:48:00.206508Z"
    },
    "scrolled": true
   },
   "outputs": [],
   "source": [
    "sc = StandardScaler()"
   ]
  },
  {
   "cell_type": "code",
   "execution_count": 88,
   "id": "b414ee57",
   "metadata": {
    "ExecuteTime": {
     "end_time": "2023-08-03T23:48:00.621961Z",
     "start_time": "2023-08-03T23:48:00.256443Z"
    }
   },
   "outputs": [],
   "source": [
    "Proyecciones = df[df.columns[:-4]].loc[df['Año']==2023]"
   ]
  },
  {
   "cell_type": "code",
   "execution_count": 89,
   "id": "31db968c",
   "metadata": {
    "ExecuteTime": {
     "end_time": "2023-08-03T23:48:00.962146Z",
     "start_time": "2023-08-03T23:48:00.628269Z"
    }
   },
   "outputs": [],
   "source": [
    "Proyecciones['Junio'] = modelo_1.predict(pd.DataFrame(sc.fit_transform(Proyecciones[best_1]),columns=best_1)).astype(int)\n",
    "Proyecciones['Julio'] = modelo_2.predict(pd.DataFrame(sc.fit_transform(Proyecciones[best_2]),columns=best_2)).astype(int)\n",
    "Proyecciones['Agosto'] = modelo_3.predict(pd.DataFrame(sc.fit_transform(Proyecciones[best_3]),columns=best_3)).astype(int)"
   ]
  },
  {
   "cell_type": "code",
   "execution_count": 90,
   "id": "4b5c6e11",
   "metadata": {
    "ExecuteTime": {
     "end_time": "2023-08-03T23:48:01.059150Z",
     "start_time": "2023-08-03T23:48:00.999414Z"
    },
    "scrolled": false
   },
   "outputs": [
    {
     "data": {
      "text/html": [
       "<div>\n",
       "<style scoped>\n",
       "    .dataframe tbody tr th:only-of-type {\n",
       "        vertical-align: middle;\n",
       "    }\n",
       "\n",
       "    .dataframe tbody tr th {\n",
       "        vertical-align: top;\n",
       "    }\n",
       "\n",
       "    .dataframe thead th {\n",
       "        text-align: right;\n",
       "    }\n",
       "</style>\n",
       "<table border=\"1\" class=\"dataframe\">\n",
       "  <thead>\n",
       "    <tr style=\"text-align: right;\">\n",
       "      <th></th>\n",
       "      <th>id</th>\n",
       "      <th>Año</th>\n",
       "      <th>Clave_Ent</th>\n",
       "      <th>Entidad</th>\n",
       "      <th>Cve. Municipio</th>\n",
       "      <th>Municipio</th>\n",
       "      <th>Bien jurídico afectado</th>\n",
       "      <th>Tipo de delito</th>\n",
       "      <th>Subtipo de delito</th>\n",
       "      <th>Modalidad</th>\n",
       "      <th>Enero</th>\n",
       "      <th>Febrero</th>\n",
       "      <th>Marzo</th>\n",
       "      <th>Abril</th>\n",
       "      <th>Mayo</th>\n",
       "      <th>Junio</th>\n",
       "      <th>Julio</th>\n",
       "      <th>Agosto</th>\n",
       "    </tr>\n",
       "  </thead>\n",
       "  <tbody>\n",
       "    <tr>\n",
       "      <th>673128</th>\n",
       "      <td>673129</td>\n",
       "      <td>2023</td>\n",
       "      <td>1</td>\n",
       "      <td>Aguascalientes</td>\n",
       "      <td>1001</td>\n",
       "      <td>Aguascalientes</td>\n",
       "      <td>El patrimonio</td>\n",
       "      <td>Robo</td>\n",
       "      <td>Robo a casa habitación</td>\n",
       "      <td>Con violencia</td>\n",
       "      <td>4</td>\n",
       "      <td>5</td>\n",
       "      <td>6</td>\n",
       "      <td>2</td>\n",
       "      <td>3</td>\n",
       "      <td>1</td>\n",
       "      <td>1</td>\n",
       "      <td>1</td>\n",
       "    </tr>\n",
       "    <tr>\n",
       "      <th>673129</th>\n",
       "      <td>673130</td>\n",
       "      <td>2023</td>\n",
       "      <td>1</td>\n",
       "      <td>Aguascalientes</td>\n",
       "      <td>1001</td>\n",
       "      <td>Aguascalientes</td>\n",
       "      <td>El patrimonio</td>\n",
       "      <td>Robo</td>\n",
       "      <td>Robo a casa habitación</td>\n",
       "      <td>Sin violencia</td>\n",
       "      <td>143</td>\n",
       "      <td>120</td>\n",
       "      <td>131</td>\n",
       "      <td>144</td>\n",
       "      <td>134</td>\n",
       "      <td>24</td>\n",
       "      <td>25</td>\n",
       "      <td>27</td>\n",
       "    </tr>\n",
       "    <tr>\n",
       "      <th>673130</th>\n",
       "      <td>673131</td>\n",
       "      <td>2023</td>\n",
       "      <td>1</td>\n",
       "      <td>Aguascalientes</td>\n",
       "      <td>1001</td>\n",
       "      <td>Aguascalientes</td>\n",
       "      <td>El patrimonio</td>\n",
       "      <td>Robo</td>\n",
       "      <td>Robo de vehículo automotor</td>\n",
       "      <td>Robo de coche de 4 ruedas Con violencia</td>\n",
       "      <td>4</td>\n",
       "      <td>7</td>\n",
       "      <td>4</td>\n",
       "      <td>4</td>\n",
       "      <td>5</td>\n",
       "      <td>1</td>\n",
       "      <td>1</td>\n",
       "      <td>1</td>\n",
       "    </tr>\n",
       "    <tr>\n",
       "      <th>673131</th>\n",
       "      <td>673132</td>\n",
       "      <td>2023</td>\n",
       "      <td>1</td>\n",
       "      <td>Aguascalientes</td>\n",
       "      <td>1001</td>\n",
       "      <td>Aguascalientes</td>\n",
       "      <td>El patrimonio</td>\n",
       "      <td>Robo</td>\n",
       "      <td>Robo de vehículo automotor</td>\n",
       "      <td>Robo de coche de 4 ruedas Sin violencia</td>\n",
       "      <td>32</td>\n",
       "      <td>29</td>\n",
       "      <td>65</td>\n",
       "      <td>56</td>\n",
       "      <td>65</td>\n",
       "      <td>9</td>\n",
       "      <td>10</td>\n",
       "      <td>10</td>\n",
       "    </tr>\n",
       "    <tr>\n",
       "      <th>673132</th>\n",
       "      <td>673133</td>\n",
       "      <td>2023</td>\n",
       "      <td>1</td>\n",
       "      <td>Aguascalientes</td>\n",
       "      <td>1001</td>\n",
       "      <td>Aguascalientes</td>\n",
       "      <td>El patrimonio</td>\n",
       "      <td>Robo</td>\n",
       "      <td>Robo de vehículo automotor</td>\n",
       "      <td>Robo de motocicleta Con violencia</td>\n",
       "      <td>0</td>\n",
       "      <td>3</td>\n",
       "      <td>4</td>\n",
       "      <td>1</td>\n",
       "      <td>1</td>\n",
       "      <td>0</td>\n",
       "      <td>0</td>\n",
       "      <td>0</td>\n",
       "    </tr>\n",
       "  </tbody>\n",
       "</table>\n",
       "</div>"
      ],
      "text/plain": [
       "            id   Año  Clave_Ent         Entidad  Cve. Municipio  \\\n",
       "673128  673129  2023          1  Aguascalientes            1001   \n",
       "673129  673130  2023          1  Aguascalientes            1001   \n",
       "673130  673131  2023          1  Aguascalientes            1001   \n",
       "673131  673132  2023          1  Aguascalientes            1001   \n",
       "673132  673133  2023          1  Aguascalientes            1001   \n",
       "\n",
       "             Municipio Bien jurídico afectado Tipo de delito  \\\n",
       "673128  Aguascalientes          El patrimonio           Robo   \n",
       "673129  Aguascalientes          El patrimonio           Robo   \n",
       "673130  Aguascalientes          El patrimonio           Robo   \n",
       "673131  Aguascalientes          El patrimonio           Robo   \n",
       "673132  Aguascalientes          El patrimonio           Robo   \n",
       "\n",
       "                 Subtipo de delito                                Modalidad  \\\n",
       "673128      Robo a casa habitación                            Con violencia   \n",
       "673129      Robo a casa habitación                            Sin violencia   \n",
       "673130  Robo de vehículo automotor  Robo de coche de 4 ruedas Con violencia   \n",
       "673131  Robo de vehículo automotor  Robo de coche de 4 ruedas Sin violencia   \n",
       "673132  Robo de vehículo automotor        Robo de motocicleta Con violencia   \n",
       "\n",
       "        Enero  Febrero  Marzo  Abril  Mayo  Junio  Julio  Agosto  \n",
       "673128      4        5      6      2     3      1      1       1  \n",
       "673129    143      120    131    144   134     24     25      27  \n",
       "673130      4        7      4      4     5      1      1       1  \n",
       "673131     32       29     65     56    65      9     10      10  \n",
       "673132      0        3      4      1     1      0      0       0  "
      ]
     },
     "execution_count": 90,
     "metadata": {},
     "output_type": "execute_result"
    }
   ],
   "source": [
    "Proyecciones.head()"
   ]
  },
  {
   "cell_type": "code",
   "execution_count": 115,
   "id": "4d6f0bc3",
   "metadata": {
    "ExecuteTime": {
     "end_time": "2023-08-03T23:55:21.694197Z",
     "start_time": "2023-08-03T23:55:20.188308Z"
    }
   },
   "outputs": [],
   "source": [
    "Proyecciones.to_csv('Proyecciones_jun_jul_agos.csv',columns=Proyecciones.columns, encoding='latin-1',sep =',',index=False)"
   ]
  },
  {
   "cell_type": "markdown",
   "id": "1dbf3763",
   "metadata": {},
   "source": [
    "# Descuento en el valor del seguro"
   ]
  },
  {
   "cell_type": "code",
   "execution_count": 92,
   "id": "1d19b8d6",
   "metadata": {
    "ExecuteTime": {
     "end_time": "2023-08-03T23:48:03.370050Z",
     "start_time": "2023-08-03T23:48:03.335488Z"
    }
   },
   "outputs": [],
   "source": [
    "desc = Proyecciones.copy()"
   ]
  },
  {
   "cell_type": "code",
   "execution_count": 93,
   "id": "e89c885a",
   "metadata": {
    "ExecuteTime": {
     "end_time": "2023-08-03T23:48:03.731663Z",
     "start_time": "2023-08-03T23:48:03.374569Z"
    }
   },
   "outputs": [],
   "source": [
    "desc['Robos_proyecciones'] = desc[vart_1[0]]+desc[vart_2[0]]+desc[vart_3[0]]"
   ]
  },
  {
   "cell_type": "code",
   "execution_count": 94,
   "id": "2eaa4ed6",
   "metadata": {
    "ExecuteTime": {
     "end_time": "2023-08-03T23:48:04.131095Z",
     "start_time": "2023-08-03T23:48:03.737269Z"
    },
    "scrolled": false
   },
   "outputs": [
    {
     "data": {
      "text/html": [
       "<div>\n",
       "<style scoped>\n",
       "    .dataframe tbody tr th:only-of-type {\n",
       "        vertical-align: middle;\n",
       "    }\n",
       "\n",
       "    .dataframe tbody tr th {\n",
       "        vertical-align: top;\n",
       "    }\n",
       "\n",
       "    .dataframe thead th {\n",
       "        text-align: right;\n",
       "    }\n",
       "</style>\n",
       "<table border=\"1\" class=\"dataframe\">\n",
       "  <thead>\n",
       "    <tr style=\"text-align: right;\">\n",
       "      <th></th>\n",
       "      <th>Robos_proyecciones</th>\n",
       "    </tr>\n",
       "    <tr>\n",
       "      <th>Subtipo de delito</th>\n",
       "      <th></th>\n",
       "    </tr>\n",
       "  </thead>\n",
       "  <tbody>\n",
       "    <tr>\n",
       "      <th>Robo a institución bancaria</th>\n",
       "      <td>0</td>\n",
       "    </tr>\n",
       "    <tr>\n",
       "      <th>Robo de ganado</th>\n",
       "      <td>30</td>\n",
       "    </tr>\n",
       "    <tr>\n",
       "      <th>Robo de maquinaria</th>\n",
       "      <td>39</td>\n",
       "    </tr>\n",
       "    <tr>\n",
       "      <th>Robo en transporte público individual</th>\n",
       "      <td>66</td>\n",
       "    </tr>\n",
       "    <tr>\n",
       "      <th>Robo a transeúnte en espacio abierto al público</th>\n",
       "      <td>223</td>\n",
       "    </tr>\n",
       "    <tr>\n",
       "      <th>Robo a transportista</th>\n",
       "      <td>354</td>\n",
       "    </tr>\n",
       "    <tr>\n",
       "      <th>Robo en transporte individual</th>\n",
       "      <td>550</td>\n",
       "    </tr>\n",
       "    <tr>\n",
       "      <th>Robo en transporte público colectivo</th>\n",
       "      <td>572</td>\n",
       "    </tr>\n",
       "    <tr>\n",
       "      <th>Robo de autopartes</th>\n",
       "      <td>1058</td>\n",
       "    </tr>\n",
       "    <tr>\n",
       "      <th>Robo a casa habitación</th>\n",
       "      <td>2459</td>\n",
       "    </tr>\n",
       "    <tr>\n",
       "      <th>Robo a transeúnte en vía pública</th>\n",
       "      <td>2868</td>\n",
       "    </tr>\n",
       "    <tr>\n",
       "      <th>Robo a negocio</th>\n",
       "      <td>3465</td>\n",
       "    </tr>\n",
       "    <tr>\n",
       "      <th>Robo de vehículo automotor</th>\n",
       "      <td>5939</td>\n",
       "    </tr>\n",
       "    <tr>\n",
       "      <th>Otros robos</th>\n",
       "      <td>8470</td>\n",
       "    </tr>\n",
       "  </tbody>\n",
       "</table>\n",
       "</div>"
      ],
      "text/plain": [
       "                                                 Robos_proyecciones\n",
       "Subtipo de delito                                                  \n",
       "Robo a institución bancaria                                       0\n",
       "Robo de ganado                                                   30\n",
       "Robo de maquinaria                                               39\n",
       "Robo en transporte público individual                            66\n",
       "Robo a transeúnte en espacio abierto al público                 223\n",
       "Robo a transportista                                            354\n",
       "Robo en transporte individual                                   550\n",
       "Robo en transporte público colectivo                            572\n",
       "Robo de autopartes                                             1058\n",
       "Robo a casa habitación                                         2459\n",
       "Robo a transeúnte en vía pública                               2868\n",
       "Robo a negocio                                                 3465\n",
       "Robo de vehículo automotor                                     5939\n",
       "Otros robos                                                    8470"
      ]
     },
     "execution_count": 94,
     "metadata": {},
     "output_type": "execute_result"
    }
   ],
   "source": [
    "filtro_1 = desc.groupby('Subtipo de delito').agg({'Robos_proyecciones':'sum'}).sort_values(by='Robos_proyecciones',\n",
    "                                    ascending=True)\n",
    "filtro_1"
   ]
  },
  {
   "cell_type": "code",
   "execution_count": 95,
   "id": "53049394",
   "metadata": {
    "ExecuteTime": {
     "end_time": "2023-08-03T23:48:04.371048Z",
     "start_time": "2023-08-03T23:48:04.137853Z"
    }
   },
   "outputs": [
    {
     "data": {
      "text/plain": [
       "561.0"
      ]
     },
     "execution_count": 95,
     "metadata": {},
     "output_type": "execute_result"
    }
   ],
   "source": [
    "media_robos = np.median(filtro_1['Robos_proyecciones'])\n",
    "media_robos"
   ]
  },
  {
   "cell_type": "code",
   "execution_count": 96,
   "id": "cf74d562",
   "metadata": {
    "ExecuteTime": {
     "end_time": "2023-08-03T23:48:04.510462Z",
     "start_time": "2023-08-03T23:48:04.383410Z"
    },
    "scrolled": true
   },
   "outputs": [
    {
     "data": {
      "text/plain": [
       "['Robo en transporte público colectivo',\n",
       " 'Robo de autopartes',\n",
       " 'Robo a casa habitación',\n",
       " 'Robo a transeúnte en vía pública',\n",
       " 'Robo a negocio',\n",
       " 'Robo de vehículo automotor',\n",
       " 'Otros robos']"
      ]
     },
     "execution_count": 96,
     "metadata": {},
     "output_type": "execute_result"
    }
   ],
   "source": [
    "subtipos = [v for v in filtro_1['Robos_proyecciones'].index if filtro_1['Robos_proyecciones'][v]>=media_robos]\n",
    "subtipos"
   ]
  },
  {
   "cell_type": "code",
   "execution_count": 97,
   "id": "dbc6f034",
   "metadata": {
    "ExecuteTime": {
     "end_time": "2023-08-03T23:48:04.928058Z",
     "start_time": "2023-08-03T23:48:04.519719Z"
    },
    "scrolled": false
   },
   "outputs": [
    {
     "data": {
      "text/html": [
       "<div>\n",
       "<style scoped>\n",
       "    .dataframe tbody tr th:only-of-type {\n",
       "        vertical-align: middle;\n",
       "    }\n",
       "\n",
       "    .dataframe tbody tr th {\n",
       "        vertical-align: top;\n",
       "    }\n",
       "\n",
       "    .dataframe thead th {\n",
       "        text-align: right;\n",
       "    }\n",
       "</style>\n",
       "<table border=\"1\" class=\"dataframe\">\n",
       "  <thead>\n",
       "    <tr style=\"text-align: right;\">\n",
       "      <th></th>\n",
       "      <th>id</th>\n",
       "      <th>Año</th>\n",
       "      <th>Clave_Ent</th>\n",
       "      <th>Entidad</th>\n",
       "      <th>Cve. Municipio</th>\n",
       "      <th>Municipio</th>\n",
       "      <th>Bien jurídico afectado</th>\n",
       "      <th>Tipo de delito</th>\n",
       "      <th>Subtipo de delito</th>\n",
       "      <th>Modalidad</th>\n",
       "      <th>Enero</th>\n",
       "      <th>Febrero</th>\n",
       "      <th>Marzo</th>\n",
       "      <th>Abril</th>\n",
       "      <th>Mayo</th>\n",
       "      <th>Junio</th>\n",
       "      <th>Julio</th>\n",
       "      <th>Agosto</th>\n",
       "      <th>Robos_proyecciones</th>\n",
       "    </tr>\n",
       "  </thead>\n",
       "  <tbody>\n",
       "    <tr>\n",
       "      <th>673146</th>\n",
       "      <td>673147</td>\n",
       "      <td>2023</td>\n",
       "      <td>1</td>\n",
       "      <td>Aguascalientes</td>\n",
       "      <td>1001</td>\n",
       "      <td>Aguascalientes</td>\n",
       "      <td>El patrimonio</td>\n",
       "      <td>Robo</td>\n",
       "      <td>Robo en transporte público colectivo</td>\n",
       "      <td>Con violencia</td>\n",
       "      <td>0</td>\n",
       "      <td>0</td>\n",
       "      <td>3</td>\n",
       "      <td>1</td>\n",
       "      <td>0</td>\n",
       "      <td>0</td>\n",
       "      <td>0</td>\n",
       "      <td>0</td>\n",
       "      <td>0</td>\n",
       "    </tr>\n",
       "    <tr>\n",
       "      <th>673147</th>\n",
       "      <td>673148</td>\n",
       "      <td>2023</td>\n",
       "      <td>1</td>\n",
       "      <td>Aguascalientes</td>\n",
       "      <td>1001</td>\n",
       "      <td>Aguascalientes</td>\n",
       "      <td>El patrimonio</td>\n",
       "      <td>Robo</td>\n",
       "      <td>Robo en transporte público colectivo</td>\n",
       "      <td>Sin violencia</td>\n",
       "      <td>2</td>\n",
       "      <td>0</td>\n",
       "      <td>1</td>\n",
       "      <td>2</td>\n",
       "      <td>2</td>\n",
       "      <td>0</td>\n",
       "      <td>0</td>\n",
       "      <td>0</td>\n",
       "      <td>0</td>\n",
       "    </tr>\n",
       "    <tr>\n",
       "      <th>673182</th>\n",
       "      <td>673183</td>\n",
       "      <td>2023</td>\n",
       "      <td>1</td>\n",
       "      <td>Aguascalientes</td>\n",
       "      <td>1002</td>\n",
       "      <td>Asientos</td>\n",
       "      <td>El patrimonio</td>\n",
       "      <td>Robo</td>\n",
       "      <td>Robo en transporte público colectivo</td>\n",
       "      <td>Con violencia</td>\n",
       "      <td>0</td>\n",
       "      <td>0</td>\n",
       "      <td>0</td>\n",
       "      <td>0</td>\n",
       "      <td>0</td>\n",
       "      <td>0</td>\n",
       "      <td>0</td>\n",
       "      <td>0</td>\n",
       "      <td>0</td>\n",
       "    </tr>\n",
       "    <tr>\n",
       "      <th>673183</th>\n",
       "      <td>673184</td>\n",
       "      <td>2023</td>\n",
       "      <td>1</td>\n",
       "      <td>Aguascalientes</td>\n",
       "      <td>1002</td>\n",
       "      <td>Asientos</td>\n",
       "      <td>El patrimonio</td>\n",
       "      <td>Robo</td>\n",
       "      <td>Robo en transporte público colectivo</td>\n",
       "      <td>Sin violencia</td>\n",
       "      <td>0</td>\n",
       "      <td>0</td>\n",
       "      <td>0</td>\n",
       "      <td>0</td>\n",
       "      <td>0</td>\n",
       "      <td>0</td>\n",
       "      <td>0</td>\n",
       "      <td>0</td>\n",
       "      <td>0</td>\n",
       "    </tr>\n",
       "    <tr>\n",
       "      <th>673218</th>\n",
       "      <td>673219</td>\n",
       "      <td>2023</td>\n",
       "      <td>1</td>\n",
       "      <td>Aguascalientes</td>\n",
       "      <td>1003</td>\n",
       "      <td>Calvillo</td>\n",
       "      <td>El patrimonio</td>\n",
       "      <td>Robo</td>\n",
       "      <td>Robo en transporte público colectivo</td>\n",
       "      <td>Con violencia</td>\n",
       "      <td>0</td>\n",
       "      <td>0</td>\n",
       "      <td>0</td>\n",
       "      <td>0</td>\n",
       "      <td>0</td>\n",
       "      <td>0</td>\n",
       "      <td>0</td>\n",
       "      <td>0</td>\n",
       "      <td>0</td>\n",
       "    </tr>\n",
       "    <tr>\n",
       "      <th>...</th>\n",
       "      <td>...</td>\n",
       "      <td>...</td>\n",
       "      <td>...</td>\n",
       "      <td>...</td>\n",
       "      <td>...</td>\n",
       "      <td>...</td>\n",
       "      <td>...</td>\n",
       "      <td>...</td>\n",
       "      <td>...</td>\n",
       "      <td>...</td>\n",
       "      <td>...</td>\n",
       "      <td>...</td>\n",
       "      <td>...</td>\n",
       "      <td>...</td>\n",
       "      <td>...</td>\n",
       "      <td>...</td>\n",
       "      <td>...</td>\n",
       "      <td>...</td>\n",
       "      <td>...</td>\n",
       "    </tr>\n",
       "    <tr>\n",
       "      <th>762443</th>\n",
       "      <td>762444</td>\n",
       "      <td>2023</td>\n",
       "      <td>32</td>\n",
       "      <td>Zacatecas</td>\n",
       "      <td>32056</td>\n",
       "      <td>Zacatecas</td>\n",
       "      <td>El patrimonio</td>\n",
       "      <td>Robo</td>\n",
       "      <td>Otros robos</td>\n",
       "      <td>Sin violencia</td>\n",
       "      <td>58</td>\n",
       "      <td>58</td>\n",
       "      <td>51</td>\n",
       "      <td>69</td>\n",
       "      <td>51</td>\n",
       "      <td>10</td>\n",
       "      <td>11</td>\n",
       "      <td>11</td>\n",
       "      <td>32</td>\n",
       "    </tr>\n",
       "    <tr>\n",
       "      <th>762478</th>\n",
       "      <td>762479</td>\n",
       "      <td>2023</td>\n",
       "      <td>32</td>\n",
       "      <td>Zacatecas</td>\n",
       "      <td>32057</td>\n",
       "      <td>Trancoso</td>\n",
       "      <td>El patrimonio</td>\n",
       "      <td>Robo</td>\n",
       "      <td>Otros robos</td>\n",
       "      <td>Con violencia</td>\n",
       "      <td>0</td>\n",
       "      <td>1</td>\n",
       "      <td>0</td>\n",
       "      <td>0</td>\n",
       "      <td>5</td>\n",
       "      <td>0</td>\n",
       "      <td>0</td>\n",
       "      <td>0</td>\n",
       "      <td>0</td>\n",
       "    </tr>\n",
       "    <tr>\n",
       "      <th>762479</th>\n",
       "      <td>762480</td>\n",
       "      <td>2023</td>\n",
       "      <td>32</td>\n",
       "      <td>Zacatecas</td>\n",
       "      <td>32057</td>\n",
       "      <td>Trancoso</td>\n",
       "      <td>El patrimonio</td>\n",
       "      <td>Robo</td>\n",
       "      <td>Otros robos</td>\n",
       "      <td>Sin violencia</td>\n",
       "      <td>0</td>\n",
       "      <td>3</td>\n",
       "      <td>3</td>\n",
       "      <td>6</td>\n",
       "      <td>4</td>\n",
       "      <td>1</td>\n",
       "      <td>1</td>\n",
       "      <td>1</td>\n",
       "      <td>3</td>\n",
       "    </tr>\n",
       "    <tr>\n",
       "      <th>762514</th>\n",
       "      <td>762515</td>\n",
       "      <td>2023</td>\n",
       "      <td>32</td>\n",
       "      <td>Zacatecas</td>\n",
       "      <td>32058</td>\n",
       "      <td>Santa María de la Paz</td>\n",
       "      <td>El patrimonio</td>\n",
       "      <td>Robo</td>\n",
       "      <td>Otros robos</td>\n",
       "      <td>Con violencia</td>\n",
       "      <td>0</td>\n",
       "      <td>0</td>\n",
       "      <td>0</td>\n",
       "      <td>0</td>\n",
       "      <td>0</td>\n",
       "      <td>0</td>\n",
       "      <td>0</td>\n",
       "      <td>0</td>\n",
       "      <td>0</td>\n",
       "    </tr>\n",
       "    <tr>\n",
       "      <th>762515</th>\n",
       "      <td>762516</td>\n",
       "      <td>2023</td>\n",
       "      <td>32</td>\n",
       "      <td>Zacatecas</td>\n",
       "      <td>32058</td>\n",
       "      <td>Santa María de la Paz</td>\n",
       "      <td>El patrimonio</td>\n",
       "      <td>Robo</td>\n",
       "      <td>Otros robos</td>\n",
       "      <td>Sin violencia</td>\n",
       "      <td>0</td>\n",
       "      <td>0</td>\n",
       "      <td>0</td>\n",
       "      <td>0</td>\n",
       "      <td>0</td>\n",
       "      <td>0</td>\n",
       "      <td>0</td>\n",
       "      <td>0</td>\n",
       "      <td>0</td>\n",
       "    </tr>\n",
       "  </tbody>\n",
       "</table>\n",
       "<p>44694 rows × 19 columns</p>\n",
       "</div>"
      ],
      "text/plain": [
       "            id   Año  Clave_Ent         Entidad  Cve. Municipio  \\\n",
       "673146  673147  2023          1  Aguascalientes            1001   \n",
       "673147  673148  2023          1  Aguascalientes            1001   \n",
       "673182  673183  2023          1  Aguascalientes            1002   \n",
       "673183  673184  2023          1  Aguascalientes            1002   \n",
       "673218  673219  2023          1  Aguascalientes            1003   \n",
       "...        ...   ...        ...             ...             ...   \n",
       "762443  762444  2023         32       Zacatecas           32056   \n",
       "762478  762479  2023         32       Zacatecas           32057   \n",
       "762479  762480  2023         32       Zacatecas           32057   \n",
       "762514  762515  2023         32       Zacatecas           32058   \n",
       "762515  762516  2023         32       Zacatecas           32058   \n",
       "\n",
       "                    Municipio Bien jurídico afectado Tipo de delito  \\\n",
       "673146         Aguascalientes          El patrimonio           Robo   \n",
       "673147         Aguascalientes          El patrimonio           Robo   \n",
       "673182               Asientos          El patrimonio           Robo   \n",
       "673183               Asientos          El patrimonio           Robo   \n",
       "673218               Calvillo          El patrimonio           Robo   \n",
       "...                       ...                    ...            ...   \n",
       "762443              Zacatecas          El patrimonio           Robo   \n",
       "762478               Trancoso          El patrimonio           Robo   \n",
       "762479               Trancoso          El patrimonio           Robo   \n",
       "762514  Santa María de la Paz          El patrimonio           Robo   \n",
       "762515  Santa María de la Paz          El patrimonio           Robo   \n",
       "\n",
       "                           Subtipo de delito      Modalidad  Enero  Febrero  \\\n",
       "673146  Robo en transporte público colectivo  Con violencia      0        0   \n",
       "673147  Robo en transporte público colectivo  Sin violencia      2        0   \n",
       "673182  Robo en transporte público colectivo  Con violencia      0        0   \n",
       "673183  Robo en transporte público colectivo  Sin violencia      0        0   \n",
       "673218  Robo en transporte público colectivo  Con violencia      0        0   \n",
       "...                                      ...            ...    ...      ...   \n",
       "762443                           Otros robos  Sin violencia     58       58   \n",
       "762478                           Otros robos  Con violencia      0        1   \n",
       "762479                           Otros robos  Sin violencia      0        3   \n",
       "762514                           Otros robos  Con violencia      0        0   \n",
       "762515                           Otros robos  Sin violencia      0        0   \n",
       "\n",
       "        Marzo  Abril  Mayo  Junio  Julio  Agosto  Robos_proyecciones  \n",
       "673146      3      1     0      0      0       0                   0  \n",
       "673147      1      2     2      0      0       0                   0  \n",
       "673182      0      0     0      0      0       0                   0  \n",
       "673183      0      0     0      0      0       0                   0  \n",
       "673218      0      0     0      0      0       0                   0  \n",
       "...       ...    ...   ...    ...    ...     ...                 ...  \n",
       "762443     51     69    51     10     11      11                  32  \n",
       "762478      0      0     5      0      0       0                   0  \n",
       "762479      3      6     4      1      1       1                   3  \n",
       "762514      0      0     0      0      0       0                   0  \n",
       "762515      0      0     0      0      0       0                   0  \n",
       "\n",
       "[44694 rows x 19 columns]"
      ]
     },
     "execution_count": 97,
     "metadata": {},
     "output_type": "execute_result"
    }
   ],
   "source": [
    "filtro_2 = pd.concat(map(lambda m: desc.loc[desc['Subtipo de delito']==m],subtipos))\n",
    "filtro_2"
   ]
  },
  {
   "cell_type": "code",
   "execution_count": 98,
   "id": "e57415ea",
   "metadata": {
    "ExecuteTime": {
     "end_time": "2023-08-03T23:48:05.054437Z",
     "start_time": "2023-08-03T23:48:04.942763Z"
    }
   },
   "outputs": [
    {
     "data": {
      "text/plain": [
       "Municipio\n",
       "Abalá              8\n",
       "Abasolo            8\n",
       "Abejones           8\n",
       "Acacoyagua         8\n",
       "Acajete            8\n",
       "                  ..\n",
       "Zumpango           8\n",
       "Álamo Temapache    8\n",
       "Álvaro Obregón     8\n",
       "Ánimas Trujano     8\n",
       "Ñuu Savi           8\n",
       "Name: Modalidad, Length: 2334, dtype: int64"
      ]
     },
     "execution_count": 98,
     "metadata": {},
     "output_type": "execute_result"
    }
   ],
   "source": [
    "aux = filtro_2.groupby(['Municipio','Modalidad'],as_index=False).agg({'Robos_proyecciones':'sum'}).sort_values(by='Robos_proyecciones',ascending=True)\n",
    "aux.groupby('Municipio')['Modalidad'].nunique()"
   ]
  },
  {
   "cell_type": "code",
   "execution_count": 99,
   "id": "7e63d665",
   "metadata": {
    "ExecuteTime": {
     "end_time": "2023-08-03T23:48:05.119317Z",
     "start_time": "2023-08-03T23:48:05.062103Z"
    },
    "scrolled": false
   },
   "outputs": [
    {
     "data": {
      "text/html": [
       "<div>\n",
       "<style scoped>\n",
       "    .dataframe tbody tr th:only-of-type {\n",
       "        vertical-align: middle;\n",
       "    }\n",
       "\n",
       "    .dataframe tbody tr th {\n",
       "        vertical-align: top;\n",
       "    }\n",
       "\n",
       "    .dataframe thead th {\n",
       "        text-align: right;\n",
       "    }\n",
       "</style>\n",
       "<table border=\"1\" class=\"dataframe\">\n",
       "  <thead>\n",
       "    <tr style=\"text-align: right;\">\n",
       "      <th></th>\n",
       "      <th>Robos_proyecciones</th>\n",
       "    </tr>\n",
       "    <tr>\n",
       "      <th>Municipio</th>\n",
       "      <th></th>\n",
       "    </tr>\n",
       "  </thead>\n",
       "  <tbody>\n",
       "    <tr>\n",
       "      <th>Chiautempan</th>\n",
       "      <td>3</td>\n",
       "    </tr>\n",
       "    <tr>\n",
       "      <th>Chilchota</th>\n",
       "      <td>3</td>\n",
       "    </tr>\n",
       "    <tr>\n",
       "      <th>Romita</th>\n",
       "      <td>3</td>\n",
       "    </tr>\n",
       "    <tr>\n",
       "      <th>Axapusco</th>\n",
       "      <td>3</td>\n",
       "    </tr>\n",
       "    <tr>\n",
       "      <th>Tonanitla</th>\n",
       "      <td>3</td>\n",
       "    </tr>\n",
       "    <tr>\n",
       "      <th>...</th>\n",
       "      <td>...</td>\n",
       "    </tr>\n",
       "    <tr>\n",
       "      <th>Ecatepec de Morelos</th>\n",
       "      <td>643</td>\n",
       "    </tr>\n",
       "    <tr>\n",
       "      <th>Guadalajara</th>\n",
       "      <td>691</td>\n",
       "    </tr>\n",
       "    <tr>\n",
       "      <th>Tijuana</th>\n",
       "      <td>705</td>\n",
       "    </tr>\n",
       "    <tr>\n",
       "      <th>Querétaro</th>\n",
       "      <td>713</td>\n",
       "    </tr>\n",
       "    <tr>\n",
       "      <th>Benito Juárez</th>\n",
       "      <td>790</td>\n",
       "    </tr>\n",
       "  </tbody>\n",
       "</table>\n",
       "<p>531 rows × 1 columns</p>\n",
       "</div>"
      ],
      "text/plain": [
       "                     Robos_proyecciones\n",
       "Municipio                              \n",
       "Chiautempan                           3\n",
       "Chilchota                             3\n",
       "Romita                                3\n",
       "Axapusco                              3\n",
       "Tonanitla                             3\n",
       "...                                 ...\n",
       "Ecatepec de Morelos                 643\n",
       "Guadalajara                         691\n",
       "Tijuana                             705\n",
       "Querétaro                           713\n",
       "Benito Juárez                       790\n",
       "\n",
       "[531 rows x 1 columns]"
      ]
     },
     "execution_count": 99,
     "metadata": {},
     "output_type": "execute_result"
    }
   ],
   "source": [
    "filtro_3 = filtro_2.groupby('Municipio').agg({'Robos_proyecciones':'sum'}).sort_values(by='Robos_proyecciones',\n",
    "                            ascending=True)\n",
    "filtro_3 = filtro_3.loc[filtro_3['Robos_proyecciones']>0]\n",
    "filtro_3"
   ]
  },
  {
   "cell_type": "code",
   "execution_count": 100,
   "id": "4e844460",
   "metadata": {
    "ExecuteTime": {
     "end_time": "2023-08-03T23:48:05.196118Z",
     "start_time": "2023-08-03T23:48:05.130896Z"
    }
   },
   "outputs": [
    {
     "data": {
      "text/plain": [
       "47.0"
      ]
     },
     "execution_count": 100,
     "metadata": {},
     "output_type": "execute_result"
    }
   ],
   "source": [
    "media = round(np.mean(filtro_3['Robos_proyecciones']),0)\n",
    "media"
   ]
  },
  {
   "cell_type": "code",
   "execution_count": 101,
   "id": "591762f2",
   "metadata": {
    "ExecuteTime": {
     "end_time": "2023-08-03T23:48:05.371016Z",
     "start_time": "2023-08-03T23:48:05.202378Z"
    },
    "scrolled": true
   },
   "outputs": [
    {
     "data": {
      "text/plain": [
       "['Chiautempan',\n",
       " 'Chilchota',\n",
       " 'Romita',\n",
       " 'Axapusco',\n",
       " 'Tonanitla',\n",
       " 'Chiautla',\n",
       " 'Ramos Arizpe',\n",
       " 'Apaxco',\n",
       " 'Tlaltizapán de Zapata',\n",
       " 'Tarimoro',\n",
       " 'Tantoyuca',\n",
       " 'Tapachula',\n",
       " 'Bacalar',\n",
       " 'San Diego de la Unión',\n",
       " 'Moctezuma',\n",
       " 'Reforma',\n",
       " 'Tarandacuao',\n",
       " 'Tlaltenango de Sánchez Román',\n",
       " 'Tolimán',\n",
       " 'Axtla de Terrazas',\n",
       " 'Mapimí',\n",
       " 'Rosales',\n",
       " 'Arandas',\n",
       " 'San Antonio la Isla',\n",
       " 'Miahuatlán de Porfirio Díaz',\n",
       " 'Teolocholco',\n",
       " 'Calera',\n",
       " 'Tezontepec de Aldama',\n",
       " 'Teziutlán',\n",
       " 'Calkiní',\n",
       " 'Poanas',\n",
       " 'San Agustín Tlaxiaca',\n",
       " 'Polotitlán',\n",
       " 'Miguel Alemán',\n",
       " 'Camerino Z. Mendoza',\n",
       " 'Cananea',\n",
       " 'Canatlán',\n",
       " 'Mexquitic de Carmona',\n",
       " 'Uriangato',\n",
       " 'Tequila',\n",
       " 'Armería',\n",
       " 'Pueblo Nuevo',\n",
       " 'Tepecoacuilco de Trujano',\n",
       " 'Capulhuac',\n",
       " 'Castaños',\n",
       " 'San Andrés Tuxtla',\n",
       " 'Cedral',\n",
       " 'Malinalco',\n",
       " 'Caborca',\n",
       " 'Bácum',\n",
       " 'Rosario',\n",
       " 'Chiapa de Corzo',\n",
       " 'Atotonilco el Alto',\n",
       " 'Atotonilco de Tula',\n",
       " 'Quecholac',\n",
       " 'Charcas',\n",
       " 'Río Grande',\n",
       " 'Tlahuapan',\n",
       " 'Manuel Doblado',\n",
       " 'Trancoso',\n",
       " 'San Buenaventura',\n",
       " 'Miguel Auza',\n",
       " 'Tres Valles',\n",
       " 'Pinal de Amoles',\n",
       " 'Tlacolula de Matamoros',\n",
       " 'Atlatlahucan',\n",
       " 'Salinas',\n",
       " 'Pánuco de Coronado',\n",
       " 'Múgica',\n",
       " 'Putla Villa de Guerrero',\n",
       " 'Salvador Alvarado',\n",
       " 'Chalchicomula de Sesma',\n",
       " 'Salvador Escalante',\n",
       " 'Atitalaquia',\n",
       " 'Atlautla',\n",
       " 'San Felipe del Progreso',\n",
       " 'Tolcayuca',\n",
       " 'San Fernando',\n",
       " 'Navolato',\n",
       " 'Jalostotitlán',\n",
       " 'Jalapa',\n",
       " 'Santa María Colotepec',\n",
       " 'Elota',\n",
       " 'Santa María Atzompa',\n",
       " 'Empalme',\n",
       " 'Alvarado',\n",
       " 'Santiago Tulantepec de Lugo Guerrero',\n",
       " 'Nopaltepec',\n",
       " 'Zacatelco',\n",
       " 'Agua Dulce',\n",
       " 'Nuevo Ideal',\n",
       " 'Galeana',\n",
       " 'Ixtapan de la Sal',\n",
       " 'Aculco',\n",
       " 'San José del Rincón',\n",
       " 'Zapotiltic',\n",
       " 'Coquimatlán',\n",
       " 'Santa María Huatulco',\n",
       " 'El Llano',\n",
       " 'Cuautepec de Hinojosa',\n",
       " 'Xico',\n",
       " 'Doctor Arroyo',\n",
       " 'Jiquipilco',\n",
       " 'Santa María del Río',\n",
       " 'Aldama',\n",
       " 'Santiago',\n",
       " 'Jaral del Progreso',\n",
       " 'Jocotitlán',\n",
       " 'Allende',\n",
       " 'Palmar de Bravo',\n",
       " 'Ixtacuixtla de Mariano Matamoros',\n",
       " 'Yauhquemehcan',\n",
       " 'Ecuandureo',\n",
       " 'José María Morelos',\n",
       " 'Cuencamé',\n",
       " 'Juan Aldama',\n",
       " 'Juan C. Bonilla',\n",
       " 'Xicotepec',\n",
       " 'El Arenal',\n",
       " 'Xicohtzinco',\n",
       " 'El Fuerte',\n",
       " 'Cuitzeo',\n",
       " 'Contla de Juan Cuamatzi',\n",
       " 'Concordia',\n",
       " 'Compostela',\n",
       " 'Huamantla',\n",
       " 'Soyaniquilpan de Juárez',\n",
       " 'San Pedro Pochutla',\n",
       " 'Acambay de Ruíz Castañeda',\n",
       " 'Villa Victoria',\n",
       " 'Huimilpan',\n",
       " 'Ciudad Fernández',\n",
       " 'Cintalapa',\n",
       " 'Huasca de Ocampo',\n",
       " 'Ojocaliente',\n",
       " 'Huatusco',\n",
       " 'Choix',\n",
       " 'Acajete',\n",
       " 'Los Reyes',\n",
       " 'Los Reyes de Juárez',\n",
       " 'Tamazunchale',\n",
       " 'Ocotlán de Morelos',\n",
       " 'Hueypoxtla',\n",
       " 'Tamuín',\n",
       " 'Doctor Mora',\n",
       " 'Hopelchén',\n",
       " 'Huitzuco de los Figueroa',\n",
       " 'Ometepec',\n",
       " 'Oriental',\n",
       " 'Guachochi',\n",
       " 'Acayucan',\n",
       " 'Guadalupe Victoria',\n",
       " 'Comala',\n",
       " 'Villa de Reyes',\n",
       " 'Sayula',\n",
       " 'Seybaplaya',\n",
       " 'Heroica Ciudad de Tlaxiaco',\n",
       " 'Zaragoza',\n",
       " 'Isla Mujeres',\n",
       " 'Isla',\n",
       " 'Guerrero',\n",
       " 'Villa de Cos',\n",
       " 'Ameca',\n",
       " 'Sombrerete',\n",
       " 'San Salvador el Seco',\n",
       " 'Hecelchakán',\n",
       " 'Zimapán',\n",
       " 'Acaxochitlán',\n",
       " 'Jerécuaro',\n",
       " 'Mocorito',\n",
       " 'San Pedro Garza García',\n",
       " 'Jalpan de Serra',\n",
       " 'Escuinapa',\n",
       " 'Acatzingo',\n",
       " 'Villa de Zaachila',\n",
       " 'Sahuayo',\n",
       " 'Comonfort',\n",
       " 'Temascalapa',\n",
       " 'Pánuco',\n",
       " 'San Martín de las Pirámides',\n",
       " 'Cadereyta Jiménez',\n",
       " 'Parras',\n",
       " 'Tihuatlán',\n",
       " 'Ezequiel Montes',\n",
       " 'Villanueva',\n",
       " 'Etchojoa',\n",
       " 'Moroleón',\n",
       " 'Esperanza',\n",
       " 'Calimaya',\n",
       " 'Nuevo Casas Grandes',\n",
       " 'Balancán',\n",
       " 'Cadereyta de Montes',\n",
       " 'Vicente Guerrero',\n",
       " 'Hidalgo',\n",
       " 'San Pablo del Monte',\n",
       " 'Autlán de Navarro',\n",
       " 'Abasolo',\n",
       " 'Tlaxcoapan',\n",
       " 'Huichapan',\n",
       " 'Ayala',\n",
       " 'Tala',\n",
       " 'Atotonilco el Grande',\n",
       " 'Angostura',\n",
       " 'Cihuatlán',\n",
       " 'Ciénega de Flores',\n",
       " 'Ocotlán',\n",
       " 'Villa de Allende',\n",
       " 'Taxco de Alarcón',\n",
       " 'Teapa',\n",
       " 'Zinapécuaro',\n",
       " 'Linares',\n",
       " 'Otzolotepec',\n",
       " 'Saucillo',\n",
       " 'Matehuala',\n",
       " 'Mérida',\n",
       " 'Centla',\n",
       " 'Eduardo Neri',\n",
       " 'Santiago Papasquiaro',\n",
       " 'Papantla',\n",
       " 'Candelaria',\n",
       " 'Puerto Morelos',\n",
       " 'San Juan de Sabinas',\n",
       " 'Tepoztlán',\n",
       " 'Camargo',\n",
       " 'Arteaga',\n",
       " 'Santiago Ixcuintla',\n",
       " 'Santa Bárbara',\n",
       " 'Pátzcuaro',\n",
       " 'El Carmen',\n",
       " 'Salinas Victoria',\n",
       " 'Meoqui',\n",
       " 'Coronango',\n",
       " 'Frontera',\n",
       " 'La Piedad',\n",
       " 'Mixquiahuala de Juárez',\n",
       " 'Montemorelos',\n",
       " 'Temoaya',\n",
       " 'Sabinas',\n",
       " 'Apatzingán',\n",
       " 'Apizaco',\n",
       " 'Tenosique',\n",
       " 'Jaltenco',\n",
       " 'El Mante',\n",
       " 'Tarímbaro',\n",
       " 'Calvillo',\n",
       " 'Otumba',\n",
       " 'Encarnación de Díaz',\n",
       " 'Villa Guerrero',\n",
       " 'Múzquiz',\n",
       " 'Santa Cruz de Juventino Rosas',\n",
       " 'Yecapixtla',\n",
       " 'Palenque',\n",
       " 'Tepetlaoxtoc',\n",
       " 'Puente de Ixtla',\n",
       " 'Fortín',\n",
       " 'Purísima del Rincón',\n",
       " 'Francisco I. Madero',\n",
       " 'Cosamaloapan de Carpio',\n",
       " 'Zacatlán',\n",
       " 'Jiménez',\n",
       " 'Tenango del Valle',\n",
       " 'San Pedro Mixtepec Distrito 22',\n",
       " 'Felipe Carrillo Puerto',\n",
       " 'Calpulalpan',\n",
       " 'Amealco de Bonfil',\n",
       " 'Mulegé',\n",
       " 'Chapala',\n",
       " 'Coyotepec',\n",
       " 'Tierra Blanca',\n",
       " 'Jacona',\n",
       " 'Chignahuapan',\n",
       " 'Maravatío',\n",
       " 'Acámbaro',\n",
       " 'Medellín de Bravo',\n",
       " 'Jalpa de Méndez',\n",
       " 'Asientos',\n",
       " 'San Juan Bautista Tuxtepec',\n",
       " 'Apan',\n",
       " 'Milpa Alta',\n",
       " 'Chiconcuac',\n",
       " 'Apaseo el Alto',\n",
       " 'Santo Domingo Tehuantepec',\n",
       " 'Pesquería',\n",
       " 'Nogales',\n",
       " 'Perote',\n",
       " 'Zempoala',\n",
       " 'Álamo Temapache',\n",
       " 'San Pedro',\n",
       " 'Lerdo',\n",
       " 'Coatepec',\n",
       " 'San Cristóbal de las Casas',\n",
       " 'Yuriria',\n",
       " 'San Juan de los Lagos',\n",
       " 'Santa Lucía del Camino',\n",
       " 'Río Bravo',\n",
       " 'Zihuatanejo de Azueta',\n",
       " 'Valle de Bravo',\n",
       " 'Pénjamo',\n",
       " 'Pedro Escobedo',\n",
       " 'Amecameca',\n",
       " 'Piedras Negras',\n",
       " 'Xonacatlán',\n",
       " 'Agua Prieta',\n",
       " 'Pabellón de Arteaga',\n",
       " 'Huejotzingo',\n",
       " 'Izúcar de Matamoros',\n",
       " 'Ixmiquilpan',\n",
       " 'Tepeaca',\n",
       " 'Tepeji del Río de Ocampo',\n",
       " 'Tlalmanalco',\n",
       " 'Tenancingo',\n",
       " 'Colón',\n",
       " 'Tepatitlán de Morelos',\n",
       " 'Ixtlahuaca',\n",
       " 'Rioverde',\n",
       " 'Rincón de Romos',\n",
       " 'Santa Cruz Xoxocotlán',\n",
       " 'Teotihuacán',\n",
       " 'Champotón',\n",
       " 'Salina Cruz',\n",
       " 'Loreto',\n",
       " 'Cosoleacaque',\n",
       " 'Pinos',\n",
       " 'Atenco',\n",
       " 'Tianguistenco',\n",
       " 'Zapotlán el Grande',\n",
       " 'Orizaba',\n",
       " 'Valle de Santiago',\n",
       " 'Martínez de la Torre',\n",
       " 'San Quintín',\n",
       " 'Nuevo Laredo',\n",
       " 'Acuña',\n",
       " 'Villagrán',\n",
       " 'San Felipe',\n",
       " 'Macuspana',\n",
       " 'Ciudad Ixtepec',\n",
       " 'San Francisco de los Romo',\n",
       " 'Escárcega',\n",
       " 'Navojoa',\n",
       " 'Heroica Ciudad de Huajuapan de León',\n",
       " 'Melchor Ocampo',\n",
       " 'Jerez',\n",
       " 'Jilotepec',\n",
       " 'Iguala de la Independencia',\n",
       " 'Ocoyoacac',\n",
       " 'Atlacomulco',\n",
       " 'Minatitlán',\n",
       " 'San Francisco del Rincón',\n",
       " 'Salvatierra',\n",
       " 'Actopan',\n",
       " 'Guasave',\n",
       " 'Santa Catarina',\n",
       " 'Jojutla',\n",
       " 'Nacajuca',\n",
       " 'Tuxtla Gutiérrez',\n",
       " 'Tezoyuca',\n",
       " 'Tlaxcala',\n",
       " 'Huitzilac',\n",
       " 'Altamira',\n",
       " 'Tepeapulco',\n",
       " 'Cunduacán',\n",
       " 'Zamora',\n",
       " 'Cozumel',\n",
       " 'Ciudad Valles',\n",
       " 'Comondú',\n",
       " 'Tecamachalco',\n",
       " 'Nextlalpan',\n",
       " 'Ciudad Madero',\n",
       " 'Huauchinango',\n",
       " 'Xochitepec',\n",
       " 'Tequisquiapan',\n",
       " 'Poza Rica de Hidalgo',\n",
       " 'Zapotlanejo',\n",
       " 'Bahía de Banderas',\n",
       " 'Teoloyucan',\n",
       " 'García',\n",
       " 'Guaymas',\n",
       " 'Tula de Allende',\n",
       " 'Zitácuaro',\n",
       " 'Tuxpan',\n",
       " 'Lázaro Cárdenas',\n",
       " 'San Nicolás de los Garza',\n",
       " 'Tecomán',\n",
       " 'Almoloya de Juárez',\n",
       " 'Saltillo',\n",
       " 'Paraíso',\n",
       " 'Tepotzotlán',\n",
       " 'Tulum',\n",
       " 'General Escobedo',\n",
       " 'Heroica Ciudad de Juchitán de Zaragoza',\n",
       " 'Tepic',\n",
       " 'Huimanguillo',\n",
       " 'San Luis Río Colorado',\n",
       " 'San José Iturbide',\n",
       " 'Dolores Hidalgo Cuna de la Independencia Nacional',\n",
       " 'Gómez Palacio',\n",
       " 'San Mateo Atenco',\n",
       " 'Tampico',\n",
       " 'Córdoba',\n",
       " 'Monclova',\n",
       " 'San Luis de la Paz',\n",
       " 'Lerma',\n",
       " 'Emiliano Zapata',\n",
       " 'San Pedro Cholula',\n",
       " 'Atlixco',\n",
       " 'Acolman',\n",
       " 'Chilpancingo de los Bravo',\n",
       " 'Cortazar',\n",
       " 'La Magdalena Contreras',\n",
       " 'No Especificado',\n",
       " 'Lagos de Moreno',\n",
       " 'Cuautlancingo',\n",
       " 'Yautepec',\n",
       " 'Cárdenas',\n",
       " 'Apaseo el Grande',\n",
       " 'Hidalgo del Parral',\n",
       " 'Apodaca',\n",
       " 'Zinacantepec',\n",
       " 'San Andrés Cholula',\n",
       " 'Tecate',\n",
       " 'Tulancingo de Bravo']"
      ]
     },
     "execution_count": 101,
     "metadata": {},
     "output_type": "execute_result"
    }
   ],
   "source": [
    "municipios = [v for v in filtro_3['Robos_proyecciones'].index if filtro_3['Robos_proyecciones'][v]>0 and\n",
    "             filtro_3['Robos_proyecciones'][v]<=media ]\n",
    "municipios"
   ]
  },
  {
   "cell_type": "code",
   "execution_count": 102,
   "id": "a3fb710a",
   "metadata": {
    "ExecuteTime": {
     "end_time": "2023-08-03T23:48:09.446890Z",
     "start_time": "2023-08-03T23:48:05.379002Z"
    },
    "scrolled": false
   },
   "outputs": [
    {
     "data": {
      "text/html": [
       "<div>\n",
       "<style scoped>\n",
       "    .dataframe tbody tr th:only-of-type {\n",
       "        vertical-align: middle;\n",
       "    }\n",
       "\n",
       "    .dataframe tbody tr th {\n",
       "        vertical-align: top;\n",
       "    }\n",
       "\n",
       "    .dataframe thead th {\n",
       "        text-align: right;\n",
       "    }\n",
       "</style>\n",
       "<table border=\"1\" class=\"dataframe\">\n",
       "  <thead>\n",
       "    <tr style=\"text-align: right;\">\n",
       "      <th></th>\n",
       "      <th>id</th>\n",
       "      <th>Año</th>\n",
       "      <th>Clave_Ent</th>\n",
       "      <th>Entidad</th>\n",
       "      <th>Cve. Municipio</th>\n",
       "      <th>Municipio</th>\n",
       "      <th>Bien jurídico afectado</th>\n",
       "      <th>Tipo de delito</th>\n",
       "      <th>Subtipo de delito</th>\n",
       "      <th>Modalidad</th>\n",
       "      <th>Enero</th>\n",
       "      <th>Febrero</th>\n",
       "      <th>Marzo</th>\n",
       "      <th>Abril</th>\n",
       "      <th>Mayo</th>\n",
       "      <th>Junio</th>\n",
       "      <th>Julio</th>\n",
       "      <th>Agosto</th>\n",
       "      <th>Robos_proyecciones</th>\n",
       "    </tr>\n",
       "  </thead>\n",
       "  <tbody>\n",
       "    <tr>\n",
       "      <th>747075</th>\n",
       "      <td>747076</td>\n",
       "      <td>2023</td>\n",
       "      <td>29</td>\n",
       "      <td>Tlaxcala</td>\n",
       "      <td>29010</td>\n",
       "      <td>Chiautempan</td>\n",
       "      <td>El patrimonio</td>\n",
       "      <td>Robo</td>\n",
       "      <td>Robo de vehículo automotor</td>\n",
       "      <td>Robo de coche de 4 ruedas Sin violencia</td>\n",
       "      <td>3</td>\n",
       "      <td>5</td>\n",
       "      <td>4</td>\n",
       "      <td>6</td>\n",
       "      <td>3</td>\n",
       "      <td>1</td>\n",
       "      <td>1</td>\n",
       "      <td>1</td>\n",
       "      <td>3</td>\n",
       "    </tr>\n",
       "    <tr>\n",
       "      <th>702686</th>\n",
       "      <td>702687</td>\n",
       "      <td>2023</td>\n",
       "      <td>16</td>\n",
       "      <td>Michoacán de Ocampo</td>\n",
       "      <td>16025</td>\n",
       "      <td>Chilchota</td>\n",
       "      <td>El patrimonio</td>\n",
       "      <td>Robo</td>\n",
       "      <td>Robo de vehículo automotor</td>\n",
       "      <td>Robo de coche de 4 ruedas Con violencia</td>\n",
       "      <td>6</td>\n",
       "      <td>6</td>\n",
       "      <td>8</td>\n",
       "      <td>8</td>\n",
       "      <td>9</td>\n",
       "      <td>1</td>\n",
       "      <td>1</td>\n",
       "      <td>1</td>\n",
       "      <td>3</td>\n",
       "    </tr>\n",
       "    <tr>\n",
       "      <th>685979</th>\n",
       "      <td>685980</td>\n",
       "      <td>2023</td>\n",
       "      <td>11</td>\n",
       "      <td>Guanajuato</td>\n",
       "      <td>11026</td>\n",
       "      <td>Romita</td>\n",
       "      <td>El patrimonio</td>\n",
       "      <td>Robo</td>\n",
       "      <td>Otros robos</td>\n",
       "      <td>Sin violencia</td>\n",
       "      <td>3</td>\n",
       "      <td>3</td>\n",
       "      <td>6</td>\n",
       "      <td>4</td>\n",
       "      <td>7</td>\n",
       "      <td>1</td>\n",
       "      <td>1</td>\n",
       "      <td>1</td>\n",
       "      <td>3</td>\n",
       "    </tr>\n",
       "    <tr>\n",
       "      <th>697862</th>\n",
       "      <td>697863</td>\n",
       "      <td>2023</td>\n",
       "      <td>15</td>\n",
       "      <td>México</td>\n",
       "      <td>15016</td>\n",
       "      <td>Axapusco</td>\n",
       "      <td>El patrimonio</td>\n",
       "      <td>Robo</td>\n",
       "      <td>Robo de vehículo automotor</td>\n",
       "      <td>Robo de coche de 4 ruedas Con violencia</td>\n",
       "      <td>9</td>\n",
       "      <td>5</td>\n",
       "      <td>7</td>\n",
       "      <td>6</td>\n",
       "      <td>8</td>\n",
       "      <td>1</td>\n",
       "      <td>1</td>\n",
       "      <td>1</td>\n",
       "      <td>3</td>\n",
       "    </tr>\n",
       "    <tr>\n",
       "      <th>701786</th>\n",
       "      <td>701787</td>\n",
       "      <td>2023</td>\n",
       "      <td>15</td>\n",
       "      <td>México</td>\n",
       "      <td>15125</td>\n",
       "      <td>Tonanitla</td>\n",
       "      <td>El patrimonio</td>\n",
       "      <td>Robo</td>\n",
       "      <td>Robo de vehículo automotor</td>\n",
       "      <td>Robo de coche de 4 ruedas Con violencia</td>\n",
       "      <td>9</td>\n",
       "      <td>7</td>\n",
       "      <td>7</td>\n",
       "      <td>5</td>\n",
       "      <td>3</td>\n",
       "      <td>1</td>\n",
       "      <td>1</td>\n",
       "      <td>1</td>\n",
       "      <td>3</td>\n",
       "    </tr>\n",
       "    <tr>\n",
       "      <th>...</th>\n",
       "      <td>...</td>\n",
       "      <td>...</td>\n",
       "      <td>...</td>\n",
       "      <td>...</td>\n",
       "      <td>...</td>\n",
       "      <td>...</td>\n",
       "      <td>...</td>\n",
       "      <td>...</td>\n",
       "      <td>...</td>\n",
       "      <td>...</td>\n",
       "      <td>...</td>\n",
       "      <td>...</td>\n",
       "      <td>...</td>\n",
       "      <td>...</td>\n",
       "      <td>...</td>\n",
       "      <td>...</td>\n",
       "      <td>...</td>\n",
       "      <td>...</td>\n",
       "      <td>...</td>\n",
       "    </tr>\n",
       "    <tr>\n",
       "      <th>692521</th>\n",
       "      <td>692522</td>\n",
       "      <td>2023</td>\n",
       "      <td>13</td>\n",
       "      <td>Hidalgo</td>\n",
       "      <td>13077</td>\n",
       "      <td>Tulancingo de Bravo</td>\n",
       "      <td>El patrimonio</td>\n",
       "      <td>Robo</td>\n",
       "      <td>Robo a negocio</td>\n",
       "      <td>Sin violencia</td>\n",
       "      <td>3</td>\n",
       "      <td>7</td>\n",
       "      <td>7</td>\n",
       "      <td>5</td>\n",
       "      <td>4</td>\n",
       "      <td>1</td>\n",
       "      <td>1</td>\n",
       "      <td>1</td>\n",
       "      <td>3</td>\n",
       "    </tr>\n",
       "    <tr>\n",
       "      <th>692499</th>\n",
       "      <td>692500</td>\n",
       "      <td>2023</td>\n",
       "      <td>13</td>\n",
       "      <td>Hidalgo</td>\n",
       "      <td>13077</td>\n",
       "      <td>Tulancingo de Bravo</td>\n",
       "      <td>El patrimonio</td>\n",
       "      <td>Robo</td>\n",
       "      <td>Robo de vehículo automotor</td>\n",
       "      <td>Robo de coche de 4 ruedas Sin violencia</td>\n",
       "      <td>24</td>\n",
       "      <td>21</td>\n",
       "      <td>11</td>\n",
       "      <td>4</td>\n",
       "      <td>23</td>\n",
       "      <td>3</td>\n",
       "      <td>3</td>\n",
       "      <td>4</td>\n",
       "      <td>10</td>\n",
       "    </tr>\n",
       "    <tr>\n",
       "      <th>692501</th>\n",
       "      <td>692502</td>\n",
       "      <td>2023</td>\n",
       "      <td>13</td>\n",
       "      <td>Hidalgo</td>\n",
       "      <td>13077</td>\n",
       "      <td>Tulancingo de Bravo</td>\n",
       "      <td>El patrimonio</td>\n",
       "      <td>Robo</td>\n",
       "      <td>Robo de vehículo automotor</td>\n",
       "      <td>Robo de motocicleta Sin violencia</td>\n",
       "      <td>15</td>\n",
       "      <td>17</td>\n",
       "      <td>6</td>\n",
       "      <td>6</td>\n",
       "      <td>12</td>\n",
       "      <td>2</td>\n",
       "      <td>2</td>\n",
       "      <td>2</td>\n",
       "      <td>6</td>\n",
       "    </tr>\n",
       "    <tr>\n",
       "      <th>692530</th>\n",
       "      <td>692531</td>\n",
       "      <td>2023</td>\n",
       "      <td>13</td>\n",
       "      <td>Hidalgo</td>\n",
       "      <td>13077</td>\n",
       "      <td>Tulancingo de Bravo</td>\n",
       "      <td>El patrimonio</td>\n",
       "      <td>Robo</td>\n",
       "      <td>Otros robos</td>\n",
       "      <td>Con violencia</td>\n",
       "      <td>8</td>\n",
       "      <td>15</td>\n",
       "      <td>17</td>\n",
       "      <td>19</td>\n",
       "      <td>9</td>\n",
       "      <td>2</td>\n",
       "      <td>2</td>\n",
       "      <td>2</td>\n",
       "      <td>6</td>\n",
       "    </tr>\n",
       "    <tr>\n",
       "      <th>692531</th>\n",
       "      <td>692532</td>\n",
       "      <td>2023</td>\n",
       "      <td>13</td>\n",
       "      <td>Hidalgo</td>\n",
       "      <td>13077</td>\n",
       "      <td>Tulancingo de Bravo</td>\n",
       "      <td>El patrimonio</td>\n",
       "      <td>Robo</td>\n",
       "      <td>Otros robos</td>\n",
       "      <td>Sin violencia</td>\n",
       "      <td>32</td>\n",
       "      <td>22</td>\n",
       "      <td>33</td>\n",
       "      <td>28</td>\n",
       "      <td>39</td>\n",
       "      <td>6</td>\n",
       "      <td>6</td>\n",
       "      <td>7</td>\n",
       "      <td>19</td>\n",
       "    </tr>\n",
       "  </tbody>\n",
       "</table>\n",
       "<p>1174 rows × 19 columns</p>\n",
       "</div>"
      ],
      "text/plain": [
       "            id   Año  Clave_Ent              Entidad  Cve. Municipio  \\\n",
       "747075  747076  2023         29             Tlaxcala           29010   \n",
       "702686  702687  2023         16  Michoacán de Ocampo           16025   \n",
       "685979  685980  2023         11           Guanajuato           11026   \n",
       "697862  697863  2023         15               México           15016   \n",
       "701786  701787  2023         15               México           15125   \n",
       "...        ...   ...        ...                  ...             ...   \n",
       "692521  692522  2023         13              Hidalgo           13077   \n",
       "692499  692500  2023         13              Hidalgo           13077   \n",
       "692501  692502  2023         13              Hidalgo           13077   \n",
       "692530  692531  2023         13              Hidalgo           13077   \n",
       "692531  692532  2023         13              Hidalgo           13077   \n",
       "\n",
       "                  Municipio Bien jurídico afectado Tipo de delito  \\\n",
       "747075          Chiautempan          El patrimonio           Robo   \n",
       "702686            Chilchota          El patrimonio           Robo   \n",
       "685979               Romita          El patrimonio           Robo   \n",
       "697862             Axapusco          El patrimonio           Robo   \n",
       "701786            Tonanitla          El patrimonio           Robo   \n",
       "...                     ...                    ...            ...   \n",
       "692521  Tulancingo de Bravo          El patrimonio           Robo   \n",
       "692499  Tulancingo de Bravo          El patrimonio           Robo   \n",
       "692501  Tulancingo de Bravo          El patrimonio           Robo   \n",
       "692530  Tulancingo de Bravo          El patrimonio           Robo   \n",
       "692531  Tulancingo de Bravo          El patrimonio           Robo   \n",
       "\n",
       "                 Subtipo de delito                                Modalidad  \\\n",
       "747075  Robo de vehículo automotor  Robo de coche de 4 ruedas Sin violencia   \n",
       "702686  Robo de vehículo automotor  Robo de coche de 4 ruedas Con violencia   \n",
       "685979                 Otros robos                            Sin violencia   \n",
       "697862  Robo de vehículo automotor  Robo de coche de 4 ruedas Con violencia   \n",
       "701786  Robo de vehículo automotor  Robo de coche de 4 ruedas Con violencia   \n",
       "...                            ...                                      ...   \n",
       "692521              Robo a negocio                            Sin violencia   \n",
       "692499  Robo de vehículo automotor  Robo de coche de 4 ruedas Sin violencia   \n",
       "692501  Robo de vehículo automotor        Robo de motocicleta Sin violencia   \n",
       "692530                 Otros robos                            Con violencia   \n",
       "692531                 Otros robos                            Sin violencia   \n",
       "\n",
       "        Enero  Febrero  Marzo  Abril  Mayo  Junio  Julio  Agosto  \\\n",
       "747075      3        5      4      6     3      1      1       1   \n",
       "702686      6        6      8      8     9      1      1       1   \n",
       "685979      3        3      6      4     7      1      1       1   \n",
       "697862      9        5      7      6     8      1      1       1   \n",
       "701786      9        7      7      5     3      1      1       1   \n",
       "...       ...      ...    ...    ...   ...    ...    ...     ...   \n",
       "692521      3        7      7      5     4      1      1       1   \n",
       "692499     24       21     11      4    23      3      3       4   \n",
       "692501     15       17      6      6    12      2      2       2   \n",
       "692530      8       15     17     19     9      2      2       2   \n",
       "692531     32       22     33     28    39      6      6       7   \n",
       "\n",
       "        Robos_proyecciones  \n",
       "747075                   3  \n",
       "702686                   3  \n",
       "685979                   3  \n",
       "697862                   3  \n",
       "701786                   3  \n",
       "...                    ...  \n",
       "692521                   3  \n",
       "692499                  10  \n",
       "692501                   6  \n",
       "692530                   6  \n",
       "692531                  19  \n",
       "\n",
       "[1174 rows x 19 columns]"
      ]
     },
     "execution_count": 102,
     "metadata": {},
     "output_type": "execute_result"
    }
   ],
   "source": [
    "filtro_4 = pd.concat(map(lambda m: filtro_2.loc[filtro_2['Municipio']==m],municipios))\n",
    "filtro_4 = filtro_4.loc[filtro_4['Robos_proyecciones']>0]\n",
    "filtro_4"
   ]
  },
  {
   "cell_type": "code",
   "execution_count": 103,
   "id": "07dc0209",
   "metadata": {
    "ExecuteTime": {
     "end_time": "2023-08-03T23:48:09.508207Z",
     "start_time": "2023-08-03T23:48:09.452979Z"
    },
    "scrolled": true
   },
   "outputs": [
    {
     "data": {
      "text/plain": [
       "Municipio\n",
       "Mocorito                    1\n",
       "Huimilpan                   1\n",
       "Santiago                    1\n",
       "Huitzuco de los Figueroa    1\n",
       "Santa María del Río         1\n",
       "                           ..\n",
       "Lázaro Cárdenas             5\n",
       "Emiliano Zapata             6\n",
       "Lagos de Moreno             6\n",
       "Teoloyucan                  6\n",
       "Acolman                     6\n",
       "Name: Modalidad, Length: 421, dtype: int64"
      ]
     },
     "execution_count": 103,
     "metadata": {},
     "output_type": "execute_result"
    }
   ],
   "source": [
    "aux = filtro_4.groupby(['Municipio','Modalidad'],as_index=False).agg({'Robos_proyecciones':'sum'}).sort_values(by='Robos_proyecciones',ascending=True)\n",
    "aux = aux.groupby('Municipio')['Modalidad'].nunique().sort_values(ascending=True)\n",
    "aux"
   ]
  },
  {
   "cell_type": "code",
   "execution_count": 104,
   "id": "de5aab3b",
   "metadata": {
    "ExecuteTime": {
     "end_time": "2023-08-03T23:48:09.678716Z",
     "start_time": "2023-08-03T23:48:09.514043Z"
    }
   },
   "outputs": [
    {
     "data": {
      "text/plain": [
       "['Amecameca',\n",
       " 'Heroica Ciudad de Juchitán de Zaragoza',\n",
       " 'Zempoala',\n",
       " 'Apaseo el Alto',\n",
       " 'Villa Guerrero',\n",
       " 'Tarímbaro',\n",
       " 'Atlacomulco',\n",
       " 'Tecamachalco',\n",
       " 'Tecate',\n",
       " 'Tecomán',\n",
       " 'Zapotlán el Grande',\n",
       " 'Xochitepec',\n",
       " 'Tenancingo',\n",
       " 'Champotón',\n",
       " 'Dolores Hidalgo Cuna de la Independencia Nacional',\n",
       " 'Tepeaca',\n",
       " 'Tepeji del Río de Ocampo',\n",
       " 'Tuxtla Gutiérrez',\n",
       " 'Coyotepec',\n",
       " 'Xonacatlán',\n",
       " 'Cosoleacaque',\n",
       " 'Cosamaloapan de Carpio',\n",
       " 'Coronango',\n",
       " 'Tezoyuca',\n",
       " 'Tianguistenco',\n",
       " 'Tierra Blanca',\n",
       " 'Zacatlán',\n",
       " 'Yuriria',\n",
       " 'Altamira',\n",
       " 'Teotihuacán',\n",
       " 'Escárcega',\n",
       " 'Álamo Temapache',\n",
       " 'Maravatío',\n",
       " 'La Magdalena Contreras',\n",
       " 'Salvatierra',\n",
       " 'Saltillo',\n",
       " 'Loreto',\n",
       " 'San Quintín',\n",
       " 'Jalpa de Méndez',\n",
       " 'Jacona',\n",
       " 'Navojoa',\n",
       " 'Martínez de la Torre',\n",
       " 'Santa Cruz de Juventino Rosas',\n",
       " 'San Luis Río Colorado',\n",
       " 'Río Bravo',\n",
       " 'San Cristóbal de las Casas',\n",
       " 'Ixtlahuaca',\n",
       " 'Macuspana',\n",
       " 'San Juan de los Lagos',\n",
       " 'Otumba',\n",
       " 'Palenque',\n",
       " 'Pénjamo',\n",
       " 'Ocoyoacac',\n",
       " 'San Juan Bautista Tuxtepec',\n",
       " 'Pesquería',\n",
       " 'Tlaxcala',\n",
       " 'Tulum',\n",
       " 'Chignahuapan',\n",
       " 'Bahía de Banderas',\n",
       " 'Chiconcuac',\n",
       " 'Tuxpan',\n",
       " 'Tulancingo de Bravo',\n",
       " 'Huauchinango',\n",
       " 'Nacajuca',\n",
       " 'Minatitlán',\n",
       " 'Atenco',\n",
       " 'Villagrán',\n",
       " 'Apaseo el Grande',\n",
       " 'Nextlalpan',\n",
       " 'Nogales',\n",
       " 'Nuevo Laredo',\n",
       " 'Orizaba',\n",
       " 'Almoloya de Juárez',\n",
       " 'Zapotlanejo',\n",
       " 'Paraíso',\n",
       " 'Zihuatanejo de Azueta',\n",
       " 'Actopan',\n",
       " 'Valle de Santiago',\n",
       " 'Huejotzingo',\n",
       " 'Pinos',\n",
       " 'Ciudad Madero',\n",
       " 'Jilotepec',\n",
       " 'Santa Catarina',\n",
       " 'Santa Cruz Xoxocotlán',\n",
       " 'Santa Lucía del Camino',\n",
       " 'Poza Rica de Hidalgo',\n",
       " 'Izúcar de Matamoros',\n",
       " 'Tlalmanalco',\n",
       " 'General Escobedo',\n",
       " 'Guasave',\n",
       " 'Guaymas',\n",
       " 'Ixmiquilpan',\n",
       " 'Heroica Ciudad de Huajuapan de León',\n",
       " 'Huimanguillo',\n",
       " 'Hidalgo del Parral',\n",
       " 'Tampico',\n",
       " 'Cárdenas',\n",
       " 'Córdoba',\n",
       " 'San Luis de la Paz',\n",
       " 'San Nicolás de los Garza',\n",
       " 'San José Iturbide',\n",
       " 'Cuautlancingo',\n",
       " 'Jojutla',\n",
       " 'Lerma',\n",
       " 'Cortazar',\n",
       " 'Tepatitlán de Morelos',\n",
       " 'Tepeapulco',\n",
       " 'Cunduacán',\n",
       " 'San Mateo Atenco',\n",
       " 'San Andrés Cholula',\n",
       " 'Iguala de la Independencia',\n",
       " 'Chilpancingo de los Bravo',\n",
       " 'Zinacantepec',\n",
       " 'Zamora',\n",
       " 'Tepotzotlán',\n",
       " 'Tula de Allende',\n",
       " 'Yautepec',\n",
       " 'Jerez',\n",
       " 'Melchor Ocampo',\n",
       " 'Atlixco',\n",
       " 'Apodaca',\n",
       " 'Zitácuaro',\n",
       " 'San Pedro Cholula',\n",
       " 'García',\n",
       " 'Lázaro Cárdenas',\n",
       " 'Emiliano Zapata',\n",
       " 'Lagos de Moreno',\n",
       " 'Teoloyucan',\n",
       " 'Acolman']"
      ]
     },
     "execution_count": 104,
     "metadata": {},
     "output_type": "execute_result"
    }
   ],
   "source": [
    "municipios = [v for v in aux.index if aux[v]>=3]\n",
    "municipios"
   ]
  },
  {
   "cell_type": "code",
   "execution_count": 105,
   "id": "f1603f52",
   "metadata": {
    "ExecuteTime": {
     "end_time": "2023-08-03T23:48:10.502969Z",
     "start_time": "2023-08-03T23:48:09.686876Z"
    },
    "scrolled": false
   },
   "outputs": [
    {
     "data": {
      "text/html": [
       "<div>\n",
       "<style scoped>\n",
       "    .dataframe tbody tr th:only-of-type {\n",
       "        vertical-align: middle;\n",
       "    }\n",
       "\n",
       "    .dataframe tbody tr th {\n",
       "        vertical-align: top;\n",
       "    }\n",
       "\n",
       "    .dataframe thead th {\n",
       "        text-align: right;\n",
       "    }\n",
       "</style>\n",
       "<table border=\"1\" class=\"dataframe\">\n",
       "  <thead>\n",
       "    <tr style=\"text-align: right;\">\n",
       "      <th></th>\n",
       "      <th>id</th>\n",
       "      <th>Año</th>\n",
       "      <th>Clave_Ent</th>\n",
       "      <th>Entidad</th>\n",
       "      <th>Cve. Municipio</th>\n",
       "      <th>Municipio</th>\n",
       "      <th>Bien jurídico afectado</th>\n",
       "      <th>Tipo de delito</th>\n",
       "      <th>Subtipo de delito</th>\n",
       "      <th>Modalidad</th>\n",
       "      <th>Enero</th>\n",
       "      <th>Febrero</th>\n",
       "      <th>Marzo</th>\n",
       "      <th>Abril</th>\n",
       "      <th>Mayo</th>\n",
       "      <th>Junio</th>\n",
       "      <th>Julio</th>\n",
       "      <th>Agosto</th>\n",
       "      <th>Robos_proyecciones</th>\n",
       "    </tr>\n",
       "  </thead>\n",
       "  <tbody>\n",
       "    <tr>\n",
       "      <th>697609</th>\n",
       "      <td>697610</td>\n",
       "      <td>2023</td>\n",
       "      <td>15</td>\n",
       "      <td>México</td>\n",
       "      <td>15009</td>\n",
       "      <td>Amecameca</td>\n",
       "      <td>El patrimonio</td>\n",
       "      <td>Robo</td>\n",
       "      <td>Robo a casa habitación</td>\n",
       "      <td>Sin violencia</td>\n",
       "      <td>1</td>\n",
       "      <td>4</td>\n",
       "      <td>2</td>\n",
       "      <td>6</td>\n",
       "      <td>2</td>\n",
       "      <td>1</td>\n",
       "      <td>1</td>\n",
       "      <td>1</td>\n",
       "      <td>3</td>\n",
       "    </tr>\n",
       "    <tr>\n",
       "      <th>697620</th>\n",
       "      <td>697621</td>\n",
       "      <td>2023</td>\n",
       "      <td>15</td>\n",
       "      <td>México</td>\n",
       "      <td>15009</td>\n",
       "      <td>Amecameca</td>\n",
       "      <td>El patrimonio</td>\n",
       "      <td>Robo</td>\n",
       "      <td>Robo a transeúnte en vía pública</td>\n",
       "      <td>Con violencia</td>\n",
       "      <td>3</td>\n",
       "      <td>4</td>\n",
       "      <td>3</td>\n",
       "      <td>5</td>\n",
       "      <td>2</td>\n",
       "      <td>1</td>\n",
       "      <td>1</td>\n",
       "      <td>1</td>\n",
       "      <td>3</td>\n",
       "    </tr>\n",
       "    <tr>\n",
       "      <th>697632</th>\n",
       "      <td>697633</td>\n",
       "      <td>2023</td>\n",
       "      <td>15</td>\n",
       "      <td>México</td>\n",
       "      <td>15009</td>\n",
       "      <td>Amecameca</td>\n",
       "      <td>El patrimonio</td>\n",
       "      <td>Robo</td>\n",
       "      <td>Robo a negocio</td>\n",
       "      <td>Con violencia</td>\n",
       "      <td>4</td>\n",
       "      <td>5</td>\n",
       "      <td>1</td>\n",
       "      <td>0</td>\n",
       "      <td>4</td>\n",
       "      <td>1</td>\n",
       "      <td>1</td>\n",
       "      <td>1</td>\n",
       "      <td>3</td>\n",
       "    </tr>\n",
       "    <tr>\n",
       "      <th>697611</th>\n",
       "      <td>697612</td>\n",
       "      <td>2023</td>\n",
       "      <td>15</td>\n",
       "      <td>México</td>\n",
       "      <td>15009</td>\n",
       "      <td>Amecameca</td>\n",
       "      <td>El patrimonio</td>\n",
       "      <td>Robo</td>\n",
       "      <td>Robo de vehículo automotor</td>\n",
       "      <td>Robo de coche de 4 ruedas Sin violencia</td>\n",
       "      <td>5</td>\n",
       "      <td>7</td>\n",
       "      <td>6</td>\n",
       "      <td>3</td>\n",
       "      <td>2</td>\n",
       "      <td>1</td>\n",
       "      <td>1</td>\n",
       "      <td>1</td>\n",
       "      <td>3</td>\n",
       "    </tr>\n",
       "    <tr>\n",
       "      <th>697643</th>\n",
       "      <td>697644</td>\n",
       "      <td>2023</td>\n",
       "      <td>15</td>\n",
       "      <td>México</td>\n",
       "      <td>15009</td>\n",
       "      <td>Amecameca</td>\n",
       "      <td>El patrimonio</td>\n",
       "      <td>Robo</td>\n",
       "      <td>Otros robos</td>\n",
       "      <td>Sin violencia</td>\n",
       "      <td>5</td>\n",
       "      <td>5</td>\n",
       "      <td>7</td>\n",
       "      <td>4</td>\n",
       "      <td>4</td>\n",
       "      <td>1</td>\n",
       "      <td>1</td>\n",
       "      <td>1</td>\n",
       "      <td>3</td>\n",
       "    </tr>\n",
       "    <tr>\n",
       "      <th>...</th>\n",
       "      <td>...</td>\n",
       "      <td>...</td>\n",
       "      <td>...</td>\n",
       "      <td>...</td>\n",
       "      <td>...</td>\n",
       "      <td>...</td>\n",
       "      <td>...</td>\n",
       "      <td>...</td>\n",
       "      <td>...</td>\n",
       "      <td>...</td>\n",
       "      <td>...</td>\n",
       "      <td>...</td>\n",
       "      <td>...</td>\n",
       "      <td>...</td>\n",
       "      <td>...</td>\n",
       "      <td>...</td>\n",
       "      <td>...</td>\n",
       "      <td>...</td>\n",
       "      <td>...</td>\n",
       "    </tr>\n",
       "    <tr>\n",
       "      <th>697358</th>\n",
       "      <td>697359</td>\n",
       "      <td>2023</td>\n",
       "      <td>15</td>\n",
       "      <td>México</td>\n",
       "      <td>15002</td>\n",
       "      <td>Acolman</td>\n",
       "      <td>El patrimonio</td>\n",
       "      <td>Robo</td>\n",
       "      <td>Robo de vehículo automotor</td>\n",
       "      <td>Robo de coche de 4 ruedas Con violencia</td>\n",
       "      <td>9</td>\n",
       "      <td>16</td>\n",
       "      <td>12</td>\n",
       "      <td>15</td>\n",
       "      <td>15</td>\n",
       "      <td>3</td>\n",
       "      <td>3</td>\n",
       "      <td>3</td>\n",
       "      <td>9</td>\n",
       "    </tr>\n",
       "    <tr>\n",
       "      <th>697359</th>\n",
       "      <td>697360</td>\n",
       "      <td>2023</td>\n",
       "      <td>15</td>\n",
       "      <td>México</td>\n",
       "      <td>15002</td>\n",
       "      <td>Acolman</td>\n",
       "      <td>El patrimonio</td>\n",
       "      <td>Robo</td>\n",
       "      <td>Robo de vehículo automotor</td>\n",
       "      <td>Robo de coche de 4 ruedas Sin violencia</td>\n",
       "      <td>7</td>\n",
       "      <td>6</td>\n",
       "      <td>2</td>\n",
       "      <td>2</td>\n",
       "      <td>3</td>\n",
       "      <td>1</td>\n",
       "      <td>1</td>\n",
       "      <td>1</td>\n",
       "      <td>3</td>\n",
       "    </tr>\n",
       "    <tr>\n",
       "      <th>697360</th>\n",
       "      <td>697361</td>\n",
       "      <td>2023</td>\n",
       "      <td>15</td>\n",
       "      <td>México</td>\n",
       "      <td>15002</td>\n",
       "      <td>Acolman</td>\n",
       "      <td>El patrimonio</td>\n",
       "      <td>Robo</td>\n",
       "      <td>Robo de vehículo automotor</td>\n",
       "      <td>Robo de motocicleta Con violencia</td>\n",
       "      <td>3</td>\n",
       "      <td>2</td>\n",
       "      <td>4</td>\n",
       "      <td>2</td>\n",
       "      <td>6</td>\n",
       "      <td>1</td>\n",
       "      <td>1</td>\n",
       "      <td>1</td>\n",
       "      <td>3</td>\n",
       "    </tr>\n",
       "    <tr>\n",
       "      <th>697361</th>\n",
       "      <td>697362</td>\n",
       "      <td>2023</td>\n",
       "      <td>15</td>\n",
       "      <td>México</td>\n",
       "      <td>15002</td>\n",
       "      <td>Acolman</td>\n",
       "      <td>El patrimonio</td>\n",
       "      <td>Robo</td>\n",
       "      <td>Robo de vehículo automotor</td>\n",
       "      <td>Robo de motocicleta Sin violencia</td>\n",
       "      <td>4</td>\n",
       "      <td>6</td>\n",
       "      <td>9</td>\n",
       "      <td>8</td>\n",
       "      <td>1</td>\n",
       "      <td>1</td>\n",
       "      <td>1</td>\n",
       "      <td>1</td>\n",
       "      <td>3</td>\n",
       "    </tr>\n",
       "    <tr>\n",
       "      <th>697391</th>\n",
       "      <td>697392</td>\n",
       "      <td>2023</td>\n",
       "      <td>15</td>\n",
       "      <td>México</td>\n",
       "      <td>15002</td>\n",
       "      <td>Acolman</td>\n",
       "      <td>El patrimonio</td>\n",
       "      <td>Robo</td>\n",
       "      <td>Otros robos</td>\n",
       "      <td>Sin violencia</td>\n",
       "      <td>7</td>\n",
       "      <td>9</td>\n",
       "      <td>9</td>\n",
       "      <td>10</td>\n",
       "      <td>8</td>\n",
       "      <td>2</td>\n",
       "      <td>2</td>\n",
       "      <td>2</td>\n",
       "      <td>6</td>\n",
       "    </tr>\n",
       "  </tbody>\n",
       "</table>\n",
       "<p>703 rows × 19 columns</p>\n",
       "</div>"
      ],
      "text/plain": [
       "            id   Año  Clave_Ent Entidad  Cve. Municipio  Municipio  \\\n",
       "697609  697610  2023         15  México           15009  Amecameca   \n",
       "697620  697621  2023         15  México           15009  Amecameca   \n",
       "697632  697633  2023         15  México           15009  Amecameca   \n",
       "697611  697612  2023         15  México           15009  Amecameca   \n",
       "697643  697644  2023         15  México           15009  Amecameca   \n",
       "...        ...   ...        ...     ...             ...        ...   \n",
       "697358  697359  2023         15  México           15002    Acolman   \n",
       "697359  697360  2023         15  México           15002    Acolman   \n",
       "697360  697361  2023         15  México           15002    Acolman   \n",
       "697361  697362  2023         15  México           15002    Acolman   \n",
       "697391  697392  2023         15  México           15002    Acolman   \n",
       "\n",
       "       Bien jurídico afectado Tipo de delito  \\\n",
       "697609          El patrimonio           Robo   \n",
       "697620          El patrimonio           Robo   \n",
       "697632          El patrimonio           Robo   \n",
       "697611          El patrimonio           Robo   \n",
       "697643          El patrimonio           Robo   \n",
       "...                       ...            ...   \n",
       "697358          El patrimonio           Robo   \n",
       "697359          El patrimonio           Robo   \n",
       "697360          El patrimonio           Robo   \n",
       "697361          El patrimonio           Robo   \n",
       "697391          El patrimonio           Robo   \n",
       "\n",
       "                       Subtipo de delito  \\\n",
       "697609            Robo a casa habitación   \n",
       "697620  Robo a transeúnte en vía pública   \n",
       "697632                    Robo a negocio   \n",
       "697611        Robo de vehículo automotor   \n",
       "697643                       Otros robos   \n",
       "...                                  ...   \n",
       "697358        Robo de vehículo automotor   \n",
       "697359        Robo de vehículo automotor   \n",
       "697360        Robo de vehículo automotor   \n",
       "697361        Robo de vehículo automotor   \n",
       "697391                       Otros robos   \n",
       "\n",
       "                                      Modalidad  Enero  Febrero  Marzo  Abril  \\\n",
       "697609                            Sin violencia      1        4      2      6   \n",
       "697620                            Con violencia      3        4      3      5   \n",
       "697632                            Con violencia      4        5      1      0   \n",
       "697611  Robo de coche de 4 ruedas Sin violencia      5        7      6      3   \n",
       "697643                            Sin violencia      5        5      7      4   \n",
       "...                                         ...    ...      ...    ...    ...   \n",
       "697358  Robo de coche de 4 ruedas Con violencia      9       16     12     15   \n",
       "697359  Robo de coche de 4 ruedas Sin violencia      7        6      2      2   \n",
       "697360        Robo de motocicleta Con violencia      3        2      4      2   \n",
       "697361        Robo de motocicleta Sin violencia      4        6      9      8   \n",
       "697391                            Sin violencia      7        9      9     10   \n",
       "\n",
       "        Mayo  Junio  Julio  Agosto  Robos_proyecciones  \n",
       "697609     2      1      1       1                   3  \n",
       "697620     2      1      1       1                   3  \n",
       "697632     4      1      1       1                   3  \n",
       "697611     2      1      1       1                   3  \n",
       "697643     4      1      1       1                   3  \n",
       "...      ...    ...    ...     ...                 ...  \n",
       "697358    15      3      3       3                   9  \n",
       "697359     3      1      1       1                   3  \n",
       "697360     6      1      1       1                   3  \n",
       "697361     1      1      1       1                   3  \n",
       "697391     8      2      2       2                   6  \n",
       "\n",
       "[703 rows x 19 columns]"
      ]
     },
     "execution_count": 105,
     "metadata": {},
     "output_type": "execute_result"
    }
   ],
   "source": [
    "filtro_6 = pd.concat(map(lambda m: filtro_4.loc[filtro_4['Municipio']==m],municipios))\n",
    "filtro_6"
   ]
  },
  {
   "cell_type": "code",
   "execution_count": 106,
   "id": "b007b9ed",
   "metadata": {
    "ExecuteTime": {
     "end_time": "2023-08-03T23:48:10.547911Z",
     "start_time": "2023-08-03T23:48:10.511275Z"
    }
   },
   "outputs": [
    {
     "data": {
      "text/html": [
       "<div>\n",
       "<style scoped>\n",
       "    .dataframe tbody tr th:only-of-type {\n",
       "        vertical-align: middle;\n",
       "    }\n",
       "\n",
       "    .dataframe tbody tr th {\n",
       "        vertical-align: top;\n",
       "    }\n",
       "\n",
       "    .dataframe thead th {\n",
       "        text-align: right;\n",
       "    }\n",
       "</style>\n",
       "<table border=\"1\" class=\"dataframe\">\n",
       "  <thead>\n",
       "    <tr style=\"text-align: right;\">\n",
       "      <th></th>\n",
       "      <th>Robos_proyecciones</th>\n",
       "    </tr>\n",
       "    <tr>\n",
       "      <th>Municipio</th>\n",
       "      <th></th>\n",
       "    </tr>\n",
       "  </thead>\n",
       "  <tbody>\n",
       "    <tr>\n",
       "      <th>Tarímbaro</th>\n",
       "      <td>9</td>\n",
       "    </tr>\n",
       "    <tr>\n",
       "      <th>Santa Cruz de Juventino Rosas</th>\n",
       "      <td>9</td>\n",
       "    </tr>\n",
       "    <tr>\n",
       "      <th>Villa Guerrero</th>\n",
       "      <td>9</td>\n",
       "    </tr>\n",
       "    <tr>\n",
       "      <th>Cosamaloapan de Carpio</th>\n",
       "      <td>9</td>\n",
       "    </tr>\n",
       "    <tr>\n",
       "      <th>Zacatlán</th>\n",
       "      <td>9</td>\n",
       "    </tr>\n",
       "    <tr>\n",
       "      <th>...</th>\n",
       "      <td>...</td>\n",
       "    </tr>\n",
       "    <tr>\n",
       "      <th>Apodaca</th>\n",
       "      <td>44</td>\n",
       "    </tr>\n",
       "    <tr>\n",
       "      <th>Tecate</th>\n",
       "      <td>45</td>\n",
       "    </tr>\n",
       "    <tr>\n",
       "      <th>San Andrés Cholula</th>\n",
       "      <td>45</td>\n",
       "    </tr>\n",
       "    <tr>\n",
       "      <th>Zinacantepec</th>\n",
       "      <td>45</td>\n",
       "    </tr>\n",
       "    <tr>\n",
       "      <th>Tulancingo de Bravo</th>\n",
       "      <td>47</td>\n",
       "    </tr>\n",
       "  </tbody>\n",
       "</table>\n",
       "<p>129 rows × 1 columns</p>\n",
       "</div>"
      ],
      "text/plain": [
       "                               Robos_proyecciones\n",
       "Municipio                                        \n",
       "Tarímbaro                                       9\n",
       "Santa Cruz de Juventino Rosas                   9\n",
       "Villa Guerrero                                  9\n",
       "Cosamaloapan de Carpio                          9\n",
       "Zacatlán                                        9\n",
       "...                                           ...\n",
       "Apodaca                                        44\n",
       "Tecate                                         45\n",
       "San Andrés Cholula                             45\n",
       "Zinacantepec                                   45\n",
       "Tulancingo de Bravo                            47\n",
       "\n",
       "[129 rows x 1 columns]"
      ]
     },
     "execution_count": 106,
     "metadata": {},
     "output_type": "execute_result"
    }
   ],
   "source": [
    "filtro_7 = filtro_6.groupby('Municipio').agg({'Robos_proyecciones':'sum'})\n",
    "filtro_7.sort_values(by='Robos_proyecciones',ascending=True)"
   ]
  },
  {
   "cell_type": "code",
   "execution_count": 107,
   "id": "908eb08e",
   "metadata": {
    "ExecuteTime": {
     "end_time": "2023-08-03T23:48:10.921900Z",
     "start_time": "2023-08-03T23:48:10.557122Z"
    }
   },
   "outputs": [
    {
     "data": {
      "text/html": [
       "<div>\n",
       "<style scoped>\n",
       "    .dataframe tbody tr th:only-of-type {\n",
       "        vertical-align: middle;\n",
       "    }\n",
       "\n",
       "    .dataframe tbody tr th {\n",
       "        vertical-align: top;\n",
       "    }\n",
       "\n",
       "    .dataframe thead th {\n",
       "        text-align: right;\n",
       "    }\n",
       "</style>\n",
       "<table border=\"1\" class=\"dataframe\">\n",
       "  <thead>\n",
       "    <tr style=\"text-align: right;\">\n",
       "      <th></th>\n",
       "      <th>Enero</th>\n",
       "      <th>Febrero</th>\n",
       "      <th>Marzo</th>\n",
       "      <th>Abril</th>\n",
       "      <th>Mayo</th>\n",
       "    </tr>\n",
       "    <tr>\n",
       "      <th>Municipio</th>\n",
       "      <th></th>\n",
       "      <th></th>\n",
       "      <th></th>\n",
       "      <th></th>\n",
       "      <th></th>\n",
       "    </tr>\n",
       "  </thead>\n",
       "  <tbody>\n",
       "    <tr>\n",
       "      <th>Villa Guerrero</th>\n",
       "      <td>4</td>\n",
       "      <td>12</td>\n",
       "      <td>11</td>\n",
       "      <td>8</td>\n",
       "      <td>8</td>\n",
       "    </tr>\n",
       "    <tr>\n",
       "      <th>Coronango</th>\n",
       "      <td>5</td>\n",
       "      <td>14</td>\n",
       "      <td>5</td>\n",
       "      <td>13</td>\n",
       "      <td>9</td>\n",
       "    </tr>\n",
       "    <tr>\n",
       "      <th>Tierra Blanca</th>\n",
       "      <td>6</td>\n",
       "      <td>8</td>\n",
       "      <td>14</td>\n",
       "      <td>12</td>\n",
       "      <td>13</td>\n",
       "    </tr>\n",
       "  </tbody>\n",
       "</table>\n",
       "</div>"
      ],
      "text/plain": [
       "                Enero  Febrero  Marzo  Abril  Mayo\n",
       "Municipio                                         \n",
       "Villa Guerrero      4       12     11      8     8\n",
       "Coronango           5       14      5     13     9\n",
       "Tierra Blanca       6        8     14     12    13"
      ]
     },
     "execution_count": 107,
     "metadata": {},
     "output_type": "execute_result"
    }
   ],
   "source": [
    "final = filtro_6.groupby(['Municipio']).agg({'Enero':'sum','Febrero':'sum','Marzo':'sum','Abril':'sum','Mayo':'sum'}).sort_values(by=list(filtro_6.columns[10:][:-4]),\n",
    "                                                                                                        ascending=True)\n",
    "final.head(3)"
   ]
  },
  {
   "cell_type": "code",
   "execution_count": 108,
   "id": "966ec4b9",
   "metadata": {
    "ExecuteTime": {
     "end_time": "2023-08-03T23:48:10.997406Z",
     "start_time": "2023-08-03T23:48:10.937310Z"
    }
   },
   "outputs": [
    {
     "data": {
      "text/plain": [
       "['Villa Guerrero', 'Coronango', 'Tierra Blanca']"
      ]
     },
     "execution_count": 108,
     "metadata": {},
     "output_type": "execute_result"
    }
   ],
   "source": [
    "seleccionados = list(final.index[:3])\n",
    "seleccionados"
   ]
  },
  {
   "cell_type": "code",
   "execution_count": 109,
   "id": "cbd5b74f",
   "metadata": {
    "ExecuteTime": {
     "end_time": "2023-08-03T23:48:11.219219Z",
     "start_time": "2023-08-03T23:48:11.006395Z"
    }
   },
   "outputs": [
    {
     "data": {
      "text/html": [
       "<div>\n",
       "<style scoped>\n",
       "    .dataframe tbody tr th:only-of-type {\n",
       "        vertical-align: middle;\n",
       "    }\n",
       "\n",
       "    .dataframe tbody tr th {\n",
       "        vertical-align: top;\n",
       "    }\n",
       "\n",
       "    .dataframe thead th {\n",
       "        text-align: right;\n",
       "    }\n",
       "</style>\n",
       "<table border=\"1\" class=\"dataframe\">\n",
       "  <thead>\n",
       "    <tr style=\"text-align: right;\">\n",
       "      <th></th>\n",
       "      <th>id</th>\n",
       "      <th>Año</th>\n",
       "      <th>Clave_Ent</th>\n",
       "      <th>Entidad</th>\n",
       "      <th>Cve. Municipio</th>\n",
       "      <th>Municipio</th>\n",
       "      <th>Bien jurídico afectado</th>\n",
       "      <th>Tipo de delito</th>\n",
       "      <th>Subtipo de delito</th>\n",
       "      <th>Modalidad</th>\n",
       "      <th>Enero</th>\n",
       "      <th>Febrero</th>\n",
       "      <th>Marzo</th>\n",
       "      <th>Abril</th>\n",
       "      <th>Mayo</th>\n",
       "      <th>Junio</th>\n",
       "      <th>Julio</th>\n",
       "      <th>Agosto</th>\n",
       "      <th>Robos_proyecciones</th>\n",
       "    </tr>\n",
       "  </thead>\n",
       "  <tbody>\n",
       "    <tr>\n",
       "      <th>701387</th>\n",
       "      <td>701388</td>\n",
       "      <td>2023</td>\n",
       "      <td>15</td>\n",
       "      <td>México</td>\n",
       "      <td>15113</td>\n",
       "      <td>Villa Guerrero</td>\n",
       "      <td>El patrimonio</td>\n",
       "      <td>Robo</td>\n",
       "      <td>Otros robos</td>\n",
       "      <td>Sin violencia</td>\n",
       "      <td>0</td>\n",
       "      <td>2</td>\n",
       "      <td>4</td>\n",
       "      <td>4</td>\n",
       "      <td>4</td>\n",
       "      <td>1</td>\n",
       "      <td>1</td>\n",
       "      <td>1</td>\n",
       "      <td>3</td>\n",
       "    </tr>\n",
       "    <tr>\n",
       "      <th>755171</th>\n",
       "      <td>755172</td>\n",
       "      <td>2023</td>\n",
       "      <td>30</td>\n",
       "      <td>Veracruz de Ignacio de la Llave</td>\n",
       "      <td>30174</td>\n",
       "      <td>Tierra Blanca</td>\n",
       "      <td>El patrimonio</td>\n",
       "      <td>Robo</td>\n",
       "      <td>Otros robos</td>\n",
       "      <td>Sin violencia</td>\n",
       "      <td>1</td>\n",
       "      <td>2</td>\n",
       "      <td>4</td>\n",
       "      <td>3</td>\n",
       "      <td>3</td>\n",
       "      <td>1</td>\n",
       "      <td>1</td>\n",
       "      <td>1</td>\n",
       "      <td>3</td>\n",
       "    </tr>\n",
       "    <tr>\n",
       "      <th>731486</th>\n",
       "      <td>731487</td>\n",
       "      <td>2023</td>\n",
       "      <td>21</td>\n",
       "      <td>Puebla</td>\n",
       "      <td>21034</td>\n",
       "      <td>Coronango</td>\n",
       "      <td>El patrimonio</td>\n",
       "      <td>Robo</td>\n",
       "      <td>Robo de vehículo automotor</td>\n",
       "      <td>Robo de coche de 4 ruedas Con violencia</td>\n",
       "      <td>1</td>\n",
       "      <td>3</td>\n",
       "      <td>1</td>\n",
       "      <td>5</td>\n",
       "      <td>4</td>\n",
       "      <td>1</td>\n",
       "      <td>1</td>\n",
       "      <td>1</td>\n",
       "      <td>3</td>\n",
       "    </tr>\n",
       "    <tr>\n",
       "      <th>755161</th>\n",
       "      <td>755162</td>\n",
       "      <td>2023</td>\n",
       "      <td>30</td>\n",
       "      <td>Veracruz de Ignacio de la Llave</td>\n",
       "      <td>30174</td>\n",
       "      <td>Tierra Blanca</td>\n",
       "      <td>El patrimonio</td>\n",
       "      <td>Robo</td>\n",
       "      <td>Robo a negocio</td>\n",
       "      <td>Sin violencia</td>\n",
       "      <td>1</td>\n",
       "      <td>3</td>\n",
       "      <td>3</td>\n",
       "      <td>2</td>\n",
       "      <td>3</td>\n",
       "      <td>1</td>\n",
       "      <td>1</td>\n",
       "      <td>1</td>\n",
       "      <td>3</td>\n",
       "    </tr>\n",
       "    <tr>\n",
       "      <th>701355</th>\n",
       "      <td>701356</td>\n",
       "      <td>2023</td>\n",
       "      <td>15</td>\n",
       "      <td>México</td>\n",
       "      <td>15113</td>\n",
       "      <td>Villa Guerrero</td>\n",
       "      <td>El patrimonio</td>\n",
       "      <td>Robo</td>\n",
       "      <td>Robo de vehículo automotor</td>\n",
       "      <td>Robo de coche de 4 ruedas Sin violencia</td>\n",
       "      <td>1</td>\n",
       "      <td>3</td>\n",
       "      <td>4</td>\n",
       "      <td>3</td>\n",
       "      <td>2</td>\n",
       "      <td>1</td>\n",
       "      <td>1</td>\n",
       "      <td>1</td>\n",
       "      <td>3</td>\n",
       "    </tr>\n",
       "    <tr>\n",
       "      <th>755141</th>\n",
       "      <td>755142</td>\n",
       "      <td>2023</td>\n",
       "      <td>30</td>\n",
       "      <td>Veracruz de Ignacio de la Llave</td>\n",
       "      <td>30174</td>\n",
       "      <td>Tierra Blanca</td>\n",
       "      <td>El patrimonio</td>\n",
       "      <td>Robo</td>\n",
       "      <td>Robo de vehículo automotor</td>\n",
       "      <td>Robo de motocicleta Sin violencia</td>\n",
       "      <td>2</td>\n",
       "      <td>1</td>\n",
       "      <td>1</td>\n",
       "      <td>4</td>\n",
       "      <td>6</td>\n",
       "      <td>1</td>\n",
       "      <td>1</td>\n",
       "      <td>1</td>\n",
       "      <td>3</td>\n",
       "    </tr>\n",
       "    <tr>\n",
       "      <th>755148</th>\n",
       "      <td>755149</td>\n",
       "      <td>2023</td>\n",
       "      <td>30</td>\n",
       "      <td>Veracruz de Ignacio de la Llave</td>\n",
       "      <td>30174</td>\n",
       "      <td>Tierra Blanca</td>\n",
       "      <td>El patrimonio</td>\n",
       "      <td>Robo</td>\n",
       "      <td>Robo a transeúnte en vía pública</td>\n",
       "      <td>Con violencia</td>\n",
       "      <td>2</td>\n",
       "      <td>2</td>\n",
       "      <td>6</td>\n",
       "      <td>3</td>\n",
       "      <td>1</td>\n",
       "      <td>1</td>\n",
       "      <td>1</td>\n",
       "      <td>1</td>\n",
       "      <td>3</td>\n",
       "    </tr>\n",
       "    <tr>\n",
       "      <th>731519</th>\n",
       "      <td>731520</td>\n",
       "      <td>2023</td>\n",
       "      <td>21</td>\n",
       "      <td>Puebla</td>\n",
       "      <td>21034</td>\n",
       "      <td>Coronango</td>\n",
       "      <td>El patrimonio</td>\n",
       "      <td>Robo</td>\n",
       "      <td>Otros robos</td>\n",
       "      <td>Sin violencia</td>\n",
       "      <td>2</td>\n",
       "      <td>5</td>\n",
       "      <td>2</td>\n",
       "      <td>4</td>\n",
       "      <td>2</td>\n",
       "      <td>1</td>\n",
       "      <td>1</td>\n",
       "      <td>1</td>\n",
       "      <td>3</td>\n",
       "    </tr>\n",
       "    <tr>\n",
       "      <th>731487</th>\n",
       "      <td>731488</td>\n",
       "      <td>2023</td>\n",
       "      <td>21</td>\n",
       "      <td>Puebla</td>\n",
       "      <td>21034</td>\n",
       "      <td>Coronango</td>\n",
       "      <td>El patrimonio</td>\n",
       "      <td>Robo</td>\n",
       "      <td>Robo de vehículo automotor</td>\n",
       "      <td>Robo de coche de 4 ruedas Sin violencia</td>\n",
       "      <td>2</td>\n",
       "      <td>6</td>\n",
       "      <td>2</td>\n",
       "      <td>4</td>\n",
       "      <td>3</td>\n",
       "      <td>1</td>\n",
       "      <td>1</td>\n",
       "      <td>1</td>\n",
       "      <td>3</td>\n",
       "    </tr>\n",
       "    <tr>\n",
       "      <th>701357</th>\n",
       "      <td>701358</td>\n",
       "      <td>2023</td>\n",
       "      <td>15</td>\n",
       "      <td>México</td>\n",
       "      <td>15113</td>\n",
       "      <td>Villa Guerrero</td>\n",
       "      <td>El patrimonio</td>\n",
       "      <td>Robo</td>\n",
       "      <td>Robo de vehículo automotor</td>\n",
       "      <td>Robo de motocicleta Sin violencia</td>\n",
       "      <td>3</td>\n",
       "      <td>7</td>\n",
       "      <td>3</td>\n",
       "      <td>1</td>\n",
       "      <td>2</td>\n",
       "      <td>1</td>\n",
       "      <td>1</td>\n",
       "      <td>1</td>\n",
       "      <td>3</td>\n",
       "    </tr>\n",
       "  </tbody>\n",
       "</table>\n",
       "</div>"
      ],
      "text/plain": [
       "            id   Año  Clave_Ent                          Entidad  \\\n",
       "701387  701388  2023         15                           México   \n",
       "755171  755172  2023         30  Veracruz de Ignacio de la Llave   \n",
       "731486  731487  2023         21                           Puebla   \n",
       "755161  755162  2023         30  Veracruz de Ignacio de la Llave   \n",
       "701355  701356  2023         15                           México   \n",
       "755141  755142  2023         30  Veracruz de Ignacio de la Llave   \n",
       "755148  755149  2023         30  Veracruz de Ignacio de la Llave   \n",
       "731519  731520  2023         21                           Puebla   \n",
       "731487  731488  2023         21                           Puebla   \n",
       "701357  701358  2023         15                           México   \n",
       "\n",
       "        Cve. Municipio       Municipio Bien jurídico afectado Tipo de delito  \\\n",
       "701387           15113  Villa Guerrero          El patrimonio           Robo   \n",
       "755171           30174   Tierra Blanca          El patrimonio           Robo   \n",
       "731486           21034       Coronango          El patrimonio           Robo   \n",
       "755161           30174   Tierra Blanca          El patrimonio           Robo   \n",
       "701355           15113  Villa Guerrero          El patrimonio           Robo   \n",
       "755141           30174   Tierra Blanca          El patrimonio           Robo   \n",
       "755148           30174   Tierra Blanca          El patrimonio           Robo   \n",
       "731519           21034       Coronango          El patrimonio           Robo   \n",
       "731487           21034       Coronango          El patrimonio           Robo   \n",
       "701357           15113  Villa Guerrero          El patrimonio           Robo   \n",
       "\n",
       "                       Subtipo de delito  \\\n",
       "701387                       Otros robos   \n",
       "755171                       Otros robos   \n",
       "731486        Robo de vehículo automotor   \n",
       "755161                    Robo a negocio   \n",
       "701355        Robo de vehículo automotor   \n",
       "755141        Robo de vehículo automotor   \n",
       "755148  Robo a transeúnte en vía pública   \n",
       "731519                       Otros robos   \n",
       "731487        Robo de vehículo automotor   \n",
       "701357        Robo de vehículo automotor   \n",
       "\n",
       "                                      Modalidad  Enero  Febrero  Marzo  Abril  \\\n",
       "701387                            Sin violencia      0        2      4      4   \n",
       "755171                            Sin violencia      1        2      4      3   \n",
       "731486  Robo de coche de 4 ruedas Con violencia      1        3      1      5   \n",
       "755161                            Sin violencia      1        3      3      2   \n",
       "701355  Robo de coche de 4 ruedas Sin violencia      1        3      4      3   \n",
       "755141        Robo de motocicleta Sin violencia      2        1      1      4   \n",
       "755148                            Con violencia      2        2      6      3   \n",
       "731519                            Sin violencia      2        5      2      4   \n",
       "731487  Robo de coche de 4 ruedas Sin violencia      2        6      2      4   \n",
       "701357        Robo de motocicleta Sin violencia      3        7      3      1   \n",
       "\n",
       "        Mayo  Junio  Julio  Agosto  Robos_proyecciones  \n",
       "701387     4      1      1       1                   3  \n",
       "755171     3      1      1       1                   3  \n",
       "731486     4      1      1       1                   3  \n",
       "755161     3      1      1       1                   3  \n",
       "701355     2      1      1       1                   3  \n",
       "755141     6      1      1       1                   3  \n",
       "755148     1      1      1       1                   3  \n",
       "731519     2      1      1       1                   3  \n",
       "731487     3      1      1       1                   3  \n",
       "701357     2      1      1       1                   3  "
      ]
     },
     "execution_count": 109,
     "metadata": {},
     "output_type": "execute_result"
    }
   ],
   "source": [
    "Descuentos = pd.concat(map(lambda m: filtro_6.loc[filtro_6['Municipio']==m],seleccionados))\n",
    "Descuentos.sort_values(by=list(Descuentos.columns[10:][:-4]),ascending=True)"
   ]
  },
  {
   "cell_type": "code",
   "execution_count": 111,
   "id": "4d9997f1",
   "metadata": {
    "ExecuteTime": {
     "end_time": "2023-08-03T23:48:11.388170Z",
     "start_time": "2023-08-03T23:48:11.284314Z"
    }
   },
   "outputs": [
    {
     "data": {
      "text/plain": [
       "['Sin violencia', 'Con violencia', 'Robo de coche de 4 ruedas Con violencia']"
      ]
     },
     "execution_count": 111,
     "metadata": {},
     "output_type": "execute_result"
    }
   ],
   "source": [
    "modalidades = ['Sin violencia','Con violencia','Robo de coche de 4 ruedas Con violencia']\n",
    "modalidades"
   ]
  },
  {
   "cell_type": "code",
   "execution_count": 112,
   "id": "1f011be4",
   "metadata": {
    "ExecuteTime": {
     "end_time": "2023-08-03T23:48:11.537177Z",
     "start_time": "2023-08-03T23:48:11.395839Z"
    }
   },
   "outputs": [
    {
     "data": {
      "text/html": [
       "<div>\n",
       "<style scoped>\n",
       "    .dataframe tbody tr th:only-of-type {\n",
       "        vertical-align: middle;\n",
       "    }\n",
       "\n",
       "    .dataframe tbody tr th {\n",
       "        vertical-align: top;\n",
       "    }\n",
       "\n",
       "    .dataframe thead th {\n",
       "        text-align: right;\n",
       "    }\n",
       "</style>\n",
       "<table border=\"1\" class=\"dataframe\">\n",
       "  <thead>\n",
       "    <tr style=\"text-align: right;\">\n",
       "      <th></th>\n",
       "      <th>id</th>\n",
       "      <th>Año</th>\n",
       "      <th>Clave_Ent</th>\n",
       "      <th>Entidad</th>\n",
       "      <th>Cve. Municipio</th>\n",
       "      <th>Municipio</th>\n",
       "      <th>Bien jurídico afectado</th>\n",
       "      <th>Tipo de delito</th>\n",
       "      <th>Subtipo de delito</th>\n",
       "      <th>Modalidad</th>\n",
       "      <th>Enero</th>\n",
       "      <th>Febrero</th>\n",
       "      <th>Marzo</th>\n",
       "      <th>Abril</th>\n",
       "      <th>Mayo</th>\n",
       "      <th>Junio</th>\n",
       "      <th>Julio</th>\n",
       "      <th>Agosto</th>\n",
       "      <th>Robos_proyecciones</th>\n",
       "    </tr>\n",
       "  </thead>\n",
       "  <tbody>\n",
       "    <tr>\n",
       "      <th>701387</th>\n",
       "      <td>701388</td>\n",
       "      <td>2023</td>\n",
       "      <td>15</td>\n",
       "      <td>México</td>\n",
       "      <td>15113</td>\n",
       "      <td>Villa Guerrero</td>\n",
       "      <td>El patrimonio</td>\n",
       "      <td>Robo</td>\n",
       "      <td>Otros robos</td>\n",
       "      <td>Sin violencia</td>\n",
       "      <td>0</td>\n",
       "      <td>2</td>\n",
       "      <td>4</td>\n",
       "      <td>4</td>\n",
       "      <td>4</td>\n",
       "      <td>1</td>\n",
       "      <td>1</td>\n",
       "      <td>1</td>\n",
       "      <td>3</td>\n",
       "    </tr>\n",
       "    <tr>\n",
       "      <th>731519</th>\n",
       "      <td>731520</td>\n",
       "      <td>2023</td>\n",
       "      <td>21</td>\n",
       "      <td>Puebla</td>\n",
       "      <td>21034</td>\n",
       "      <td>Coronango</td>\n",
       "      <td>El patrimonio</td>\n",
       "      <td>Robo</td>\n",
       "      <td>Otros robos</td>\n",
       "      <td>Sin violencia</td>\n",
       "      <td>2</td>\n",
       "      <td>5</td>\n",
       "      <td>2</td>\n",
       "      <td>4</td>\n",
       "      <td>2</td>\n",
       "      <td>1</td>\n",
       "      <td>1</td>\n",
       "      <td>1</td>\n",
       "      <td>3</td>\n",
       "    </tr>\n",
       "    <tr>\n",
       "      <th>755161</th>\n",
       "      <td>755162</td>\n",
       "      <td>2023</td>\n",
       "      <td>30</td>\n",
       "      <td>Veracruz de Ignacio de la Llave</td>\n",
       "      <td>30174</td>\n",
       "      <td>Tierra Blanca</td>\n",
       "      <td>El patrimonio</td>\n",
       "      <td>Robo</td>\n",
       "      <td>Robo a negocio</td>\n",
       "      <td>Sin violencia</td>\n",
       "      <td>1</td>\n",
       "      <td>3</td>\n",
       "      <td>3</td>\n",
       "      <td>2</td>\n",
       "      <td>3</td>\n",
       "      <td>1</td>\n",
       "      <td>1</td>\n",
       "      <td>1</td>\n",
       "      <td>3</td>\n",
       "    </tr>\n",
       "    <tr>\n",
       "      <th>755171</th>\n",
       "      <td>755172</td>\n",
       "      <td>2023</td>\n",
       "      <td>30</td>\n",
       "      <td>Veracruz de Ignacio de la Llave</td>\n",
       "      <td>30174</td>\n",
       "      <td>Tierra Blanca</td>\n",
       "      <td>El patrimonio</td>\n",
       "      <td>Robo</td>\n",
       "      <td>Otros robos</td>\n",
       "      <td>Sin violencia</td>\n",
       "      <td>1</td>\n",
       "      <td>2</td>\n",
       "      <td>4</td>\n",
       "      <td>3</td>\n",
       "      <td>3</td>\n",
       "      <td>1</td>\n",
       "      <td>1</td>\n",
       "      <td>1</td>\n",
       "      <td>3</td>\n",
       "    </tr>\n",
       "    <tr>\n",
       "      <th>755148</th>\n",
       "      <td>755149</td>\n",
       "      <td>2023</td>\n",
       "      <td>30</td>\n",
       "      <td>Veracruz de Ignacio de la Llave</td>\n",
       "      <td>30174</td>\n",
       "      <td>Tierra Blanca</td>\n",
       "      <td>El patrimonio</td>\n",
       "      <td>Robo</td>\n",
       "      <td>Robo a transeúnte en vía pública</td>\n",
       "      <td>Con violencia</td>\n",
       "      <td>2</td>\n",
       "      <td>2</td>\n",
       "      <td>6</td>\n",
       "      <td>3</td>\n",
       "      <td>1</td>\n",
       "      <td>1</td>\n",
       "      <td>1</td>\n",
       "      <td>1</td>\n",
       "      <td>3</td>\n",
       "    </tr>\n",
       "    <tr>\n",
       "      <th>731486</th>\n",
       "      <td>731487</td>\n",
       "      <td>2023</td>\n",
       "      <td>21</td>\n",
       "      <td>Puebla</td>\n",
       "      <td>21034</td>\n",
       "      <td>Coronango</td>\n",
       "      <td>El patrimonio</td>\n",
       "      <td>Robo</td>\n",
       "      <td>Robo de vehículo automotor</td>\n",
       "      <td>Robo de coche de 4 ruedas Con violencia</td>\n",
       "      <td>1</td>\n",
       "      <td>3</td>\n",
       "      <td>1</td>\n",
       "      <td>5</td>\n",
       "      <td>4</td>\n",
       "      <td>1</td>\n",
       "      <td>1</td>\n",
       "      <td>1</td>\n",
       "      <td>3</td>\n",
       "    </tr>\n",
       "  </tbody>\n",
       "</table>\n",
       "</div>"
      ],
      "text/plain": [
       "            id   Año  Clave_Ent                          Entidad  \\\n",
       "701387  701388  2023         15                           México   \n",
       "731519  731520  2023         21                           Puebla   \n",
       "755161  755162  2023         30  Veracruz de Ignacio de la Llave   \n",
       "755171  755172  2023         30  Veracruz de Ignacio de la Llave   \n",
       "755148  755149  2023         30  Veracruz de Ignacio de la Llave   \n",
       "731486  731487  2023         21                           Puebla   \n",
       "\n",
       "        Cve. Municipio       Municipio Bien jurídico afectado Tipo de delito  \\\n",
       "701387           15113  Villa Guerrero          El patrimonio           Robo   \n",
       "731519           21034       Coronango          El patrimonio           Robo   \n",
       "755161           30174   Tierra Blanca          El patrimonio           Robo   \n",
       "755171           30174   Tierra Blanca          El patrimonio           Robo   \n",
       "755148           30174   Tierra Blanca          El patrimonio           Robo   \n",
       "731486           21034       Coronango          El patrimonio           Robo   \n",
       "\n",
       "                       Subtipo de delito  \\\n",
       "701387                       Otros robos   \n",
       "731519                       Otros robos   \n",
       "755161                    Robo a negocio   \n",
       "755171                       Otros robos   \n",
       "755148  Robo a transeúnte en vía pública   \n",
       "731486        Robo de vehículo automotor   \n",
       "\n",
       "                                      Modalidad  Enero  Febrero  Marzo  Abril  \\\n",
       "701387                            Sin violencia      0        2      4      4   \n",
       "731519                            Sin violencia      2        5      2      4   \n",
       "755161                            Sin violencia      1        3      3      2   \n",
       "755171                            Sin violencia      1        2      4      3   \n",
       "755148                            Con violencia      2        2      6      3   \n",
       "731486  Robo de coche de 4 ruedas Con violencia      1        3      1      5   \n",
       "\n",
       "        Mayo  Junio  Julio  Agosto  Robos_proyecciones  \n",
       "701387     4      1      1       1                   3  \n",
       "731519     2      1      1       1                   3  \n",
       "755161     3      1      1       1                   3  \n",
       "755171     3      1      1       1                   3  \n",
       "755148     1      1      1       1                   3  \n",
       "731486     4      1      1       1                   3  "
      ]
     },
     "execution_count": 112,
     "metadata": {},
     "output_type": "execute_result"
    }
   ],
   "source": [
    "D = pd.concat(map(lambda m: Descuentos.loc[Descuentos['Modalidad']==m],modalidades))\n",
    "D"
   ]
  },
  {
   "cell_type": "code",
   "execution_count": 114,
   "id": "f914d7d7",
   "metadata": {
    "ExecuteTime": {
     "end_time": "2023-08-03T23:55:04.048551Z",
     "start_time": "2023-08-03T23:55:04.027625Z"
    }
   },
   "outputs": [],
   "source": [
    "D.to_csv('Proyecciones_descuentos.csv',columns=D.columns, encoding='latin-1',sep =',',index=False)"
   ]
  },
  {
   "cell_type": "code",
   "execution_count": null,
   "id": "1081371d",
   "metadata": {},
   "outputs": [],
   "source": []
  }
 ],
 "metadata": {
  "kernelspec": {
   "display_name": "tsc",
   "language": "python",
   "name": "tsc"
  },
  "language_info": {
   "codemirror_mode": {
    "name": "ipython",
    "version": 3
   },
   "file_extension": ".py",
   "mimetype": "text/x-python",
   "name": "python",
   "nbconvert_exporter": "python",
   "pygments_lexer": "ipython3",
   "version": "3.10.12"
  },
  "toc": {
   "base_numbering": 1,
   "nav_menu": {},
   "number_sections": true,
   "sideBar": true,
   "skip_h1_title": false,
   "title_cell": "Table of Contents",
   "title_sidebar": "Contents",
   "toc_cell": false,
   "toc_position": {
    "height": "calc(100% - 180px)",
    "left": "10px",
    "top": "150px",
    "width": "165px"
   },
   "toc_section_display": true,
   "toc_window_display": true
  }
 },
 "nbformat": 4,
 "nbformat_minor": 5
}
